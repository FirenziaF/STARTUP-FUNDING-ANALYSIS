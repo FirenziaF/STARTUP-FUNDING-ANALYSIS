{
 "cells": [
  {
   "cell_type": "markdown",
   "id": "6cc746cb",
   "metadata": {
    "toc": true
   },
   "source": [
    "<h1>Table of Contents<span class=\"tocSkip\"></span></h1>\n",
    "<div class=\"toc\"><ul class=\"toc-item\"><li><span><a href=\"#STARTUP-FUNDING-ANALYSIS:-Exploring-Venture-Capital-Investments-in-Various-Industries\" data-toc-modified-id=\"STARTUP-FUNDING-ANALYSIS:-Exploring-Venture-Capital-Investments-in-Various-Industries-1\"><span class=\"toc-item-num\">1&nbsp;&nbsp;</span><span style=\"undefined:undefined\">STARTUP FUNDING ANALYSIS:</span> <strong><span style=\"undefined:undefined\">Exploring Venture Capital Investments in Various Industries</span></strong></a></span></li><li><span><a href=\"#BUSINESS-UNDERSTANDING\" data-toc-modified-id=\"BUSINESS-UNDERSTANDING-2\"><span class=\"toc-item-num\">2&nbsp;&nbsp;</span><span style=\"undefined:undefined\">BUSINESS UNDERSTANDING</span></a></span><ul class=\"toc-item\"><li><span><a href=\"#Background-information\" data-toc-modified-id=\"Background-information-2.1\"><span class=\"toc-item-num\">2.1&nbsp;&nbsp;</span>Background information</a></span></li><li><span><a href=\"#Problem-Statement\" data-toc-modified-id=\"Problem-Statement-2.2\"><span class=\"toc-item-num\">2.2&nbsp;&nbsp;</span>Problem Statement</a></span></li><li><span><a href=\"#Objectives\" data-toc-modified-id=\"Objectives-2.3\"><span class=\"toc-item-num\">2.3&nbsp;&nbsp;</span>Objectives</a></span></li><li><span><a href=\"#Dataset-description.\" data-toc-modified-id=\"Dataset-description.-2.4\"><span class=\"toc-item-num\">2.4&nbsp;&nbsp;</span>Dataset description.</a></span></li><li><span><a href=\"#Key-points:\" data-toc-modified-id=\"Key-points:-2.5\"><span class=\"toc-item-num\">2.5&nbsp;&nbsp;</span><code>Key points:</code></a></span></li></ul></li><li><span><a href=\"#DATA-UNDERSTANDING\" data-toc-modified-id=\"DATA-UNDERSTANDING-3\"><span class=\"toc-item-num\">3&nbsp;&nbsp;</span><span style=\"undefined:undefined\">DATA UNDERSTANDING</span></a></span><ul class=\"toc-item\"><li><span><a href=\"#Import-libraries-and-modules\" data-toc-modified-id=\"Import-libraries-and-modules-3.1\"><span class=\"toc-item-num\">3.1&nbsp;&nbsp;</span>Import libraries and modules</a></span></li><li><span><a href=\"#Create-a-dataframe-by-reading-data-from-a-csv-file.-Examining-the-first-five-rows\" data-toc-modified-id=\"Create-a-dataframe-by-reading-data-from-a-csv-file.-Examining-the-first-five-rows-3.2\"><span class=\"toc-item-num\">3.2&nbsp;&nbsp;</span>Create a dataframe by reading data from a csv file. Examining the first five rows</a></span></li><li><span><a href=\"#Summary-of-Features-in-the-Dataset\" data-toc-modified-id=\"Summary-of-Features-in-the-Dataset-3.3\"><span class=\"toc-item-num\">3.3&nbsp;&nbsp;</span>Summary of Features in the Dataset</a></span></li><li><span><a href=\"#class-to-describe-dataset\" data-toc-modified-id=\"class-to-describe-dataset-3.4\"><span class=\"toc-item-num\">3.4&nbsp;&nbsp;</span>class to describe dataset</a></span></li><li><span><a href=\"#Information-about-our-dataset\" data-toc-modified-id=\"Information-about-our-dataset-3.5\"><span class=\"toc-item-num\">3.5&nbsp;&nbsp;</span>Information about our dataset</a></span></li><li><span><a href=\"#Check-shape-of-dataframe\" data-toc-modified-id=\"Check-shape-of-dataframe-3.6\"><span class=\"toc-item-num\">3.6&nbsp;&nbsp;</span>Check shape of dataframe</a></span></li><li><span><a href=\"#checking-for-the-categorical-columns\" data-toc-modified-id=\"checking-for-the-categorical-columns-3.7\"><span class=\"toc-item-num\">3.7&nbsp;&nbsp;</span>checking for the categorical columns</a></span></li><li><span><a href=\"#checking-for-the-categorical-columns\" data-toc-modified-id=\"checking-for-the-categorical-columns-3.8\"><span class=\"toc-item-num\">3.8&nbsp;&nbsp;</span>checking for the categorical columns</a></span></li><li><span><a href=\"#Concise-statistical-description-of-numeric-features\" data-toc-modified-id=\"Concise-statistical-description-of-numeric-features-3.9\"><span class=\"toc-item-num\">3.9&nbsp;&nbsp;</span>Concise statistical description of numeric features</a></span></li><li><span><a href=\"#Checking-for-duplicated-rows\" data-toc-modified-id=\"Checking-for-duplicated-rows-3.10\"><span class=\"toc-item-num\">3.10&nbsp;&nbsp;</span>Checking for duplicated rows</a></span></li><li><span><a href=\"#Checking-for-missing-values\" data-toc-modified-id=\"Checking-for-missing-values-3.11\"><span class=\"toc-item-num\">3.11&nbsp;&nbsp;</span>Checking for missing values</a></span></li><li><span><a href=\"#Checking-and-Visualizing-outliers\" data-toc-modified-id=\"Checking-and-Visualizing-outliers-3.12\"><span class=\"toc-item-num\">3.12&nbsp;&nbsp;</span>Checking and Visualizing outliers</a></span></li></ul></li><li><span><a href=\"#DATA-CLEANING\" data-toc-modified-id=\"DATA-CLEANING-4\"><span class=\"toc-item-num\">4&nbsp;&nbsp;</span><span style=\"undefined:undefined\">DATA CLEANING</span></a></span><ul class=\"toc-item\"><li><span><a href=\"#Renamimg-column(s)-to-remove-spaces.\" data-toc-modified-id=\"Renamimg-column(s)-to-remove-spaces.-4.1\"><span class=\"toc-item-num\">4.1&nbsp;&nbsp;</span>Renamimg column(s) to remove spaces.</a></span></li><li><span><a href=\"#dropping-duplicated-rows.\" data-toc-modified-id=\"dropping-duplicated-rows.-4.2\"><span class=\"toc-item-num\">4.2&nbsp;&nbsp;</span>dropping duplicated rows.</a></span></li><li><span><a href=\"#Type-Casting:-Converting-Funding-Total-to-Float\" data-toc-modified-id=\"Type-Casting:-Converting-Funding-Total-to-Float-4.3\"><span class=\"toc-item-num\">4.3&nbsp;&nbsp;</span>Type Casting: Converting Funding Total to Float</a></span></li><li><span><a href=\"#dropping-null-values.\" data-toc-modified-id=\"dropping-null-values.-4.4\"><span class=\"toc-item-num\">4.4&nbsp;&nbsp;</span>dropping null values.</a></span></li><li><span><a href=\"#Addressing-Missing-Values-for-Specific-Columns\" data-toc-modified-id=\"Addressing-Missing-Values-for-Specific-Columns-4.5\"><span class=\"toc-item-num\">4.5&nbsp;&nbsp;</span>Addressing Missing Values for Specific Columns</a></span><ul class=\"toc-item\"><li><span><a href=\"#Confirming-there-are-no-missing-values\" data-toc-modified-id=\"Confirming-there-are-no-missing-values-4.5.1\"><span class=\"toc-item-num\">4.5.1&nbsp;&nbsp;</span>Confirming there are no missing values</a></span></li></ul></li><li><span><a href=\"#Dealing-with-outliers\" data-toc-modified-id=\"Dealing-with-outliers-4.6\"><span class=\"toc-item-num\">4.6&nbsp;&nbsp;</span>Dealing with outliers</a></span></li></ul></li><li><span><a href=\"#EXPLORATORY-DATA-ANALYSIS(EDA)\" data-toc-modified-id=\"EXPLORATORY-DATA-ANALYSIS(EDA)-5\"><span class=\"toc-item-num\">5&nbsp;&nbsp;</span><span style=\"undefined:undefined\">EXPLORATORY DATA ANALYSIS(EDA)</span></a></span><ul class=\"toc-item\"><li><span><a href=\"#-Univariate-Analysis.--\" data-toc-modified-id=\"-Univariate-Analysis.---5.1\"><span class=\"toc-item-num\">5.1&nbsp;&nbsp;</span><span style=\"undefined:undefined\"> Univariate Analysis.  </span></a></span><ul class=\"toc-item\"><li><span><a href=\"#How-does-the-distribution-of-startup-statuses-vary-across-different-categories,-such-as-operating,-acquired,-and-closed?\" data-toc-modified-id=\"How-does-the-distribution-of-startup-statuses-vary-across-different-categories,-such-as-operating,-acquired,-and-closed?-5.1.1\"><span class=\"toc-item-num\">5.1.1&nbsp;&nbsp;</span>How does the distribution of startup statuses vary across different categories, such as operating, acquired, and closed?</a></span></li><li><span><a href=\"#What-is-the-distribution-of-founded-years?\" data-toc-modified-id=\"What-is-the-distribution-of-founded-years?-5.1.2\"><span class=\"toc-item-num\">5.1.2&nbsp;&nbsp;</span>What is the distribution of founded years?</a></span></li><li><span><a href=\"#What-are-the-Top-10-Country-Code-Counts?\" data-toc-modified-id=\"What-are-the-Top-10-Country-Code-Counts?-5.1.3\"><span class=\"toc-item-num\">5.1.3&nbsp;&nbsp;</span>What are the Top 10 Country Code Counts?</a></span></li><li><span><a href=\"#What-are-the-Top-10-City-Code-Counts?\" data-toc-modified-id=\"What-are-the-Top-10-City-Code-Counts?-5.1.4\"><span class=\"toc-item-num\">5.1.4&nbsp;&nbsp;</span>What are the Top 10 City Code Counts?</a></span></li><li><span><a href=\"#What-is-the-distribution-of-funding-rounds?\" data-toc-modified-id=\"What-is-the-distribution-of-funding-rounds?-5.1.5\"><span class=\"toc-item-num\">5.1.5&nbsp;&nbsp;</span>What is the distribution of funding rounds?</a></span></li><li><span><a href=\"#What-are-the-top-10-markets-based-on-count?\" data-toc-modified-id=\"What-are-the-top-10-markets-based-on-count?-5.1.6\"><span class=\"toc-item-num\">5.1.6&nbsp;&nbsp;</span>What are the top 10 markets based on count?</a></span></li></ul></li><li><span><a href=\"#-Multivariate-Analysis.--\" data-toc-modified-id=\"-Multivariate-Analysis.---5.2\"><span class=\"toc-item-num\">5.2&nbsp;&nbsp;</span><span style=\"undefined:undefined\"> Multivariate Analysis.  </span></a></span><ul class=\"toc-item\"><li><span><a href=\"#What-are-the-funding-totals-by-country?\" data-toc-modified-id=\"What-are-the-funding-totals-by-country?-5.2.1\"><span class=\"toc-item-num\">5.2.1&nbsp;&nbsp;</span>What are the funding totals by country?</a></span></li><li><span><a href=\"#What-is-the-relationship-between-funding-and-founded-year?-(With-points-colored-by-status)\" data-toc-modified-id=\"What-is-the-relationship-between-funding-and-founded-year?-(With-points-colored-by-status)-5.2.2\"><span class=\"toc-item-num\">5.2.2&nbsp;&nbsp;</span>What is the relationship between funding and founded year? (With points colored by status)</a></span></li><li><span><a href=\"#What-are-the-top-10-funding-totals-by-founded-year?\" data-toc-modified-id=\"What-are-the-top-10-funding-totals-by-founded-year?-5.2.3\"><span class=\"toc-item-num\">5.2.3&nbsp;&nbsp;</span>What are the top 10 funding totals by founded year?</a></span></li><li><span><a href=\"#What-is-the-average-funding-rounds-by-status?\" data-toc-modified-id=\"What-is-the-average-funding-rounds-by-status?-5.2.4\"><span class=\"toc-item-num\">5.2.4&nbsp;&nbsp;</span>What is the average funding rounds by status?</a></span></li><li><span><a href=\"#What-is-the-relationship-between-funding-total-and-funding-rounds-by-market?\" data-toc-modified-id=\"What-is-the-relationship-between-funding-total-and-funding-rounds-by-market?-5.2.5\"><span class=\"toc-item-num\">5.2.5&nbsp;&nbsp;</span>What is the relationship between funding total and funding rounds by market?</a></span></li><li><span><a href=\"#What-is-the-total-funding-received-by-companies?\" data-toc-modified-id=\"What-is-the-total-funding-received-by-companies?-5.2.6\"><span class=\"toc-item-num\">5.2.6&nbsp;&nbsp;</span>What is the total funding received by companies?</a></span></li></ul></li></ul></li><li><span><a href=\"#FEATURE-ENGINEERING/SELECTION\" data-toc-modified-id=\"FEATURE-ENGINEERING/SELECTION-6\"><span class=\"toc-item-num\">6&nbsp;&nbsp;</span><span style=\"undefined:undefined\">FEATURE ENGINEERING/SELECTION</span></a></span></li><li><span><a href=\"#MODELLING\" data-toc-modified-id=\"MODELLING-7\"><span class=\"toc-item-num\">7&nbsp;&nbsp;</span><span style=\"undefined:undefined\">MODELLING</span></a></span></li><li><span><a href=\"#EVALUATION\" data-toc-modified-id=\"EVALUATION-8\"><span class=\"toc-item-num\">8&nbsp;&nbsp;</span><span style=\"undefined:undefined\">EVALUATION</span></a></span></li><li><span><a href=\"#RECOMMENDATIONS-\" data-toc-modified-id=\"RECOMMENDATIONS--9\"><span class=\"toc-item-num\">9&nbsp;&nbsp;</span><span style=\"undefined:undefined\">RECOMMENDATIONS </span></a></span></li><li><span><a href=\"#CONCLUSION\" data-toc-modified-id=\"CONCLUSION-10\"><span class=\"toc-item-num\">10&nbsp;&nbsp;</span><span style=\"undefined:undefined\">CONCLUSION</span></a></span></li></ul></div>"
   ]
  },
  {
   "cell_type": "markdown",
   "id": "636c946d",
   "metadata": {},
   "source": [
    "**We would like to acknowledge the contributions of the team members:**\n",
    "\n",
    "- Florence Nguuni\n",
    "- Brian Chabari\n",
    "- Diana Mwaura\n",
    "- Isaac Muturi\n",
    "- Kennedy Juma\n",
    "- Joel Omondi\n"
   ]
  },
  {
   "cell_type": "markdown",
   "id": "b7be873f",
   "metadata": {},
   "source": [
    "![Startup Image](startupimage2.jpeg)"
   ]
  },
  {
   "cell_type": "markdown",
   "id": "30ec2a8c",
   "metadata": {},
   "source": [
    " <h1 style=\"text-align: center;\"><span style=\"color: #FF0000;\">STARTUP FUNDING ANALYSIS:</span> <strong><span style=\"color: #0000FF;\">Exploring Venture Capital Investments in Various Industries</span></strong></h1>\n"
   ]
  },
  {
   "cell_type": "markdown",
   "id": "b3175d97",
   "metadata": {},
   "source": [
    "*******"
   ]
  },
  {
   "cell_type": "markdown",
   "id": "970c82a8",
   "metadata": {},
   "source": [
    "# <span style=\"color: #008000;\">BUSINESS UNDERSTANDING</span>\n",
    "\n"
   ]
  },
  {
   "cell_type": "markdown",
   "id": "447c5743",
   "metadata": {},
   "source": [
    "## Background information \n",
    "\n",
    "In today's rapidly evolving business landscape, the allure of founding a startup with a groundbreaking idea has captivated the imagination of many aspiring entrepreneurs. However, without a firm grasp of the past and insights from previous startup experiences, venturing into this exhilarating journey can be perilous. The dataset used in this kernel provides a unique opportunity to delve into the world of startups and gain a comprehensive understanding of their dynamics, challenges, and triumphs.\n",
    "\n",
    "By analyzing various aspects such as founding year, funding received, and current operating status, we can uncover patterns and trends that contribute to startup success or failure. This knowledge can guide aspiring entrepreneurs and investors in making informed decisions, formulating robust strategies, and identifying untapped opportunities for growth. By studying the past of the startup culture, we can shape the future of startups, positioning them for increased performance and success in today's markets."
   ]
  },
  {
   "cell_type": "code",
   "execution_count": null,
   "id": "04840622",
   "metadata": {},
   "outputs": [],
   "source": []
  },
  {
   "cell_type": "markdown",
   "id": "de35ec5c",
   "metadata": {},
   "source": [
    "Investors face the challenge of identifying startups with high potential for success, often referred to as \"unicorns,\" among a large pool of potential investments.\n",
    "Various attempts have been made to predict the success of startups, including perspectives shared by investors and insights derived from machine learning and big data analysis.\n",
    "\n",
    "However, these methods have limitations. Investor perspectives are valuable but difficult to replicate, and their metrics for evaluating founders' potential may not be universally applicable.\n",
    "Data-driven approaches utilizing machine learning and artificial intelligence hold promise for predicting startup success. However, existing methods typically rely on publicly available data, which introduces its own set of assumptions and uncertainties.\n",
    "The focus of the post will be on the data-driven approach, providing an overview of the dataset, standard AI practices, and a solution specifically tailored for predicting startup success."
   ]
  },
  {
   "cell_type": "markdown",
   "id": "1e3b3266",
   "metadata": {},
   "source": [
    "## Problem Statement\n",
    "\n",
    "Despite the rapid growth of the startup scene and the increasing investments from venture capital firms, understanding the dynamics and characteristics of these newly established firms remains a challenge. The chosen dataset provides a valuable glimpse into this captivating realm, presenting an opportunity to delve deeper and unravel the underlying trends and patterns within the startup ecosystem.\n",
    "\n",
    "The problem at hand is to analyze the dataset and extract meaningful insights to gain a comprehensive understanding of the startup landscape, including factors such as funding trends, industry preferences, geographical distribution, and success metrics. By addressing this problem, we aim to unlock valuable knowledge that can guide aspiring entrepreneurs, investors, and policy-makers in making informed decisions and fostering the growth of the startup ecosystem."
   ]
  },
  {
   "cell_type": "markdown",
   "id": "9dc712e4",
   "metadata": {},
   "source": [
    "## Objectives\n",
    "\n",
    "1. Identify Key Success Factors: Determine the primary factors contributing to startup success by analyzing prevalent characteristics, strategies, and patterns among successful ventures.\n",
    "\n",
    "2. Optimize Funding Strategies: Explore different funding patterns and sources to maximize funding success rate and amount received by startups.\n",
    "\n",
    "3. Mitigate Risks and Challenges: Develop strategies to mitigate common pitfalls and challenges faced by startups, enhancing resilience and increasing survival and growth rates.\n",
    "\n",
    "4. Identify Market Opportunities: Analyze industry sectors, market trends, and emerging niches to target untapped opportunities for market penetration and growth.\n",
    "\n",
    "5. Enhance Decision-Making: Provide data-driven insights to support informed decision-making, optimizing choices related to market entry, resource allocation, and strategic partnerships."
   ]
  },
  {
   "cell_type": "markdown",
   "id": "196ce660",
   "metadata": {},
   "source": [
    "## Dataset description."
   ]
  },
  {
   "cell_type": "markdown",
   "id": "0503411c",
   "metadata": {},
   "source": [
    "The dataset used for training the machine learning model contains investment data about startup companies, sourced from Crunchbase, a prominent website for company insights ranging from early-stage startups to Fortune 1000 companies.\n",
    "The dataset comprises approximately 54,000 rows and 39 columns, providing information about the companies, including their names, URLs, markets, countries, states, regions, cities, founded dates, and funding details.\n",
    "The funding details cover various types such as seed funding, venture equity crowdfunding, convertible notes, debt financing, angel investments, grants, private equity, post IPO equity, post IPO debt, secondary market, product crowdfunding, and round A-H series funding.\n",
    "Additionally, the dataset includes the status of the companies, categorized as acquired, operating, or closed."
   ]
  },
  {
   "cell_type": "markdown",
   "id": "f39dfbec",
   "metadata": {},
   "source": [
    "## `Key points:`\n",
    "\n",
    "Dataset: Investment data comprising details of startup companies.\n",
    "\n",
    "Funding Rounds: Different funding rounds and types, including seed funding, venture equity crowdfunding, and convertible notes.\n",
    "\n",
    "Company Status: Classification of companies as acquired, operating, or closed.\n",
    "\n",
    "Challenge: Predicting startup success is difficult but valuable for investors.\n",
    "\n",
    "Limitations: Investor perspectives are subjective, and publicly available data has its own assumptions.\n",
    "\n",
    "Data-Driven Approach: Utilizing machine learning and AI to predict startup success.\n",
    "\n",
    "Solution Focus: Providing a solution developed specifically for this purpose."
   ]
  },
  {
   "cell_type": "markdown",
   "id": "a9d6ea77",
   "metadata": {},
   "source": [
    "# <span style=\"color: #008000;\">DATA UNDERSTANDING</span>"
   ]
  },
  {
   "cell_type": "markdown",
   "id": "80aefb7c",
   "metadata": {},
   "source": [
    "## Import libraries and modules"
   ]
  },
  {
   "cell_type": "code",
   "execution_count": null,
   "id": "9288c402",
   "metadata": {},
   "outputs": [],
   "source": [
    "# Importing libraries\n",
    "import pandas as pd\n",
    "import matplotlib.pyplot as plt\n",
    "import seaborn as sns"
   ]
  },
  {
   "cell_type": "markdown",
   "id": "2c989286",
   "metadata": {},
   "source": [
    "## Create a dataframe by reading data from a csv file. Examining the first five rows"
   ]
  },
  {
   "cell_type": "code",
   "execution_count": null,
   "id": "5d17872e",
   "metadata": {
    "scrolled": true
   },
   "outputs": [],
   "source": [
    "# Loading and previewing data\n",
    "data = pd.read_csv('investments_VC.csv',encoding = 'latin')\n",
    "data.head()"
   ]
  },
  {
   "cell_type": "markdown",
   "id": "8422ffda",
   "metadata": {},
   "source": [
    "## Summary of Features in the Dataset\n",
    "\n",
    "1. **permalink**: The unique identifier or URL of the company.\n",
    "2. **name**: The name of the startup company.\n",
    "3. **homepage_url**: The URL of the startup's website.\n",
    "4. **category_list**: The categories or industries associated with the startup.\n",
    "5. **market**: The market or industry segment in which the startup operates.\n",
    "6. **funding_total_usd**: The total amount of funding raised by the startup in US dollars.\n",
    "7. **status**: The status of the startup (e.g., active, acquired, closed).\n",
    "8. **country_code**: The country code of the startup's headquarters or primary operations.\n",
    "9. **state_code**: The state code of the startup's headquarters or primary operations.\n",
    "10. **region**: The region where the startup is located.\n",
    "11. **city**: The city where the startup is located.\n",
    "12. **funding_rounds**: The number of funding rounds the startup has gone through.\n",
    "13. **founded_at**: The specific date on which the startup was founded.\n",
    "14. **founded_month**: The month in which the startup was founded.\n",
    "15. **founded_quarter**: The quarter in which the startup was founded.\n",
    "16. **founded_year**: The year in which the startup was founded.\n",
    "17. **first_funding_at**: The date of the first funding round.\n",
    "18. **last_funding_at**: The date of the most recent funding round.\n",
    "19. **seed**: The amount of funding raised in the seed round.\n",
    "20. **venture**: The amount of funding raised in the venture round.\n",
    "21. **equity_crowdfunding**: The amount of funding raised through equity crowdfunding.\n",
    "22. **undisclosed**: The amount of undisclosed funding raised.\n",
    "23. **convertible_note**: The amount of funding raised through convertible notes.\n",
    "24. **debt_financing**: The amount of funding raised through debt financing.\n",
    "25. **angel**: The amount of funding raised from angel investors.\n",
    "26. **grant**: The amount of grant funding received.\n",
    "27. **private_equity**: The amount of funding raised from private equity investors.\n",
    "28. **post_ipo_equity**: The amount of funding raised post-IPO through equity.\n",
    "29. **post_ipo_debt**: The amount of funding raised post-IPO through debt.\n",
    "30. **secondary_market**: The amount of funding raised through secondary market transactions.\n",
    "31. **product_crowdfunding**: The amount of funding raised through product crowdfunding.\n",
    "32. **round_A**: The amount of funding raised in round A.\n",
    "33. **round_B**: The amount of funding raised in round B.\n",
    "34. **round_C**: The amount of funding raised in round C.\n",
    "35. **round_D**: The amount of funding raised in round D.\n",
    "36. **round_E**: The amount of funding raised in round E.\n",
    "37. **round_F**: The amount of funding raised in round F.\n",
    "38. **round_G**: The amount of funding raised in round G.\n",
    "39. **round_H**: The amount of funding raised in round H."
   ]
  },
  {
   "cell_type": "markdown",
   "id": "90c1d9ea",
   "metadata": {},
   "source": [
    "## class to describe dataset"
   ]
  },
  {
   "cell_type": "code",
   "execution_count": null,
   "id": "2c010e67",
   "metadata": {},
   "outputs": [],
   "source": [
    "# class to describe dataset\n",
    "\n",
    "class Description:\n",
    "    \n",
    "    # initialize object\n",
    "    def _init_(self, data):\n",
    "        self.data = data\n",
    "        \n",
    "    # method to check shape of data\n",
    "    def shape(self):\n",
    "        out = print(f\"The DataFrame has:\\n\\t* {self.data.shape[0]} rows\\n\\t* {self.data.shape[1]} columns\", '\\n')\n",
    "        return out\n",
    "    \n",
    "    # method to check info on dataset\n",
    "    def data_info(self):\n",
    "        out = print(self.data.info(), '\\n')\n",
    "        return out\n",
    "    \n",
    "    # method to describe numerical columns\n",
    "    def data_describe(self):\n",
    "        out = self.data.describe()\n",
    "        return out"
   ]
  },
  {
   "cell_type": "markdown",
   "id": "74b8f342",
   "metadata": {},
   "source": [
    "## Information about our dataset"
   ]
  },
  {
   "cell_type": "code",
   "execution_count": null,
   "id": "3902bc69",
   "metadata": {},
   "outputs": [],
   "source": [
    "# Checking the data types of the columns\n",
    "data.info()"
   ]
  },
  {
   "cell_type": "markdown",
   "id": "0c9b0151",
   "metadata": {},
   "source": [
    "## Check shape of dataframe"
   ]
  },
  {
   "cell_type": "code",
   "execution_count": null,
   "id": "189bfa36",
   "metadata": {},
   "outputs": [],
   "source": [
    "#Checking for the shape of the data.\n",
    "print(f\" This data has {data.shape[0]} rows and {data.shape[1]} columns\")"
   ]
  },
  {
   "cell_type": "markdown",
   "id": "bda5bfce",
   "metadata": {},
   "source": [
    "## checking for the categorical columns"
   ]
  },
  {
   "cell_type": "code",
   "execution_count": null,
   "id": "2ed10180",
   "metadata": {},
   "outputs": [],
   "source": [
    "#checking for categorical columns.\n",
    "categorical_columns = data.select_dtypes(include=['object', 'category'])\n",
    "categorical_columns.columns"
   ]
  },
  {
   "cell_type": "markdown",
   "id": "041ac604",
   "metadata": {},
   "source": [
    "## checking for the categorical columns"
   ]
  },
  {
   "cell_type": "code",
   "execution_count": null,
   "id": "eddbd90e",
   "metadata": {},
   "outputs": [],
   "source": [
    "#checking for numeric columns.\n",
    "non_categorical_columns = data.select_dtypes(exclude=['object', 'category'])\n",
    "non_categorical_columns.columns"
   ]
  },
  {
   "cell_type": "markdown",
   "id": "137d82ac",
   "metadata": {},
   "source": [
    "## Concise statistical description of numeric features"
   ]
  },
  {
   "cell_type": "code",
   "execution_count": null,
   "id": "561f9460",
   "metadata": {
    "scrolled": true
   },
   "outputs": [],
   "source": [
    "# Obtaining statistical summary of the dataset\n",
    "data.describe()"
   ]
  },
  {
   "cell_type": "markdown",
   "id": "1e61f708",
   "metadata": {},
   "source": [
    " ## Checking for duplicated rows "
   ]
  },
  {
   "cell_type": "code",
   "execution_count": null,
   "id": "f6b1018a",
   "metadata": {},
   "outputs": [],
   "source": [
    "# Checking for duplicates. \n",
    "def count_duplicates(data):\n",
    "    duplicate_count = data.duplicated().sum()\n",
    "    return duplicate_count\n",
    "duplicate_count = count_duplicates(data)\n",
    "print(duplicate_count)"
   ]
  },
  {
   "cell_type": "markdown",
   "id": "dc5c1055",
   "metadata": {},
   "source": [
    " ## Checking for missing values"
   ]
  },
  {
   "cell_type": "code",
   "execution_count": null,
   "id": "ac269ed4",
   "metadata": {},
   "outputs": [],
   "source": [
    "def plot_missing_values(data):\n",
    "    missing_values = data.isnull().sum()\n",
    "    percentage_missing = (missing_values / len(data)) * 100\n",
    "\n",
    "    missing_data = pd.DataFrame({'Missing Values': missing_values, 'Percentage Missing': percentage_missing})\n",
    "    print(missing_data)\n",
    "\n",
    "    # Plot missing values\n",
    "    ax = data.isna().sum().sort_values(ascending=False)[:15][::-1].plot(kind='barh', figsize=(9, 10))\n",
    "    plt.title('Percentage of Missing Values Per Column', fontdict={'size': 15})\n",
    "    for p in ax.patches:\n",
    "        percentage = '{:,.0f}%'.format((p.get_width() / data.shape[0]) * 100)\n",
    "        width, height = p.get_width(), p.get_height()\n",
    "        x = p.get_x() + width + 0.02\n",
    "        y = p.get_y() + height / 2\n",
    "        ax.annotate(percentage, (x, y))\n",
    "    \n",
    "    plt.show()\n",
    "\n",
    "# print the missing values:\n",
    "plot_missing_values(data)"
   ]
  },
  {
   "cell_type": "markdown",
   "id": "01f17b5c",
   "metadata": {},
   "source": [
    "## Checking and Visualizing outliers "
   ]
  },
  {
   "cell_type": "code",
   "execution_count": null,
   "id": "1fcc87ce",
   "metadata": {
    "scrolled": false
   },
   "outputs": [],
   "source": [
    "# Visualizing outliers. \n",
    "\n",
    "# Create box plots for numerical columns\n",
    "plt.figure(figsize=(10, 8))\n",
    "sns.boxplot(data=data)\n",
    "plt.xticks(rotation=90)\n",
    "plt.show()"
   ]
  },
  {
   "cell_type": "markdown",
   "id": "a54d9105",
   "metadata": {},
   "source": [
    "# <span style=\"color: #008000;\">DATA CLEANING</span>"
   ]
  },
  {
   "cell_type": "markdown",
   "id": "44f7ee85",
   "metadata": {},
   "source": [
    "\n",
    "To ensure the development of a robust and accurate model, several data cleaning techniques will be applied to the dataset. The following techniques will be employed:\n",
    "\n",
    "1 `Completeness`: This technique involves addressing missing values within the dataset. Steps will be taken to identify and handle missing data appropriately, either through imputation or removal, to ensure that the dataset is complete.\n",
    "\n",
    "2 `Consistency`: The consistency of the data will be examined to identify any discrepancies or irregularities. Inconsistencies in variables, such as conflicting formats or conflicting information within the dataset, will be addressed and resolved to maintain data integrity.\n",
    "\n",
    "3 `Validity`: Validity refers to the accuracy and relevance of the data. Data validation techniques will be applied to verify that the values within each variable align with expected ranges or predefined criteria. Any invalid or erroneous data points will be rectified or removed from the dataset.\n",
    "\n",
    "4 `Collinearity`: Collinearity examines the presence of highly correlated variables. Multicollinearity can affect the model's stability and interpretability. Techniques such as correlation analysis will be utilized to identify highly correlated variables. If necessary, appropriate measures, such as feature selection or dimensionality reduction, will be implemented to address collinearity issues.\n",
    "\n",
    "5 `Outlier removal`: Outliers, which are extreme or unusual data points, can adversely impact the model's performance. Robust statistical techniques will be employed to detect and handle outliers effectively. Outliers may be removed or transformed to minimize their influence on the analysis and modeling process.\n",
    "\n",
    "By applying these data cleaning techniques, the dataset will be refined and prepared, ensuring the reliability and accuracy of the data before proceeding with the subsequent stages of analysis and modeling."
   ]
  },
  {
   "cell_type": "markdown",
   "id": "3d1715ee",
   "metadata": {},
   "source": [
    "## Renamimg column(s) to remove spaces."
   ]
  },
  {
   "cell_type": "code",
   "execution_count": null,
   "id": "ebfde33b",
   "metadata": {},
   "outputs": [],
   "source": [
    "# Renamimg columns to remove spaces.\n",
    "data.rename(columns={' funding_total_usd ':'funding_total_usd',' market ':'market'}, inplace=True)"
   ]
  },
  {
   "cell_type": "markdown",
   "id": "b5206d88",
   "metadata": {},
   "source": [
    "## dropping duplicated rows."
   ]
  },
  {
   "cell_type": "code",
   "execution_count": null,
   "id": "5a810381",
   "metadata": {},
   "outputs": [],
   "source": [
    "#dropping duplicate rows.\n",
    "data = data.drop_duplicates()\n",
    "print(data.shape)"
   ]
  },
  {
   "cell_type": "markdown",
   "id": "26d7d721",
   "metadata": {},
   "source": [
    "## Type Casting: Converting Funding Total to Float"
   ]
  },
  {
   "cell_type": "code",
   "execution_count": null,
   "id": "7d90511e",
   "metadata": {},
   "outputs": [],
   "source": [
    "# Type casting\n",
    "data['funding_total_usd'] = data['funding_total_usd'].apply(str).str.replace(',','')\n",
    "data['funding_total_usd'] = data['funding_total_usd'].replace(' -   ',0).astype(\"float\")\n"
   ]
  },
  {
   "cell_type": "markdown",
   "id": "e3107765",
   "metadata": {},
   "source": [
    "## dropping null values."
   ]
  },
  {
   "cell_type": "code",
   "execution_count": null,
   "id": "39282556",
   "metadata": {},
   "outputs": [],
   "source": [
    "#dropping null values.\n",
    "data = data.dropna(how=\"all\")"
   ]
  },
  {
   "cell_type": "code",
   "execution_count": null,
   "id": "d6d00fc8",
   "metadata": {},
   "outputs": [],
   "source": [
    "#Confirming for missing values.\n",
    "has_missing_values = data.isnull().any().any()\n",
    "print(has_missing_values)"
   ]
  },
  {
   "cell_type": "code",
   "execution_count": null,
   "id": "300c3f93",
   "metadata": {},
   "outputs": [],
   "source": [
    "# Remove data before 1980\n",
    "index_before_1980 = data[data['founded_year']< 1980].index\n",
    "data.drop(index_before_1980, inplace = True)"
   ]
  },
  {
   "cell_type": "markdown",
   "id": "bd727435",
   "metadata": {},
   "source": [
    "## Addressing Missing Values for Specific Columns\n",
    "To handle missing values and further process specific columns, the following steps can be taken:\n",
    "\n",
    "1. Convert the '**founded_year**' column to a float data type initially to handle NaN values.\n",
    "2. After handling the NaN values, convert the '**founded_year**' column to an integer data type to ensure the values are represented correctly.\n",
    "3. Cast the values in the '**funding_rounds**' column to the integer data type for consistency and numerical operations.\n",
    "4. Convert the values in the '**first_funding_at**' and '**last_funding_at**' columns to datetime data type for better analysis and time-based operations.\n",
    "5. Remove data entries with zero funds, as they may introduce biases or affect calculations. This step helps to ensure the accuracy of funding-related analysis."
   ]
  },
  {
   "cell_type": "code",
   "execution_count": null,
   "id": "f3809faf",
   "metadata": {},
   "outputs": [],
   "source": [
    "#Further dealing with missing values for specific columns.\n",
    "\n",
    "def preprocess_data(data):\n",
    "    # Convert founded_year column to float first to handle NaN values.\n",
    "    data['founded_year'] = data['founded_year'].astype(float)\n",
    "\n",
    "    # Casting the values in the 'funding_rounds' column to the integer data type.\n",
    "    data['funding_rounds'] = data['funding_rounds'].astype(int)\n",
    "\n",
    "    # Converting the values in the 'first_funding_at' and 'last_funding_at'\n",
    "    # columns to datetime data type.\n",
    "    data['first_funding_at'] = pd.to_datetime(data['first_funding_at'], errors='coerce')\n",
    "    data['last_funding_at'] = pd.to_datetime(data['last_funding_at'], errors='coerce')\n",
    "\n",
    "    # Remove NaN values\n",
    "    data.dropna(inplace=True)\n",
    "\n",
    "    # Convert founded_year column to integer after removing NaN values\n",
    "    data['founded_year'] = data['founded_year'].astype(int)\n",
    "\n",
    "    # Remove data with zero funds\n",
    "    index_no_funding = data[data['funding_total_usd'] <= 0].index\n",
    "    data.drop(index_no_funding, inplace=True)\n",
    "\n",
    "    #Confirming for missing values.\n",
    "    has_missing_values = data.isnull().any().any()\n",
    "    \n",
    "\n",
    "    return data\n",
    "\n",
    "# print:\n",
    "data = preprocess_data(data)"
   ]
  },
  {
   "cell_type": "markdown",
   "id": "9110ef5b",
   "metadata": {},
   "source": [
    "### Confirming there are no missing values"
   ]
  },
  {
   "cell_type": "code",
   "execution_count": null,
   "id": "7a6d6a4a",
   "metadata": {},
   "outputs": [],
   "source": [
    "# Confirming for missing values.\n",
    "print(has_missing_values)"
   ]
  },
  {
   "cell_type": "markdown",
   "id": "43ce5307",
   "metadata": {},
   "source": [
    "## Dealing with outliers\n",
    "\n",
    "> Dealing with the extreme or unusual data points that can adversely impact the model's performance. "
   ]
  },
  {
   "cell_type": "code",
   "execution_count": null,
   "id": "8c179785",
   "metadata": {},
   "outputs": [],
   "source": [
    "# Convert DataFrame to numeric type\n",
    "data_numeric = data.apply(pd.to_numeric, errors='coerce')\n",
    "\n",
    "# Calculate the upper and lower thresholds for outlier detection\n",
    "upper_threshold = 3 * data_numeric.std() + data_numeric.mean()\n",
    "lower_threshold = data_numeric.mean() - 3 * data_numeric.std()\n",
    "\n",
    "\n",
    "# Replace the outliers with the column's median\n",
    "data_numeric = data_numeric.apply(lambda x: x.where(~((x > upper_threshold[x.name]) | (x < lower_threshold[x.name]))), axis=0)\n",
    "\n",
    "# Check if any outliers are still present\n",
    "outliers_present = (data_numeric > upper_threshold) | (data_numeric < lower_threshold)\n",
    "\n",
    "# Return True if any outliers are found, False otherwise\n",
    "data_contains_outliers = outliers_present.any().any()\n",
    "print(data_contains_outliers)\n"
   ]
  },
  {
   "cell_type": "markdown",
   "id": "61b75fa9",
   "metadata": {},
   "source": [
    "The factor of 3 in this code is a commonly used value based on the empirical rule or the 68-95-99.7 rule. According to this rule, in a normal distribution, approximately 99.7% of the data falls within three standard deviations from the mean. By using a factor of 3, we are considering values that are relatively far from the mean as potential outliers."
   ]
  },
  {
   "cell_type": "markdown",
   "id": "9e39ac35",
   "metadata": {},
   "source": [
    "# <span style=\"color: #008000;\">EXPLORATORY DATA ANALYSIS(EDA)</span>"
   ]
  },
  {
   "cell_type": "markdown",
   "id": "5ca43782",
   "metadata": {},
   "source": [
    "## <span style ='color:cyan'> Univariate Analysis.  </span>"
   ]
  },
  {
   "cell_type": "code",
   "execution_count": null,
   "id": "0e3a8088",
   "metadata": {},
   "outputs": [],
   "source": [
    "# Checking the values in the target column\n",
    "data['status'].value_counts()"
   ]
  },
  {
   "cell_type": "markdown",
   "id": "386f30bd",
   "metadata": {},
   "source": [
    "Active: An active startup refers to a company that is currently operating, developing its product or service, and pursuing growth\n",
    "\n",
    "Acquired: When a startup is acquired, it means that another company or entity has purchased the startup\n",
    "\n",
    "Closed: A closed startup refers to a company that has ceased operations and is no longer active. This can happen for various reasons, such as insufficient funding, inability to scale, lack of market demand, or operational challenges"
   ]
  },
  {
   "cell_type": "markdown",
   "id": "706d1b13",
   "metadata": {},
   "source": [
    "### How does the distribution of startup statuses vary across different categories, such as operating, acquired, and closed?"
   ]
  },
  {
   "cell_type": "code",
   "execution_count": null,
   "id": "faa942b8",
   "metadata": {},
   "outputs": [],
   "source": [
    "#Importing libraries for visualization.\n",
    "import plotly.express as px\n",
    "\n",
    "# Count the occurrences of each status\n",
    "status_counts = data['status'].value_counts()\n",
    "\n",
    "# Create a bar plot using Plotly with different colors\n",
    "fig = px.bar(x=status_counts.index, y=status_counts.values, color=status_counts.index)\n",
    "\n",
    "# Set the plot title and axis labels\n",
    "fig.update_layout(title=\"Status Counts\", xaxis_title=\"Status\", yaxis_title=\"Count\")\n",
    "\n",
    "# Display the plot\n",
    "fig.show()"
   ]
  },
  {
   "cell_type": "markdown",
   "id": "47bc9f98",
   "metadata": {},
   "source": [
    "### What is the distribution of founded years?\n"
   ]
  },
  {
   "cell_type": "code",
   "execution_count": null,
   "id": "09fae6cc",
   "metadata": {},
   "outputs": [],
   "source": [
    "# Create a figure with specified size\n",
    "plt.figure(figsize=(10, 6))\n",
    "\n",
    "# Create a histogram plot using seaborn\n",
    "sns.histplot(data=data, x='founded_year', color='skyblue')\n",
    "\n",
    "# Set x-axis label\n",
    "plt.xlabel('Founded Year')\n",
    "\n",
    "# Set y-axis label\n",
    "plt.ylabel('Count')\n",
    "\n",
    "# Set plot title\n",
    "plt.title('Distribution of Founded Year')\n",
    "\n",
    "# Display the plot\n",
    "plt.show()"
   ]
  },
  {
   "cell_type": "markdown",
   "id": "ed4fd529",
   "metadata": {},
   "source": [
    "### What are the Top 10 Country Code Counts?"
   ]
  },
  {
   "cell_type": "code",
   "execution_count": null,
   "id": "284df652",
   "metadata": {},
   "outputs": [],
   "source": [
    "# Get the value counts for the \"country_code\" column\n",
    "country_counts = data[\"country_code\"].value_counts()[:10]\n",
    "\n",
    "# Create a bar plot using Plotly with different colors\n",
    "fig = px.bar(x=country_counts.index, y=country_counts.values, color=country_counts.index)\n",
    "\n",
    "# Set the plot title and axis labels\n",
    "fig.update_layout(title=\"Top 10 Country Code Counts\", xaxis_title=\"Country Code\", yaxis_title=\"Count\")\n",
    "\n",
    "# Rotate x-axis labels for better readability\n",
    "fig.update_xaxes(tickangle=50)\n",
    "\n",
    "# Display the plot\n",
    "fig.show()"
   ]
  },
  {
   "cell_type": "markdown",
   "id": "bfa5166c",
   "metadata": {},
   "source": [
    "$Inference$\n",
    "\n",
    "USA has the most number of startups"
   ]
  },
  {
   "cell_type": "markdown",
   "id": "2ed3f1d0",
   "metadata": {},
   "source": [
    "### What are the Top 10 City Code Counts?"
   ]
  },
  {
   "cell_type": "code",
   "execution_count": null,
   "id": "ff2e7d96",
   "metadata": {},
   "outputs": [],
   "source": [
    "# Get the value counts for the \"city\" column\n",
    "city_counts = data[\"city\"].value_counts()[:10]\n",
    "\n",
    "# Create a bar plot using Plotly with different colors\n",
    "fig = px.bar(x=city_counts.index, y=city_counts.values, color=city_counts.index)\n",
    "\n",
    "# Set the plot title and axis labels\n",
    "fig.update_layout(title=\"Top 10 City Counts\", xaxis_title=\"City\", yaxis_title=\"Count\")\n",
    "\n",
    "# Rotate x-axis labels for better readability\n",
    "fig.update_xaxes(tickangle=50)\n",
    "\n",
    "# Increase the figure size\n",
    "fig.update_layout(width=800, height=600)\n",
    "\n",
    "# Display the plot\n",
    "fig.show()"
   ]
  },
  {
   "cell_type": "markdown",
   "id": "99f73fd8",
   "metadata": {},
   "source": [
    "$Inference$\n",
    "\n",
    "San Francisco have the highest no. of startup companies than other cities."
   ]
  },
  {
   "cell_type": "markdown",
   "id": "b3a48a1b",
   "metadata": {},
   "source": [
    "### What is the distribution of funding rounds?\n"
   ]
  },
  {
   "cell_type": "code",
   "execution_count": null,
   "id": "768d7374",
   "metadata": {},
   "outputs": [],
   "source": [
    "# Create a figure with specified size\n",
    "plt.figure(figsize=(10, 6))\n",
    "\n",
    "# Create a countplot using seaborn\n",
    "sns.countplot(data=data, x='funding_rounds')\n",
    "\n",
    "# Set x-axis label\n",
    "plt.xlabel('Funding Rounds')\n",
    "\n",
    "# Set y-axis label\n",
    "plt.ylabel('Count')\n",
    "\n",
    "# Set plot title\n",
    "plt.title('Distribution of Funding Rounds')\n",
    "\n",
    "# Display the plot\n",
    "plt.show()"
   ]
  },
  {
   "cell_type": "markdown",
   "id": "34cf0d2f",
   "metadata": {},
   "source": [
    "\n",
    "### What are the top 10 markets based on count?\n"
   ]
  },
  {
   "cell_type": "code",
   "execution_count": null,
   "id": "c69bcdd8",
   "metadata": {},
   "outputs": [],
   "source": [
    "# Get the top 10 markets by count\n",
    "top_markets = data['market'].value_counts().nlargest(10)\n",
    "\n",
    "# Create a figure with specified size\n",
    "plt.figure(figsize=(10, 6))\n",
    "\n",
    "# Create a pie chart\n",
    "plt.pie(top_markets, labels=top_markets.index, autopct='%1.1f%%')\n",
    "\n",
    "# Set plot title\n",
    "plt.title('Top 10 Markets')\n",
    "\n",
    "# Display the plot\n",
    "plt.show()"
   ]
  },
  {
   "cell_type": "markdown",
   "id": "cd793653",
   "metadata": {},
   "source": [
    "## <span style ='color:cyan'> Multivariate Analysis.  </span>"
   ]
  },
  {
   "cell_type": "markdown",
   "id": "2fdd3dda",
   "metadata": {},
   "source": [
    "### What are the funding totals by country?\n"
   ]
  },
  {
   "cell_type": "code",
   "execution_count": null,
   "id": "6066bbe0",
   "metadata": {},
   "outputs": [],
   "source": [
    "# Calculate funding total by country\n",
    "funding_by_country = data.groupby('country_code')['funding_total_usd'].sum().sort_values(ascending=False)\n",
    "\n",
    "# Create a bar plot using Plotly\n",
    "fig = px.bar(x=funding_by_country.index, y=funding_by_country.values)\n",
    "\n",
    "# Set the plot title and axis labels\n",
    "fig.update_layout(title='Funding Total by Country', xaxis_title='Country', yaxis_title='Funding Total (USD)')\n",
    "\n",
    "# Rotate x-axis labels for better readability\n",
    "fig.update_xaxes(tickangle=90)\n",
    "\n",
    "# Adjust the width of the figure\n",
    "fig.update_layout(width=700)\n",
    "\n",
    "# Display the plot\n",
    "fig.show()"
   ]
  },
  {
   "cell_type": "markdown",
   "id": "1a726e1f",
   "metadata": {},
   "source": [
    "### What is the relationship between funding and founded year? (With points colored by status) \n"
   ]
  },
  {
   "cell_type": "code",
   "execution_count": null,
   "id": "a2843195",
   "metadata": {},
   "outputs": [],
   "source": [
    "# Create a figure with specified size\n",
    "plt.figure(figsize=(10, 6))\n",
    "\n",
    "# Create a scatter plot using seaborn\n",
    "sns.scatterplot(data=data, x='founded_year', y='funding_total_usd', hue='status', palette='Set1')\n",
    "\n",
    "# Set x-axis label\n",
    "plt.xlabel('Founded Year')\n",
    "\n",
    "# Set y-axis label\n",
    "plt.ylabel('Funding in USD')\n",
    "\n",
    "# Set plot title\n",
    "plt.title('Funding vs Founded Year (by Status)')\n",
    "\n",
    "# Add legend\n",
    "plt.legend()\n",
    "\n",
    "# Display the plot\n",
    "plt.show()"
   ]
  },
  {
   "cell_type": "markdown",
   "id": "1c9cce83",
   "metadata": {},
   "source": [
    "### What are the top 10 funding totals by founded year? "
   ]
  },
  {
   "cell_type": "code",
   "execution_count": null,
   "id": "918610f4",
   "metadata": {},
   "outputs": [],
   "source": [
    "# Calculate the top 10 funding totals by founded year\n",
    "top_10_funding = data.groupby('founded_year')['funding_total_usd'].sum().sort_values(ascending=False)[:10]\n",
    "\n",
    "# Define a color palette\n",
    "color_palette = ['red', 'orange', 'yellow', 'green', 'blue', 'purple', 'pink', 'brown', 'gray', 'cyan']\n",
    "\n",
    "# Create the bar plot with the specified color palette\n",
    "plt.figure(figsize=(10, 6))\n",
    "top_10_funding.plot(kind='bar', color=color_palette)\n",
    "\n",
    "# Set y-axis label\n",
    "plt.ylabel('Total Funding in USD')\n",
    "\n",
    "# Set plot title\n",
    "plt.title('Top 10 Funding over the Years')\n",
    "\n",
    "# Display the plot\n",
    "plt.show()"
   ]
  },
  {
   "cell_type": "markdown",
   "id": "c898ef4c",
   "metadata": {},
   "source": [
    "### What is the average funding rounds by status?\n"
   ]
  },
  {
   "cell_type": "code",
   "execution_count": null,
   "id": "bef62d74",
   "metadata": {},
   "outputs": [],
   "source": [
    "# Calculate the average funding rounds by status\n",
    "funding_rounds_by_status = data.groupby('status')['funding_rounds'].mean().sort_values(ascending=False)\n",
    "\n",
    "# Create a bar plot using seaborn\n",
    "plt.figure(figsize=(8, 6))\n",
    "sns.barplot(x=funding_rounds_by_status.index, y=funding_rounds_by_status.values)\n",
    "\n",
    "# Set x-axis label\n",
    "plt.xlabel('Status')\n",
    "\n",
    "# Set y-axis label\n",
    "plt.ylabel('Average Funding Rounds')\n",
    "\n",
    "# Set plot title\n",
    "plt.title('Funding Rounds by Status')\n",
    "\n",
    "# Display the plot\n",
    "plt.show()"
   ]
  },
  {
   "cell_type": "markdown",
   "id": "68f6cbbb",
   "metadata": {},
   "source": [
    "### What is the relationship between funding total and funding rounds by market?\n"
   ]
  },
  {
   "cell_type": "code",
   "execution_count": null,
   "id": "e58a5990",
   "metadata": {},
   "outputs": [],
   "source": [
    "# Calculate the mean funding rounds by market\n",
    "market_funding_rounds = data.groupby('market')['funding_rounds'].mean()\n",
    "\n",
    "# Calculate the total funding by market\n",
    "market_funding_total = data.groupby('market')['funding_total_usd'].sum()\n",
    "\n",
    "# Create a bubble plot using Plotly Express\n",
    "fig = px.scatter(x=market_funding_rounds, y=market_funding_total, color=market_funding_total)\n",
    "\n",
    "# Set the plot title and axis labels\n",
    "fig.update_layout(\n",
    "    title=\"Bubble Plot of Funding Total vs. Funding Rounds by Market\",\n",
    "    xaxis_title=\"Funding Rounds (mean)\",\n",
    "    yaxis_title=\"Funding Total (sum)\"\n",
    ")\n",
    "\n",
    "# Adjust the width of the figure\n",
    "fig.update_layout(width=900)\n",
    "\n",
    "# Display the plot\n",
    "fig.show()"
   ]
  },
  {
   "cell_type": "markdown",
   "id": "16008368",
   "metadata": {},
   "source": [
    "### What is the total funding received by companies?"
   ]
  },
  {
   "cell_type": "code",
   "execution_count": null,
   "id": "d38d1e1e",
   "metadata": {},
   "outputs": [],
   "source": [
    "# Calculate the total funding received by companies\n",
    "total_funding = data.groupby('name')['funding_total_usd'].sum().sort_values(ascending=False)\n",
    "\n",
    "# Create a figure with a specified size\n",
    "plt.figure(figsize=(12, 6))\n",
    "\n",
    "# Create a bar plot using seaborn\n",
    "sns.barplot(x=total_funding.index[:10], y=total_funding.values[:10])\n",
    "\n",
    "# Set x-axis label\n",
    "plt.xlabel('Company')\n",
    "\n",
    "# Set y-axis label\n",
    "plt.ylabel('Total Funding (USD)')\n",
    "\n",
    "# Set plot title\n",
    "plt.title('Total Funding Received by Companies - Top 10')\n",
    "\n",
    "# Rotate x-axis labels for better readability\n",
    "plt.xticks(rotation=90)\n",
    "\n",
    "# Display the plot\n",
    "plt.show()"
   ]
  },
  {
   "cell_type": "markdown",
   "id": "e7501258",
   "metadata": {},
   "source": [
    "# <span style=\"color: #008000;\">FEATURE ENGINEERING/SELECTION</span>"
   ]
  },
  {
   "cell_type": "markdown",
   "id": "4cdf19e0",
   "metadata": {},
   "source": [
    "# <span style=\"color: #008000;\">MODELLING</span>"
   ]
  },
  {
   "cell_type": "markdown",
   "id": "20b4c010",
   "metadata": {},
   "source": [
    "# <span style=\"color: #008000;\">EVALUATION</span>"
   ]
  },
  {
   "cell_type": "markdown",
   "id": "bcb2c42d",
   "metadata": {},
   "source": [
    "# <span style=\"color: #008000;\">RECOMMENDATIONS </span>"
   ]
  },
  {
   "cell_type": "markdown",
   "id": "cbc2fd5b",
   "metadata": {},
   "source": [
    "# <span style=\"color: #008000;\">CONCLUSION</span>"
   ]
  }
 ],
 "metadata": {
  "kernelspec": {
   "display_name": "learn-env",
   "language": "python",
   "name": "learn-env"
  },
  "language_info": {
   "codemirror_mode": {
    "name": "ipython",
    "version": 3
   },
   "file_extension": ".py",
   "mimetype": "text/x-python",
   "name": "python",
   "nbconvert_exporter": "python",
   "pygments_lexer": "ipython3",
   "version": "3.8.5"
  },
  "latex_envs": {
   "LaTeX_envs_menu_present": true,
   "autoclose": false,
   "autocomplete": true,
   "bibliofile": "biblio.bib",
   "cite_by": "apalike",
   "current_citInitial": 1,
   "eqLabelWithNumbers": true,
   "eqNumInitial": 1,
   "hotkeys": {
    "equation": "Ctrl-E",
    "itemize": "Ctrl-I"
   },
   "labels_anchors": false,
   "latex_user_defs": false,
   "report_style_numbering": false,
   "user_envs_cfg": false
  },
  "toc": {
   "base_numbering": 1,
   "nav_menu": {},
   "number_sections": true,
   "sideBar": true,
   "skip_h1_title": false,
   "title_cell": "Table of Contents",
   "title_sidebar": "Contents",
   "toc_cell": true,
   "toc_position": {},
   "toc_section_display": true,
   "toc_window_display": false
  }
 },
 "nbformat": 4,
 "nbformat_minor": 5
}
