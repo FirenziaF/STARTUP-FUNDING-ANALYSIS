{
 "cells": [
  {
   "cell_type": "markdown",
   "metadata": {},
   "source": [
    "#  STARTUP FUNDING ANALYSIS. \n",
    "# Exploring Venture Capital Investments in Various Industries."
   ]
  },
  {
   "cell_type": "markdown",
   "metadata": {},
   "source": [
    "*******"
   ]
  },
  {
   "cell_type": "markdown",
   "metadata": {},
   "source": [
    "## BUSINESS UNDERSTANDING."
   ]
  },
  {
   "cell_type": "markdown",
   "metadata": {},
   "source": [
    "# Background.\n",
    "\n",
    "In today's rapidly evolving business landscape, the allure of founding a startup with a groundbreaking idea has captivated the imagination of many aspiring entrepreneurs. However, without a firm grasp of the past and insights from previous startup experiences, venturing into this exhilarating journey can be perilous. The dataset used in this kernel provides a unique opportunity to delve into the world of startups and gain a comprehensive understanding of their dynamics, challenges, and triumphs.\n",
    "\n",
    "By analyzing various aspects such as founding year, funding received, and current operating status, we can uncover patterns and trends that contribute to startup success or failure. This knowledge can guide aspiring entrepreneurs and investors in making informed decisions, formulating robust strategies, and identifying untapped opportunities for growth. By studying the past of the startup culture, we can shape the future of startups, positioning them for increased performance and success in today's markets."
   ]
  },
  {
   "cell_type": "markdown",
   "metadata": {},
   "source": [
    "# Problem Statement.\n",
    "\n",
    "Despite the rapid growth of the startup scene and the increasing investments from venture capital firms, understanding the dynamics and characteristics of these newly established firms remains a challenge. The chosen dataset provides a valuable glimpse into this captivating realm, presenting an opportunity to delve deeper and unravel the underlying trends and patterns within the startup ecosystem.\n",
    "\n",
    "The problem at hand is to analyze the dataset and extract meaningful insights to gain a comprehensive understanding of the startup landscape, including factors such as funding trends, industry preferences, geographical distribution, and success metrics. By addressing this problem, we aim to unlock valuable knowledge that can guide aspiring entrepreneurs, investors, and policy-makers in making informed decisions and fostering the growth of the startup ecosystem."
   ]
  },
  {
   "cell_type": "markdown",
   "metadata": {},
   "source": [
    "# Objectives.\n",
    "\n",
    "1. Identify Key Success Factors: Determine the primary factors contributing to startup success by analyzing prevalent characteristics, strategies, and patterns among successful ventures.\n",
    "\n",
    "2. Optimize Funding Strategies: Explore different funding patterns and sources to maximize funding success rate and amount received by startups.\n",
    "\n",
    "3. Mitigate Risks and Challenges: Develop strategies to mitigate common pitfalls and challenges faced by startups, enhancing resilience and increasing survival and growth rates.\n",
    "\n",
    "4. Identify Market Opportunities: Analyze industry sectors, market trends, and emerging niches to target untapped opportunities for market penetration and growth.\n",
    "\n",
    "5. Enhance Decision-Making: Provide data-driven insights to support informed decision-making, optimizing choices related to market entry, resource allocation, and strategic partnerships."
   ]
  },
  {
   "cell_type": "markdown",
   "metadata": {},
   "source": [
    "# Data Description."
   ]
  },
  {
   "cell_type": "markdown",
   "metadata": {},
   "source": [
    "1. *permalink*: The unique identifier or URL of the company.\n",
    "2. *name*: The name of the startup company.\n",
    "3. *homepage_url*: The URL of the startup's website.\n",
    "4. *category_list*: The categories or industries associated with the startup.\n",
    "5. *market*: The market or industry segment in which the startup operates.\n",
    "6. *funding_total_usd*: The total amount of funding raised by the startup in US dollars.\n",
    "7. *status*: The status of the startup (e.g., active, acquired, closed).\n",
    "8. *country_code*: The country code of the startup's headquarters or primary operations.\n",
    "9. *state_code*: The state code of the startup's headquarters or primary operations.\n",
    "10. *region*: The region where the startup is located.\n",
    "11. *city*: The city where the startup is located.\n",
    "12. *funding_rounds*: The number of funding rounds the startup has gone through.\n",
    "13. *founded_at*: The specific date on which the startup was founded.\n",
    "14. *founded_month*: The month in which the startup was founded.\n",
    "15. *founded_quarter*: The quarter in which the startup was founded.\n",
    "16. *founded_year*: The year in which the startup was founded.\n",
    "17. *first_funding_at*: The date of the first funding round.\n",
    "18. *last_funding_at*: The date of the most recent funding round.\n",
    "19. *seed*: The amount of funding raised in the seed round.\n",
    "20. *venture*: The amount of funding raised in the venture round.\n",
    "21. *equity_crowdfunding*: The amount of funding raised through equity crowdfunding.\n",
    "22. *undisclosed*: The amount of undisclosed funding raised.\n",
    "23. *convertible_note*: The amount of funding raised through convertible notes.\n",
    "24. *debt_financing*: The amount of funding raised through debt financing.\n",
    "25. *angel*: The amount of funding raised from angel investors.\n",
    "26. *grant*: The amount of grant funding received.\n",
    "27. *private_equity*: The amount of funding raised from private equity investors.\n",
    "28. *post_ipo_equity*: The amount of funding raised post-IPO through equity.\n",
    "29. *post_ipo_debt*: The amount of funding raised post-IPO through debt.\n",
    "30. *secondary_market*: The amount of funding raised through secondary market transactions.\n",
    "31. *product_crowdfunding*: The amount of funding raised through product crowdfunding.\n",
    "32. *round_A*: The amount of funding raised in round A.\n",
    "33. *round_B*: The amount of funding raised in round B.\n",
    "34. *round_C*: The amount of funding raised in round C.\n",
    "35. *round_D*: The amount of funding raised in round D.\n",
    "36. *round_E*: The amount of funding raised in round E.\n",
    "37. *round_F*: The amount of funding raised in round F.\n",
    "38. *round_G*: The amount of funding raised in round G.\n",
    "39. *round_H*: The amount of funding raised in round H."
   ]
  },
  {
   "cell_type": "markdown",
   "metadata": {},
   "source": [
    "Investors face the challenge of identifying startups with high potential for success, often referred to as \"unicorns,\" among a large pool of potential investments.\n",
    "Various attempts have been made to predict the success of startups, including perspectives shared by investors and insights derived from machine learning and big data analysis.\n",
    "\n",
    "However, these methods have limitations. Investor perspectives are valuable but difficult to replicate, and their metrics for evaluating founders' potential may not be universally applicable.\n",
    "Data-driven approaches utilizing machine learning and artificial intelligence hold promise for predicting startup success. However, existing methods typically rely on publicly available data, which introduces its own set of assumptions and uncertainties.\n",
    "The focus of the post will be on the data-driven approach, providing an overview of the dataset, standard AI practices, and a solution specifically tailored for predicting startup success.\n",
    "\n",
    "`Key points:`\n",
    "\n",
    "Dataset: Investment data comprising details of startup companies.\n",
    "\n",
    "Funding Rounds: Different funding rounds and types, including seed funding, venture equity crowdfunding, and convertible notes.\n",
    "\n",
    "Company Status: Classification of companies as acquired, operating, or closed.\n",
    "\n",
    "Challenge: Predicting startup success is difficult but valuable for investors.\n",
    "\n",
    "Limitations: Investor perspectives are subjective, and publicly available data has its own assumptions.\n",
    "\n",
    "Data-Driven Approach: Utilizing machine learning and AI to predict startup success.\n",
    "\n",
    "Solution Focus: Providing a solution developed specifically for this purpose."
   ]
  },
  {
   "cell_type": "markdown",
   "metadata": {},
   "source": [
    "# Data Understanding"
   ]
  },
  {
   "cell_type": "markdown",
   "metadata": {},
   "source": [
    "The dataset used for training the machine learning model contains investment data about startup companies, sourced from Crunchbase, a prominent website for company insights ranging from early-stage startups to Fortune 1000 companies.\n",
    "The dataset comprises approximately 54,000 rows and 39 columns, providing information about the companies, including their names, URLs, markets, countries, states, regions, cities, founded dates, and funding details.\n",
    "The funding details cover various types such as seed funding, venture equity crowdfunding, convertible notes, debt financing, angel investments, grants, private equity, post IPO equity, post IPO debt, secondary market, product crowdfunding, and round A-H series funding.\n",
    "Additionally, the dataset includes the status of the companies, categorized as acquired, operating, or closed.\n"
   ]
  },
  {
   "cell_type": "code",
   "execution_count": 1,
   "metadata": {},
   "outputs": [],
   "source": [
    "# Importing libraries\n",
    "import pandas as pd\n",
    "import matplotlib.pyplot as plt\n",
    "import seaborn as sns"
   ]
  },
  {
   "cell_type": "code",
   "execution_count": 2,
   "metadata": {},
   "outputs": [
    {
     "data": {
      "text/html": [
       "<div>\n",
       "<style scoped>\n",
       "    .dataframe tbody tr th:only-of-type {\n",
       "        vertical-align: middle;\n",
       "    }\n",
       "\n",
       "    .dataframe tbody tr th {\n",
       "        vertical-align: top;\n",
       "    }\n",
       "\n",
       "    .dataframe thead th {\n",
       "        text-align: right;\n",
       "    }\n",
       "</style>\n",
       "<table border=\"1\" class=\"dataframe\">\n",
       "  <thead>\n",
       "    <tr style=\"text-align: right;\">\n",
       "      <th></th>\n",
       "      <th>permalink</th>\n",
       "      <th>name</th>\n",
       "      <th>homepage_url</th>\n",
       "      <th>category_list</th>\n",
       "      <th>market</th>\n",
       "      <th>funding_total_usd</th>\n",
       "      <th>status</th>\n",
       "      <th>country_code</th>\n",
       "      <th>state_code</th>\n",
       "      <th>region</th>\n",
       "      <th>...</th>\n",
       "      <th>secondary_market</th>\n",
       "      <th>product_crowdfunding</th>\n",
       "      <th>round_A</th>\n",
       "      <th>round_B</th>\n",
       "      <th>round_C</th>\n",
       "      <th>round_D</th>\n",
       "      <th>round_E</th>\n",
       "      <th>round_F</th>\n",
       "      <th>round_G</th>\n",
       "      <th>round_H</th>\n",
       "    </tr>\n",
       "  </thead>\n",
       "  <tbody>\n",
       "    <tr>\n",
       "      <th>0</th>\n",
       "      <td>/organization/waywire</td>\n",
       "      <td>#waywire</td>\n",
       "      <td>http://www.waywire.com</td>\n",
       "      <td>|Entertainment|Politics|Social Media|News|</td>\n",
       "      <td>News</td>\n",
       "      <td>17,50,000</td>\n",
       "      <td>acquired</td>\n",
       "      <td>USA</td>\n",
       "      <td>NY</td>\n",
       "      <td>New York City</td>\n",
       "      <td>...</td>\n",
       "      <td>0.0</td>\n",
       "      <td>0.0</td>\n",
       "      <td>0.0</td>\n",
       "      <td>0.0</td>\n",
       "      <td>0.0</td>\n",
       "      <td>0.0</td>\n",
       "      <td>0.0</td>\n",
       "      <td>0.0</td>\n",
       "      <td>0.0</td>\n",
       "      <td>0.0</td>\n",
       "    </tr>\n",
       "    <tr>\n",
       "      <th>1</th>\n",
       "      <td>/organization/tv-communications</td>\n",
       "      <td>&amp;TV Communications</td>\n",
       "      <td>http://enjoyandtv.com</td>\n",
       "      <td>|Games|</td>\n",
       "      <td>Games</td>\n",
       "      <td>40,00,000</td>\n",
       "      <td>operating</td>\n",
       "      <td>USA</td>\n",
       "      <td>CA</td>\n",
       "      <td>Los Angeles</td>\n",
       "      <td>...</td>\n",
       "      <td>0.0</td>\n",
       "      <td>0.0</td>\n",
       "      <td>0.0</td>\n",
       "      <td>0.0</td>\n",
       "      <td>0.0</td>\n",
       "      <td>0.0</td>\n",
       "      <td>0.0</td>\n",
       "      <td>0.0</td>\n",
       "      <td>0.0</td>\n",
       "      <td>0.0</td>\n",
       "    </tr>\n",
       "    <tr>\n",
       "      <th>2</th>\n",
       "      <td>/organization/rock-your-paper</td>\n",
       "      <td>'Rock' Your Paper</td>\n",
       "      <td>http://www.rockyourpaper.org</td>\n",
       "      <td>|Publishing|Education|</td>\n",
       "      <td>Publishing</td>\n",
       "      <td>40,000</td>\n",
       "      <td>operating</td>\n",
       "      <td>EST</td>\n",
       "      <td>NaN</td>\n",
       "      <td>Tallinn</td>\n",
       "      <td>...</td>\n",
       "      <td>0.0</td>\n",
       "      <td>0.0</td>\n",
       "      <td>0.0</td>\n",
       "      <td>0.0</td>\n",
       "      <td>0.0</td>\n",
       "      <td>0.0</td>\n",
       "      <td>0.0</td>\n",
       "      <td>0.0</td>\n",
       "      <td>0.0</td>\n",
       "      <td>0.0</td>\n",
       "    </tr>\n",
       "    <tr>\n",
       "      <th>3</th>\n",
       "      <td>/organization/in-touch-network</td>\n",
       "      <td>(In)Touch Network</td>\n",
       "      <td>http://www.InTouchNetwork.com</td>\n",
       "      <td>|Electronics|Guides|Coffee|Restaurants|Music|i...</td>\n",
       "      <td>Electronics</td>\n",
       "      <td>15,00,000</td>\n",
       "      <td>operating</td>\n",
       "      <td>GBR</td>\n",
       "      <td>NaN</td>\n",
       "      <td>London</td>\n",
       "      <td>...</td>\n",
       "      <td>0.0</td>\n",
       "      <td>0.0</td>\n",
       "      <td>0.0</td>\n",
       "      <td>0.0</td>\n",
       "      <td>0.0</td>\n",
       "      <td>0.0</td>\n",
       "      <td>0.0</td>\n",
       "      <td>0.0</td>\n",
       "      <td>0.0</td>\n",
       "      <td>0.0</td>\n",
       "    </tr>\n",
       "    <tr>\n",
       "      <th>4</th>\n",
       "      <td>/organization/r-ranch-and-mine</td>\n",
       "      <td>-R- Ranch and Mine</td>\n",
       "      <td>NaN</td>\n",
       "      <td>|Tourism|Entertainment|Games|</td>\n",
       "      <td>Tourism</td>\n",
       "      <td>60,000</td>\n",
       "      <td>operating</td>\n",
       "      <td>USA</td>\n",
       "      <td>TX</td>\n",
       "      <td>Dallas</td>\n",
       "      <td>...</td>\n",
       "      <td>0.0</td>\n",
       "      <td>0.0</td>\n",
       "      <td>0.0</td>\n",
       "      <td>0.0</td>\n",
       "      <td>0.0</td>\n",
       "      <td>0.0</td>\n",
       "      <td>0.0</td>\n",
       "      <td>0.0</td>\n",
       "      <td>0.0</td>\n",
       "      <td>0.0</td>\n",
       "    </tr>\n",
       "  </tbody>\n",
       "</table>\n",
       "<p>5 rows × 39 columns</p>\n",
       "</div>"
      ],
      "text/plain": [
       "                         permalink                name  \\\n",
       "0            /organization/waywire            #waywire   \n",
       "1  /organization/tv-communications  &TV Communications   \n",
       "2    /organization/rock-your-paper   'Rock' Your Paper   \n",
       "3   /organization/in-touch-network   (In)Touch Network   \n",
       "4   /organization/r-ranch-and-mine  -R- Ranch and Mine   \n",
       "\n",
       "                    homepage_url  \\\n",
       "0         http://www.waywire.com   \n",
       "1          http://enjoyandtv.com   \n",
       "2   http://www.rockyourpaper.org   \n",
       "3  http://www.InTouchNetwork.com   \n",
       "4                            NaN   \n",
       "\n",
       "                                       category_list        market   \\\n",
       "0         |Entertainment|Politics|Social Media|News|          News    \n",
       "1                                            |Games|         Games    \n",
       "2                             |Publishing|Education|    Publishing    \n",
       "3  |Electronics|Guides|Coffee|Restaurants|Music|i...   Electronics    \n",
       "4                      |Tourism|Entertainment|Games|       Tourism    \n",
       "\n",
       "   funding_total_usd      status country_code state_code         region  ...  \\\n",
       "0          17,50,000    acquired          USA         NY  New York City  ...   \n",
       "1          40,00,000   operating          USA         CA    Los Angeles  ...   \n",
       "2             40,000   operating          EST        NaN        Tallinn  ...   \n",
       "3          15,00,000   operating          GBR        NaN         London  ...   \n",
       "4             60,000   operating          USA         TX         Dallas  ...   \n",
       "\n",
       "  secondary_market  product_crowdfunding round_A round_B round_C  round_D  \\\n",
       "0              0.0                   0.0     0.0     0.0     0.0      0.0   \n",
       "1              0.0                   0.0     0.0     0.0     0.0      0.0   \n",
       "2              0.0                   0.0     0.0     0.0     0.0      0.0   \n",
       "3              0.0                   0.0     0.0     0.0     0.0      0.0   \n",
       "4              0.0                   0.0     0.0     0.0     0.0      0.0   \n",
       "\n",
       "  round_E round_F  round_G  round_H  \n",
       "0     0.0     0.0      0.0      0.0  \n",
       "1     0.0     0.0      0.0      0.0  \n",
       "2     0.0     0.0      0.0      0.0  \n",
       "3     0.0     0.0      0.0      0.0  \n",
       "4     0.0     0.0      0.0      0.0  \n",
       "\n",
       "[5 rows x 39 columns]"
      ]
     },
     "execution_count": 2,
     "metadata": {},
     "output_type": "execute_result"
    }
   ],
   "source": [
    "# Loading and previewing data\n",
    "data = pd.read_csv('investments_VC.csv',encoding = 'latin')\n",
    "data.head()"
   ]
  },
  {
   "cell_type": "code",
   "execution_count": 3,
   "metadata": {},
   "outputs": [],
   "source": [
    "# class to describe dataset\n",
    "\n",
    "class Description:\n",
    "    \n",
    "    # initialize object\n",
    "    def _init_(self, data):\n",
    "        self.data = data\n",
    "        \n",
    "    # method to check shape of data\n",
    "    def shape(self):\n",
    "        out = print(f\"The DataFrame has:\\n\\t* {self.data.shape[0]} rows\\n\\t* {self.data.shape[1]} columns\", '\\n')\n",
    "        return out\n",
    "    \n",
    "    # method to check info on dataset\n",
    "    def data_info(self):\n",
    "        out = print(self.data.info(), '\\n')\n",
    "        return out\n",
    "    \n",
    "    # method to describe numerical columns\n",
    "    def data_describe(self):\n",
    "        out = self.data.describe()\n",
    "        return out"
   ]
  },
  {
   "cell_type": "code",
   "execution_count": 4,
   "metadata": {},
   "outputs": [
    {
     "name": "stdout",
     "output_type": "stream",
     "text": [
      "<class 'pandas.core.frame.DataFrame'>\n",
      "RangeIndex: 54294 entries, 0 to 54293\n",
      "Data columns (total 39 columns):\n",
      " #   Column                Non-Null Count  Dtype  \n",
      "---  ------                --------------  -----  \n",
      " 0   permalink             49438 non-null  object \n",
      " 1   name                  49437 non-null  object \n",
      " 2   homepage_url          45989 non-null  object \n",
      " 3   category_list         45477 non-null  object \n",
      " 4    market               45470 non-null  object \n",
      " 5    funding_total_usd    49438 non-null  object \n",
      " 6   status                48124 non-null  object \n",
      " 7   country_code          44165 non-null  object \n",
      " 8   state_code            30161 non-null  object \n",
      " 9   region                44165 non-null  object \n",
      " 10  city                  43322 non-null  object \n",
      " 11  funding_rounds        49438 non-null  float64\n",
      " 12  founded_at            38554 non-null  object \n",
      " 13  founded_month         38482 non-null  object \n",
      " 14  founded_quarter       38482 non-null  object \n",
      " 15  founded_year          38482 non-null  float64\n",
      " 16  first_funding_at      49438 non-null  object \n",
      " 17  last_funding_at       49438 non-null  object \n",
      " 18  seed                  49438 non-null  float64\n",
      " 19  venture               49438 non-null  float64\n",
      " 20  equity_crowdfunding   49438 non-null  float64\n",
      " 21  undisclosed           49438 non-null  float64\n",
      " 22  convertible_note      49438 non-null  float64\n",
      " 23  debt_financing        49438 non-null  float64\n",
      " 24  angel                 49438 non-null  float64\n",
      " 25  grant                 49438 non-null  float64\n",
      " 26  private_equity        49438 non-null  float64\n",
      " 27  post_ipo_equity       49438 non-null  float64\n",
      " 28  post_ipo_debt         49438 non-null  float64\n",
      " 29  secondary_market      49438 non-null  float64\n",
      " 30  product_crowdfunding  49438 non-null  float64\n",
      " 31  round_A               49438 non-null  float64\n",
      " 32  round_B               49438 non-null  float64\n",
      " 33  round_C               49438 non-null  float64\n",
      " 34  round_D               49438 non-null  float64\n",
      " 35  round_E               49438 non-null  float64\n",
      " 36  round_F               49438 non-null  float64\n",
      " 37  round_G               49438 non-null  float64\n",
      " 38  round_H               49438 non-null  float64\n",
      "dtypes: float64(23), object(16)\n",
      "memory usage: 16.2+ MB\n"
     ]
    }
   ],
   "source": [
    "# Checking the data types of the columns\n",
    "data.info()"
   ]
  },
  {
   "cell_type": "code",
   "execution_count": 5,
   "metadata": {},
   "outputs": [
    {
     "data": {
      "text/plain": [
       "operating    41829\n",
       "acquired      3692\n",
       "closed        2603\n",
       "Name: status, dtype: int64"
      ]
     },
     "execution_count": 5,
     "metadata": {},
     "output_type": "execute_result"
    }
   ],
   "source": [
    "# Checking the values in the target column\n",
    "data['status'].value_counts()"
   ]
  },
  {
   "cell_type": "markdown",
   "metadata": {},
   "source": [
    "Active: An active startup refers to a company that is currently operating, developing its product or service, and pursuing growth\n",
    "\n",
    "Acquired: When a startup is acquired, it means that another company or entity has purchased the startup\n",
    "\n",
    "Closed: A closed startup refers to a company that has ceased operations and is no longer active. This can happen for various reasons, such as insufficient funding, inability to scale, lack of market demand, or operational challenges"
   ]
  },
  {
   "cell_type": "code",
   "execution_count": 6,
   "metadata": {},
   "outputs": [
    {
     "name": "stdout",
     "output_type": "stream",
     "text": [
      " This data has 54294 rows and 39 columns\n"
     ]
    }
   ],
   "source": [
    "#Checking for the shape of the data.\n",
    "print(f\" This data has {data.shape[0]} rows and {data.shape[1]} columns\")"
   ]
  },
  {
   "cell_type": "code",
   "execution_count": 7,
   "metadata": {},
   "outputs": [
    {
     "data": {
      "text/plain": [
       "Index(['permalink', 'name', 'homepage_url', 'category_list', ' market ',\n",
       "       ' funding_total_usd ', 'status', 'country_code', 'state_code', 'region',\n",
       "       'city', 'founded_at', 'founded_month', 'founded_quarter',\n",
       "       'first_funding_at', 'last_funding_at'],\n",
       "      dtype='object')"
      ]
     },
     "execution_count": 7,
     "metadata": {},
     "output_type": "execute_result"
    }
   ],
   "source": [
    "#checking for categorical columns.\n",
    "categorical_columns = data.select_dtypes(include=['object', 'category'])\n",
    "categorical_columns.columns"
   ]
  },
  {
   "cell_type": "code",
   "execution_count": 8,
   "metadata": {},
   "outputs": [
    {
     "data": {
      "text/plain": [
       "Index(['funding_rounds', 'founded_year', 'seed', 'venture',\n",
       "       'equity_crowdfunding', 'undisclosed', 'convertible_note',\n",
       "       'debt_financing', 'angel', 'grant', 'private_equity', 'post_ipo_equity',\n",
       "       'post_ipo_debt', 'secondary_market', 'product_crowdfunding', 'round_A',\n",
       "       'round_B', 'round_C', 'round_D', 'round_E', 'round_F', 'round_G',\n",
       "       'round_H'],\n",
       "      dtype='object')"
      ]
     },
     "execution_count": 8,
     "metadata": {},
     "output_type": "execute_result"
    }
   ],
   "source": [
    "#checking for numeric columns.\n",
    "non_categorical_columns = data.select_dtypes(exclude=['object', 'category'])\n",
    "non_categorical_columns.columns"
   ]
  },
  {
   "cell_type": "code",
   "execution_count": 9,
   "metadata": {
    "scrolled": true
   },
   "outputs": [
    {
     "data": {
      "text/html": [
       "<div>\n",
       "<style scoped>\n",
       "    .dataframe tbody tr th:only-of-type {\n",
       "        vertical-align: middle;\n",
       "    }\n",
       "\n",
       "    .dataframe tbody tr th {\n",
       "        vertical-align: top;\n",
       "    }\n",
       "\n",
       "    .dataframe thead th {\n",
       "        text-align: right;\n",
       "    }\n",
       "</style>\n",
       "<table border=\"1\" class=\"dataframe\">\n",
       "  <thead>\n",
       "    <tr style=\"text-align: right;\">\n",
       "      <th></th>\n",
       "      <th>funding_rounds</th>\n",
       "      <th>founded_year</th>\n",
       "      <th>seed</th>\n",
       "      <th>venture</th>\n",
       "      <th>equity_crowdfunding</th>\n",
       "      <th>undisclosed</th>\n",
       "      <th>convertible_note</th>\n",
       "      <th>debt_financing</th>\n",
       "      <th>angel</th>\n",
       "      <th>grant</th>\n",
       "      <th>...</th>\n",
       "      <th>secondary_market</th>\n",
       "      <th>product_crowdfunding</th>\n",
       "      <th>round_A</th>\n",
       "      <th>round_B</th>\n",
       "      <th>round_C</th>\n",
       "      <th>round_D</th>\n",
       "      <th>round_E</th>\n",
       "      <th>round_F</th>\n",
       "      <th>round_G</th>\n",
       "      <th>round_H</th>\n",
       "    </tr>\n",
       "  </thead>\n",
       "  <tbody>\n",
       "    <tr>\n",
       "      <th>count</th>\n",
       "      <td>49438.000000</td>\n",
       "      <td>38482.000000</td>\n",
       "      <td>4.943800e+04</td>\n",
       "      <td>4.943800e+04</td>\n",
       "      <td>4.943800e+04</td>\n",
       "      <td>4.943800e+04</td>\n",
       "      <td>4.943800e+04</td>\n",
       "      <td>4.943800e+04</td>\n",
       "      <td>4.943800e+04</td>\n",
       "      <td>4.943800e+04</td>\n",
       "      <td>...</td>\n",
       "      <td>4.943800e+04</td>\n",
       "      <td>4.943800e+04</td>\n",
       "      <td>4.943800e+04</td>\n",
       "      <td>4.943800e+04</td>\n",
       "      <td>4.943800e+04</td>\n",
       "      <td>4.943800e+04</td>\n",
       "      <td>4.943800e+04</td>\n",
       "      <td>4.943800e+04</td>\n",
       "      <td>4.943800e+04</td>\n",
       "      <td>4.943800e+04</td>\n",
       "    </tr>\n",
       "    <tr>\n",
       "      <th>mean</th>\n",
       "      <td>1.696205</td>\n",
       "      <td>2007.359129</td>\n",
       "      <td>2.173215e+05</td>\n",
       "      <td>7.501051e+06</td>\n",
       "      <td>6.163322e+03</td>\n",
       "      <td>1.302213e+05</td>\n",
       "      <td>2.336410e+04</td>\n",
       "      <td>1.888157e+06</td>\n",
       "      <td>6.541898e+04</td>\n",
       "      <td>1.628453e+05</td>\n",
       "      <td>...</td>\n",
       "      <td>3.845592e+04</td>\n",
       "      <td>7.074227e+03</td>\n",
       "      <td>1.243955e+06</td>\n",
       "      <td>1.492891e+06</td>\n",
       "      <td>1.205356e+06</td>\n",
       "      <td>7.375261e+05</td>\n",
       "      <td>3.424682e+05</td>\n",
       "      <td>1.697692e+05</td>\n",
       "      <td>5.767067e+04</td>\n",
       "      <td>1.423197e+04</td>\n",
       "    </tr>\n",
       "    <tr>\n",
       "      <th>std</th>\n",
       "      <td>1.294213</td>\n",
       "      <td>7.579203</td>\n",
       "      <td>1.056985e+06</td>\n",
       "      <td>2.847112e+07</td>\n",
       "      <td>1.999048e+05</td>\n",
       "      <td>2.981404e+06</td>\n",
       "      <td>1.432046e+06</td>\n",
       "      <td>1.382046e+08</td>\n",
       "      <td>6.582908e+05</td>\n",
       "      <td>5.612088e+06</td>\n",
       "      <td>...</td>\n",
       "      <td>3.864461e+06</td>\n",
       "      <td>4.282166e+05</td>\n",
       "      <td>5.531974e+06</td>\n",
       "      <td>7.472704e+06</td>\n",
       "      <td>7.993592e+06</td>\n",
       "      <td>9.815218e+06</td>\n",
       "      <td>5.406915e+06</td>\n",
       "      <td>6.277905e+06</td>\n",
       "      <td>5.252312e+06</td>\n",
       "      <td>2.716865e+06</td>\n",
       "    </tr>\n",
       "    <tr>\n",
       "      <th>min</th>\n",
       "      <td>1.000000</td>\n",
       "      <td>1902.000000</td>\n",
       "      <td>0.000000e+00</td>\n",
       "      <td>0.000000e+00</td>\n",
       "      <td>0.000000e+00</td>\n",
       "      <td>0.000000e+00</td>\n",
       "      <td>0.000000e+00</td>\n",
       "      <td>0.000000e+00</td>\n",
       "      <td>0.000000e+00</td>\n",
       "      <td>0.000000e+00</td>\n",
       "      <td>...</td>\n",
       "      <td>0.000000e+00</td>\n",
       "      <td>0.000000e+00</td>\n",
       "      <td>0.000000e+00</td>\n",
       "      <td>0.000000e+00</td>\n",
       "      <td>0.000000e+00</td>\n",
       "      <td>0.000000e+00</td>\n",
       "      <td>0.000000e+00</td>\n",
       "      <td>0.000000e+00</td>\n",
       "      <td>0.000000e+00</td>\n",
       "      <td>0.000000e+00</td>\n",
       "    </tr>\n",
       "    <tr>\n",
       "      <th>25%</th>\n",
       "      <td>1.000000</td>\n",
       "      <td>2006.000000</td>\n",
       "      <td>0.000000e+00</td>\n",
       "      <td>0.000000e+00</td>\n",
       "      <td>0.000000e+00</td>\n",
       "      <td>0.000000e+00</td>\n",
       "      <td>0.000000e+00</td>\n",
       "      <td>0.000000e+00</td>\n",
       "      <td>0.000000e+00</td>\n",
       "      <td>0.000000e+00</td>\n",
       "      <td>...</td>\n",
       "      <td>0.000000e+00</td>\n",
       "      <td>0.000000e+00</td>\n",
       "      <td>0.000000e+00</td>\n",
       "      <td>0.000000e+00</td>\n",
       "      <td>0.000000e+00</td>\n",
       "      <td>0.000000e+00</td>\n",
       "      <td>0.000000e+00</td>\n",
       "      <td>0.000000e+00</td>\n",
       "      <td>0.000000e+00</td>\n",
       "      <td>0.000000e+00</td>\n",
       "    </tr>\n",
       "    <tr>\n",
       "      <th>50%</th>\n",
       "      <td>1.000000</td>\n",
       "      <td>2010.000000</td>\n",
       "      <td>0.000000e+00</td>\n",
       "      <td>0.000000e+00</td>\n",
       "      <td>0.000000e+00</td>\n",
       "      <td>0.000000e+00</td>\n",
       "      <td>0.000000e+00</td>\n",
       "      <td>0.000000e+00</td>\n",
       "      <td>0.000000e+00</td>\n",
       "      <td>0.000000e+00</td>\n",
       "      <td>...</td>\n",
       "      <td>0.000000e+00</td>\n",
       "      <td>0.000000e+00</td>\n",
       "      <td>0.000000e+00</td>\n",
       "      <td>0.000000e+00</td>\n",
       "      <td>0.000000e+00</td>\n",
       "      <td>0.000000e+00</td>\n",
       "      <td>0.000000e+00</td>\n",
       "      <td>0.000000e+00</td>\n",
       "      <td>0.000000e+00</td>\n",
       "      <td>0.000000e+00</td>\n",
       "    </tr>\n",
       "    <tr>\n",
       "      <th>75%</th>\n",
       "      <td>2.000000</td>\n",
       "      <td>2012.000000</td>\n",
       "      <td>2.500000e+04</td>\n",
       "      <td>5.000000e+06</td>\n",
       "      <td>0.000000e+00</td>\n",
       "      <td>0.000000e+00</td>\n",
       "      <td>0.000000e+00</td>\n",
       "      <td>0.000000e+00</td>\n",
       "      <td>0.000000e+00</td>\n",
       "      <td>0.000000e+00</td>\n",
       "      <td>...</td>\n",
       "      <td>0.000000e+00</td>\n",
       "      <td>0.000000e+00</td>\n",
       "      <td>0.000000e+00</td>\n",
       "      <td>0.000000e+00</td>\n",
       "      <td>0.000000e+00</td>\n",
       "      <td>0.000000e+00</td>\n",
       "      <td>0.000000e+00</td>\n",
       "      <td>0.000000e+00</td>\n",
       "      <td>0.000000e+00</td>\n",
       "      <td>0.000000e+00</td>\n",
       "    </tr>\n",
       "    <tr>\n",
       "      <th>max</th>\n",
       "      <td>18.000000</td>\n",
       "      <td>2014.000000</td>\n",
       "      <td>1.300000e+08</td>\n",
       "      <td>2.351000e+09</td>\n",
       "      <td>2.500000e+07</td>\n",
       "      <td>2.924328e+08</td>\n",
       "      <td>3.000000e+08</td>\n",
       "      <td>3.007950e+10</td>\n",
       "      <td>6.359026e+07</td>\n",
       "      <td>7.505000e+08</td>\n",
       "      <td>...</td>\n",
       "      <td>6.806116e+08</td>\n",
       "      <td>7.200000e+07</td>\n",
       "      <td>3.190000e+08</td>\n",
       "      <td>5.420000e+08</td>\n",
       "      <td>4.900000e+08</td>\n",
       "      <td>1.200000e+09</td>\n",
       "      <td>4.000000e+08</td>\n",
       "      <td>1.060000e+09</td>\n",
       "      <td>1.000000e+09</td>\n",
       "      <td>6.000000e+08</td>\n",
       "    </tr>\n",
       "  </tbody>\n",
       "</table>\n",
       "<p>8 rows × 23 columns</p>\n",
       "</div>"
      ],
      "text/plain": [
       "       funding_rounds  founded_year          seed       venture  \\\n",
       "count    49438.000000  38482.000000  4.943800e+04  4.943800e+04   \n",
       "mean         1.696205   2007.359129  2.173215e+05  7.501051e+06   \n",
       "std          1.294213      7.579203  1.056985e+06  2.847112e+07   \n",
       "min          1.000000   1902.000000  0.000000e+00  0.000000e+00   \n",
       "25%          1.000000   2006.000000  0.000000e+00  0.000000e+00   \n",
       "50%          1.000000   2010.000000  0.000000e+00  0.000000e+00   \n",
       "75%          2.000000   2012.000000  2.500000e+04  5.000000e+06   \n",
       "max         18.000000   2014.000000  1.300000e+08  2.351000e+09   \n",
       "\n",
       "       equity_crowdfunding   undisclosed  convertible_note  debt_financing  \\\n",
       "count         4.943800e+04  4.943800e+04      4.943800e+04    4.943800e+04   \n",
       "mean          6.163322e+03  1.302213e+05      2.336410e+04    1.888157e+06   \n",
       "std           1.999048e+05  2.981404e+06      1.432046e+06    1.382046e+08   \n",
       "min           0.000000e+00  0.000000e+00      0.000000e+00    0.000000e+00   \n",
       "25%           0.000000e+00  0.000000e+00      0.000000e+00    0.000000e+00   \n",
       "50%           0.000000e+00  0.000000e+00      0.000000e+00    0.000000e+00   \n",
       "75%           0.000000e+00  0.000000e+00      0.000000e+00    0.000000e+00   \n",
       "max           2.500000e+07  2.924328e+08      3.000000e+08    3.007950e+10   \n",
       "\n",
       "              angel         grant  ...  secondary_market  \\\n",
       "count  4.943800e+04  4.943800e+04  ...      4.943800e+04   \n",
       "mean   6.541898e+04  1.628453e+05  ...      3.845592e+04   \n",
       "std    6.582908e+05  5.612088e+06  ...      3.864461e+06   \n",
       "min    0.000000e+00  0.000000e+00  ...      0.000000e+00   \n",
       "25%    0.000000e+00  0.000000e+00  ...      0.000000e+00   \n",
       "50%    0.000000e+00  0.000000e+00  ...      0.000000e+00   \n",
       "75%    0.000000e+00  0.000000e+00  ...      0.000000e+00   \n",
       "max    6.359026e+07  7.505000e+08  ...      6.806116e+08   \n",
       "\n",
       "       product_crowdfunding       round_A       round_B       round_C  \\\n",
       "count          4.943800e+04  4.943800e+04  4.943800e+04  4.943800e+04   \n",
       "mean           7.074227e+03  1.243955e+06  1.492891e+06  1.205356e+06   \n",
       "std            4.282166e+05  5.531974e+06  7.472704e+06  7.993592e+06   \n",
       "min            0.000000e+00  0.000000e+00  0.000000e+00  0.000000e+00   \n",
       "25%            0.000000e+00  0.000000e+00  0.000000e+00  0.000000e+00   \n",
       "50%            0.000000e+00  0.000000e+00  0.000000e+00  0.000000e+00   \n",
       "75%            0.000000e+00  0.000000e+00  0.000000e+00  0.000000e+00   \n",
       "max            7.200000e+07  3.190000e+08  5.420000e+08  4.900000e+08   \n",
       "\n",
       "            round_D       round_E       round_F       round_G       round_H  \n",
       "count  4.943800e+04  4.943800e+04  4.943800e+04  4.943800e+04  4.943800e+04  \n",
       "mean   7.375261e+05  3.424682e+05  1.697692e+05  5.767067e+04  1.423197e+04  \n",
       "std    9.815218e+06  5.406915e+06  6.277905e+06  5.252312e+06  2.716865e+06  \n",
       "min    0.000000e+00  0.000000e+00  0.000000e+00  0.000000e+00  0.000000e+00  \n",
       "25%    0.000000e+00  0.000000e+00  0.000000e+00  0.000000e+00  0.000000e+00  \n",
       "50%    0.000000e+00  0.000000e+00  0.000000e+00  0.000000e+00  0.000000e+00  \n",
       "75%    0.000000e+00  0.000000e+00  0.000000e+00  0.000000e+00  0.000000e+00  \n",
       "max    1.200000e+09  4.000000e+08  1.060000e+09  1.000000e+09  6.000000e+08  \n",
       "\n",
       "[8 rows x 23 columns]"
      ]
     },
     "execution_count": 9,
     "metadata": {},
     "output_type": "execute_result"
    }
   ],
   "source": [
    "# Obtaining statistical summary of the dataset\n",
    "data.describe()"
   ]
  },
  {
   "cell_type": "code",
   "execution_count": 10,
   "metadata": {},
   "outputs": [
    {
     "name": "stdout",
     "output_type": "stream",
     "text": [
      "4855\n"
     ]
    }
   ],
   "source": [
    "# Checking for duplicates. \n",
    "def count_duplicates(data):\n",
    "    duplicate_count = data.duplicated().sum()\n",
    "    return duplicate_count\n",
    "duplicate_count = count_duplicates(data)\n",
    "print(duplicate_count)"
   ]
  },
  {
   "cell_type": "code",
   "execution_count": 11,
   "metadata": {},
   "outputs": [
    {
     "name": "stdout",
     "output_type": "stream",
     "text": [
      "                      Missing Values  Percentage Missing\n",
      "permalink                       4856            8.943898\n",
      "name                            4857            8.945740\n",
      "homepage_url                    8305           15.296350\n",
      "category_list                   8817           16.239363\n",
      " market                         8824           16.252256\n",
      " funding_total_usd              4856            8.943898\n",
      "status                          6170           11.364055\n",
      "country_code                   10129           18.655837\n",
      "state_code                     24133           44.448742\n",
      "region                         10129           18.655837\n",
      "city                           10972           20.208494\n",
      "funding_rounds                  4856            8.943898\n",
      "founded_at                     15740           28.990312\n",
      "founded_month                  15812           29.122923\n",
      "founded_quarter                15812           29.122923\n",
      "founded_year                   15812           29.122923\n",
      "first_funding_at                4856            8.943898\n",
      "last_funding_at                 4856            8.943898\n",
      "seed                            4856            8.943898\n",
      "venture                         4856            8.943898\n",
      "equity_crowdfunding             4856            8.943898\n",
      "undisclosed                     4856            8.943898\n",
      "convertible_note                4856            8.943898\n",
      "debt_financing                  4856            8.943898\n",
      "angel                           4856            8.943898\n",
      "grant                           4856            8.943898\n",
      "private_equity                  4856            8.943898\n",
      "post_ipo_equity                 4856            8.943898\n",
      "post_ipo_debt                   4856            8.943898\n",
      "secondary_market                4856            8.943898\n",
      "product_crowdfunding            4856            8.943898\n",
      "round_A                         4856            8.943898\n",
      "round_B                         4856            8.943898\n",
      "round_C                         4856            8.943898\n",
      "round_D                         4856            8.943898\n",
      "round_E                         4856            8.943898\n",
      "round_F                         4856            8.943898\n",
      "round_G                         4856            8.943898\n",
      "round_H                         4856            8.943898\n"
     ]
    },
    {
     "data": {
      "image/png": "[encoded data removed]",
      "text/plain": [
       "<Figure size 900x1000 with 1 Axes>"
      ]
     },
     "metadata": {},
     "output_type": "display_data"
    }
   ],
   "source": [
    "def plot_missing_values(data):\n",
    "    missing_values = data.isnull().sum()\n",
    "    percentage_missing = (missing_values / len(data)) * 100\n",
    "\n",
    "    missing_data = pd.DataFrame({'Missing Values': missing_values, 'Percentage Missing': percentage_missing})\n",
    "    print(missing_data)\n",
    "\n",
    "    # Plot missing values\n",
    "    ax = data.isna().sum().sort_values(ascending=False)[:15][::-1].plot(kind='barh', figsize=(9, 10))\n",
    "    plt.title('Percentage of Missing Values Per Column', fontdict={'size': 15})\n",
    "    for p in ax.patches:\n",
    "        percentage = '{:,.0f}%'.format((p.get_width() / data.shape[0]) * 100)\n",
    "        width, height = p.get_width(), p.get_height()\n",
    "        x = p.get_x() + width + 0.02\n",
    "        y = p.get_y() + height / 2\n",
    "        ax.annotate(percentage, (x, y))\n",
    "    \n",
    "    plt.show()\n",
    "\n",
    "# print the missing values:\n",
    "plot_missing_values(data)"
   ]
  },
  {
   "cell_type": "code",
   "execution_count": 13,
   "metadata": {},
   "outputs": [
    {
     "data": {
      "image/png": "[encoded data removed]",
      "text/plain": [
       "<Figure size 1000x800 with 1 Axes>"
      ]
     },
     "metadata": {},
     "output_type": "display_data"
    }
   ],
   "source": [
    "# Visualizing outliers. \n",
    "\n",
    "# Create box plots for numerical columns\n",
    "plt.figure(figsize=(10, 8))\n",
    "sns.boxplot(data=data)\n",
    "plt.xticks(rotation=90)\n",
    "plt.show()"
   ]
  },
  {
   "cell_type": "markdown",
   "metadata": {},
   "source": [
    "# <span style ='color:cyan'> DATA CLEANING.  </span>"
   ]
  },
  {
   "cell_type": "markdown",
   "metadata": {},
   "source": [
    "\n",
    "To ensure the development of a robust and accurate model, several data cleaning techniques will be applied to the dataset. The following techniques will be employed:\n",
    "\n",
    "1 `Completeness`: This technique involves addressing missing values within the dataset. Steps will be taken to identify and handle missing data appropriately, either through imputation or removal, to ensure that the dataset is complete.\n",
    "\n",
    "2 `Consistency`: The consistency of the data will be examined to identify any discrepancies or irregularities. Inconsistencies in variables, such as conflicting formats or conflicting information within the dataset, will be addressed and resolved to maintain data integrity.\n",
    "\n",
    "3 `Validity`: Validity refers to the accuracy and relevance of the data. Data validation techniques will be applied to verify that the values within each variable align with expected ranges or predefined criteria. Any invalid or erroneous data points will be rectified or removed from the dataset.\n",
    "\n",
    "4 `Collinearity`: Collinearity examines the presence of highly correlated variables. Multicollinearity can affect the model's stability and interpretability. Techniques such as correlation analysis will be utilized to identify highly correlated variables. If necessary, appropriate measures, such as feature selection or dimensionality reduction, will be implemented to address collinearity issues.\n",
    "\n",
    "5 `Outlier removal`: Outliers, which are extreme or unusual data points, can adversely impact the model's performance. Robust statistical techniques will be employed to detect and handle outliers effectively. Outliers may be removed or transformed to minimize their influence on the analysis and modeling process.\n",
    "\n",
    "By applying these data cleaning techniques, the dataset will be refined and prepared, ensuring the reliability and accuracy of the data before proceeding with the subsequent stages of analysis and modeling."
   ]
  },
  {
   "cell_type": "markdown",
   "metadata": {},
   "source": [
    "#### Validity \n",
    "For our data to be valid, I have to verify that every column is accurate and appropriate for this analysis and remove those that are invalid."
   ]
  },
  {
   "cell_type": "code",
   "execution_count": 14,
   "metadata": {},
   "outputs": [],
   "source": [
    "# Renamimg columns to remove spaces.\n",
    "data.rename(columns={' funding_total_usd ':'funding_total_usd',' market ':'market'}, inplace=True)"
   ]
  },
  {
   "cell_type": "markdown",
   "metadata": {},
   "source": [
    "#### Completeness.\n",
    "\n",
    "To achieve completeness in our data, we will be dropping missing values and duplicates in the data."
   ]
  },
  {
   "cell_type": "code",
   "execution_count": 15,
   "metadata": {},
   "outputs": [
    {
     "name": "stdout",
     "output_type": "stream",
     "text": [
      "(49439, 39)\n"
     ]
    }
   ],
   "source": [
    "#dropping duplicate rows.\n",
    "data = data.drop_duplicates()\n",
    "print(data.shape)"
   ]
  },
  {
   "cell_type": "code",
   "execution_count": 16,
   "metadata": {},
   "outputs": [],
   "source": [
    "#dropping null values.\n",
    "data = data.dropna(how=\"all\")"
   ]
  },
  {
   "cell_type": "code",
   "execution_count": 17,
   "metadata": {},
   "outputs": [
    {
     "name": "stdout",
     "output_type": "stream",
     "text": [
      "True\n"
     ]
    }
   ],
   "source": [
    "#Confirming for missing values.\n",
    "has_missing_values = data.isnull().any().any()\n",
    "print(has_missing_values)"
   ]
  },
  {
   "cell_type": "code",
   "execution_count": 18,
   "metadata": {},
   "outputs": [],
   "source": [
    "# Remove data before 1980\n",
    "index_before_1980 = data[data['founded_year']< 1980].index\n",
    "data.drop(index_before_1980, inplace = True)"
   ]
  },
  {
   "cell_type": "code",
   "execution_count": 19,
   "metadata": {},
   "outputs": [],
   "source": [
    "# Type casting\n",
    "data['funding_total_usd'] = data['funding_total_usd'].apply(str).str.replace(',','')\n",
    "data['funding_total_usd'] = data['funding_total_usd'].replace(' -   ',0).astype(\"float\")\n"
   ]
  },
  {
   "cell_type": "code",
   "execution_count": 26,
   "metadata": {},
   "outputs": [],
   "source": [
    "#Further dealing with missing values for specific columns.\n",
    "\n",
    "def preprocess_data(data):\n",
    "    # Convert founded_year column to float first to handle NaN values.\n",
    "    data['founded_year'] = data['founded_year'].astype(float)\n",
    "\n",
    "    # Casting the values in the 'funding_rounds' column to the integer data type.\n",
    "    data['funding_rounds'] = data['funding_rounds'].astype(int)\n",
    "\n",
    "    # Converting the values in the 'first_funding_at' and 'last_funding_at'\n",
    "    # columns to datetime data type.\n",
    "    data['first_funding_at'] = pd.to_datetime(data['first_funding_at'], errors='coerce')\n",
    "    data['last_funding_at'] = pd.to_datetime(data['last_funding_at'], errors='coerce')\n",
    "\n",
    "    # Remove NaN values\n",
    "    data.dropna(inplace=True)\n",
    "\n",
    "    # Convert founded_year column to integer after removing NaN values\n",
    "    data['founded_year'] = data['founded_year'].astype(int)\n",
    "\n",
    "    # Remove data with zero funds\n",
    "    index_no_funding = data[data['funding_total_usd'] <= 0].index\n",
    "    data.drop(index_no_funding, inplace=True)\n",
    "\n",
    "    #Confirming for missing values.\n",
    "    has_missing_values = data.isnull().any().any()\n",
    "    \n",
    "\n",
    "    return data\n",
    "\n",
    "# print:\n",
    "cleaned_data = preprocess_data(data)"
   ]
  },
  {
   "cell_type": "code",
   "execution_count": 27,
   "metadata": {},
   "outputs": [
    {
     "name": "stdout",
     "output_type": "stream",
     "text": [
      "False\n"
     ]
    }
   ],
   "source": [
    "#Confirming for missing values.\n",
    "print(has_missing_values)"
   ]
  },
  {
   "cell_type": "markdown",
   "metadata": {},
   "source": [
    "#### Dealing with outliers: \n",
    "\n",
    "Dealing with the extreme or unusual data points that can adversely impact the model's performance. "
   ]
  },
  {
   "cell_type": "code",
   "execution_count": 22,
   "metadata": {},
   "outputs": [
    {
     "name": "stdout",
     "output_type": "stream",
     "text": [
      "False\n"
     ]
    }
   ],
   "source": [
    "# Convert DataFrame to numeric type\n",
    "data_numeric = data.apply(pd.to_numeric, errors='coerce')\n",
    "\n",
    "# Calculate the upper and lower thresholds for outlier detection\n",
    "upper_threshold = 3 * data_numeric.std() + data_numeric.mean()\n",
    "lower_threshold = data_numeric.mean() - 3 * data_numeric.std()\n",
    "\n",
    "\n",
    "# Replace the outliers with the column's median\n",
    "data_numeric = data_numeric.apply(lambda x: x.where(~((x > upper_threshold[x.name]) | (x < lower_threshold[x.name]))), axis=0)\n",
    "\n",
    "# Check if any outliers are still present\n",
    "outliers_present = (data_numeric > upper_threshold) | (data_numeric < lower_threshold)\n",
    "\n",
    "# Return True if any outliers are found, False otherwise\n",
    "data_contains_outliers = outliers_present.any().any()\n",
    "print(data_contains_outliers)\n"
   ]
  },
  {
   "cell_type": "markdown",
   "metadata": {},
   "source": [
    "The factor of 3 in this code is a commonly used value based on the empirical rule or the 68-95-99.7 rule. According to this rule, in a normal distribution, approximately 99.7% of the data falls within three standard deviations from the mean. By using a factor of 3, we are considering values that are relatively far from the mean as potential outliers."
   ]
  },
  {
   "cell_type": "markdown",
   "metadata": {},
   "source": [
    "\n",
    "# <span style ='color:cyan'> Exploratory Data Analysis.  </span>"
   ]
  },
  {
   "cell_type": "markdown",
   "metadata": {},
   "source": [
    "# <span style ='color:cyan'> Univariate Analysis.  </span>"
   ]
  },
  {
   "cell_type": "markdown",
   "metadata": {},
   "source": [
    "### 1. How does the distribution of startup statuses vary across different categories, such as operating, acquired, and closed?"
   ]
  },
  {
   "cell_type": "code",
   "execution_count": null,
   "metadata": {},
   "outputs": [],
   "source": [
    "# Count the occurrences of each status\n",
    "status_counts = data['status'].value_counts()\n",
    "\n",
    "# Create a bar plot using Plotly with different colors\n",
    "fig = px.bar(x=status_counts.index, y=status_counts.values, color=status_counts.index)\n",
    "\n",
    "# Set the plot title and axis labels\n",
    "fig.update_layout(title=\"Status Counts\", xaxis_title=\"Status\", yaxis_title=\"Count\")\n",
    "\n",
    "# Display the plot\n",
    "fig.show()"
   ]
  },
  {
   "cell_type": "markdown",
   "metadata": {},
   "source": [
    "### 2. What is the distribution of founded years?\n"
   ]
  },
  {
   "cell_type": "code",
   "execution_count": null,
   "metadata": {},
   "outputs": [],
   "source": [
    "# Create a figure with specified size\n",
    "plt.figure(figsize=(10, 6))\n",
    "\n",
    "# Create a histogram plot using seaborn\n",
    "sns.histplot(data=data, x='founded_year', color='skyblue')\n",
    "\n",
    "# Set x-axis label\n",
    "plt.xlabel('Founded Year')\n",
    "\n",
    "# Set y-axis label\n",
    "plt.ylabel('Count')\n",
    "\n",
    "# Set plot title\n",
    "plt.title('Distribution of Founded Year')\n",
    "\n",
    "# Display the plot\n",
    "plt.show()"
   ]
  },
  {
   "cell_type": "markdown",
   "metadata": {},
   "source": [
    "### 3. What are the Top 10 Country Code Counts?"
   ]
  },
  {
   "cell_type": "code",
   "execution_count": null,
   "metadata": {},
   "outputs": [],
   "source": [
    "# Get the value counts for the \"country_code\" column\n",
    "country_counts = data[\"country_code\"].value_counts()[:10]\n",
    "\n",
    "# Create a bar plot using Plotly with different colors\n",
    "fig = px.bar(x=country_counts.index, y=country_counts.values, color=country_counts.index)\n",
    "\n",
    "# Set the plot title and axis labels\n",
    "fig.update_layout(title=\"Top 10 Country Code Counts\", xaxis_title=\"Country Code\", yaxis_title=\"Count\")\n",
    "\n",
    "# Rotate x-axis labels for better readability\n",
    "fig.update_xaxes(tickangle=50)\n",
    "\n",
    "# Display the plot\n",
    "fig.show()"
   ]
  },
  {
   "cell_type": "markdown",
   "metadata": {},
   "source": [
    "$Inference$\n",
    "\n",
    "USA has the most number of startups"
   ]
  },
  {
   "cell_type": "markdown",
   "metadata": {},
   "source": [
    "### 4. What are the Top 10 City Code Counts?"
   ]
  },
  {
   "cell_type": "code",
   "execution_count": null,
   "metadata": {},
   "outputs": [],
   "source": [
    "# Get the value counts for the \"city\" column\n",
    "city_counts = data[\"city\"].value_counts()[:10]\n",
    "\n",
    "# Create a bar plot using Plotly with different colors\n",
    "fig = px.bar(x=city_counts.index, y=city_counts.values, color=city_counts.index)\n",
    "\n",
    "# Set the plot title and axis labels\n",
    "fig.update_layout(title=\"Top 10 City Counts\", xaxis_title=\"City\", yaxis_title=\"Count\")\n",
    "\n",
    "# Rotate x-axis labels for better readability\n",
    "fig.update_xaxes(tickangle=50)\n",
    "\n",
    "# Increase the figure size\n",
    "fig.update_layout(width=800, height=600)\n",
    "\n",
    "# Display the plot\n",
    "fig.show()"
   ]
  },
  {
   "cell_type": "markdown",
   "metadata": {},
   "source": [
    "$Inference$\n",
    "\n",
    "San Francisco have the highest no. of startup companies than other cities."
   ]
  },
  {
   "cell_type": "markdown",
   "metadata": {},
   "source": [
    "### 5. What is the distribution of funding rounds?\n"
   ]
  },
  {
   "cell_type": "code",
   "execution_count": null,
   "metadata": {},
   "outputs": [],
   "source": [
    "# Create a figure with specified size\n",
    "plt.figure(figsize=(10, 6))\n",
    "\n",
    "# Create a countplot using seaborn\n",
    "sns.countplot(data=data, x='funding_rounds')\n",
    "\n",
    "# Set x-axis label\n",
    "plt.xlabel('Funding Rounds')\n",
    "\n",
    "# Set y-axis label\n",
    "plt.ylabel('Count')\n",
    "\n",
    "# Set plot title\n",
    "plt.title('Distribution of Funding Rounds')\n",
    "\n",
    "# Display the plot\n",
    "plt.show()"
   ]
  },
  {
   "cell_type": "markdown",
   "metadata": {},
   "source": [
    "\n",
    "### 6. What are the top 10 markets based on count?\n"
   ]
  },
  {
   "cell_type": "code",
   "execution_count": null,
   "metadata": {},
   "outputs": [],
   "source": [
    "# Get the top 10 markets by count\n",
    "top_markets = data['market'].value_counts().nlargest(10)\n",
    "\n",
    "# Create a figure with specified size\n",
    "plt.figure(figsize=(10, 6))\n",
    "\n",
    "# Create a pie chart\n",
    "plt.pie(top_markets, labels=top_markets.index, autopct='%1.1f%%')\n",
    "\n",
    "# Set plot title\n",
    "plt.title('Top 10 Markets')\n",
    "\n",
    "# Display the plot\n",
    "plt.show()"
   ]
  },
  {
   "cell_type": "markdown",
   "metadata": {},
   "source": [
    "# <span style ='color:cyan'> Multivariate Analysis.  </span>"
   ]
  },
  {
   "cell_type": "markdown",
   "metadata": {},
   "source": [
    "### 1. What are the funding totals by country?\n"
   ]
  },
  {
   "cell_type": "code",
   "execution_count": null,
   "metadata": {},
   "outputs": [],
   "source": [
    "# Calculate funding total by country\n",
    "funding_by_country = data.groupby('country_code')['funding_total_usd'].sum().sort_values(ascending=False)\n",
    "\n",
    "# Create a bar plot using Plotly\n",
    "fig = px.bar(x=funding_by_country.index, y=funding_by_country.values)\n",
    "\n",
    "# Set the plot title and axis labels\n",
    "fig.update_layout(title='Funding Total by Country', xaxis_title='Country', yaxis_title='Funding Total (USD)')\n",
    "\n",
    "# Rotate x-axis labels for better readability\n",
    "fig.update_xaxes(tickangle=90)\n",
    "\n",
    "# Adjust the width of the figure\n",
    "fig.update_layout(width=700)\n",
    "\n",
    "# Display the plot\n",
    "fig.show()"
   ]
  },
  {
   "cell_type": "markdown",
   "metadata": {},
   "source": [
    "### 2. What is the relationship between funding and founded year? (With points colored by status) \n"
   ]
  },
  {
   "cell_type": "code",
   "execution_count": null,
   "metadata": {},
   "outputs": [],
   "source": [
    "# Create a figure with specified size\n",
    "plt.figure(figsize=(10, 6))\n",
    "\n",
    "# Create a scatter plot using seaborn\n",
    "sns.scatterplot(data=data, x='founded_year', y='funding_total_usd', hue='status', palette='Set1')\n",
    "\n",
    "# Set x-axis label\n",
    "plt.xlabel('Founded Year')\n",
    "\n",
    "# Set y-axis label\n",
    "plt.ylabel('Funding in USD')\n",
    "\n",
    "# Set plot title\n",
    "plt.title('Funding vs Founded Year (by Status)')\n",
    "\n",
    "# Add legend\n",
    "plt.legend()\n",
    "\n",
    "# Display the plot\n",
    "plt.show()"
   ]
  },
  {
   "cell_type": "markdown",
   "metadata": {},
   "source": [
    "### 3. What are the top 10 funding totals by founded year? "
   ]
  },
  {
   "cell_type": "code",
   "execution_count": null,
   "metadata": {},
   "outputs": [],
   "source": [
    "# Calculate the top 10 funding totals by founded year\n",
    "top_10_funding = data.groupby('founded_year')['funding_total_usd'].sum().sort_values(ascending=False)[:10]\n",
    "\n",
    "# Define a color palette\n",
    "color_palette = ['red', 'orange', 'yellow', 'green', 'blue', 'purple', 'pink', 'brown', 'gray', 'cyan']\n",
    "\n",
    "# Create the bar plot with the specified color palette\n",
    "plt.figure(figsize=(10, 6))\n",
    "top_10_funding.plot(kind='bar', color=color_palette)\n",
    "\n",
    "# Set y-axis label\n",
    "plt.ylabel('Total Funding in USD')\n",
    "\n",
    "# Set plot title\n",
    "plt.title('Top 10 Funding over the Years')\n",
    "\n",
    "# Display the plot\n",
    "plt.show()"
   ]
  },
  {
   "cell_type": "markdown",
   "metadata": {},
   "source": [
    "### 4. What is the average funding rounds by status?\n"
   ]
  },
  {
   "cell_type": "code",
   "execution_count": null,
   "metadata": {},
   "outputs": [],
   "source": [
    "# Calculate the average funding rounds by status\n",
    "funding_rounds_by_status = data.groupby('status')['funding_rounds'].mean().sort_values(ascending=False)\n",
    "\n",
    "# Create a bar plot using seaborn\n",
    "plt.figure(figsize=(8, 6))\n",
    "sns.barplot(x=funding_rounds_by_status.index, y=funding_rounds_by_status.values)\n",
    "\n",
    "# Set x-axis label\n",
    "plt.xlabel('Status')\n",
    "\n",
    "# Set y-axis label\n",
    "plt.ylabel('Average Funding Rounds')\n",
    "\n",
    "# Set plot title\n",
    "plt.title('Funding Rounds by Status')\n",
    "\n",
    "# Display the plot\n",
    "plt.show()"
   ]
  },
  {
   "cell_type": "markdown",
   "metadata": {},
   "source": [
    "### 5. What is the relationship between funding total and funding rounds by market?\n"
   ]
  },
  {
   "cell_type": "code",
   "execution_count": null,
   "metadata": {},
   "outputs": [],
   "source": [
    "# Calculate the mean funding rounds by market\n",
    "market_funding_rounds = data.groupby('market')['funding_rounds'].mean()\n",
    "\n",
    "# Calculate the total funding by market\n",
    "market_funding_total = data.groupby('market')['funding_total_usd'].sum()\n",
    "\n",
    "# Create a bubble plot using Plotly Express\n",
    "fig = px.scatter(x=market_funding_rounds, y=market_funding_total, color=market_funding_total)\n",
    "\n",
    "# Set the plot title and axis labels\n",
    "fig.update_layout(\n",
    "    title=\"Bubble Plot of Funding Total vs. Funding Rounds by Market\",\n",
    "    xaxis_title=\"Funding Rounds (mean)\",\n",
    "    yaxis_title=\"Funding Total (sum)\"\n",
    ")\n",
    "\n",
    "# Adjust the width of the figure\n",
    "fig.update_layout(width=900)\n",
    "\n",
    "# Display the plot\n",
    "fig.show()"
   ]
  },
  {
   "cell_type": "markdown",
   "metadata": {},
   "source": [
    "### 6. What is the total funding received by companies?"
   ]
  },
  {
   "cell_type": "code",
   "execution_count": null,
   "metadata": {},
   "outputs": [],
   "source": [
    "# Calculate the total funding received by companies\n",
    "total_funding = data.groupby('name')['funding_total_usd'].sum().sort_values(ascending=False)\n",
    "\n",
    "# Create a figure with a specified size\n",
    "plt.figure(figsize=(12, 6))\n",
    "\n",
    "# Create a bar plot using seaborn\n",
    "sns.barplot(x=total_funding.index[:10], y=total_funding.values[:10])\n",
    "\n",
    "# Set x-axis label\n",
    "plt.xlabel('Company')\n",
    "\n",
    "# Set y-axis label\n",
    "plt.ylabel('Total Funding (USD)')\n",
    "\n",
    "# Set plot title\n",
    "plt.title('Total Funding Received by Companies - Top 10')\n",
    "\n",
    "# Rotate x-axis labels for better readability\n",
    "plt.xticks(rotation=90)\n",
    "\n",
    "# Display the plot\n",
    "plt.show()"
   ]
  },
  {
   "cell_type": "code",
   "execution_count": null,
   "metadata": {},
   "outputs": [],
   "source": []
  },
  {
   "cell_type": "code",
   "execution_count": null,
   "metadata": {},
   "outputs": [],
   "source": []
  }
 ],
 "metadata": {
  "kernelspec": {
   "display_name": "Python 3",
   "language": "python",
   "name": "python3"
  },
  "language_info": {
   "codemirror_mode": {
    "name": "ipython",
    "version": 3
   },
   "file_extension": ".py",
   "mimetype": "text/x-python",
   "name": "python",
   "nbconvert_exporter": "python",
   "pygments_lexer": "ipython3",
   "version": "3.8.5"
  }
 },
 "nbformat": 4,
 "nbformat_minor": 5
}
