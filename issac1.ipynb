{
 "cells": [
  {
   "cell_type": "markdown",
   "id": "071fe5fc",
   "metadata": {
    "id": "46e5e0b7",
    "toc": true
   },
   "source": [
    "<h1>Table of Contents<span class=\"tocSkip\"></span></h1>\n",
    "<div class=\"toc\"><ul class=\"toc-item\"><li><span><a href=\"#STARTUP-FUNDING-ANALYSIS:-Exploring-Venture-Capital-Investments-in-Various-Industries\" data-toc-modified-id=\"STARTUP-FUNDING-ANALYSIS:-Exploring-Venture-Capital-Investments-in-Various-Industries-1\"><span class=\"toc-item-num\">1&nbsp;&nbsp;</span><span style=\"undefined:undefined\">STARTUP FUNDING ANALYSIS:</span> <strong><span style=\"undefined:undefined\">Exploring Venture Capital Investments in Various Industries</span></strong></a></span></li><li><span><a href=\"#BUSINESS-UNDERSTANDING\" data-toc-modified-id=\"BUSINESS-UNDERSTANDING-2\"><span class=\"toc-item-num\">2&nbsp;&nbsp;</span><span style=\"undefined:undefined\">BUSINESS UNDERSTANDING</span></a></span><ul class=\"toc-item\"><li><span><a href=\"#Background-information\" data-toc-modified-id=\"Background-information-2.1\"><span class=\"toc-item-num\">2.1&nbsp;&nbsp;</span>Background information</a></span></li><li><span><a href=\"#Problem-Statement\" data-toc-modified-id=\"Problem-Statement-2.2\"><span class=\"toc-item-num\">2.2&nbsp;&nbsp;</span>Problem Statement</a></span></li><li><span><a href=\"#Objectives\" data-toc-modified-id=\"Objectives-2.3\"><span class=\"toc-item-num\">2.3&nbsp;&nbsp;</span>Objectives</a></span></li><li><span><a href=\"#-Metric-for-Success-\" data-toc-modified-id=\"-Metric-for-Success--2.4\"><span class=\"toc-item-num\">2.4&nbsp;&nbsp;</span><span style=\"undefined:undefined\"> Metric for Success </span></a></span></li><li><span><a href=\"#Dataset-description.\" data-toc-modified-id=\"Dataset-description.-2.5\"><span class=\"toc-item-num\">2.5&nbsp;&nbsp;</span>Dataset description.</a></span><ul class=\"toc-item\"><li><span><a href=\"#Key-points:\" data-toc-modified-id=\"Key-points:-2.5.1\"><span class=\"toc-item-num\">2.5.1&nbsp;&nbsp;</span><code>Key points:</code></a></span></li></ul></li></ul></li><li><span><a href=\"#DATA-UNDERSTANDING\" data-toc-modified-id=\"DATA-UNDERSTANDING-3\"><span class=\"toc-item-num\">3&nbsp;&nbsp;</span><span style=\"undefined:undefined\">DATA UNDERSTANDING</span></a></span><ul class=\"toc-item\"><li><span><a href=\"#Import-libraries-and-modules\" data-toc-modified-id=\"Import-libraries-and-modules-3.1\"><span class=\"toc-item-num\">3.1&nbsp;&nbsp;</span>Import libraries and modules</a></span></li><li><span><a href=\"#Create-a-dataframe-by-reading-data-from-a-csv-file.-Examining-the-first-five-rows\" data-toc-modified-id=\"Create-a-dataframe-by-reading-data-from-a-csv-file.-Examining-the-first-five-rows-3.2\"><span class=\"toc-item-num\">3.2&nbsp;&nbsp;</span>Create a dataframe by reading data from a csv file. Examining the first five rows</a></span></li><li><span><a href=\"#Summary-of-Features-in-the-Dataset\" data-toc-modified-id=\"Summary-of-Features-in-the-Dataset-3.3\"><span class=\"toc-item-num\">3.3&nbsp;&nbsp;</span>Summary of Features in the Dataset</a></span></li><li><span><a href=\"#Class-to-describe-dataset\" data-toc-modified-id=\"Class-to-describe-dataset-3.4\"><span class=\"toc-item-num\">3.4&nbsp;&nbsp;</span>Class to describe dataset</a></span></li><li><span><a href=\"#Information-about-our-dataset\" data-toc-modified-id=\"Information-about-our-dataset-3.5\"><span class=\"toc-item-num\">3.5&nbsp;&nbsp;</span>Information about our dataset</a></span></li><li><span><a href=\"#Check-shape-of-dataframe\" data-toc-modified-id=\"Check-shape-of-dataframe-3.6\"><span class=\"toc-item-num\">3.6&nbsp;&nbsp;</span>Check shape of dataframe</a></span></li><li><span><a href=\"#Checking-for-the-categorical-columns\" data-toc-modified-id=\"Checking-for-the-categorical-columns-3.7\"><span class=\"toc-item-num\">3.7&nbsp;&nbsp;</span>Checking for the categorical columns</a></span></li><li><span><a href=\"#Checking-for-the-continuous--columns\" data-toc-modified-id=\"Checking-for-the-continuous--columns-3.8\"><span class=\"toc-item-num\">3.8&nbsp;&nbsp;</span>Checking for the continuous  columns</a></span></li><li><span><a href=\"#Concise-statistical-description-of-numeric-features\" data-toc-modified-id=\"Concise-statistical-description-of-numeric-features-3.9\"><span class=\"toc-item-num\">3.9&nbsp;&nbsp;</span>Concise statistical description of numeric features</a></span></li><li><span><a href=\"#Checking-for-duplicated-rows\" data-toc-modified-id=\"Checking-for-duplicated-rows-3.10\"><span class=\"toc-item-num\">3.10&nbsp;&nbsp;</span>Checking for duplicated rows</a></span></li><li><span><a href=\"#Checking-for-missing-values\" data-toc-modified-id=\"Checking-for-missing-values-3.11\"><span class=\"toc-item-num\">3.11&nbsp;&nbsp;</span>Checking for missing values</a></span></li><li><span><a href=\"#Checking-and-Visualizing-outliers\" data-toc-modified-id=\"Checking-and-Visualizing-outliers-3.12\"><span class=\"toc-item-num\">3.12&nbsp;&nbsp;</span>Checking and Visualizing outliers</a></span></li></ul></li><li><span><a href=\"#DATA-CLEANING\" data-toc-modified-id=\"DATA-CLEANING-4\"><span class=\"toc-item-num\">4&nbsp;&nbsp;</span><span style=\"undefined:undefined\">DATA CLEANING</span></a></span><ul class=\"toc-item\"><li><span><a href=\"#Renaming-column(s)-to-remove-spaces.\" data-toc-modified-id=\"Renaming-column(s)-to-remove-spaces.-4.1\"><span class=\"toc-item-num\">4.1&nbsp;&nbsp;</span>Renaming column(s) to remove spaces.</a></span></li><li><span><a href=\"#Type-Casting:-Converting-Funding-Total-to-Float\" data-toc-modified-id=\"Type-Casting:-Converting-Funding-Total-to-Float-4.2\"><span class=\"toc-item-num\">4.2&nbsp;&nbsp;</span>Type Casting: Converting Funding Total to Float</a></span></li><li><span><a href=\"#Converting-funding_total_usd-to-numeric-datatype\" data-toc-modified-id=\"Converting-funding_total_usd-to-numeric-datatype-4.3\"><span class=\"toc-item-num\">4.3&nbsp;&nbsp;</span>Converting <code>funding_total_usd</code> to numeric datatype</a></span></li><li><span><a href=\"#Converting-all-date-columns-in-to-datetime-format\" data-toc-modified-id=\"Converting-all-date-columns-in-to-datetime-format-4.4\"><span class=\"toc-item-num\">4.4&nbsp;&nbsp;</span>Converting all date columns in to datetime format</a></span></li><li><span><a href=\"#Dropping-duplicated-rows.\" data-toc-modified-id=\"Dropping-duplicated-rows.-4.5\"><span class=\"toc-item-num\">4.5&nbsp;&nbsp;</span>Dropping duplicated rows.</a></span></li><li><span><a href=\"#Addressing-Missing-Values-for-Specific-Columns\" data-toc-modified-id=\"Addressing-Missing-Values-for-Specific-Columns-4.6\"><span class=\"toc-item-num\">4.6&nbsp;&nbsp;</span>Addressing Missing Values for Specific Columns</a></span></li><li><span><a href=\"#Handling-Missing-Values\" data-toc-modified-id=\"Handling-Missing-Values-4.7\"><span class=\"toc-item-num\">4.7&nbsp;&nbsp;</span><code>Handling Missing Values</code></a></span><ul class=\"toc-item\"><li><span><a href=\"#Dealing-with-Missing-Values-that-are-in-categorical-columns\" data-toc-modified-id=\"Dealing-with-Missing-Values-that-are-in-categorical-columns-4.7.1\"><span class=\"toc-item-num\">4.7.1&nbsp;&nbsp;</span>Dealing with Missing Values that are in categorical columns</a></span><ul class=\"toc-item\"><li><span><a href=\"#Creating-separate-variable-for-categorical-and-removing-null-values\" data-toc-modified-id=\"Creating-separate-variable-for-categorical-and-removing-null-values-4.7.1.1\"><span class=\"toc-item-num\">4.7.1.1&nbsp;&nbsp;</span>Creating separate variable for categorical and removing null values</a></span></li><li><span><a href=\"#checking-for-missing-values\" data-toc-modified-id=\"checking-for-missing-values-4.7.1.2\"><span class=\"toc-item-num\">4.7.1.2&nbsp;&nbsp;</span>checking for missing values</a></span></li><li><span><a href=\"#fills-the-missing-values-in-the-categorical-columns-with-the-string-&quot;unspecified&quot;\" data-toc-modified-id=\"fills-the-missing-values-in-the-categorical-columns-with-the-string-&quot;unspecified&quot;-4.7.1.3\"><span class=\"toc-item-num\">4.7.1.3&nbsp;&nbsp;</span>fills the missing values in the categorical columns with the string \"unspecified\"</a></span></li><li><span><a href=\"#Removing-Duplicate-Rows-from-Categorical-Data-and-check-the-shape\" data-toc-modified-id=\"Removing-Duplicate-Rows-from-Categorical-Data-and-check-the-shape-4.7.1.4\"><span class=\"toc-item-num\">4.7.1.4&nbsp;&nbsp;</span>Removing Duplicate Rows from Categorical Data and check the shape</a></span></li></ul></li><li><span><a href=\"#Dealing-with-Missing-Values-in-the-numerical-columns`\" data-toc-modified-id=\"Dealing-with-Missing-Values-in-the-numerical-columns`-4.7.2\"><span class=\"toc-item-num\">4.7.2&nbsp;&nbsp;</span>Dealing with Missing Values in the numerical columns`</a></span><ul class=\"toc-item\"><li><span><a href=\"#Creating-separate-variable-for-numerical-features\" data-toc-modified-id=\"Creating-separate-variable-for-numerical-features-4.7.2.1\"><span class=\"toc-item-num\">4.7.2.1&nbsp;&nbsp;</span>Creating separate variable for numerical features</a></span></li><li><span><a href=\"#checking-for-missing-values\" data-toc-modified-id=\"checking-for-missing-values-4.7.2.2\"><span class=\"toc-item-num\">4.7.2.2&nbsp;&nbsp;</span>checking for missing values</a></span></li><li><span><a href=\"#dropping-missing-values\" data-toc-modified-id=\"dropping-missing-values-4.7.2.3\"><span class=\"toc-item-num\">4.7.2.3&nbsp;&nbsp;</span>dropping missing values</a></span></li><li><span><a href=\"#check-the-shape\" data-toc-modified-id=\"check-the-shape-4.7.2.4\"><span class=\"toc-item-num\">4.7.2.4&nbsp;&nbsp;</span>check the shape</a></span></li></ul></li></ul></li><li><span><a href=\"#Concantenating-the-Numerical-and-Catergorical-Data-for-Further-Processing\" data-toc-modified-id=\"Concantenating-the-Numerical-and-Catergorical-Data-for-Further-Processing-4.8\"><span class=\"toc-item-num\">4.8&nbsp;&nbsp;</span>Concantenating the Numerical and Catergorical Data for Further Processing</a></span><ul class=\"toc-item\"><li><ul class=\"toc-item\"><li><span><a href=\"#confirm-no-missing-values\" data-toc-modified-id=\"confirm-no-missing-values-4.8.0.1\"><span class=\"toc-item-num\">4.8.0.1&nbsp;&nbsp;</span>confirm no missing values</a></span></li><li><span><a href=\"#check-the-shape\" data-toc-modified-id=\"check-the-shape-4.8.0.2\"><span class=\"toc-item-num\">4.8.0.2&nbsp;&nbsp;</span>check the shape</a></span></li></ul></li></ul></li><li><span><a href=\"#Dealing-with-outliers\" data-toc-modified-id=\"Dealing-with-outliers-4.9\"><span class=\"toc-item-num\">4.9&nbsp;&nbsp;</span>Dealing with outliers</a></span></li></ul></li><li><span><a href=\"#EXPLORATORY-DATA-ANALYSIS(EDA)\" data-toc-modified-id=\"EXPLORATORY-DATA-ANALYSIS(EDA)-5\"><span class=\"toc-item-num\">5&nbsp;&nbsp;</span><span style=\"undefined:undefined\">EXPLORATORY DATA ANALYSIS(EDA)</span></a></span><ul class=\"toc-item\"><li><span><a href=\"#-Univariate-Analysis.--\" data-toc-modified-id=\"-Univariate-Analysis.---5.1\"><span class=\"toc-item-num\">5.1&nbsp;&nbsp;</span><span style=\"undefined:undefined\"> Univariate Analysis.  </span></a></span><ul class=\"toc-item\"><li><span><a href=\"#Analysis-on-status-Feature\" data-toc-modified-id=\"Analysis-on-status-Feature-5.1.1\"><span class=\"toc-item-num\">5.1.1&nbsp;&nbsp;</span>Analysis on <code>status</code> Feature</a></span></li><li><span><a href=\"#What-are-thetop-10%-total_funding-startups?\" data-toc-modified-id=\"What-are-thetop-10%-total_funding-startups?-5.1.2\"><span class=\"toc-item-num\">5.1.2&nbsp;&nbsp;</span>What are thetop 10% <code>total_funding</code> startups?</a></span></li><li><span><a href=\"#What-is-the-distribution-of-founded-year?\" data-toc-modified-id=\"What-is-the-distribution-of-founded-year?-5.1.3\"><span class=\"toc-item-num\">5.1.3&nbsp;&nbsp;</span>What is the distribution of <code>founded year</code>?</a></span></li><li><span><a href=\"#What-are-the-Top-Countries-in-Terms-of-Startup-Number?\" data-toc-modified-id=\"What-are-the-Top-Countries-in-Terms-of-Startup-Number?-5.1.4\"><span class=\"toc-item-num\">5.1.4&nbsp;&nbsp;</span>What are the Top Countries in Terms of Startup Number?</a></span></li><li><span><a href=\"#What-are-the-Top-10-Cities-with-highest-number-of-startups?\" data-toc-modified-id=\"What-are-the-Top-10-Cities-with-highest-number-of-startups?-5.1.5\"><span class=\"toc-item-num\">5.1.5&nbsp;&nbsp;</span>What are the Top 10 Cities with highest number of startups?</a></span></li><li><span><a href=\"#What-is-the-distribution-of-funding-rounds?\" data-toc-modified-id=\"What-is-the-distribution-of-funding-rounds?-5.1.6\"><span class=\"toc-item-num\">5.1.6&nbsp;&nbsp;</span>What is the distribution of <code>funding rounds</code>?</a></span></li><li><span><a href=\"#What-are-the-top-10-markets-with-highest-number-of-startups?\" data-toc-modified-id=\"What-are-the-top-10-markets-with-highest-number-of-startups?-5.1.7\"><span class=\"toc-item-num\">5.1.7&nbsp;&nbsp;</span>What are the top 10 markets with highest number of startups?</a></span></li><li><span><a href=\"#What-are-the-Markets-that-most-start-ups-closed?\" data-toc-modified-id=\"What-are-the-Markets-that-most-start-ups-closed?-5.1.8\"><span class=\"toc-item-num\">5.1.8&nbsp;&nbsp;</span>What are the Markets that most start-ups closed?</a></span></li><li><span><a href=\"#What-are-the-Markets-that-least-start-ups-closed?\" data-toc-modified-id=\"What-are-the-Markets-that-least-start-ups-closed?-5.1.9\"><span class=\"toc-item-num\">5.1.9&nbsp;&nbsp;</span>What are the Markets that least start-ups closed?</a></span></li></ul></li><li><span><a href=\"#-Multivariate-Analysis.--\" data-toc-modified-id=\"-Multivariate-Analysis.---5.2\"><span class=\"toc-item-num\">5.2&nbsp;&nbsp;</span><span style=\"undefined:undefined\"> Multivariate Analysis.  </span></a></span><ul class=\"toc-item\"><li><span><a href=\"#What-are-the-funding-totals-by-country?\" data-toc-modified-id=\"What-are-the-funding-totals-by-country?-5.2.1\"><span class=\"toc-item-num\">5.2.1&nbsp;&nbsp;</span>What are the <code>funding totals by country</code>?</a></span></li><li><span><a href=\"#What-are-the-Top-Market-of-Start-ups-in-different-countries\" data-toc-modified-id=\"What-are-the-Top-Market-of-Start-ups-in-different-countries-5.2.2\"><span class=\"toc-item-num\">5.2.2&nbsp;&nbsp;</span>What are the <code>Top Market of Start-ups in different countries</code></a></span></li><li><span><a href=\"#What-are-the-top-10-funding-totals-by-founded-year?\" data-toc-modified-id=\"What-are-the-top-10-funding-totals-by-founded-year?-5.2.3\"><span class=\"toc-item-num\">5.2.3&nbsp;&nbsp;</span>What are the top 10 funding totals by founded year?</a></span></li><li><span><a href=\"#Companies-funded-more-than-10-Million-Dollars-by-angel-investors\" data-toc-modified-id=\"Companies-funded-more-than-10-Million-Dollars-by-angel-investors-5.2.4\"><span class=\"toc-item-num\">5.2.4&nbsp;&nbsp;</span>Companies <code>funded more than 10 Million Dollars by angel investors</code></a></span></li><li><span><a href=\"#What-is-the-average-funding-rounds-by-status?\" data-toc-modified-id=\"What-is-the-average-funding-rounds-by-status?-5.2.5\"><span class=\"toc-item-num\">5.2.5&nbsp;&nbsp;</span>What is the <code>average funding rounds by status</code>?</a></span></li><li><span><a href=\"#What-is-the-relationship-between-funding-total-and-funding-rounds-by-market?\" data-toc-modified-id=\"What-is-the-relationship-between-funding-total-and-funding-rounds-by-market?-5.2.6\"><span class=\"toc-item-num\">5.2.6&nbsp;&nbsp;</span>What is the relationship between <code>funding total and funding rounds by market</code>?</a></span></li><li><span><a href=\"#What-is-the-relationship-between-funding-toal-and-founded-year?-(With-points-colored-by-status)\" data-toc-modified-id=\"What-is-the-relationship-between-funding-toal-and-founded-year?-(With-points-colored-by-status)-5.2.7\"><span class=\"toc-item-num\">5.2.7&nbsp;&nbsp;</span>What is the relationship between <code>funding toal and founded year</code>? (With points colored by status)</a></span></li><li><span><a href=\"#Startups-that-got-the-most-funding\" data-toc-modified-id=\"Startups-that-got-the-most-funding-5.2.8\"><span class=\"toc-item-num\">5.2.8&nbsp;&nbsp;</span>Startups that got the most funding</a></span></li><li><span><a href=\"#What-are-the-Number-of-Startups-Country-wise-on-Map?\" data-toc-modified-id=\"What-are-the-Number-of-Startups-Country-wise-on-Map?-5.2.9\"><span class=\"toc-item-num\">5.2.9&nbsp;&nbsp;</span>What are the <code>Number of Startups Country wise on Map</code>?</a></span><ul class=\"toc-item\"><li><span><a href=\"#Loading-and-Preprocessing-Country-Data\" data-toc-modified-id=\"Loading-and-Preprocessing-Country-Data-5.2.9.1\"><span class=\"toc-item-num\">5.2.9.1&nbsp;&nbsp;</span>Loading and Preprocessing Country Data</a></span></li><li><span><a href=\"#Visualizing-Number-of-Startups-by-Country\" data-toc-modified-id=\"Visualizing-Number-of-Startups-by-Country-5.2.9.2\"><span class=\"toc-item-num\">5.2.9.2&nbsp;&nbsp;</span>Visualizing Number of Startups by Country</a></span></li></ul></li><li><span><a href=\"#Generating-Word-Cloud-of-Startup-market-categoriesto-fing-the-most-funded-categories\" data-toc-modified-id=\"Generating-Word-Cloud-of-Startup-market-categoriesto-fing-the-most-funded-categories-5.2.10\"><span class=\"toc-item-num\">5.2.10&nbsp;&nbsp;</span>Generating <code>Word Cloud of Startup market categories</code>to fing the most funded categories</a></span></li></ul></li></ul></li><li><span><a href=\"#FEATURE-ENGINEERING/SELECTION\" data-toc-modified-id=\"FEATURE-ENGINEERING/SELECTION-6\"><span class=\"toc-item-num\">6&nbsp;&nbsp;</span><span style=\"undefined:undefined\">FEATURE ENGINEERING/SELECTION</span></a></span><ul class=\"toc-item\"><li><span><a href=\"#finding-the-difference-in-days-between-first-and-last-funding-dates\" data-toc-modified-id=\"finding-the-difference-in-days-between-first-and-last-funding-dates-6.1\"><span class=\"toc-item-num\">6.1&nbsp;&nbsp;</span>finding the <code>difference in days</code> between first and last funding dates</a></span></li><li><span><a href=\"#finding-the-difference-in-months-between-first-and-last-funding-dates\" data-toc-modified-id=\"finding-the-difference-in-months-between-first-and-last-funding-dates-6.2\"><span class=\"toc-item-num\">6.2&nbsp;&nbsp;</span>finding the <code>difference in months</code> between first and last funding dates</a></span></li><li><span><a href=\"#creating-new-column-for-total-investment-and-checking-totals\" data-toc-modified-id=\"creating-new-column-for-total-investment-and-checking-totals-6.3\"><span class=\"toc-item-num\">6.3&nbsp;&nbsp;</span>creating new column for <code>total investment</code> and checking totals</a></span></li><li><span><a href=\"#Confirming-total-funding-and-investments-are-similar\" data-toc-modified-id=\"Confirming-total-funding-and-investments-are-similar-6.4\"><span class=\"toc-item-num\">6.4&nbsp;&nbsp;</span>Confirming total funding and investments are similar</a></span></li><li><span><a href=\"#calculating-how-long-it-took-them-to-get-their-first-funding-after-being-founded\" data-toc-modified-id=\"calculating-how-long-it-took-them-to-get-their-first-funding-after-being-founded-6.5\"><span class=\"toc-item-num\">6.5&nbsp;&nbsp;</span>calculating how long it took them to get their first funding after being founded</a></span></li><li><span><a href=\"#dropping-null-values-from-specific-columns\" data-toc-modified-id=\"dropping-null-values-from-specific-columns-6.6\"><span class=\"toc-item-num\">6.6&nbsp;&nbsp;</span>dropping null values from specific columns</a></span></li><li><span><a href=\"#making-new-column-that-has-difference-in-funding-in-years\" data-toc-modified-id=\"making-new-column-that-has-difference-in-funding-in-years-6.7\"><span class=\"toc-item-num\">6.7&nbsp;&nbsp;</span>making new column that has difference in funding in years</a></span></li><li><span><a href=\"#Grouping-Markets-into-Industries:-Reducing-Segment-Diversity\" data-toc-modified-id=\"Grouping-Markets-into-Industries:-Reducing-Segment-Diversity-6.8\"><span class=\"toc-item-num\">6.8&nbsp;&nbsp;</span>Grouping Markets into Industries: Reducing Segment Diversity</a></span><ul class=\"toc-item\"><li><span><a href=\"#checking-number-of-unique-market-values\" data-toc-modified-id=\"checking-number-of-unique-market-values-6.8.1\"><span class=\"toc-item-num\">6.8.1&nbsp;&nbsp;</span>checking number of unique market values</a></span></li><li><span><a href=\"#Grouping-markets-accordng-to-the-list-provided-by-crunchbase\" data-toc-modified-id=\"Grouping-markets-accordng-to-the-list-provided-by-crunchbase-6.8.2\"><span class=\"toc-item-num\">6.8.2&nbsp;&nbsp;</span>Grouping markets accordng to the list provided by crunchbase</a></span></li><li><span><a href=\"#Making-new-column-called--Industry-group-to-hold-the-segments\" data-toc-modified-id=\"Making-new-column-called--Industry-group-to-hold-the-segments-6.8.3\"><span class=\"toc-item-num\">6.8.3&nbsp;&nbsp;</span>Making new column called  <code>Industry group</code> to hold the segments</a></span></li><li><span><a href=\"#Getting-the-new-market-groupings\" data-toc-modified-id=\"Getting-the-new-market-groupings-6.8.4\"><span class=\"toc-item-num\">6.8.4&nbsp;&nbsp;</span>Getting the new market groupings</a></span></li></ul></li><li><span><a href=\"#summary-statistics-for-various-funding-variables\" data-toc-modified-id=\"summary-statistics-for-various-funding-variables-6.9\"><span class=\"toc-item-num\">6.9&nbsp;&nbsp;</span>summary statistics for various funding variables</a></span></li><li><span><a href=\"#labeling-total-investment-values-as-low,-low-medium,-high-medium-and-high-based-on-their-descriptive-summary.\" data-toc-modified-id=\"labeling-total-investment-values-as-low,-low-medium,-high-medium-and-high-based-on-their-descriptive-summary.-6.10\"><span class=\"toc-item-num\">6.10&nbsp;&nbsp;</span>labeling total investment values as low, low medium, high medium and high based on their descriptive summary.</a></span></li><li><span><a href=\"#labeling-diff_funding_year-as-low-and-high-based-on-their-descriptive-summary.\" data-toc-modified-id=\"labeling-diff_funding_year-as-low-and-high-based-on-their-descriptive-summary.-6.11\"><span class=\"toc-item-num\">6.11&nbsp;&nbsp;</span>labeling diff_funding_year as low and high based on their descriptive summary.</a></span></li><li><span><a href=\"#labeling-funding_rounds-as-low-and-high-based-on-their-descriptive-summary.\" data-toc-modified-id=\"labeling-funding_rounds-as-low-and-high-based-on-their-descriptive-summary.-6.12\"><span class=\"toc-item-num\">6.12&nbsp;&nbsp;</span>labeling funding_rounds as low and high based on their descriptive summary.</a></span></li><li><span><a href=\"#labeling-seed-as-low-and-high--based-on-their-descriptive-summary.\" data-toc-modified-id=\"labeling-seed-as-low-and-high--based-on-their-descriptive-summary.-6.13\"><span class=\"toc-item-num\">6.13&nbsp;&nbsp;</span>labeling seed as low and high  based on their descriptive summary.</a></span></li><li><span><a href=\"#labeling-venture-as-low,-medium-and-high-based-on-their-descriptive-summary.\" data-toc-modified-id=\"labeling-venture-as-low,-medium-and-high-based-on-their-descriptive-summary.-6.14\"><span class=\"toc-item-num\">6.14&nbsp;&nbsp;</span>labeling venture as low, medium and high based on their descriptive summary.</a></span></li><li><span><a href=\"#fixing-the-categorical-columns--into-numerical-values-so-that-we-can-use-it-on-the-model\" data-toc-modified-id=\"fixing-the-categorical-columns--into-numerical-values-so-that-we-can-use-it-on-the-model-6.15\"><span class=\"toc-item-num\">6.15&nbsp;&nbsp;</span>fixing the categorical columns  into numerical values so that we can use it on the model</a></span></li><li><span><a href=\"#Creating-New-Categories-for-Zero-and-Non-Zero-Values-in-Money-Columns\" data-toc-modified-id=\"Creating-New-Categories-for-Zero-and-Non-Zero-Values-in-Money-Columns-6.16\"><span class=\"toc-item-num\">6.16&nbsp;&nbsp;</span>Creating New Categories for Zero and Non-Zero Values in Money Columns</a></span></li><li><span><a href=\"#using-label-encoder-on-industry-group\" data-toc-modified-id=\"using-label-encoder-on-industry-group-6.17\"><span class=\"toc-item-num\">6.17&nbsp;&nbsp;</span>using label encoder on <code>industry group</code></a></span></li><li><span><a href=\"#Dealing-with-multi-collinearity\" data-toc-modified-id=\"Dealing-with-multi-collinearity-6.18\"><span class=\"toc-item-num\">6.18&nbsp;&nbsp;</span>Dealing with multi-collinearity</a></span><ul class=\"toc-item\"><li><span><a href=\"#Heatmap-showing-pearson-correlation-of-columns\" data-toc-modified-id=\"Heatmap-showing-pearson-correlation-of-columns-6.18.1\"><span class=\"toc-item-num\">6.18.1&nbsp;&nbsp;</span>Heatmap showing pearson correlation of columns</a></span></li><li><span><a href=\"#creating-a-function-that-takes-in-our-dataframe-and-returns-corellations-between-column-in-pair-in-descending-order\" data-toc-modified-id=\"creating-a-function-that-takes-in-our-dataframe-and-returns-corellations-between-column-in-pair-in-descending-order-6.18.2\"><span class=\"toc-item-num\">6.18.2&nbsp;&nbsp;</span>creating a function that takes in our dataframe and returns corellations between column in pair in descending order</a></span></li><li><span><a href=\"#we-will-drop-columns-that-have-strong-multicollinearity\" data-toc-modified-id=\"we-will-drop-columns-that-have-strong-multicollinearity-6.18.3\"><span class=\"toc-item-num\">6.18.3&nbsp;&nbsp;</span>we will drop columns that have strong multicollinearity</a></span></li></ul></li><li><span><a href=\"#Inclusion-of-time-series-plots-to-check-for-seasonality\" data-toc-modified-id=\"Inclusion-of-time-series-plots-to-check-for-seasonality-6.19\"><span class=\"toc-item-num\">6.19&nbsp;&nbsp;</span><em>Inclusion of time series plots to check for seasonality</em></a></span></li><li><span><a href=\"#Remove-data-before-1980\" data-toc-modified-id=\"Remove-data-before-1980-6.20\"><span class=\"toc-item-num\">6.20&nbsp;&nbsp;</span>Remove data before 1980</a></span></li></ul></li><li><span><a href=\"#MODELLING\" data-toc-modified-id=\"MODELLING-7\"><span class=\"toc-item-num\">7&nbsp;&nbsp;</span><span style=\"undefined:undefined\">MODELLING</span></a></span><ul class=\"toc-item\"><li><span><a href=\"#dropping-null-values-from-specific-columns\" data-toc-modified-id=\"dropping-null-values-from-specific-columns-7.1\"><span class=\"toc-item-num\">7.1&nbsp;&nbsp;</span>dropping null values from specific columns</a></span></li><li><span><a href=\"#drop-unnecessary-columns\" data-toc-modified-id=\"drop-unnecessary-columns-7.2\"><span class=\"toc-item-num\">7.2&nbsp;&nbsp;</span>drop unnecessary columns</a></span></li><li><span><a href=\"#check-columns\" data-toc-modified-id=\"check-columns-7.3\"><span class=\"toc-item-num\">7.3&nbsp;&nbsp;</span>check columns</a></span></li><li><span><a href=\"#drop-unnecessary-columns\" data-toc-modified-id=\"drop-unnecessary-columns-7.4\"><span class=\"toc-item-num\">7.4&nbsp;&nbsp;</span>drop unnecessary columns</a></span></li><li><span><a href=\"#check-columns\" data-toc-modified-id=\"check-columns-7.5\"><span class=\"toc-item-num\">7.5&nbsp;&nbsp;</span>check columns</a></span></li><li><span><a href=\"#Scaling-Numerical-Features:-Min-Max-Normalization\" data-toc-modified-id=\"Scaling-Numerical-Features:-Min-Max-Normalization-7.6\"><span class=\"toc-item-num\">7.6&nbsp;&nbsp;</span>Scaling Numerical Features: Min-Max Normalization</a></span></li><li><span><a href=\"#Train-Test-Split:-Evaluating-Model-Performance\" data-toc-modified-id=\"Train-Test-Split:-Evaluating-Model-Performance-7.7\"><span class=\"toc-item-num\">7.7&nbsp;&nbsp;</span>Train-Test Split: Evaluating Model Performance</a></span></li><li><span><a href=\"#Applying-SMOTE-Technique-to-Address-Class-Imbalance-in-the-'status'-Feature\" data-toc-modified-id=\"Applying-SMOTE-Technique-to-Address-Class-Imbalance-in-the-'status'-Feature-7.8\"><span class=\"toc-item-num\">7.8&nbsp;&nbsp;</span>Applying SMOTE Technique to Address Class Imbalance in the 'status' Feature</a></span></li></ul></li><li><span><a href=\"#MODEL---Decision-Tree-Classifier\" data-toc-modified-id=\"MODEL---Decision-Tree-Classifier-8\"><span class=\"toc-item-num\">8&nbsp;&nbsp;</span>MODEL - Decision Tree Classifier</a></span><ul class=\"toc-item\"><li><span><a href=\"#Object-creation,-fitting-the-data-&amp;-getting-predictions\" data-toc-modified-id=\"Object-creation,-fitting-the-data-&amp;-getting-predictions-8.1\"><span class=\"toc-item-num\">8.1&nbsp;&nbsp;</span>Object creation, fitting the data &amp; getting predictions</a></span></li><li><span><a href=\"#Classification-Report\" data-toc-modified-id=\"Classification-Report-8.2\"><span class=\"toc-item-num\">8.2&nbsp;&nbsp;</span>Classification Report</a></span></li><li><span><a href=\"#Decision-Tree-Vanilla-Classifier-Model-Results-and-Confusion-Matrix-Visualization\" data-toc-modified-id=\"Decision-Tree-Vanilla-Classifier-Model-Results-and-Confusion-Matrix-Visualization-8.3\"><span class=\"toc-item-num\">8.3&nbsp;&nbsp;</span>Decision Tree Vanilla Classifier Model Results and Confusion Matrix Visualization</a></span></li><li><span><a href=\"#Hyperparameter-Tuning-of-Decision-Tree-Classifier\" data-toc-modified-id=\"Hyperparameter-Tuning-of-Decision-Tree-Classifier-8.4\"><span class=\"toc-item-num\">8.4&nbsp;&nbsp;</span>Hyperparameter Tuning of Decision Tree Classifier</a></span></li><li><span><a href=\"#Classification-Report(Hyperparameter-Tuned-Decision-Tree-Model)\" data-toc-modified-id=\"Classification-Report(Hyperparameter-Tuned-Decision-Tree-Model)-8.5\"><span class=\"toc-item-num\">8.5&nbsp;&nbsp;</span>Classification Report(Hyperparameter Tuned Decision Tree Model)</a></span></li><li><span><a href=\"#Hyperparameter-Tuned-Decision-Tree-Model-Results-and-Confusion-Matrix-Visualization\" data-toc-modified-id=\"Hyperparameter-Tuned-Decision-Tree-Model-Results-and-Confusion-Matrix-Visualization-8.6\"><span class=\"toc-item-num\">8.6&nbsp;&nbsp;</span>Hyperparameter Tuned Decision Tree Model Results and Confusion Matrix Visualization</a></span></li><li><span><a href=\"#Model-Performance-Comparison:-Decision-Tree-Classifiers\" data-toc-modified-id=\"Model-Performance-Comparison:-Decision-Tree-Classifiers-8.7\"><span class=\"toc-item-num\">8.7&nbsp;&nbsp;</span>Model Performance Comparison: Decision Tree Classifiers</a></span></li></ul></li><li><span><a href=\"#EVALUATION\" data-toc-modified-id=\"EVALUATION-9\"><span class=\"toc-item-num\">9&nbsp;&nbsp;</span><span style=\"undefined:undefined\">EVALUATION</span></a></span></li><li><span><a href=\"#RECOMMENDATIONS-\" data-toc-modified-id=\"RECOMMENDATIONS--10\"><span class=\"toc-item-num\">10&nbsp;&nbsp;</span><span style=\"undefined:undefined\">RECOMMENDATIONS </span></a></span></li><li><span><a href=\"#CONCLUSION\" data-toc-modified-id=\"CONCLUSION-11\"><span class=\"toc-item-num\">11&nbsp;&nbsp;</span><span style=\"undefined:undefined\">CONCLUSION</span></a></span></li></ul></div>"
   ]
  },
  {
   "cell_type": "markdown",
   "id": "19f4b44a",
   "metadata": {
    "id": "2ba1a0c6"
   },
   "source": [
    " <h1 style=\"text-align: center;\"><span style=\"color: #FF0000;\">STARTUP FUNDING ANALYSIS:</span> <strong><span style=\"color: #0000FF;\">Exploring Venture Capital Investments in Various Industries</span></strong></h1>\n"
   ]
  },
  {
   "cell_type": "markdown",
   "id": "a400fa44",
   "metadata": {
    "id": "e4b7ca49"
   },
   "source": [
    "![Startup Image](startupimage2.jpeg)"
   ]
  },
  {
   "cell_type": "markdown",
   "id": "5aa67ccb",
   "metadata": {
    "id": "292cd956"
   },
   "source": [
    "**We would like to acknowledge the contributions of the team members:**\n",
    "\n",
    "- Florence Nguuni\n",
    "- Brian Chabari\n",
    "- Diana Mwaura\n",
    "- Isaac Muturi\n",
    "- Kennedy Juma\n",
    "- Joel Omondi\n"
   ]
  },
  {
   "cell_type": "markdown",
   "id": "a2513142",
   "metadata": {
    "id": "08a5c20f"
   },
   "source": [
    "*******"
   ]
  },
  {
   "cell_type": "markdown",
   "id": "bbf6085d",
   "metadata": {
    "id": "c2cce0d4"
   },
   "source": [
    "# <span style=\"color: #008000;\">BUSINESS UNDERSTANDING</span>\n",
    "\n"
   ]
  },
  {
   "cell_type": "markdown",
   "id": "1aaf0592",
   "metadata": {
    "id": "e78c1ac0"
   },
   "source": [
    "## Background information\n",
    "\n",
    "In today's rapidly evolving business landscape, the allure of founding a startup with a groundbreaking idea has captivated the imagination of many aspiring entrepreneurs. However, without a firm grasp of the past and insights from previous startup experiences, venturing into this exhilarating journey can be perilous. The dataset used in this kernel provides a unique opportunity to delve into the world of startups and gain a comprehensive understanding of their dynamics, challenges, and triumphs.\n",
    "\n",
    "By analyzing various aspects such as founding year, funding received, and current operating status, we can uncover patterns and trends that contribute to startup success or failure. This knowledge can guide aspiring entrepreneurs and investors in making informed decisions, formulating robust strategies, and identifying untapped opportunities for growth. By studying the past of the startup culture, we can shape the future of startups, positioning them for increased performance and success in today's markets."
   ]
  },
  {
   "cell_type": "markdown",
   "id": "b234f369",
   "metadata": {
    "id": "5a01d721"
   },
   "source": [
    "## Problem Statement\n",
    "\n",
    "Despite the rapid growth of the startup scene and the increasing investments from venture capital firms, understanding the dynamics and characteristics of these newly established firms remains a challenge. The chosen dataset provides a valuable glimpse into this captivating realm, presenting an opportunity to delve deeper and unravel the underlying trends and patterns within the startup ecosystem.\n",
    "\n",
    "The problem at hand is to analyze the dataset and extract meaningful insights to gain a comprehensive understanding of the startup landscape, including factors such as funding trends, industry preferences, geographical distribution, and success metrics. By addressing this problem, we aim to unlock valuable knowledge that can guide aspiring entrepreneurs, investors, and policy-makers in making informed decisions and fostering the growth of the startup ecosystem."
   ]
  },
  {
   "cell_type": "markdown",
   "id": "4619ff11",
   "metadata": {
    "id": "0a13aa80"
   },
   "source": [
    "## Objectives\n",
    "\n",
    "1. **Identify Key Success Factors**: Determine the primary factors contributing to startup success by analyzing prevalent characteristics, strategies, and patterns among successful ventures.\n",
    "\n",
    "2. **Optimize Funding Strategies**: Explore different funding patterns and sources to maximize funding success rate and amount received by startups.\n",
    "\n",
    "3. **Mitigate Risks and Challenges**: Develop strategies to mitigate common pitfalls and challenges faced by startups, enhancing resilience and increasing survival and growth rates.\n",
    "\n",
    "4. **Identify Market Opportunities**: Analyze industry sectors, market trends, and emerging niches to target untapped opportunities for market penetration and growth.\n",
    "\n",
    "5. **Enhance Decision-Making**: Provide data-driven insights to support informed decision-making, optimizing choices related to market entry, resource allocation, and strategic partnerships."
   ]
  },
  {
   "cell_type": "markdown",
   "id": "ee7777fe",
   "metadata": {
    "id": "bXlQkwbZ50Le"
   },
   "source": [
    "##  <span style = 'color :orange'> Metric for Success </span>\n",
    "****\n",
    "The project's success criterion is to identify a model with the highest accuracy. The desired `accuracy` level for success is set at `80%.`"
   ]
  },
  {
   "cell_type": "markdown",
   "id": "5896ca38",
   "metadata": {
    "id": "cff154b9"
   },
   "source": [
    "## Dataset description."
   ]
  },
  {
   "cell_type": "markdown",
   "id": "84b4f278",
   "metadata": {
    "id": "1b810ffb"
   },
   "source": [
    "* The dataset used for training the machine learning model contains investment data about startup companies, sourced from Crunchbase, a prominent website for company insights ranging from early-stage startups to Fortune 1000 companies.\n",
    "* The dataset comprises approximately 54,000 rows and 39 columns, providing information about the companies, including their names, URLs, markets, countries, states, regions, cities, founded dates, and funding details.\n",
    "* The funding details cover various types such as seed funding, venture equity crowdfunding, convertible notes, debt financing, angel investments, grants, private equity, post IPO equity, post IPO debt, secondary market, product crowdfunding, and round A-H series funding.\n",
    "* Additionally, the dataset includes the status of the companies, categorized as acquired, operating, or closed."
   ]
  },
  {
   "cell_type": "markdown",
   "id": "c753556d",
   "metadata": {
    "id": "6e46a7c6"
   },
   "source": [
    "### `Key points:`\n",
    "\n",
    "* Dataset: Investment data comprising details of startup companies.\n",
    "\n",
    "* Funding Rounds: Different funding rounds and types, including seed funding, venture equity crowdfunding, and convertible notes.\n",
    "\n",
    "* Company Status: Classification of companies as acquired, operating, or closed.\n",
    "\n",
    "* Challenge: Predicting startup success is difficult but valuable for investors.\n",
    "\n",
    "* Limitations: Investor perspectives are subjective, and publicly available data has its own assumptions.\n",
    "\n",
    "* Data-Driven Approach: Utilizing machine learning and AI to predict startup success.\n",
    "* Solution Focus: Providing a solution developed specifically for this purpose."
   ]
  },
  {
   "cell_type": "markdown",
   "id": "b7142b9e",
   "metadata": {
    "id": "3c77d765"
   },
   "source": [
    "# <span style=\"color: #008000;\">DATA UNDERSTANDING</span>"
   ]
  },
  {
   "cell_type": "markdown",
   "id": "8e03041b",
   "metadata": {
    "id": "8200f470"
   },
   "source": [
    "## Import libraries and modules"
   ]
  },
  {
   "cell_type": "code",
   "execution_count": 1,
   "id": "93f1b77f",
   "metadata": {
    "id": "9ce75a86"
   },
   "outputs": [],
   "source": [
    "# Import modules & packages\n",
    "\n",
    "# Data manipulation\n",
    "import pandas as pd\n",
    "import numpy as np\n",
    "\n",
    "# Data visualization\n",
    "import matplotlib.pyplot as plt\n",
    "import seaborn as sns\n",
    "\n",
    "# Modeling\n",
    "from sklearn.model_selection import train_test_split,cross_val_score,GridSearchCV #splitting the dataset into test-train\n",
    "from imblearn.over_sampling import SMOTE\n",
    "from sklearn.metrics import accuracy_score,f1_score,recall_score,precision_score,confusion_matrix,roc_curve,roc_auc_score,classification_report # performance metrics\n",
    "from sklearn.preprocessing import MinMaxScaler, LabelEncoder, StandardScaler\n",
    "from scipy import stats\n",
    "\n",
    "# Feature Selection, Feature Importance\n",
    "from sklearn.inspection import permutation_importance\n",
    "\n",
    "\n",
    "# Algorithms for supervised learning methods\n",
    "from sklearn.tree import DecisionTreeClassifier\n",
    "from sklearn.ensemble import RandomForestClassifier\n",
    "from sklearn.linear_model import LogisticRegression\n",
    "from sklearn.neighbors import KNeighborsClassifier\n",
    "\n",
    "# Filtering future warnings\n",
    "import warnings\n",
    "warnings.filterwarnings('ignore')"
   ]
  },
  {
   "cell_type": "markdown",
   "id": "9e544945",
   "metadata": {
    "id": "dd94c31b"
   },
   "source": [
    "## Create a dataframe by reading data from a csv file. Examining the first five rows"
   ]
  },
  {
   "cell_type": "code",
   "execution_count": 2,
   "id": "9352e944",
   "metadata": {
    "colab": {
     "base_uri": "https://localhost:8080/",
     "height": 404
    },
    "id": "4a6d75b0",
    "outputId": "4dddc913-b987-4fbd-d016-50a7d121c775",
    "scrolled": true
   },
   "outputs": [
    {
     "data": {
      "text/html": [
       "<div>\n",
       "<style scoped>\n",
       "    .dataframe tbody tr th:only-of-type {\n",
       "        vertical-align: middle;\n",
       "    }\n",
       "\n",
       "    .dataframe tbody tr th {\n",
       "        vertical-align: top;\n",
       "    }\n",
       "\n",
       "    .dataframe thead th {\n",
       "        text-align: right;\n",
       "    }\n",
       "</style>\n",
       "<table border=\"1\" class=\"dataframe\">\n",
       "  <thead>\n",
       "    <tr style=\"text-align: right;\">\n",
       "      <th></th>\n",
       "      <th>permalink</th>\n",
       "      <th>name</th>\n",
       "      <th>homepage_url</th>\n",
       "      <th>category_list</th>\n",
       "      <th>market</th>\n",
       "      <th>funding_total_usd</th>\n",
       "      <th>status</th>\n",
       "      <th>country_code</th>\n",
       "      <th>state_code</th>\n",
       "      <th>region</th>\n",
       "      <th>...</th>\n",
       "      <th>secondary_market</th>\n",
       "      <th>product_crowdfunding</th>\n",
       "      <th>round_A</th>\n",
       "      <th>round_B</th>\n",
       "      <th>round_C</th>\n",
       "      <th>round_D</th>\n",
       "      <th>round_E</th>\n",
       "      <th>round_F</th>\n",
       "      <th>round_G</th>\n",
       "      <th>round_H</th>\n",
       "    </tr>\n",
       "  </thead>\n",
       "  <tbody>\n",
       "    <tr>\n",
       "      <th>0</th>\n",
       "      <td>/organization/waywire</td>\n",
       "      <td>#waywire</td>\n",
       "      <td>http://www.waywire.com</td>\n",
       "      <td>|Entertainment|Politics|Social Media|News|</td>\n",
       "      <td>News</td>\n",
       "      <td>17,50,000</td>\n",
       "      <td>acquired</td>\n",
       "      <td>USA</td>\n",
       "      <td>NY</td>\n",
       "      <td>New York City</td>\n",
       "      <td>...</td>\n",
       "      <td>0.0</td>\n",
       "      <td>0.0</td>\n",
       "      <td>0.0</td>\n",
       "      <td>0.0</td>\n",
       "      <td>0.0</td>\n",
       "      <td>0.0</td>\n",
       "      <td>0.0</td>\n",
       "      <td>0.0</td>\n",
       "      <td>0.0</td>\n",
       "      <td>0.0</td>\n",
       "    </tr>\n",
       "    <tr>\n",
       "      <th>1</th>\n",
       "      <td>/organization/tv-communications</td>\n",
       "      <td>&amp;TV Communications</td>\n",
       "      <td>http://enjoyandtv.com</td>\n",
       "      <td>|Games|</td>\n",
       "      <td>Games</td>\n",
       "      <td>40,00,000</td>\n",
       "      <td>operating</td>\n",
       "      <td>USA</td>\n",
       "      <td>CA</td>\n",
       "      <td>Los Angeles</td>\n",
       "      <td>...</td>\n",
       "      <td>0.0</td>\n",
       "      <td>0.0</td>\n",
       "      <td>0.0</td>\n",
       "      <td>0.0</td>\n",
       "      <td>0.0</td>\n",
       "      <td>0.0</td>\n",
       "      <td>0.0</td>\n",
       "      <td>0.0</td>\n",
       "      <td>0.0</td>\n",
       "      <td>0.0</td>\n",
       "    </tr>\n",
       "    <tr>\n",
       "      <th>2</th>\n",
       "      <td>/organization/rock-your-paper</td>\n",
       "      <td>'Rock' Your Paper</td>\n",
       "      <td>http://www.rockyourpaper.org</td>\n",
       "      <td>|Publishing|Education|</td>\n",
       "      <td>Publishing</td>\n",
       "      <td>40,000</td>\n",
       "      <td>operating</td>\n",
       "      <td>EST</td>\n",
       "      <td>NaN</td>\n",
       "      <td>Tallinn</td>\n",
       "      <td>...</td>\n",
       "      <td>0.0</td>\n",
       "      <td>0.0</td>\n",
       "      <td>0.0</td>\n",
       "      <td>0.0</td>\n",
       "      <td>0.0</td>\n",
       "      <td>0.0</td>\n",
       "      <td>0.0</td>\n",
       "      <td>0.0</td>\n",
       "      <td>0.0</td>\n",
       "      <td>0.0</td>\n",
       "    </tr>\n",
       "    <tr>\n",
       "      <th>3</th>\n",
       "      <td>/organization/in-touch-network</td>\n",
       "      <td>(In)Touch Network</td>\n",
       "      <td>http://www.InTouchNetwork.com</td>\n",
       "      <td>|Electronics|Guides|Coffee|Restaurants|Music|i...</td>\n",
       "      <td>Electronics</td>\n",
       "      <td>15,00,000</td>\n",
       "      <td>operating</td>\n",
       "      <td>GBR</td>\n",
       "      <td>NaN</td>\n",
       "      <td>London</td>\n",
       "      <td>...</td>\n",
       "      <td>0.0</td>\n",
       "      <td>0.0</td>\n",
       "      <td>0.0</td>\n",
       "      <td>0.0</td>\n",
       "      <td>0.0</td>\n",
       "      <td>0.0</td>\n",
       "      <td>0.0</td>\n",
       "      <td>0.0</td>\n",
       "      <td>0.0</td>\n",
       "      <td>0.0</td>\n",
       "    </tr>\n",
       "    <tr>\n",
       "      <th>4</th>\n",
       "      <td>/organization/r-ranch-and-mine</td>\n",
       "      <td>-R- Ranch and Mine</td>\n",
       "      <td>NaN</td>\n",
       "      <td>|Tourism|Entertainment|Games|</td>\n",
       "      <td>Tourism</td>\n",
       "      <td>60,000</td>\n",
       "      <td>operating</td>\n",
       "      <td>USA</td>\n",
       "      <td>TX</td>\n",
       "      <td>Dallas</td>\n",
       "      <td>...</td>\n",
       "      <td>0.0</td>\n",
       "      <td>0.0</td>\n",
       "      <td>0.0</td>\n",
       "      <td>0.0</td>\n",
       "      <td>0.0</td>\n",
       "      <td>0.0</td>\n",
       "      <td>0.0</td>\n",
       "      <td>0.0</td>\n",
       "      <td>0.0</td>\n",
       "      <td>0.0</td>\n",
       "    </tr>\n",
       "  </tbody>\n",
       "</table>\n",
       "<p>5 rows × 39 columns</p>\n",
       "</div>"
      ],
      "text/plain": [
       "                         permalink                name  \\\n",
       "0            /organization/waywire            #waywire   \n",
       "1  /organization/tv-communications  &TV Communications   \n",
       "2    /organization/rock-your-paper   'Rock' Your Paper   \n",
       "3   /organization/in-touch-network   (In)Touch Network   \n",
       "4   /organization/r-ranch-and-mine  -R- Ranch and Mine   \n",
       "\n",
       "                    homepage_url  \\\n",
       "0         http://www.waywire.com   \n",
       "1          http://enjoyandtv.com   \n",
       "2   http://www.rockyourpaper.org   \n",
       "3  http://www.InTouchNetwork.com   \n",
       "4                            NaN   \n",
       "\n",
       "                                       category_list        market   \\\n",
       "0         |Entertainment|Politics|Social Media|News|          News    \n",
       "1                                            |Games|         Games    \n",
       "2                             |Publishing|Education|    Publishing    \n",
       "3  |Electronics|Guides|Coffee|Restaurants|Music|i...   Electronics    \n",
       "4                      |Tourism|Entertainment|Games|       Tourism    \n",
       "\n",
       "   funding_total_usd      status country_code state_code         region  ...  \\\n",
       "0          17,50,000    acquired          USA         NY  New York City  ...   \n",
       "1          40,00,000   operating          USA         CA    Los Angeles  ...   \n",
       "2             40,000   operating          EST        NaN        Tallinn  ...   \n",
       "3          15,00,000   operating          GBR        NaN         London  ...   \n",
       "4             60,000   operating          USA         TX         Dallas  ...   \n",
       "\n",
       "  secondary_market  product_crowdfunding round_A round_B round_C  round_D  \\\n",
       "0              0.0                   0.0     0.0     0.0     0.0      0.0   \n",
       "1              0.0                   0.0     0.0     0.0     0.0      0.0   \n",
       "2              0.0                   0.0     0.0     0.0     0.0      0.0   \n",
       "3              0.0                   0.0     0.0     0.0     0.0      0.0   \n",
       "4              0.0                   0.0     0.0     0.0     0.0      0.0   \n",
       "\n",
       "  round_E round_F  round_G  round_H  \n",
       "0     0.0     0.0      0.0      0.0  \n",
       "1     0.0     0.0      0.0      0.0  \n",
       "2     0.0     0.0      0.0      0.0  \n",
       "3     0.0     0.0      0.0      0.0  \n",
       "4     0.0     0.0      0.0      0.0  \n",
       "\n",
       "[5 rows x 39 columns]"
      ]
     },
     "execution_count": 2,
     "metadata": {},
     "output_type": "execute_result"
    }
   ],
   "source": [
    "# Loading and previewing data\n",
    "data = pd.read_csv('investments_VC.csv',encoding = 'latin')\n",
    "data.head()"
   ]
  },
  {
   "cell_type": "markdown",
   "id": "8065f25c",
   "metadata": {
    "id": "d8a53539"
   },
   "source": [
    "## Summary of Features in the Dataset\n",
    "\n",
    "\n",
    "| `Column Name `           | `Description  `                                                                             |\n",
    "|------------------------|-------------------------------------------------------------------------------------------|\n",
    "| permalink              | The unique identifier or URL of the company.                                               |\n",
    "| name                   | The name of the startup company.                                                          |\n",
    "| homepage_url           | The URL of the startup's website.                                                          |\n",
    "| category_list          | The categories or industries associated with the startup.                                  |\n",
    "| market                 | The market or industry segment in which the startup operates.                             |\n",
    "| funding_total_usd      | The total amount of funding raised by the startup in US dollars.                           |\n",
    "| status                 | The status of the startup (e.g., active, acquired, closed).                                |\n",
    "| country_code           | The country code of the startup's headquarters or primary operations.                      |\n",
    "| state_code             | The state code of the startup's headquarters or primary operations.                        |\n",
    "| region                 | The region where the startup is located.                                                   |\n",
    "| city                   | The city where the startup is located.                                                     |\n",
    "| funding_rounds         | The number of funding rounds the startup has gone through.                                 |\n",
    "| founded_at             | The specific date on which the startup was founded.                                        |\n",
    "| founded_month          | The month in which the startup was founded.                                                |\n",
    "| founded_quarter        | The quarter in which the startup was founded.                                              |\n",
    "| founded_year           | The year in which the startup was founded.                                                 |\n",
    "| first_funding_at       | The date of the first funding round.                                                       |\n",
    "| last_funding_at        | The date of the most recent funding round.                                                 |\n",
    "| seed                   | The amount of funding raised in the seed round.                                            |\n",
    "| venture                | The amount of funding raised in the venture round.                                         |\n",
    "| equity_crowdfunding    | The amount of funding raised through equity crowdfunding.                                  |\n",
    "| undisclosed            | The amount of undisclosed funding raised.                                                  |\n",
    "| convertible_note       | The amount of funding raised through convertible notes.                                    |\n",
    "| debt_financing         | The amount of funding raised through debt financing.                                       |\n",
    "| angel                  | The amount of funding raised from angel investors.                                         |\n",
    "| grant                  | The amount of grant funding received.                                                      |\n",
    "| private_equity         | The amount of funding raised from private equity investors.                                |\n",
    "| post_ipo_equity        | The amount of funding raised post-IPO through equity.                                      |\n",
    "| post_ipo_debt          | The amount of funding raised post-IPO through debt.                                        |\n",
    "| secondary_market       | The amount of funding raised through secondary market transactions.                        |\n",
    "| product_crowdfunding   | The amount of funding raised through product crowdfunding.                                |\n",
    "| round_A                | The amount of funding raised in round A.                                                   |\n",
    "| round_B                | The amount of funding raised in round B.                                                   |\n",
    "| round_C                | The amount of funding raised in round C.                                                   |\n",
    "| round_D                | The amount of funding raised in round D.                                                   |\n",
    "| round_E                | The amount of funding raised in round E.                                                   |\n",
    "| round_F                | The amount of funding raised in round F.                                                   |\n",
    "| round_G                | The amount of funding raised in round G.                                                   |\n",
    "| round_H                | The amount of funding raised in round H.                                                   |"
   ]
  },
  {
   "cell_type": "markdown",
   "id": "85f92dcd",
   "metadata": {
    "id": "eb4c7dbc"
   },
   "source": [
    "## Class to describe dataset"
   ]
  },
  {
   "cell_type": "code",
   "execution_count": 3,
   "id": "52cdce99",
   "metadata": {
    "id": "79cfb48f"
   },
   "outputs": [],
   "source": [
    "# class to describe dataset\n",
    "\n",
    "class Information:\n",
    "\n",
    "    # initialize object\n",
    "    def __init__(self, df):\n",
    "      self.df = df\n",
    "\n",
    "    # method to check shape of data\n",
    "    def show_shape(self):\n",
    "      print(f\"The dataset has {self.df.shape[0]} rows and {self.df.shape[1]} columns.\\n\")\n",
    "\n",
    "    # method to check info on dataset\n",
    "    def show_info(self):\n",
    "      print(\"Dataset Information:\")\n",
    "      print(self.df.info(), '\\n')\n",
    "\n",
    "    # method to describe numerical columns\n",
    "    def show_sm_stats(self):\n",
    "      stats = self.df.describe()\n",
    "      return stats\n",
    "\n",
    "    def display(self):\n",
    "      self.show_shape()\n",
    "      self.show_info()\n",
    "      self.show_sm_stats()\n"
   ]
  },
  {
   "cell_type": "markdown",
   "id": "9bd724cb",
   "metadata": {
    "id": "d23428be"
   },
   "source": [
    "## Information about our dataset"
   ]
  },
  {
   "cell_type": "code",
   "execution_count": 4,
   "id": "533742d7",
   "metadata": {
    "colab": {
     "base_uri": "https://localhost:8080/"
    },
    "id": "e431935b",
    "outputId": "158cde8d-7a08-47e1-fe80-218129d7215e"
   },
   "outputs": [
    {
     "name": "stdout",
     "output_type": "stream",
     "text": [
      "Dataset Information:\n",
      "<class 'pandas.core.frame.DataFrame'>\n",
      "RangeIndex: 54294 entries, 0 to 54293\n",
      "Data columns (total 39 columns):\n",
      " #   Column                Non-Null Count  Dtype  \n",
      "---  ------                --------------  -----  \n",
      " 0   permalink             49438 non-null  object \n",
      " 1   name                  49437 non-null  object \n",
      " 2   homepage_url          45989 non-null  object \n",
      " 3   category_list         45477 non-null  object \n",
      " 4    market               45470 non-null  object \n",
      " 5    funding_total_usd    49438 non-null  object \n",
      " 6   status                48124 non-null  object \n",
      " 7   country_code          44165 non-null  object \n",
      " 8   state_code            30161 non-null  object \n",
      " 9   region                44165 non-null  object \n",
      " 10  city                  43322 non-null  object \n",
      " 11  funding_rounds        49438 non-null  float64\n",
      " 12  founded_at            38554 non-null  object \n",
      " 13  founded_month         38482 non-null  object \n",
      " 14  founded_quarter       38482 non-null  object \n",
      " 15  founded_year          38482 non-null  float64\n",
      " 16  first_funding_at      49438 non-null  object \n",
      " 17  last_funding_at       49438 non-null  object \n",
      " 18  seed                  49438 non-null  float64\n",
      " 19  venture               49438 non-null  float64\n",
      " 20  equity_crowdfunding   49438 non-null  float64\n",
      " 21  undisclosed           49438 non-null  float64\n",
      " 22  convertible_note      49438 non-null  float64\n",
      " 23  debt_financing        49438 non-null  float64\n",
      " 24  angel                 49438 non-null  float64\n",
      " 25  grant                 49438 non-null  float64\n",
      " 26  private_equity        49438 non-null  float64\n",
      " 27  post_ipo_equity       49438 non-null  float64\n",
      " 28  post_ipo_debt         49438 non-null  float64\n",
      " 29  secondary_market      49438 non-null  float64\n",
      " 30  product_crowdfunding  49438 non-null  float64\n",
      " 31  round_A               49438 non-null  float64\n",
      " 32  round_B               49438 non-null  float64\n",
      " 33  round_C               49438 non-null  float64\n",
      " 34  round_D               49438 non-null  float64\n",
      " 35  round_E               49438 non-null  float64\n",
      " 36  round_F               49438 non-null  float64\n",
      " 37  round_G               49438 non-null  float64\n",
      " 38  round_H               49438 non-null  float64\n",
      "dtypes: float64(23), object(16)\n",
      "memory usage: 16.2+ MB\n",
      "None \n",
      "\n"
     ]
    }
   ],
   "source": [
    "# Instantiating the class\n",
    "desc = Information(data)\n",
    "\n",
    "# Checking the data types of the columns\n",
    "desc.show_info()"
   ]
  },
  {
   "cell_type": "markdown",
   "id": "019bba13",
   "metadata": {
    "id": "8160c2e8"
   },
   "source": [
    "*`Observation:`*\n",
    "\n",
    "> * The columns capture various aspects such as company details, funding information, geographic location, and founding timeline.\n",
    "\n",
    "> * The dataset showcases a mix of data types, including object (16 columns) and float64 (23 columns). This variety allows for a comprehensive analysis of both categorical and numerical features.\n",
    "\n",
    "> * Important columns with a significant number of missing values include:   `permalink`, `name`, `homepage_url`, `category_list`, `market`, `status`, `country_code`, `state_code`, `region`, `city`, `founded_at`, `founded_month`, `founded_quarter`, and `founded_year`. Proper handling of missing data is necessary to ensure accurate analysis.\n",
    "\n",
    ">* Key numerical columns related to funding rounds and amounts include `funding_rounds`, `funding_total_usd`, and various funding round columns (`seed`, `venture`, `round_A`, etc.). These columns provide insights into the financial aspects of the startups.\n",
    "\n",
    "> * The dataset also includes temporal information such as `first_funding_at` and `last_funding_at`, which can be converted to datetime data type for time-based analysis.\n",
    "\n",
    ">* Overall, this dataset provides a rich foundation for advanced machine learning tasks, allowing for comprehensive exploration of startup characteristics and funding patterns.\n"
   ]
  },
  {
   "cell_type": "markdown",
   "id": "d0303f1d",
   "metadata": {
    "id": "38400647"
   },
   "source": [
    "## Check shape of dataframe"
   ]
  },
  {
   "cell_type": "code",
   "execution_count": 5,
   "id": "35832f37",
   "metadata": {
    "colab": {
     "base_uri": "https://localhost:8080/"
    },
    "id": "ae855b25",
    "outputId": "15d218ea-de29-498e-898c-a48c49a2e3a1"
   },
   "outputs": [
    {
     "name": "stdout",
     "output_type": "stream",
     "text": [
      "The dataset has 54294 rows and 39 columns.\n",
      "\n"
     ]
    }
   ],
   "source": [
    "# Checking for the shape of the data.\n",
    "desc.show_shape()"
   ]
  },
  {
   "cell_type": "markdown",
   "id": "e362f644",
   "metadata": {
    "id": "57357ee3"
   },
   "source": [
    "## Checking for the categorical columns"
   ]
  },
  {
   "cell_type": "code",
   "execution_count": 6,
   "id": "2230a3dc",
   "metadata": {
    "colab": {
     "base_uri": "https://localhost:8080/"
    },
    "id": "934b2411",
    "outputId": "12f58ca6-0922-45a3-b92d-6fa3512919ee"
   },
   "outputs": [
    {
     "data": {
      "text/plain": [
       "Index(['permalink', 'name', 'homepage_url', 'category_list', ' market ',\n",
       "       ' funding_total_usd ', 'status', 'country_code', 'state_code', 'region',\n",
       "       'city', 'founded_at', 'founded_month', 'founded_quarter',\n",
       "       'first_funding_at', 'last_funding_at'],\n",
       "      dtype='object')"
      ]
     },
     "execution_count": 6,
     "metadata": {},
     "output_type": "execute_result"
    }
   ],
   "source": [
    "#checking for categorical columns.\n",
    "categorical_columns = data.select_dtypes(include=['object', 'category'])\n",
    "categorical_columns.columns"
   ]
  },
  {
   "cell_type": "markdown",
   "id": "9613ea85",
   "metadata": {
    "id": "471c3c0d"
   },
   "source": [
    "*`Observation:`*\n",
    "\n",
    "* These categorical columns provide important information about the company details, funding information, geographic location, and founding timeline of the startup companies.\n",
    "\n",
    "* Analyzing these columns can help gain insights into the industry focus, funding status, geographical distribution, and temporal aspects of the startup ecosystem represented in the dataset."
   ]
  },
  {
   "cell_type": "markdown",
   "id": "067bc0a2",
   "metadata": {
    "id": "db82f6bd"
   },
   "source": [
    "## Checking for the continuous  columns"
   ]
  },
  {
   "cell_type": "code",
   "execution_count": 7,
   "id": "94d43e04",
   "metadata": {
    "colab": {
     "base_uri": "https://localhost:8080/"
    },
    "id": "e6e102ea",
    "outputId": "e3aac5dc-3e22-41ed-eb3f-71d53707155e"
   },
   "outputs": [
    {
     "data": {
      "text/plain": [
       "Index(['funding_rounds', 'founded_year', 'seed', 'venture',\n",
       "       'equity_crowdfunding', 'undisclosed', 'convertible_note',\n",
       "       'debt_financing', 'angel', 'grant', 'private_equity', 'post_ipo_equity',\n",
       "       'post_ipo_debt', 'secondary_market', 'product_crowdfunding', 'round_A',\n",
       "       'round_B', 'round_C', 'round_D', 'round_E', 'round_F', 'round_G',\n",
       "       'round_H'],\n",
       "      dtype='object')"
      ]
     },
     "execution_count": 7,
     "metadata": {},
     "output_type": "execute_result"
    }
   ],
   "source": [
    "#checking for numeric columns.\n",
    "non_categorical_columns = data.select_dtypes(exclude=['object', 'category'])\n",
    "non_categorical_columns.columns"
   ]
  },
  {
   "cell_type": "markdown",
   "id": "d7b96485",
   "metadata": {
    "id": "a7fdbb61"
   },
   "source": [
    "*`Observation:`*\n",
    "The non-categorical columns in the dataset consist of the following features:\n",
    "\n",
    "1. `funding_rounds`: This column represents the number of funding rounds a startup has gone through. It provides insights into the funding activity of the companies.\n",
    "\n",
    "2. `founded_year`: This column captures the year in which each startup was founded. It can be used to analyze trends and patterns related to the age of the companies.\n",
    "\n",
    "3. `seed`, `venture`, `equity_crowdfunding`, `undisclosed`, `convertible_note`, `debt_financing`, `angel`, `grant`, `private_equity`, `post_ipo_equity`, `post_ipo_debt`, `secondary_market`, `product_crowdfunding`, `round_A`, `round_B`, `round_C`, `round_D`, `round_E`, `round_F`, `round_G`, `round_H`: These columns represent the amounts of funding raised in different funding rounds. They provide valuable information on the financial aspects of the startups."
   ]
  },
  {
   "cell_type": "markdown",
   "id": "cacd71c7",
   "metadata": {
    "id": "43595f36"
   },
   "source": [
    "## Concise statistical description of numeric features"
   ]
  },
  {
   "cell_type": "code",
   "execution_count": 8,
   "id": "6c5e5913",
   "metadata": {
    "colab": {
     "base_uri": "https://localhost:8080/",
     "height": 394
    },
    "id": "b589d4aa",
    "outputId": "b27f0610-076a-4965-85c3-dc9ecf736d4b",
    "scrolled": true
   },
   "outputs": [
    {
     "data": {
      "text/html": [
       "<div>\n",
       "<style scoped>\n",
       "    .dataframe tbody tr th:only-of-type {\n",
       "        vertical-align: middle;\n",
       "    }\n",
       "\n",
       "    .dataframe tbody tr th {\n",
       "        vertical-align: top;\n",
       "    }\n",
       "\n",
       "    .dataframe thead th {\n",
       "        text-align: right;\n",
       "    }\n",
       "</style>\n",
       "<table border=\"1\" class=\"dataframe\">\n",
       "  <thead>\n",
       "    <tr style=\"text-align: right;\">\n",
       "      <th></th>\n",
       "      <th>funding_rounds</th>\n",
       "      <th>founded_year</th>\n",
       "      <th>seed</th>\n",
       "      <th>venture</th>\n",
       "      <th>equity_crowdfunding</th>\n",
       "      <th>undisclosed</th>\n",
       "      <th>convertible_note</th>\n",
       "      <th>debt_financing</th>\n",
       "      <th>angel</th>\n",
       "      <th>grant</th>\n",
       "      <th>...</th>\n",
       "      <th>secondary_market</th>\n",
       "      <th>product_crowdfunding</th>\n",
       "      <th>round_A</th>\n",
       "      <th>round_B</th>\n",
       "      <th>round_C</th>\n",
       "      <th>round_D</th>\n",
       "      <th>round_E</th>\n",
       "      <th>round_F</th>\n",
       "      <th>round_G</th>\n",
       "      <th>round_H</th>\n",
       "    </tr>\n",
       "  </thead>\n",
       "  <tbody>\n",
       "    <tr>\n",
       "      <th>count</th>\n",
       "      <td>49438.000000</td>\n",
       "      <td>38482.000000</td>\n",
       "      <td>4.943800e+04</td>\n",
       "      <td>4.943800e+04</td>\n",
       "      <td>4.943800e+04</td>\n",
       "      <td>4.943800e+04</td>\n",
       "      <td>4.943800e+04</td>\n",
       "      <td>4.943800e+04</td>\n",
       "      <td>4.943800e+04</td>\n",
       "      <td>4.943800e+04</td>\n",
       "      <td>...</td>\n",
       "      <td>4.943800e+04</td>\n",
       "      <td>4.943800e+04</td>\n",
       "      <td>4.943800e+04</td>\n",
       "      <td>4.943800e+04</td>\n",
       "      <td>4.943800e+04</td>\n",
       "      <td>4.943800e+04</td>\n",
       "      <td>4.943800e+04</td>\n",
       "      <td>4.943800e+04</td>\n",
       "      <td>4.943800e+04</td>\n",
       "      <td>4.943800e+04</td>\n",
       "    </tr>\n",
       "    <tr>\n",
       "      <th>mean</th>\n",
       "      <td>1.696205</td>\n",
       "      <td>2007.359129</td>\n",
       "      <td>2.173215e+05</td>\n",
       "      <td>7.501051e+06</td>\n",
       "      <td>6.163322e+03</td>\n",
       "      <td>1.302213e+05</td>\n",
       "      <td>2.336410e+04</td>\n",
       "      <td>1.888157e+06</td>\n",
       "      <td>6.541898e+04</td>\n",
       "      <td>1.628453e+05</td>\n",
       "      <td>...</td>\n",
       "      <td>3.845592e+04</td>\n",
       "      <td>7.074227e+03</td>\n",
       "      <td>1.243955e+06</td>\n",
       "      <td>1.492891e+06</td>\n",
       "      <td>1.205356e+06</td>\n",
       "      <td>7.375261e+05</td>\n",
       "      <td>3.424682e+05</td>\n",
       "      <td>1.697692e+05</td>\n",
       "      <td>5.767067e+04</td>\n",
       "      <td>1.423197e+04</td>\n",
       "    </tr>\n",
       "    <tr>\n",
       "      <th>std</th>\n",
       "      <td>1.294213</td>\n",
       "      <td>7.579203</td>\n",
       "      <td>1.056985e+06</td>\n",
       "      <td>2.847112e+07</td>\n",
       "      <td>1.999048e+05</td>\n",
       "      <td>2.981404e+06</td>\n",
       "      <td>1.432046e+06</td>\n",
       "      <td>1.382046e+08</td>\n",
       "      <td>6.582908e+05</td>\n",
       "      <td>5.612088e+06</td>\n",
       "      <td>...</td>\n",
       "      <td>3.864461e+06</td>\n",
       "      <td>4.282166e+05</td>\n",
       "      <td>5.531974e+06</td>\n",
       "      <td>7.472704e+06</td>\n",
       "      <td>7.993592e+06</td>\n",
       "      <td>9.815218e+06</td>\n",
       "      <td>5.406915e+06</td>\n",
       "      <td>6.277905e+06</td>\n",
       "      <td>5.252312e+06</td>\n",
       "      <td>2.716865e+06</td>\n",
       "    </tr>\n",
       "    <tr>\n",
       "      <th>min</th>\n",
       "      <td>1.000000</td>\n",
       "      <td>1902.000000</td>\n",
       "      <td>0.000000e+00</td>\n",
       "      <td>0.000000e+00</td>\n",
       "      <td>0.000000e+00</td>\n",
       "      <td>0.000000e+00</td>\n",
       "      <td>0.000000e+00</td>\n",
       "      <td>0.000000e+00</td>\n",
       "      <td>0.000000e+00</td>\n",
       "      <td>0.000000e+00</td>\n",
       "      <td>...</td>\n",
       "      <td>0.000000e+00</td>\n",
       "      <td>0.000000e+00</td>\n",
       "      <td>0.000000e+00</td>\n",
       "      <td>0.000000e+00</td>\n",
       "      <td>0.000000e+00</td>\n",
       "      <td>0.000000e+00</td>\n",
       "      <td>0.000000e+00</td>\n",
       "      <td>0.000000e+00</td>\n",
       "      <td>0.000000e+00</td>\n",
       "      <td>0.000000e+00</td>\n",
       "    </tr>\n",
       "    <tr>\n",
       "      <th>25%</th>\n",
       "      <td>1.000000</td>\n",
       "      <td>2006.000000</td>\n",
       "      <td>0.000000e+00</td>\n",
       "      <td>0.000000e+00</td>\n",
       "      <td>0.000000e+00</td>\n",
       "      <td>0.000000e+00</td>\n",
       "      <td>0.000000e+00</td>\n",
       "      <td>0.000000e+00</td>\n",
       "      <td>0.000000e+00</td>\n",
       "      <td>0.000000e+00</td>\n",
       "      <td>...</td>\n",
       "      <td>0.000000e+00</td>\n",
       "      <td>0.000000e+00</td>\n",
       "      <td>0.000000e+00</td>\n",
       "      <td>0.000000e+00</td>\n",
       "      <td>0.000000e+00</td>\n",
       "      <td>0.000000e+00</td>\n",
       "      <td>0.000000e+00</td>\n",
       "      <td>0.000000e+00</td>\n",
       "      <td>0.000000e+00</td>\n",
       "      <td>0.000000e+00</td>\n",
       "    </tr>\n",
       "    <tr>\n",
       "      <th>50%</th>\n",
       "      <td>1.000000</td>\n",
       "      <td>2010.000000</td>\n",
       "      <td>0.000000e+00</td>\n",
       "      <td>0.000000e+00</td>\n",
       "      <td>0.000000e+00</td>\n",
       "      <td>0.000000e+00</td>\n",
       "      <td>0.000000e+00</td>\n",
       "      <td>0.000000e+00</td>\n",
       "      <td>0.000000e+00</td>\n",
       "      <td>0.000000e+00</td>\n",
       "      <td>...</td>\n",
       "      <td>0.000000e+00</td>\n",
       "      <td>0.000000e+00</td>\n",
       "      <td>0.000000e+00</td>\n",
       "      <td>0.000000e+00</td>\n",
       "      <td>0.000000e+00</td>\n",
       "      <td>0.000000e+00</td>\n",
       "      <td>0.000000e+00</td>\n",
       "      <td>0.000000e+00</td>\n",
       "      <td>0.000000e+00</td>\n",
       "      <td>0.000000e+00</td>\n",
       "    </tr>\n",
       "    <tr>\n",
       "      <th>75%</th>\n",
       "      <td>2.000000</td>\n",
       "      <td>2012.000000</td>\n",
       "      <td>2.500000e+04</td>\n",
       "      <td>5.000000e+06</td>\n",
       "      <td>0.000000e+00</td>\n",
       "      <td>0.000000e+00</td>\n",
       "      <td>0.000000e+00</td>\n",
       "      <td>0.000000e+00</td>\n",
       "      <td>0.000000e+00</td>\n",
       "      <td>0.000000e+00</td>\n",
       "      <td>...</td>\n",
       "      <td>0.000000e+00</td>\n",
       "      <td>0.000000e+00</td>\n",
       "      <td>0.000000e+00</td>\n",
       "      <td>0.000000e+00</td>\n",
       "      <td>0.000000e+00</td>\n",
       "      <td>0.000000e+00</td>\n",
       "      <td>0.000000e+00</td>\n",
       "      <td>0.000000e+00</td>\n",
       "      <td>0.000000e+00</td>\n",
       "      <td>0.000000e+00</td>\n",
       "    </tr>\n",
       "    <tr>\n",
       "      <th>max</th>\n",
       "      <td>18.000000</td>\n",
       "      <td>2014.000000</td>\n",
       "      <td>1.300000e+08</td>\n",
       "      <td>2.351000e+09</td>\n",
       "      <td>2.500000e+07</td>\n",
       "      <td>2.924328e+08</td>\n",
       "      <td>3.000000e+08</td>\n",
       "      <td>3.007950e+10</td>\n",
       "      <td>6.359026e+07</td>\n",
       "      <td>7.505000e+08</td>\n",
       "      <td>...</td>\n",
       "      <td>6.806116e+08</td>\n",
       "      <td>7.200000e+07</td>\n",
       "      <td>3.190000e+08</td>\n",
       "      <td>5.420000e+08</td>\n",
       "      <td>4.900000e+08</td>\n",
       "      <td>1.200000e+09</td>\n",
       "      <td>4.000000e+08</td>\n",
       "      <td>1.060000e+09</td>\n",
       "      <td>1.000000e+09</td>\n",
       "      <td>6.000000e+08</td>\n",
       "    </tr>\n",
       "  </tbody>\n",
       "</table>\n",
       "<p>8 rows × 23 columns</p>\n",
       "</div>"
      ],
      "text/plain": [
       "       funding_rounds  founded_year          seed       venture  \\\n",
       "count    49438.000000  38482.000000  4.943800e+04  4.943800e+04   \n",
       "mean         1.696205   2007.359129  2.173215e+05  7.501051e+06   \n",
       "std          1.294213      7.579203  1.056985e+06  2.847112e+07   \n",
       "min          1.000000   1902.000000  0.000000e+00  0.000000e+00   \n",
       "25%          1.000000   2006.000000  0.000000e+00  0.000000e+00   \n",
       "50%          1.000000   2010.000000  0.000000e+00  0.000000e+00   \n",
       "75%          2.000000   2012.000000  2.500000e+04  5.000000e+06   \n",
       "max         18.000000   2014.000000  1.300000e+08  2.351000e+09   \n",
       "\n",
       "       equity_crowdfunding   undisclosed  convertible_note  debt_financing  \\\n",
       "count         4.943800e+04  4.943800e+04      4.943800e+04    4.943800e+04   \n",
       "mean          6.163322e+03  1.302213e+05      2.336410e+04    1.888157e+06   \n",
       "std           1.999048e+05  2.981404e+06      1.432046e+06    1.382046e+08   \n",
       "min           0.000000e+00  0.000000e+00      0.000000e+00    0.000000e+00   \n",
       "25%           0.000000e+00  0.000000e+00      0.000000e+00    0.000000e+00   \n",
       "50%           0.000000e+00  0.000000e+00      0.000000e+00    0.000000e+00   \n",
       "75%           0.000000e+00  0.000000e+00      0.000000e+00    0.000000e+00   \n",
       "max           2.500000e+07  2.924328e+08      3.000000e+08    3.007950e+10   \n",
       "\n",
       "              angel         grant  ...  secondary_market  \\\n",
       "count  4.943800e+04  4.943800e+04  ...      4.943800e+04   \n",
       "mean   6.541898e+04  1.628453e+05  ...      3.845592e+04   \n",
       "std    6.582908e+05  5.612088e+06  ...      3.864461e+06   \n",
       "min    0.000000e+00  0.000000e+00  ...      0.000000e+00   \n",
       "25%    0.000000e+00  0.000000e+00  ...      0.000000e+00   \n",
       "50%    0.000000e+00  0.000000e+00  ...      0.000000e+00   \n",
       "75%    0.000000e+00  0.000000e+00  ...      0.000000e+00   \n",
       "max    6.359026e+07  7.505000e+08  ...      6.806116e+08   \n",
       "\n",
       "       product_crowdfunding       round_A       round_B       round_C  \\\n",
       "count          4.943800e+04  4.943800e+04  4.943800e+04  4.943800e+04   \n",
       "mean           7.074227e+03  1.243955e+06  1.492891e+06  1.205356e+06   \n",
       "std            4.282166e+05  5.531974e+06  7.472704e+06  7.993592e+06   \n",
       "min            0.000000e+00  0.000000e+00  0.000000e+00  0.000000e+00   \n",
       "25%            0.000000e+00  0.000000e+00  0.000000e+00  0.000000e+00   \n",
       "50%            0.000000e+00  0.000000e+00  0.000000e+00  0.000000e+00   \n",
       "75%            0.000000e+00  0.000000e+00  0.000000e+00  0.000000e+00   \n",
       "max            7.200000e+07  3.190000e+08  5.420000e+08  4.900000e+08   \n",
       "\n",
       "            round_D       round_E       round_F       round_G       round_H  \n",
       "count  4.943800e+04  4.943800e+04  4.943800e+04  4.943800e+04  4.943800e+04  \n",
       "mean   7.375261e+05  3.424682e+05  1.697692e+05  5.767067e+04  1.423197e+04  \n",
       "std    9.815218e+06  5.406915e+06  6.277905e+06  5.252312e+06  2.716865e+06  \n",
       "min    0.000000e+00  0.000000e+00  0.000000e+00  0.000000e+00  0.000000e+00  \n",
       "25%    0.000000e+00  0.000000e+00  0.000000e+00  0.000000e+00  0.000000e+00  \n",
       "50%    0.000000e+00  0.000000e+00  0.000000e+00  0.000000e+00  0.000000e+00  \n",
       "75%    0.000000e+00  0.000000e+00  0.000000e+00  0.000000e+00  0.000000e+00  \n",
       "max    1.200000e+09  4.000000e+08  1.060000e+09  1.000000e+09  6.000000e+08  \n",
       "\n",
       "[8 rows x 23 columns]"
      ]
     },
     "execution_count": 8,
     "metadata": {},
     "output_type": "execute_result"
    }
   ],
   "source": [
    "# Obtaining statistical summary of the dataset\n",
    "desc.show_sm_stats()"
   ]
  },
  {
   "cell_type": "markdown",
   "id": "778babc6",
   "metadata": {
    "id": "d9000ac3"
   },
   "source": [
    "*`Observation:`*\n",
    "\n",
    "- The `funding_rounds` column has a mean value of approximately 1.70, indicating that, on average, startups have participated in around 1-2 funding rounds.\n",
    "\n",
    "- The `founded_year` column has a mean value of approximately 2007, with a standard deviation of 7.58. This suggests that the startups in the dataset were founded between the early 1900s and 2014.\n",
    "\n",
    "- The `seed`, `venture`, and other funding round columns (`round_A` to `round_H`) show varying mean values and standard deviations, indicating significant variations in funding amounts across different rounds.\n",
    "\n",
    "- The `funding_total_usd` column is represented in scientific notation. The mean value is approximately 2.17e+05, with a standard deviation of 1.06e+06.\n",
    "\n",
    "- All the numerical columns have a minimum value of 0, indicating that some startups may not have received any funding in certain rounds or types.\n",
    "\n",
    "- The maximum values for the funding round columns vary significantly, indicating that some startups have secured substantial amounts of funding in specific rounds.\n",
    "\n",
    "- It is important to note that the values in the `founded_year` column range from 1902 to 2014, with a large standard deviation. This suggests the presence of outliers or inconsistencies in the dataset.\n",
    "\n",
    "- the funding amounts across the different rounds vary widely, with some startups receiving zero funding in certain rounds."
   ]
  },
  {
   "cell_type": "markdown",
   "id": "8f8f6d19",
   "metadata": {
    "id": "899e1471"
   },
   "source": [
    " ## Checking for duplicated rows"
   ]
  },
  {
   "cell_type": "code",
   "execution_count": 9,
   "id": "6add36f6",
   "metadata": {
    "colab": {
     "base_uri": "https://localhost:8080/"
    },
    "id": "ccbf7a2e",
    "outputId": "2f255ef0-6c27-4ea8-c8be-ab629c5f481d"
   },
   "outputs": [
    {
     "name": "stdout",
     "output_type": "stream",
     "text": [
      "4855\n"
     ]
    }
   ],
   "source": [
    "# Checking for duplicates.\n",
    "def count_duplicates(df):\n",
    "    duplicate_count = data.duplicated().sum()\n",
    "    return duplicate_count\n",
    "\n",
    "duplicate_count = count_duplicates(data)\n",
    "print(duplicate_count)"
   ]
  },
  {
   "cell_type": "markdown",
   "id": "6900d0ca",
   "metadata": {
    "id": "f5b74f50"
   },
   "source": [
    "*`Observation:`*\n",
    "\n",
    "* Considering the high number of duplicate rows (4855), it is crucial to handle duplicates appropriately to avoid bias or inaccuracies in the analysis."
   ]
  },
  {
   "cell_type": "markdown",
   "id": "6a2d9d8e",
   "metadata": {
    "id": "07ec0447"
   },
   "source": [
    " ## Checking for missing values"
   ]
  },
  {
   "cell_type": "code",
   "execution_count": 10,
   "id": "b0fa886f",
   "metadata": {
    "colab": {
     "base_uri": "https://localhost:8080/",
     "height": 1000
    },
    "id": "323af969",
    "outputId": "4a9eed1e-e6e3-4619-e8cf-d15301f28db4"
   },
   "outputs": [
    {
     "name": "stdout",
     "output_type": "stream",
     "text": [
      "                      Missing Values  Percentage Missing\n",
      "permalink                       4856            8.943898\n",
      "name                            4857            8.945740\n",
      "homepage_url                    8305           15.296350\n",
      "category_list                   8817           16.239363\n",
      " market                         8824           16.252256\n",
      " funding_total_usd              4856            8.943898\n",
      "status                          6170           11.364055\n",
      "country_code                   10129           18.655837\n",
      "state_code                     24133           44.448742\n",
      "region                         10129           18.655837\n",
      "city                           10972           20.208494\n",
      "funding_rounds                  4856            8.943898\n",
      "founded_at                     15740           28.990312\n",
      "founded_month                  15812           29.122923\n",
      "founded_quarter                15812           29.122923\n",
      "founded_year                   15812           29.122923\n",
      "first_funding_at                4856            8.943898\n",
      "last_funding_at                 4856            8.943898\n",
      "seed                            4856            8.943898\n",
      "venture                         4856            8.943898\n",
      "equity_crowdfunding             4856            8.943898\n",
      "undisclosed                     4856            8.943898\n",
      "convertible_note                4856            8.943898\n",
      "debt_financing                  4856            8.943898\n",
      "angel                           4856            8.943898\n",
      "grant                           4856            8.943898\n",
      "private_equity                  4856            8.943898\n",
      "post_ipo_equity                 4856            8.943898\n",
      "post_ipo_debt                   4856            8.943898\n",
      "secondary_market                4856            8.943898\n",
      "product_crowdfunding            4856            8.943898\n",
      "round_A                         4856            8.943898\n",
      "round_B                         4856            8.943898\n",
      "round_C                         4856            8.943898\n",
      "round_D                         4856            8.943898\n",
      "round_E                         4856            8.943898\n",
      "round_F                         4856            8.943898\n",
      "round_G                         4856            8.943898\n",
      "round_H                         4856            8.943898\n"
     ]
    },
    {
     "data": {
      "image/png": "[encoded data removed]",
      "text/plain": [
       "<Figure size 900x1000 with 1 Axes>"
      ]
     },
     "metadata": {},
     "output_type": "display_data"
    }
   ],
   "source": [
    "def plot_missing_values(data):\n",
    "    missing_values = data.isnull().sum()\n",
    "    percentage_missing = (missing_values / len(data)) * 100\n",
    "\n",
    "    missing_data = pd.DataFrame({'Missing Values': missing_values, 'Percentage Missing': percentage_missing})\n",
    "    print(missing_data)\n",
    "\n",
    "    # Plot missing values\n",
    "    ax = data.isna().sum().sort_values(ascending=False)[:15][::-1].plot(kind='barh', figsize=(9, 10))\n",
    "    plt.title('Percentage of Missing Values Per Column', fontdict={'size': 15})\n",
    "    for p in ax.patches:\n",
    "        percentage = '{:,.0f}%'.format((p.get_width() / data.shape[0]) * 100)\n",
    "        width, height = p.get_width(), p.get_height()\n",
    "        x = p.get_x() + width + 0.02\n",
    "        y = p.get_y() + height / 2\n",
    "        ax.annotate(percentage, (x, y))\n",
    "\n",
    "    plt.show()\n",
    "\n",
    "# print the missing values:\n",
    "plot_missing_values(data)"
   ]
  },
  {
   "cell_type": "markdown",
   "id": "89d17b48",
   "metadata": {
    "id": "9dba26e4"
   },
   "source": [
    "*`Observation:`*\n",
    "* The dataset contains missing values in multiple columns. The highest percentage of missing values is observed in the `state_code` column (44.45%), followed by columns related to the startup's founding information. Other columns, including funding rounds and various attributes, also exhibit missing values ranging from 8.94% to 29.12%.\n",
    "\n",
    "* Considering the varying percentages of missing values across different columns, it is crucial to carefully assess the impact of these missing values on the analysis and select appropriate strategies for handling them."
   ]
  },
  {
   "cell_type": "markdown",
   "id": "11faa17c",
   "metadata": {
    "id": "7d691c81"
   },
   "source": [
    "## Checking and Visualizing outliers"
   ]
  },
  {
   "cell_type": "code",
   "execution_count": null,
   "id": "d0400df1",
   "metadata": {
    "colab": {
     "base_uri": "https://localhost:8080/",
     "height": 833
    },
    "id": "cc0e3b64",
    "outputId": "17f95e62-440f-48ec-c3fc-dafcb318287c",
    "scrolled": false
   },
   "outputs": [],
   "source": [
    "# Visualizing outliers.\n",
    "\n",
    "# Create box plots for numerical columns\n",
    "plt.figure(figsize=(10, 8))\n",
    "sns.boxplot(data=data)\n",
    "plt.xticks(rotation=90)\n",
    "plt.show()"
   ]
  },
  {
   "cell_type": "markdown",
   "id": "3d8b844f",
   "metadata": {
    "id": "7df6113e"
   },
   "source": [
    "*`Observation:`*\n",
    "\n",
    "* Some data points fall significantly outside the normal range of values and can indicate potential anomalies or errors in the dataset.\n",
    "\n",
    "* Outliers may impact statistical analyses and machine learning models, leading to biased or inaccurate results."
   ]
  },
  {
   "cell_type": "markdown",
   "id": "4d8b1b40",
   "metadata": {
    "id": "d2942016"
   },
   "source": [
    "# <span style=\"color: #008000;\">DATA CLEANING</span>"
   ]
  },
  {
   "cell_type": "markdown",
   "id": "83e07fe1",
   "metadata": {
    "id": "b9590e2a"
   },
   "source": [
    "\n",
    "To ensure the development of a robust and accurate model, several data cleaning techniques will be applied to the dataset. The following techniques will be employed:\n",
    "\n",
    "1. `Completeness`: This technique involves addressing missing values within the dataset. Steps will be taken to identify and handle missing data appropriately, either through imputation or removal, to ensure that the dataset is complete.\n",
    "\n",
    "2. `Consistency`: The consistency of the data will be examined to identify any discrepancies or irregularities. Inconsistencies in variables, such as conflicting formats or conflicting information within the dataset, will be addressed and resolved to maintain data integrity.\n",
    "\n",
    "3. `Validity`: Validity refers to the accuracy and relevance of the data. Data validation techniques will be applied to verify that the values within each variable align with expected ranges or predefined criteria. Any invalid or erroneous data points will be rectified or removed from the dataset.\n",
    "\n",
    "4. `Collinearity`: Collinearity examines the presence of highly correlated variables. Multicollinearity can affect the model's stability and interpretability. Techniques such as correlation analysis will be utilized to identify highly correlated variables. If necessary, appropriate measures, such as feature selection or dimensionality reduction, will be implemented to address collinearity issues.\n",
    "\n",
    "5. `Outlier removal`: Outliers, which are extreme or unusual data points, can adversely impact the model's performance. Robust statistical techniques will be employed to detect and handle outliers effectively. Outliers may be removed or transformed to minimize their influence on the analysis and modeling process.\n",
    "\n",
    "By applying these data cleaning techniques, the dataset will be refined and prepared, ensuring the reliability and accuracy of the data before proceeding with the subsequent stages of analysis and modeling."
   ]
  },
  {
   "cell_type": "markdown",
   "id": "4b9e450f",
   "metadata": {
    "id": "ad39d5b3"
   },
   "source": [
    "## Renaming column(s) to remove spaces.\n",
    "\n",
    "By removing spaces in column names, the code improves the usability and consistency of the dataset. Column names without spaces are easier to work with and less prone to errors when referencing them in code or performing data manipulations."
   ]
  },
  {
   "cell_type": "code",
   "execution_count": null,
   "id": "fd5d864a",
   "metadata": {
    "id": "2d1fc325"
   },
   "outputs": [],
   "source": [
    "# Renaming columns to remove spaces.\n",
    "data.rename(columns={' funding_total_usd ':'funding_total_usd',' market ':'market'}, inplace=True)"
   ]
  },
  {
   "cell_type": "markdown",
   "id": "1af89c97",
   "metadata": {
    "id": "25e69b87"
   },
   "source": [
    "## Type Casting: Converting Funding Total to Float"
   ]
  },
  {
   "cell_type": "code",
   "execution_count": null,
   "id": "c1eed453",
   "metadata": {
    "id": "8d4b20e3"
   },
   "outputs": [],
   "source": [
    "# Type casting\n",
    "data['funding_total_usd'] = data['funding_total_usd'].apply(str).str.replace(',','')\n",
    "data['funding_total_usd'] = data['funding_total_usd'].replace(' -   ',0).astype(\"float\")\n"
   ]
  },
  {
   "cell_type": "markdown",
   "id": "9181f550",
   "metadata": {
    "id": "a8d27b58"
   },
   "source": [
    "##### **Observation:**\n",
    "* These type casting operations are useful for converting the 'funding_total_usd' column from a string representation to a numeric format, facilitating further analysis and computations involving funding amounts."
   ]
  },
  {
   "cell_type": "markdown",
   "id": "d21b9022",
   "metadata": {
    "id": "c504b071"
   },
   "source": [
    "## Converting `funding_total_usd` to numeric datatype"
   ]
  },
  {
   "cell_type": "code",
   "execution_count": null,
   "id": "eeac77e0",
   "metadata": {
    "id": "67b42634"
   },
   "outputs": [],
   "source": [
    "# Converting to numeric datatype\n",
    "data['funding_total_usd'] = pd.to_numeric(data['funding_total_usd'])# turning column to number"
   ]
  },
  {
   "cell_type": "markdown",
   "id": "da6d5e2f",
   "metadata": {},
   "source": [
    "## Converting all date columns in to datetime format"
   ]
  },
  {
   "cell_type": "code",
   "execution_count": null,
   "id": "5e435cb2",
   "metadata": {
    "id": "1348f827"
   },
   "outputs": [],
   "source": [
    "# Converting all date columns in to datetime format\n",
    "data['founded_at'] =  pd.to_datetime(data['founded_at'], format='%Y-%m-%d', errors = 'coerce') # conveting column into date and ignoring errors\n",
    "data['first_funding_at'] =  pd.to_datetime(data['first_funding_at'], format='%Y-%m-%d', errors = 'coerce')  # conveting column into date and ignoring errors\n",
    "data['last_funding_at'] =  pd.to_datetime(data['last_funding_at'], format='%Y-%m-%d', errors = 'coerce')  # conveting column into date and ignoring errors\n",
    "data['founded_year'] =  pd.to_datetime(data['founded_year'], format='%Y', errors = 'coerce') # conveting column into date and ignoring errors\n",
    "data['founded_month'] =  pd.to_datetime(data['founded_month'], format='%Y-%m', errors = 'coerce') # conveting column into date and ignoring errors"
   ]
  },
  {
   "cell_type": "markdown",
   "id": "8e110e3d",
   "metadata": {
    "id": "765ad995"
   },
   "source": [
    "## Dropping duplicated rows.\n",
    "\n",
    "This helps ensure data integrity and eliminates redundancy in the dataset."
   ]
  },
  {
   "cell_type": "code",
   "execution_count": null,
   "id": "41bd9795",
   "metadata": {
    "colab": {
     "base_uri": "https://localhost:8080/"
    },
    "id": "fdf04300",
    "outputId": "b13a7c40-bf0f-431b-dd4b-e89aa5af55e7"
   },
   "outputs": [],
   "source": [
    "data.drop_duplicates(inplace=True)\n",
    "data.duplicated().sum()"
   ]
  },
  {
   "cell_type": "markdown",
   "id": "3205065f",
   "metadata": {
    "id": "d58dbeb8"
   },
   "source": [
    "## Addressing Missing Values for Specific Columns\n",
    "To handle missing values and further process specific columns, the following steps can be taken:\n",
    "\n",
    "1. Convert the '**founded_year**' column to a float data type initially to handle NaN values.\n",
    "\n",
    "2. After handling the NaN values, convert the '**founded_year**' column to an integer data type to ensure the values are represented correctly.\n",
    "\n",
    "3. Cast the values in the '**funding_rounds**' column to the integer data type for consistency and numerical operations.\n",
    "\n",
    "4. Convert the values in the '**first_funding_at**' and '**last_funding_at**' columns to datetime data type for better analysis and time-based operations.\n",
    "\n",
    "5. Remove data entries with zero funds, as they may introduce biases or affect calculations. This step helps to ensure the accuracy of funding-related analysis."
   ]
  },
  {
   "cell_type": "markdown",
   "id": "498525c7",
   "metadata": {
    "id": "57c72783"
   },
   "source": [
    "## `Handling Missing Values`\n",
    "    \n",
    "* For handling the missing, the features were split into two categories: `Categorical and Numerical Variables` for easier analysis and data cleaning.\n",
    "\n",
    "### Dealing with Missing Values that are in categorical columns\n"
   ]
  },
  {
   "cell_type": "markdown",
   "id": "1d274ed2",
   "metadata": {},
   "source": [
    "#### Creating separate variable for categorical and removing null values"
   ]
  },
  {
   "cell_type": "code",
   "execution_count": null,
   "id": "6f0837ec",
   "metadata": {
    "colab": {
     "base_uri": "https://localhost:8080/",
     "height": 374
    },
    "id": "9efbd6de",
    "outputId": "9f836680-c6a9-4e3a-d9f7-6b909f7be7ec"
   },
   "outputs": [],
   "source": [
    "# Creating separate variable for categorical and removing null values\n",
    "data_cat = data.select_dtypes(include='object')\n",
    "data_cat.head()"
   ]
  },
  {
   "cell_type": "markdown",
   "id": "74aa8057",
   "metadata": {},
   "source": [
    "#### checking for missing values"
   ]
  },
  {
   "cell_type": "code",
   "execution_count": null,
   "id": "c940eb3f",
   "metadata": {
    "colab": {
     "base_uri": "https://localhost:8080/"
    },
    "id": "e8dde533",
    "outputId": "b1153bc4-9e72-4e83-93da-36b997702167"
   },
   "outputs": [],
   "source": [
    "data_cat.isnull().sum()"
   ]
  },
  {
   "cell_type": "markdown",
   "id": "5863c8ce",
   "metadata": {},
   "source": [
    "#### fills the missing values in the categorical columns with the string \"unspecified\" "
   ]
  },
  {
   "cell_type": "code",
   "execution_count": null,
   "id": "fa63f19a",
   "metadata": {},
   "outputs": [],
   "source": [
    "data_cat.dropna(how=\"any\")"
   ]
  },
  {
   "cell_type": "code",
   "execution_count": null,
   "id": "9c72d7ec",
   "metadata": {
    "colab": {
     "base_uri": "https://localhost:8080/"
    },
    "id": "8707bf27",
    "outputId": "9ff582c3-2c41-439a-9a12-5094728a6bf3"
   },
   "outputs": [],
   "source": [
    "#Filling the missing values\n",
    "\n",
    "#data_cat.fillna(\"unspecified\", inplace=True)\n",
    "# Confirming no missing values in categorical set of the data\n",
    "data_cat.isnull().any().sum()"
   ]
  },
  {
   "cell_type": "code",
   "execution_count": null,
   "id": "c41794e8",
   "metadata": {},
   "outputs": [],
   "source": [
    "data_cat.isnull().sum()"
   ]
  },
  {
   "cell_type": "markdown",
   "id": "e1839ad4",
   "metadata": {},
   "source": [
    "#### Removing Duplicate Rows from Categorical Data and check the shape"
   ]
  },
  {
   "cell_type": "code",
   "execution_count": null,
   "id": "5880661f",
   "metadata": {
    "colab": {
     "base_uri": "https://localhost:8080/"
    },
    "id": "10f61c64",
    "outputId": "3bc5c58d-c9d8-4a6b-8c68-ebc6a3a6600d"
   },
   "outputs": [],
   "source": [
    "data_cat.drop_duplicates(subset=data_cat.columns, keep='first', inplace=True)\n",
    "#### check the shape\n",
    "data_cat.shape"
   ]
  },
  {
   "cell_type": "markdown",
   "id": "e8fb5ced",
   "metadata": {
    "id": "f3fc7426"
   },
   "source": [
    "### Dealing with Missing Values in the numerical columns`"
   ]
  },
  {
   "cell_type": "markdown",
   "id": "ecca8dee",
   "metadata": {},
   "source": [
    "#### Creating separate variable for numerical features"
   ]
  },
  {
   "cell_type": "code",
   "execution_count": null,
   "id": "e3abe40e",
   "metadata": {
    "colab": {
     "base_uri": "https://localhost:8080/",
     "height": 300
    },
    "id": "bc05c2f1",
    "outputId": "cacf0ba1-82d6-4cb4-e577-161a1317cc66"
   },
   "outputs": [],
   "source": [
    "# Creating separate variable for numerical and removing null values\n",
    "data_num = data.select_dtypes(exclude = 'object')\n",
    "data_num.head()"
   ]
  },
  {
   "cell_type": "markdown",
   "id": "ad06228e",
   "metadata": {},
   "source": [
    "#### checking for missing values"
   ]
  },
  {
   "cell_type": "code",
   "execution_count": null,
   "id": "44c731bc",
   "metadata": {
    "colab": {
     "base_uri": "https://localhost:8080/"
    },
    "id": "44126162",
    "outputId": "571f501a-76eb-415e-a5f9-32b5e368ba00"
   },
   "outputs": [],
   "source": [
    "data_num.isnull().sum()"
   ]
  },
  {
   "cell_type": "markdown",
   "id": "6bb61ca6",
   "metadata": {},
   "source": [
    "#### dropping missing values"
   ]
  },
  {
   "cell_type": "code",
   "execution_count": null,
   "id": "98daf95e",
   "metadata": {
    "colab": {
     "base_uri": "https://localhost:8080/",
     "height": 488
    },
    "id": "7c9d967d",
    "outputId": "37a4cfbf-75e6-4993-b3ce-275507ada7df",
    "scrolled": false
   },
   "outputs": [],
   "source": [
    "data_num.dropna(how=\"any\")"
   ]
  },
  {
   "cell_type": "markdown",
   "id": "743def5c",
   "metadata": {},
   "source": [
    "#### check the shape"
   ]
  },
  {
   "cell_type": "code",
   "execution_count": null,
   "id": "73a61303",
   "metadata": {
    "colab": {
     "base_uri": "https://localhost:8080/"
    },
    "id": "658838ce",
    "outputId": "7eedf721-b946-4e83-9791-f3ba87a39c68"
   },
   "outputs": [],
   "source": [
    "data_num.shape"
   ]
  },
  {
   "cell_type": "markdown",
   "id": "e8065c1d",
   "metadata": {
    "id": "64ed279d"
   },
   "source": [
    "## Concantenating the Numerical and Catergorical Data for Further Processing\n"
   ]
  },
  {
   "cell_type": "code",
   "execution_count": null,
   "id": "136c12ed",
   "metadata": {
    "colab": {
     "base_uri": "https://localhost:8080/",
     "height": 627
    },
    "id": "9100710c",
    "outputId": "98f1990a-859f-4d3b-db88-dadb9a155001"
   },
   "outputs": [],
   "source": [
    "# Concantenated the numerical and categorical data into one dataframe\n",
    "data = pd.concat([data_num,data_cat], axis=1)\n",
    "data"
   ]
  },
  {
   "cell_type": "code",
   "execution_count": null,
   "id": "abc71fe6",
   "metadata": {
    "colab": {
     "base_uri": "https://localhost:8080/",
     "height": 696
    },
    "id": "40a7ffc7",
    "outputId": "53af14c6-55a4-40fa-c0c4-609cc470e6c4"
   },
   "outputs": [],
   "source": [
    "# drop null values in the last  row\n",
    "data.dropna(inplace=True)\n",
    "data"
   ]
  },
  {
   "cell_type": "markdown",
   "id": "e1ae3e87",
   "metadata": {},
   "source": [
    "#### confirm no missing values"
   ]
  },
  {
   "cell_type": "code",
   "execution_count": null,
   "id": "b2cffbf9",
   "metadata": {
    "colab": {
     "base_uri": "https://localhost:8080/"
    },
    "id": "da3cee1f",
    "outputId": "b69a00b6-31c9-40f7-bad9-0109424d9b49"
   },
   "outputs": [],
   "source": [
    "data.isnull().sum().sum()"
   ]
  },
  {
   "cell_type": "markdown",
   "id": "bb6e301f",
   "metadata": {},
   "source": [
    "#### check the shape"
   ]
  },
  {
   "cell_type": "code",
   "execution_count": null,
   "id": "3b93b44d",
   "metadata": {
    "colab": {
     "base_uri": "https://localhost:8080/"
    },
    "id": "5b1895af",
    "outputId": "60ef9dbe-9495-46e3-b688-0fb004dd82f5"
   },
   "outputs": [],
   "source": [
    "data.shape"
   ]
  },
  {
   "cell_type": "markdown",
   "id": "ee81de6c",
   "metadata": {
    "id": "7bf79e3b"
   },
   "source": [
    "## Dealing with outliers\n",
    "\n",
    "> Dealing with the extreme or unusual data points that can adversely impact the model's performance.\n",
    "\n",
    "Based on the empirical rule or the 68-95-99.7 rule. According to this rule, in a normal distribution, approximately 99.7% of the data falls within 3 standard deviations from the mean. By using a factor of 3, we are considering values that are relatively far from the mean as potential outliers."
   ]
  },
  {
   "cell_type": "code",
   "execution_count": null,
   "id": "0ada5040",
   "metadata": {
    "colab": {
     "base_uri": "https://localhost:8080/"
    },
    "id": "30904a2c",
    "outputId": "ff60e4d4-42a2-45bf-fd16-d996f91b49c0"
   },
   "outputs": [],
   "source": [
    "# Convert DataFrame to numeric type\n",
    "data_numeric = data.apply(pd.to_numeric, errors='coerce')\n",
    "\n",
    "# Calculate the upper and lower thresholds for outlier detection\n",
    "upper_threshold = 3 * data_numeric.std() + data_numeric.mean()\n",
    "lower_threshold = data_numeric.mean() - 3 * data_numeric.std()\n",
    "\n",
    "\n",
    "# Replace the outliers with the column's median\n",
    "data_numeric = data_numeric.apply(lambda x: x.where(~((x > upper_threshold[x.name]) | (x < lower_threshold[x.name]))), axis=0)\n",
    "\n",
    "# Check if any outliers are still present\n",
    "outliers_present = (data_numeric > upper_threshold) | (data_numeric < lower_threshold)\n",
    "\n",
    "# Return True if any outliers are found, False otherwise\n",
    "data_contains_outliers = outliers_present.any().any()\n",
    "print(data_contains_outliers)\n"
   ]
  },
  {
   "cell_type": "markdown",
   "id": "7e962b86",
   "metadata": {
    "id": "805598bf"
   },
   "source": [
    "# <span style=\"color: #008000;\">EXPLORATORY DATA ANALYSIS(EDA)</span>"
   ]
  },
  {
   "cell_type": "markdown",
   "id": "88eeffc6",
   "metadata": {
    "id": "5a7c20cc"
   },
   "source": [
    "## <span style ='color:cyan'> Univariate Analysis.  </span>"
   ]
  },
  {
   "cell_type": "markdown",
   "id": "c8b6b7a2",
   "metadata": {
    "id": "5c22b8e4"
   },
   "source": [
    "### Analysis on `status` Feature\n",
    "`status` will be used as the dependent variable in this analysis."
   ]
  },
  {
   "cell_type": "markdown",
   "id": "69ae2075",
   "metadata": {
    "id": "25739d2b"
   },
   "source": [
    "Understanding the distribution of values in the `status` column is essential for analyzing the state of the startups in the dataset. It provides insights into the current status of the startups, such as whether they are actively operating, have been acquired, or have closed down."
   ]
  },
  {
   "cell_type": "code",
   "execution_count": null,
   "id": "514db60a",
   "metadata": {
    "colab": {
     "base_uri": "https://localhost:8080/",
     "height": 542
    },
    "id": "084e4ace",
    "outputId": "a1d8c6ae-11de-4ecf-847a-053954dd8dcb"
   },
   "outputs": [],
   "source": [
    "#Importing libraries for visualization.\n",
    "import plotly.express as px\n",
    "\n",
    "# Count the occurrences of each status\n",
    "status_counts = data['status'].value_counts()\n",
    "\n",
    "# Create a bar plot using Plotly with different colors\n",
    "fig = px.bar(x=status_counts.index, y=status_counts.values, color=status_counts.index)\n",
    "\n",
    "# Set the plot title and axis labels\n",
    "fig.update_layout(title=\"Status Counts\", xaxis_title=\"Status\", yaxis_title=\"Count\")\n",
    "\n",
    "# Display the plot\n",
    "fig.show()"
   ]
  },
  {
   "cell_type": "markdown",
   "id": "404e3927",
   "metadata": {
    "id": "f4d0876c"
   },
   "source": [
    "The countplot suggests that the majority of the startups in the dataset are classified as 'operating', followed by a smaller number of 'acquired' startups and a relatively smaller number of 'closed' startups."
   ]
  },
  {
   "cell_type": "markdown",
   "id": "984b0aec",
   "metadata": {
    "id": "f7ef58ff"
   },
   "source": [
    "### What are thetop 10% `total_funding` startups?"
   ]
  },
  {
   "cell_type": "code",
   "execution_count": null,
   "id": "86c94b93",
   "metadata": {
    "colab": {
     "base_uri": "https://localhost:8080/",
     "height": 670
    },
    "id": "5e444a23",
    "outputId": "7be6f41b-8414-41aa-d31e-0dbfe2ff34f9"
   },
   "outputs": [],
   "source": [
    "top_fund=(data.funding_total_usd.sort_values(ascending=False)[1:5000].sum())/(data.funding_total_usd.sort_values(ascending=False).sum())\n",
    "\n",
    "plt.figure()\n",
    "cmap = plt.get_cmap(\"tab20c\")\n",
    "outer_colors = cmap(np.arange(2)*13)\n",
    "plt.pie([top_fund,1-top_fund], radius=2, colors=outer_colors,labels=['Top 10%','Others'],autopct='%1.1f%%',\n",
    "       wedgeprops=dict(width=0.5, edgecolor='w'))\n",
    "plt.title('Top 10% Companies\\' total funding',pad=100)\n",
    "plt.show()"
   ]
  },
  {
   "cell_type": "markdown",
   "id": "26d76d7e",
   "metadata": {
    "id": "af3eeb30"
   },
   "source": [
    "We got over 50k companies here, top 10% gets most of the funding.\n",
    "It's a winner takes all game"
   ]
  },
  {
   "cell_type": "markdown",
   "id": "8b8130cb",
   "metadata": {
    "id": "66dd1f41"
   },
   "source": [
    "### What is the distribution of `founded year`?\n"
   ]
  },
  {
   "cell_type": "code",
   "execution_count": null,
   "id": "21cf73b0",
   "metadata": {
    "colab": {
     "base_uri": "https://localhost:8080/",
     "height": 564
    },
    "id": "3f99914f",
    "outputId": "37183359-9360-4915-d3c4-1be2c088132c"
   },
   "outputs": [],
   "source": [
    "# Create a figure with specified size\n",
    "plt.figure(figsize=(10, 6))\n",
    "\n",
    "# Create a histogram plot using seaborn\n",
    "sns.histplot(data=data, x='founded_year', color='skyblue')\n",
    "\n",
    "# Set x-axis label\n",
    "plt.xlabel('Founded Year')\n",
    "\n",
    "# Set y-axis label\n",
    "plt.ylabel('Count')\n",
    "\n",
    "# Set plot title\n",
    "plt.title('Distribution of Founded Year')\n",
    "\n",
    "# Display the plot\n",
    "plt.show()"
   ]
  },
  {
   "cell_type": "markdown",
   "id": "a63584ef",
   "metadata": {},
   "source": [
    "The distribution of founded years in the dataset shows a small number of startups before 1980. However, starting from 1980, the number of startups gradually increased. From the year 2000 onwards, there was a significant exponential growth in the number of startups founded."
   ]
  },
  {
   "cell_type": "markdown",
   "id": "cc16952f",
   "metadata": {
    "id": "a2d6c5de"
   },
   "source": [
    "### What are the Top Countries in Terms of Startup Number?"
   ]
  },
  {
   "cell_type": "code",
   "execution_count": null,
   "id": "299b27e4",
   "metadata": {
    "colab": {
     "base_uri": "https://localhost:8080/"
    },
    "id": "232eb1f2",
    "outputId": "5bfefadc-c8b2-4002-a021-739871c7947f",
    "scrolled": true
   },
   "outputs": [],
   "source": [
    "#There are some startups their country info is unknown and termed 'others'\n",
    "def make_other(value):\n",
    "    if str(value) == str(np.nan):\n",
    "        return 'others'\n",
    "    else:\n",
    "        return str(value)\n",
    "\n",
    "data['country_code'] = data['country_code'].apply(make_other)\n",
    "data['country_code'].value_counts(dropna=False)"
   ]
  },
  {
   "cell_type": "code",
   "execution_count": null,
   "id": "cba3307e",
   "metadata": {
    "colab": {
     "base_uri": "https://localhost:8080/",
     "height": 617
    },
    "id": "75dde46c",
    "outputId": "06438e3d-af18-47ca-ffde-28a846f0a820",
    "scrolled": false
   },
   "outputs": [],
   "source": [
    "fig = px.pie(data,names=data.country_code,\n",
    "             title = \"The Top Countries in Terms of Startup Number\",\n",
    "             color_discrete_sequence=px.colors.sequential.RdBu,\n",
    "             hole = 0.15,\n",
    "             width =800,\n",
    "             height =600)\n",
    "\n",
    "fig.update_layout(uniformtext_minsize=10, uniformtext_mode='hide', title_x=0.1)\n",
    "fig.update_traces(textposition='inside', textinfo='percent+label')\n",
    "\n",
    "fig.show()"
   ]
  },
  {
   "cell_type": "markdown",
   "id": "c7b7cc00",
   "metadata": {},
   "source": [
    "The dataset provides information on startups from various countries. The United States (USA) stands out as the top country with the highest number of startups, totaling 23,634. This highlights the strong entrepreneurial culture and thriving startup ecosystem in the USA. Following the USA, there are 3,030 startups categorized as \"unspecified,\" where the country information is either missing or not specified.\n",
    "\n",
    "The United Kingdom (GBR) ranks third in terms of startup count, with 2,000 startups, showcasing the presence of a vibrant startup ecosystem in the UK. Canada (CAN) follows closely with 1,110 startups, indicating a growing startup scene in the country. Germany (DEU) secures the fifth spot with 745 startups, benefiting from its strong economy and supportive policies."
   ]
  },
  {
   "cell_type": "markdown",
   "id": "32c85b85",
   "metadata": {
    "id": "bb0bb01c"
   },
   "source": [
    "### What are the Top 10 Cities with highest number of startups?"
   ]
  },
  {
   "cell_type": "code",
   "execution_count": null,
   "id": "6ac5bb18",
   "metadata": {
    "colab": {
     "base_uri": "https://localhost:8080/",
     "height": 617
    },
    "id": "6ac0f92c",
    "outputId": "ca375446-9463-432e-a6ed-ade339f6e221"
   },
   "outputs": [],
   "source": [
    "# Get the value counts for the \"city\" column\n",
    "city_counts = data[\"city\"].value_counts()[:10]\n",
    "\n",
    "# Create a bar plot using Plotly with different colors\n",
    "fig = px.bar(x=city_counts.index, y=city_counts.values, color=city_counts.index)\n",
    "\n",
    "# Set the plot title and axis labels\n",
    "fig.update_layout(title=\"Cities with highest number of startups\", xaxis_title=\"City\", yaxis_title=\"Count\")\n",
    "\n",
    "# Rotate x-axis labels for better readability\n",
    "fig.update_xaxes(tickangle=50)\n",
    "\n",
    "# Increase the figure size\n",
    "fig.update_layout(width=800, height=600)\n",
    "\n",
    "# Display the plot\n",
    "fig.show()"
   ]
  },
  {
   "cell_type": "markdown",
   "id": "6e31b9d3",
   "metadata": {
    "id": "b29a5393"
   },
   "source": [
    "San Francisco stands out as the top city with the highest number of startups. This highlights the strong entrepreneurial culture and thriving startup ecosystem. New York follows closely, and the London and others."
   ]
  },
  {
   "cell_type": "markdown",
   "id": "fb43ced4",
   "metadata": {
    "id": "e289deb6"
   },
   "source": [
    "### What is the distribution of `funding rounds`?\n"
   ]
  },
  {
   "cell_type": "code",
   "execution_count": null,
   "id": "d4218515",
   "metadata": {
    "colab": {
     "base_uri": "https://localhost:8080/",
     "height": 564
    },
    "id": "ffe14110",
    "outputId": "d13da357-9c5a-4db2-ffa6-4b37f159be88"
   },
   "outputs": [],
   "source": [
    "# Create a figure with specified size\n",
    "plt.figure(figsize=(10, 6))\n",
    "\n",
    "# Create a countplot using seaborn\n",
    "sns.countplot(data=data, x='funding_rounds')\n",
    "\n",
    "# Set x-axis label\n",
    "plt.xlabel('Funding Rounds')\n",
    "\n",
    "# Set y-axis label\n",
    "plt.ylabel('Count')\n",
    "\n",
    "# Set plot title\n",
    "plt.title('Distribution of Funding Rounds')\n",
    "\n",
    "# Display the plot\n",
    "plt.show()"
   ]
  },
  {
   "cell_type": "markdown",
   "id": "715b55c8",
   "metadata": {
    "id": "240e793b"
   },
   "source": [
    "Most companies only get one round of funding."
   ]
  },
  {
   "cell_type": "markdown",
   "id": "a8291879",
   "metadata": {
    "id": "3610af36"
   },
   "source": [
    "\n",
    "### What are the top 10 markets with highest number of startups?\n"
   ]
  },
  {
   "cell_type": "code",
   "execution_count": null,
   "id": "18ce7f9b",
   "metadata": {
    "colab": {
     "base_uri": "https://localhost:8080/",
     "height": 521
    },
    "id": "7316f359",
    "outputId": "5846fad8-17fd-43a9-a127-547a50272d78"
   },
   "outputs": [],
   "source": [
    "# Get the top 10 markets by count\n",
    "top_markets = data['market'].value_counts().nlargest(10)\n",
    "\n",
    "# Create a figure with specified size\n",
    "plt.figure(figsize=(10, 6))\n",
    "\n",
    "# Create a pie chart\n",
    "plt.pie(top_markets, labels=top_markets.index, autopct='%1.1f%%')\n",
    "\n",
    "# Set plot title\n",
    "plt.title('Top 10 Markets')\n",
    "\n",
    "# Display the plot\n",
    "plt.show()"
   ]
  },
  {
   "cell_type": "markdown",
   "id": "99213f9e",
   "metadata": {},
   "source": [
    "Software dominates the landscape with 23.1%, followed by biotech at 15.1%. Mobile, e-commerce, and curated web also hold notable shares at 9.8%, 8.9%, and 8.1% respectively. This highlights the significance of software-driven solutions, advancements in biotechnology, the impact of mobile technology, the growth of online retail, and the emergence of curated web platforms in the startup ecosystem."
   ]
  },
  {
   "cell_type": "markdown",
   "id": "49972d95",
   "metadata": {
    "id": "32c1f313"
   },
   "source": [
    "### What are the Markets that most start-ups closed?"
   ]
  },
  {
   "cell_type": "code",
   "execution_count": null,
   "id": "17422e8b",
   "metadata": {
    "colab": {
     "base_uri": "https://localhost:8080/",
     "height": 412
    },
    "id": "618bceec",
    "outputId": "72ac2ae5-eb46-4d3e-e4e5-76ab2db89212"
   },
   "outputs": [],
   "source": [
    "top_markets=(data.market.value_counts()[data.market.value_counts()>24]).index\n",
    "# We chose top markets to analyze,which are greater than 24 startups in that market.\n",
    "sub_data=data[data.market.isin(top_markets)]\n",
    "\n",
    "status_market_1=sub_data.groupby('market')['status'].value_counts(normalize=True).to_frame()\n",
    "status_market_1.columns=['prop']\n",
    "status_market_2=sub_data.groupby('market')['status'].value_counts().to_frame()\n",
    "status_market_2.columns=['quantity']\n",
    "status_market=pd.concat([status_market_1,status_market_2],axis=1)\n",
    "status_market.reset_index()\n",
    "status_market_closed=status_market.query('status==\"closed\"').reset_index(level=1)\n",
    "status_market_closed.sort_values(by='prop',ascending=False)[0:10].style.background_gradient(cmap='Reds',subset=['prop']).set_caption('Markets that most start-ups closed')"
   ]
  },
  {
   "cell_type": "markdown",
   "id": "22a89b10",
   "metadata": {},
   "source": [
    "Some notable markets include `Coupons`, `Web Tools`, `Public Relations`, `Facebook Applications`, `Location Based Services`, `Curated Web`, `iPhone`, `Social Network Media`, `Web Development`, and `Networking`. These markets have experienced a relatively high proportion of startup closures, indicating challenges or difficulties faced by startups operating in these sectors. The data suggests the need for careful consideration and strategic planning when venturing into these markets."
   ]
  },
  {
   "cell_type": "markdown",
   "id": "7e5f737e",
   "metadata": {
    "id": "d691c4e5"
   },
   "source": [
    "### What are the Markets that least start-ups closed?"
   ]
  },
  {
   "cell_type": "code",
   "execution_count": null,
   "id": "928ac25a",
   "metadata": {
    "colab": {
     "base_uri": "https://localhost:8080/",
     "height": 412
    },
    "id": "62761182",
    "outputId": "cc5df2b7-f5f9-4151-c399-4ce3cb8dd64b"
   },
   "outputs": [],
   "source": [
    "status_market_closed.sort_values(by='prop',ascending=True)[0:10].style.background_gradient(cmap='Greens_r',subset=['prop']).set_caption('Markets that least start-ups closed')"
   ]
  },
  {
   "cell_type": "markdown",
   "id": "d78f3af3",
   "metadata": {},
   "source": [
    "Some of the markets with the least startup closures include `Medical`, `Technology`, `Consumer Electronics`, `Transportation`, `Wireless`, `Services`, `Manufacturing`, `Telecommunications`, and `Real Estate`. These markets have experienced relatively fewer closures compared to other sectors, indicating a higher likelihood of stability and longevity for startups operating in these industries. This suggests that startups in these markets may have found success and sustainability, making them potentially favorable sectors for new ventures."
   ]
  },
  {
   "cell_type": "markdown",
   "id": "e0db5a4d",
   "metadata": {
    "id": "c2b472f9"
   },
   "source": [
    "## <span style ='color:cyan'> Multivariate Analysis.  </span>"
   ]
  },
  {
   "cell_type": "markdown",
   "id": "e5baf76c",
   "metadata": {
    "id": "96d27b8b"
   },
   "source": [
    "### What are the `funding totals by country`?\n"
   ]
  },
  {
   "cell_type": "code",
   "execution_count": null,
   "id": "5467347c",
   "metadata": {
    "colab": {
     "base_uri": "https://localhost:8080/",
     "height": 542
    },
    "id": "decf0572",
    "outputId": "cf8bfe9d-1f08-4075-8b80-b904efd30965"
   },
   "outputs": [],
   "source": [
    "# Calculate funding total by country\n",
    "funding_by_country = data.groupby('country_code')['funding_total_usd'].sum().sort_values(ascending=False)\n",
    "\n",
    "# Create a bar plot using Plotly\n",
    "fig = px.bar(x=funding_by_country.index, y=funding_by_country.values)\n",
    "\n",
    "# Set the plot title and axis labels\n",
    "fig.update_layout(title='Funding Total by Country', xaxis_title='Country', yaxis_title='Funding Total (USD)')\n",
    "\n",
    "# Rotate x-axis labels for better readability\n",
    "fig.update_xaxes(tickangle=90)\n",
    "\n",
    "# Adjust the width of the figure\n",
    "fig.update_layout(width=700)\n",
    "\n",
    "# Display the plot\n",
    "fig.show()"
   ]
  },
  {
   "cell_type": "markdown",
   "id": "97be91ab",
   "metadata": {},
   "source": [
    "USA dominated attracting the most funding for startups"
   ]
  },
  {
   "cell_type": "markdown",
   "id": "b3fa0bfb",
   "metadata": {
    "id": "4a8ec4c9"
   },
   "source": [
    "### What are the `Top Market of Start-ups in different countries`"
   ]
  },
  {
   "cell_type": "code",
   "execution_count": null,
   "id": "10a3811d",
   "metadata": {
    "colab": {
     "base_uri": "https://localhost:8080/",
     "height": 380
    },
    "id": "8305592d",
    "outputId": "59a25095-75fd-4c38-880e-39a3e25a879d"
   },
   "outputs": [],
   "source": [
    "market_con=data.groupby('country_code')['market'].value_counts().to_frame()\n",
    "\n",
    "fig,axes=plt.subplots(1,2,figsize=(20,10))\n",
    "cont=['USA','GBR','CAN','CHN']\n",
    "for con,ax in zip(cont,range(1,5)):\n",
    "    ax=plt.subplot(2,2,ax)\n",
    "    ax=sns.barplot(y=market_con.loc[con].index[0:10],x=market_con.loc[con].market[0:10],orient='h',palette='Blues_r')\n",
    "    ax.set_xlabel('Market Counts In {}'.format(con))\n",
    "plt.suptitle('Top 10 Market of Start-ups',size=40)\n",
    "plt.show()"
   ]
  },
  {
   "cell_type": "markdown",
   "id": "5a181fab",
   "metadata": {},
   "source": [
    "The top markets for startups in different countries often exhibit common segments such as software, mobile, e-commerce, and curated web. These segments have emerged as popular choices for startups across various countries. This commonality suggests that these market sectors offer significant opportunities for innovation and growth, attracting a large number of startups globally. The focus on software development, mobile applications, online retail, and curated web platforms reflects the demand and potential for technological advancements and digital solutions in today's business landscape. The popularity of these market segments underscores their relevance and attractiveness to entrepreneurs seeking to capitalize on emerging trends and consumer needs."
   ]
  },
  {
   "cell_type": "markdown",
   "id": "399a49d8",
   "metadata": {
    "id": "6be1a810"
   },
   "source": [
    "### What are the top 10 funding totals by founded year?"
   ]
  },
  {
   "cell_type": "code",
   "execution_count": null,
   "id": "f019dcc6",
   "metadata": {
    "colab": {
     "base_uri": "https://localhost:8080/",
     "height": 697
    },
    "id": "e85eded4",
    "outputId": "4e4b84ee-2202-4e1b-cbd5-8617236cd60b"
   },
   "outputs": [],
   "source": [
    "# Calculate the top 10 funding totals by founded year\n",
    "top_10_funding = data.groupby('founded_year')['funding_total_usd'].sum().sort_values(ascending=False)[:10]\n",
    "\n",
    "# Define a color palette\n",
    "color_palette = ['red', 'orange', 'yellow', 'green', 'blue', 'purple', 'pink', 'brown', 'gray', 'cyan']\n",
    "\n",
    "# Create the bar plot with the specified color palette\n",
    "plt.figure(figsize=(10, 6))\n",
    "top_10_funding.plot(kind='bar', color=color_palette)\n",
    "\n",
    "# Set y-axis label\n",
    "plt.ylabel('Total Funding in USD')\n",
    "\n",
    "# Set plot title\n",
    "plt.title('Top 10 Funding over the Years')\n",
    "\n",
    "# Display the plot\n",
    "plt.show()"
   ]
  },
  {
   "cell_type": "markdown",
   "id": "86a85cca",
   "metadata": {},
   "source": [
    "most in the 21st century"
   ]
  },
  {
   "cell_type": "markdown",
   "id": "fe42ef70",
   "metadata": {
    "id": "92ce629f"
   },
   "source": [
    "### Companies `funded more than 10 Million Dollars by angel investors`"
   ]
  },
  {
   "cell_type": "code",
   "execution_count": null,
   "id": "64b0b70e",
   "metadata": {
    "colab": {
     "base_uri": "https://localhost:8080/",
     "height": 817
    },
    "id": "ad1f3045",
    "outputId": "1a8fe23f-8689-499f-9ee9-c69aaeedd00d"
   },
   "outputs": [],
   "source": [
    "angels = data[data['angel']>=10000000]\n",
    "\n",
    "fig = px.bar(angels,\n",
    "             x=angels['name'],\n",
    "             y=angels['angel'],\n",
    "             height=800,\n",
    "             color=angels['angel'],\n",
    "             title = 'The Companies get more than 10M($) by angel',\n",
    "             text=angels['name'],\n",
    "             color_continuous_scale='greens',\n",
    "             )\n",
    "fig.update_traces(dict(marker_line_width=0))\n",
    "fig.update_layout(title_x = 0.5)\n",
    "fig.update_xaxes(tickangle=90, title='Companies')\n",
    "fig.update_yaxes(title='invest amount by angel($)')\n",
    "fig.update_layout(barmode='stack', xaxis={'categoryorder':'total descending'})\n",
    "fig.show()"
   ]
  },
  {
   "cell_type": "markdown",
   "id": "1751ff32",
   "metadata": {
    "id": "47f0e61b"
   },
   "source": [
    "### What is the `average funding rounds by status`?\n"
   ]
  },
  {
   "cell_type": "code",
   "execution_count": null,
   "id": "1d21ec96",
   "metadata": {
    "colab": {
     "base_uri": "https://localhost:8080/",
     "height": 564
    },
    "id": "b6e6e444",
    "outputId": "287ad3c4-0bc5-4f8d-f79b-968e9de08fb4"
   },
   "outputs": [],
   "source": [
    "# Calculate the average funding rounds by status\n",
    "funding_rounds_by_status = data.groupby('status')['funding_rounds'].mean().sort_values(ascending=False)\n",
    "\n",
    "# Create a bar plot using seaborn\n",
    "plt.figure(figsize=(8, 6))\n",
    "sns.barplot(x=funding_rounds_by_status.index, y=funding_rounds_by_status.values)\n",
    "\n",
    "# Set x-axis label\n",
    "plt.xlabel('Status')\n",
    "\n",
    "# Set y-axis label\n",
    "plt.ylabel('Average Funding Rounds')\n",
    "\n",
    "# Set plot title\n",
    "plt.title('Funding Rounds by Status')\n",
    "\n",
    "# Display the plot\n",
    "plt.show()"
   ]
  },
  {
   "cell_type": "markdown",
   "id": "0c47fd2a",
   "metadata": {},
   "source": [
    "Acquired startups had the most number of funding round, followed by operating."
   ]
  },
  {
   "cell_type": "markdown",
   "id": "690989c2",
   "metadata": {
    "id": "ecf42b44"
   },
   "source": [
    "### What is the relationship between `funding total and funding rounds by market`?\n"
   ]
  },
  {
   "cell_type": "code",
   "execution_count": null,
   "id": "65ebac78",
   "metadata": {
    "colab": {
     "base_uri": "https://localhost:8080/",
     "height": 542
    },
    "id": "2758effa",
    "outputId": "3f6d4dbe-3205-4f12-d4fc-3a81e8e8f39f"
   },
   "outputs": [],
   "source": [
    "# Calculate the mean funding rounds by market\n",
    "market_funding_rounds = data.groupby('market')['funding_rounds'].mean()\n",
    "\n",
    "# Calculate the total funding by market\n",
    "market_funding_total = data.groupby('market')['funding_total_usd'].sum()\n",
    "\n",
    "# Create a bubble plot using Plotly Express\n",
    "fig = px.scatter(x=market_funding_rounds, y=market_funding_total, color=market_funding_total)\n",
    "\n",
    "# Set the plot title and axis labels\n",
    "fig.update_layout(\n",
    "    title=\"Bubble Plot of Funding Total vs. Funding Rounds by Market\",\n",
    "    xaxis_title=\"Funding Rounds (mean)\",\n",
    "    yaxis_title=\"Funding Total (sum)\"\n",
    ")\n",
    "\n",
    "# Adjust the width of the figure\n",
    "fig.update_layout(width=900)\n",
    "\n",
    "# Display the plot\n",
    "fig.show()"
   ]
  },
  {
   "cell_type": "markdown",
   "id": "1fba8475",
   "metadata": {
    "id": "504ebec2"
   },
   "source": [
    "### What is the relationship between `funding toal and founded year`? (With points colored by status)\n"
   ]
  },
  {
   "cell_type": "code",
   "execution_count": null,
   "id": "fbb618f2",
   "metadata": {
    "colab": {
     "base_uri": "https://localhost:8080/",
     "height": 564
    },
    "id": "f4bca7de",
    "outputId": "96105fdd-5ee3-46ae-f171-5072f5462735",
    "scrolled": false
   },
   "outputs": [],
   "source": [
    "# Create a figure with specified size\n",
    "plt.figure(figsize=(10, 6))\n",
    "\n",
    "# Create a scatter plot using seaborn\n",
    "sns.scatterplot(data=data, x='founded_year', y='funding_total_usd', hue='status', palette='Set1')\n",
    "\n",
    "# Set x-axis label\n",
    "plt.xlabel('Founded Year')\n",
    "\n",
    "# Set y-axis label\n",
    "plt.ylabel('Funding in USD')\n",
    "\n",
    "# Set plot title\n",
    "plt.title('Funding vs Founded Year (by Status)')\n",
    "\n",
    "# Add legend\n",
    "plt.legend()\n",
    "\n",
    "# Display the plot\n",
    "plt.show()"
   ]
  },
  {
   "cell_type": "markdown",
   "id": "60ee0b4d",
   "metadata": {
    "id": "1ec08014"
   },
   "source": [
    "### Startups that got the most funding"
   ]
  },
  {
   "cell_type": "code",
   "execution_count": null,
   "id": "b507b149",
   "metadata": {
    "colab": {
     "base_uri": "https://localhost:8080/",
     "height": 734
    },
    "id": "99ac034a",
    "outputId": "8efc6761-4850-4aa7-805a-4a63b09f578a"
   },
   "outputs": [],
   "source": [
    "# Calculate the total funding received by companies\n",
    "total_funding = data.groupby('name')['funding_total_usd'].sum().sort_values(ascending=False)\n",
    "\n",
    "# Create a figure with a specified size\n",
    "plt.figure(figsize=(12, 6))\n",
    "\n",
    "# Create a bar plot using seaborn\n",
    "sns.barplot(x=total_funding.index[:10], y=total_funding.values[:10])\n",
    "\n",
    "# Set x-axis label\n",
    "plt.xlabel('Company')\n",
    "\n",
    "# Set y-axis label\n",
    "plt.ylabel('Total Funding (USD)')\n",
    "\n",
    "# Set plot title\n",
    "plt.title('Total Funding Received by Companies - Top 10')\n",
    "\n",
    "# Rotate x-axis labels for better readability\n",
    "plt.xticks(rotation=90)\n",
    "\n",
    "# Display the plot\n",
    "plt.show()"
   ]
  },
  {
   "cell_type": "markdown",
   "id": "22812d44",
   "metadata": {},
   "source": [
    "Verizon communications stands out receiving the most funding."
   ]
  },
  {
   "cell_type": "markdown",
   "id": "91e82c0d",
   "metadata": {
    "id": "a12a0404"
   },
   "source": [
    "### What are the `Number of Startups Country wise on Map`?"
   ]
  },
  {
   "cell_type": "markdown",
   "id": "a2f3f8a7",
   "metadata": {},
   "source": [
    "#### Loading and Preprocessing Country Data"
   ]
  },
  {
   "cell_type": "code",
   "execution_count": null,
   "id": "c3156d18",
   "metadata": {
    "id": "32d9edd4",
    "scrolled": false
   },
   "outputs": [],
   "source": [
    "countries = pd.read_csv('https://raw.githubusercontent.com/plotly/datasets/master/2014_world_gdp_with_codes.csv')\n",
    "countries = countries.drop('GDP (BILLIONS)', 1)\n",
    "countries = countries.rename(columns={'CODE': 'country_code'})\n",
    "countries"
   ]
  },
  {
   "cell_type": "markdown",
   "id": "3ae9c1a4",
   "metadata": {},
   "source": [
    "#### Visualizing Number of Startups by Country\n",
    "\n",
    "Generating a choropleth map using the Plotly library to visualize the number of startups in different countries. Each country is represented by a color gradient based on the number of startups founded. The color scale ranges from low (lighter color) to high (darker color) startup counts."
   ]
  },
  {
   "cell_type": "code",
   "execution_count": null,
   "id": "d6ba4ea1",
   "metadata": {
    "colab": {
     "base_uri": "https://localhost:8080/",
     "height": 542
    },
    "id": "9144a3b7",
    "outputId": "8fc015f3-3382-4b8d-d8e3-dfd0f3c0bd94"
   },
   "outputs": [],
   "source": [
    "import plotly.graph_objects as go\n",
    "\n",
    "\n",
    "fig_country_map = go.Figure()\n",
    "fig_country_map.add_trace(go.Choropleth(locations=data['country_code'].value_counts().index,\n",
    "                                       z=data['country_code'].value_counts(),\n",
    "                                       colorscale='Peach',\n",
    "                                       colorbar_title=\"Nos. of Startups founded\"))\n",
    "fig_country_map.update_layout(title_text=\"Number of Startups Country wise.\", title_x=0.5, title_font_size=20)\n",
    "\n",
    "fig_country_map.show()"
   ]
  },
  {
   "cell_type": "markdown",
   "id": "43a432ff",
   "metadata": {
    "id": "bad0ddb9"
   },
   "source": [
    "### Generating `Word Cloud of Startup market categories `to fing the most funded categories"
   ]
  },
  {
   "cell_type": "code",
   "execution_count": null,
   "id": "2637e22c",
   "metadata": {
    "colab": {
     "base_uri": "https://localhost:8080/",
     "height": 518
    },
    "id": "a9152731",
    "outputId": "ed077dcd-1bfc-459d-c360-1a1733f587d0",
    "scrolled": false
   },
   "outputs": [],
   "source": [
    "import wordcloud\n",
    "from PIL import ImageFont\n",
    "\n",
    "category_list = data.category_list.str.split('|').to_list()\n",
    "categ = []\n",
    "\n",
    "for i in category_list:\n",
    "    if isinstance(i, list):\n",
    "        categ = categ + i\n",
    "\n",
    "categ = list(filter(None, categ))\n",
    "categ = ' '.join(categ)\n",
    "\n",
    "w = wordcloud.WordCloud(background_color='White', scale=32)\n",
    "\n",
    "fig = plt.figure(figsize=(12, 8))\n",
    "w.generate(categ)\n",
    "plt.axis('off')\n",
    "plt.imshow(w)\n"
   ]
  },
  {
   "cell_type": "code",
   "execution_count": null,
   "id": "d9d3dbbc",
   "metadata": {},
   "outputs": [],
   "source": []
  },
  {
   "cell_type": "markdown",
   "id": "b7596f69",
   "metadata": {
    "id": "PwkcnqutUyS_"
   },
   "source": [
    "***information can be added on mapping in this case for example startup success to analyze the success rate of startups by considering metrics such as the number of acquisitions, IPOs, or funding rounds & also industry focus , stratup growth and even the funding amount***"
   ]
  },
  {
   "cell_type": "markdown",
   "id": "154ad404",
   "metadata": {
    "id": "2756547e"
   },
   "source": [
    "# <span style=\"color: #008000;\">FEATURE ENGINEERING/SELECTION</span>"
   ]
  },
  {
   "cell_type": "markdown",
   "id": "c219b34e",
   "metadata": {
    "id": "dwh-fJmM7MF1"
   },
   "source": [
    "## finding the `difference in days` between first and last funding dates"
   ]
  },
  {
   "cell_type": "code",
   "execution_count": null,
   "id": "504f820b",
   "metadata": {
    "colab": {
     "base_uri": "https://localhost:8080/"
    },
    "id": "9a8d605a",
    "outputId": "6995d2c5-a000-45b6-ca2b-4c680b3a04af"
   },
   "outputs": [],
   "source": [
    "# finding the difference in days between first and last funding dates\n",
    "data['diff_funding_days'] = data['last_funding_at'] - data['first_funding_at']\n",
    "data['diff_funding_days'].value_counts()"
   ]
  },
  {
   "cell_type": "code",
   "execution_count": null,
   "id": "605c89a5",
   "metadata": {
    "colab": {
     "base_uri": "https://localhost:8080/"
    },
    "id": "e0152001",
    "outputId": "c6caa096-05ec-496e-824b-dc137f08e545"
   },
   "outputs": [],
   "source": [
    "data['diff_funding_days'].describe()\n",
    "# mean is 353 days which is about 1 year"
   ]
  },
  {
   "cell_type": "markdown",
   "id": "c1c06ddc",
   "metadata": {},
   "source": [
    "The mean is 353 days which is about 1 year"
   ]
  },
  {
   "cell_type": "markdown",
   "id": "162cf417",
   "metadata": {
    "id": "4WANiumC7xVr"
   },
   "source": [
    "## finding the `difference in months` between first and last funding dates"
   ]
  },
  {
   "cell_type": "code",
   "execution_count": null,
   "id": "23da75f9",
   "metadata": {
    "colab": {
     "base_uri": "https://localhost:8080/"
    },
    "id": "674c8540",
    "outputId": "723cbb50-faab-4259-80db-ab76a9333b52"
   },
   "outputs": [],
   "source": [
    "# turning the difference into months\n",
    "data['diff_funding_months'] = (data['last_funding_at'] - data['first_funding_at'])/np.timedelta64(1, 'M')\n",
    "\n",
    "data['diff_funding_months'].describe()"
   ]
  },
  {
   "cell_type": "markdown",
   "id": "64c71b14",
   "metadata": {},
   "source": [
    "The mean is 11.2 days which is about 12 months in a year"
   ]
  },
  {
   "cell_type": "markdown",
   "id": "8d8a2dac",
   "metadata": {
    "id": "kbTeHOmo7672"
   },
   "source": [
    "## creating new column for `total investment` and checking totals"
   ]
  },
  {
   "cell_type": "code",
   "execution_count": null,
   "id": "ea555e8d",
   "metadata": {
    "colab": {
     "base_uri": "https://localhost:8080/"
    },
    "id": "EdbnKcop5cBN",
    "outputId": "44f0ba1d-8bfc-472e-b02e-db6150feaafe"
   },
   "outputs": [],
   "source": [
    "# creating a new column for total investment\n",
    "data['total_investment'] = data['seed'] + data['venture'] + data['equity_crowdfunding'] + data['undisclosed'] + data['convertible_note'] + data['debt_financing'] + data['angel'] + data['grant'] + data['private_equity'] + data['post_ipo_equity'] + data['post_ipo_debt'] + data['secondary_market'] + data['product_crowdfunding']\n",
    "\n",
    "# calculating the total investment for each company\n",
    "data['total_investment'].describe()\n"
   ]
  },
  {
   "cell_type": "markdown",
   "id": "4d458f95",
   "metadata": {},
   "source": [
    "The `total_investment` column in the dataset contains information about the total investment amounts for each company. \n",
    "- Firstly, the dataset consists of 38,476 records, indicating a substantial amount of data. The mean total investment is approximately 13.9 million, suggesting a relatively high average investment amount across the companies. - - However, it's important to note the significant standard deviation of around 169.3 million, indicating a wide variation in investment sizes.\n",
    "- The minimum investment value is zero, which implies that there are companies with no reported investments. \n",
    "- On the other hand, the maximum investment amount is a staggering 30.1 billion, reflecting the presence of exceptionally well-funded companies in the dataset.\n",
    "- The 25th percentile (first quartile) is 64,968.50, indicating that a significant portion of companies have relatively low investment amounts. \n",
    "- The median (second quartile) is 1 million, representing the midpoint of the investment distribution, indicating that half of the companies received investments of at least this amount.\n",
    "- The 75th percentile (third quartile) is 7.0 million, indicating a substantial increase in investment amounts compared to the first quartile. This suggests that a significant number of companies received higher levels of funding. \n",
    "\n",
    "These statistics collectively emphasize the wide range of investment sizes observed in the dataset, with some companies securing large investments, while others received smaller or no investments."
   ]
  },
  {
   "cell_type": "markdown",
   "id": "9c7e5404",
   "metadata": {
    "id": "HQ5f7QBV8a8U"
   },
   "source": [
    "## Confirming total funding and investments are similar"
   ]
  },
  {
   "cell_type": "code",
   "execution_count": null,
   "id": "cfbe59f6",
   "metadata": {
    "colab": {
     "base_uri": "https://localhost:8080/"
    },
    "id": "rir2ssI58tNI",
    "outputId": "3c60a97c-b557-4636-a949-166719103870"
   },
   "outputs": [],
   "source": [
    "data['total_investment'].sum() # sum of total investment"
   ]
  },
  {
   "cell_type": "code",
   "execution_count": null,
   "id": "f0b6c275",
   "metadata": {
    "colab": {
     "base_uri": "https://localhost:8080/"
    },
    "id": "8Xhlh8Jp5cBf",
    "outputId": "f62a0da9-43d1-48e6-cee7-99be8410a193"
   },
   "outputs": [],
   "source": [
    "data['funding_total_usd'].sum() # confirming that funding total and total investment is the same . We can drop one of the columns"
   ]
  },
  {
   "cell_type": "markdown",
   "id": "9ca45d3f",
   "metadata": {},
   "source": [
    "They are same"
   ]
  },
  {
   "cell_type": "markdown",
   "id": "ea7b3fc7",
   "metadata": {
    "id": "rCAvjLb68_6k"
   },
   "source": [
    "## calculating how long it took them to get their first funding after being founded"
   ]
  },
  {
   "cell_type": "code",
   "execution_count": null,
   "id": "9bc145c2",
   "metadata": {
    "id": "N9367zaJ5cBg"
   },
   "outputs": [],
   "source": [
    "# calculating how long it took them to get their first funding after being founded\n",
    "data['diff_first_funding_months'] = (data['first_funding_at'] - data['founded_at'])/np.timedelta64(1, 'M')"
   ]
  },
  {
   "cell_type": "code",
   "execution_count": null,
   "id": "b4945ec9",
   "metadata": {
    "colab": {
     "base_uri": "https://localhost:8080/"
    },
    "id": "dQK06maE5cBh",
    "outputId": "d04ab70d-01f0-4246-9df8-9e20b52ee819"
   },
   "outputs": [],
   "source": [
    "data['diff_first_funding_months'].describe()\n",
    "#negative values shows that there is a founded date but there is no first funding date. Median is around 17 month and mean is around 43 months."
   ]
  },
  {
   "cell_type": "markdown",
   "id": "6559ea97",
   "metadata": {},
   "source": [
    "The negative values shows that there is a founded date but there is no first funding date. Median is around 17 month and mean is around 43 months"
   ]
  },
  {
   "cell_type": "markdown",
   "id": "027a1765",
   "metadata": {},
   "source": [
    "## dropping null values from specific columns"
   ]
  },
  {
   "cell_type": "code",
   "execution_count": null,
   "id": "2ade9b22",
   "metadata": {
    "id": "jpzRfytX5cBk"
   },
   "outputs": [],
   "source": [
    "# dropping null values from specific columns\n",
    "data = data.dropna(subset=['permalink', 'status', 'name', 'market', 'country_code', 'diff_funding_months'])"
   ]
  },
  {
   "cell_type": "code",
   "execution_count": null,
   "id": "8a698576",
   "metadata": {
    "colab": {
     "base_uri": "https://localhost:8080/"
    },
    "id": "ATiNAWph5cBl",
    "outputId": "467771b0-5d4e-43b8-bcd9-05bbcc396156"
   },
   "outputs": [],
   "source": [
    "# checking if there are any null values left\n",
    "data.isnull().sum()"
   ]
  },
  {
   "cell_type": "markdown",
   "id": "da381d80",
   "metadata": {},
   "source": [
    "There are no missing values"
   ]
  },
  {
   "cell_type": "code",
   "execution_count": null,
   "id": "9c6216d5",
   "metadata": {
    "colab": {
     "base_uri": "https://localhost:8080/"
    },
    "id": "V8cWaI-B5cBn",
    "outputId": "bc03550d-2926-4b5d-bcc5-d8377586c841"
   },
   "outputs": [],
   "source": [
    "# checking shape\n",
    "data.shape"
   ]
  },
  {
   "cell_type": "markdown",
   "id": "b7924760",
   "metadata": {
    "id": "Ac86YH4a-BS9"
   },
   "source": [
    "## making new column that has difference in funding in years"
   ]
  },
  {
   "cell_type": "code",
   "execution_count": null,
   "id": "f38791cb",
   "metadata": {
    "id": "2385267d"
   },
   "outputs": [],
   "source": [
    "# making new column that has difference in funding in years\n",
    "data['diff_funding_year'] = round(data['diff_funding_months']/12)"
   ]
  },
  {
   "cell_type": "code",
   "execution_count": null,
   "id": "a8d21835",
   "metadata": {
    "colab": {
     "base_uri": "https://localhost:8080/"
    },
    "id": "c3cf1958",
    "outputId": "b3bb3938-374d-4a06-f7c4-e6ae3ad686ed"
   },
   "outputs": [],
   "source": [
    "#number of companies with difference in funding years\n",
    "data.groupby(data['diff_funding_year'])['permalink'].count().sort_values(ascending = False).head(50)"
   ]
  },
  {
   "cell_type": "markdown",
   "id": "fc455143",
   "metadata": {},
   "source": [
    "There are not that many companies that has more than 14 year difference in funding"
   ]
  },
  {
   "cell_type": "markdown",
   "id": "a3b0703a",
   "metadata": {
    "id": "oEXLDQdV-Rfk"
   },
   "source": [
    "## Grouping Markets into Industries: Reducing Segment Diversity \n",
    "The list was being taken from here https://support.crunchbase.com/hc/en-us/articles/360043146954-What-Industries-are-included-in-Crunchbase-\n"
   ]
  },
  {
   "cell_type": "markdown",
   "id": "57e210eb",
   "metadata": {},
   "source": [
    "### checking number of unique market values"
   ]
  },
  {
   "cell_type": "code",
   "execution_count": null,
   "id": "754faa24",
   "metadata": {
    "colab": {
     "base_uri": "https://localhost:8080/"
    },
    "id": "veV29_1l5cBr",
    "outputId": "565ef156-29ba-4f8d-c413-3021588ef731"
   },
   "outputs": [],
   "source": [
    "print(data['market'].nunique()) # number of unique market values"
   ]
  },
  {
   "cell_type": "markdown",
   "id": "0f4c7d9c",
   "metadata": {},
   "source": [
    "That's a lot to deal with"
   ]
  },
  {
   "cell_type": "code",
   "execution_count": null,
   "id": "e387b4d7",
   "metadata": {
    "id": "CBTF3-HD5cBj"
   },
   "outputs": [],
   "source": [
    "# copying dataframe\n",
    "data_df = data.copy()"
   ]
  },
  {
   "cell_type": "markdown",
   "id": "cf0bbf6d",
   "metadata": {},
   "source": [
    "### Grouping markets accordng to the list provided by crunchbase"
   ]
  },
  {
   "cell_type": "code",
   "execution_count": null,
   "id": "6a034fd3",
   "metadata": {
    "id": "dgOFbCeK5cBs"
   },
   "outputs": [],
   "source": [
    "# Grouping markets\n",
    "admin_services = str('Employer Benefits Programs, Human Resource Automation, Corporate IT, Distribution, Service Providers, Archiving Service, Call Center, Collection Agency, College Recruiting, Courier Service, Debt Collections, Delivery, Document Preparation, Employee Benefits, Extermination Service, Facilities Support Services, Housekeeping Service, Human Resources, Knowledge Management, Office Administration, Packaging Services, Physical Security, Project Management, Staffing Agency, Trade Shows, Virtual Workforce').split(', ')\n",
    "advertising = str('Creative Industries, Promotional, Advertising Ad Exchange, Ad Network, Ad Retargeting, Ad Server, Ad Targeting, Advertising, Advertising Platforms, Affiliate Marketing, Local Advertising, Mobile Advertising, Outdoor Advertising, SEM, Social Media Advertising, Video Advertising').split(', ')\n",
    "agriculture = str('Agriculture, AgTech, Animal Feed, Aquaculture, Equestrian, Farming, Forestry, Horticulture, Hydroponics, Livestock').split(', ')\n",
    "app = str('Application Performance Monitoring, App Stores, Application Platforms, Enterprise Application, App Discovery, Apps, Consumer Applications, Enterprise Applications, Mobile Apps, Reading Apps, Web Apps').split(', ')\n",
    "artificial_intelli = str('Artificial Intelligence, Intelligent Systems, Machine Learning, Natural Language Processing, Predictive Analytics').split(', ')\n",
    "biotechnology = str('Synthetic Biology, Bio-Pharm, Bioinformatics, Biometrics, Biopharma, Biotechnology, Genetics, Life Science, Neuroscience, Quantified Self').split(', ')\n",
    "clothing = str('Fashion, Laundry and Dry-cleaning, Lingerie, Shoes').split(', ')\n",
    "shopping = str('Consumer Behavior, Customer Support Tools, Discounts, Reviews and Recommendations, Auctions, Classifieds, Collectibles, Consumer Reviews, Coupons, E-Commerce, E-Commerce Platforms, Flash Sale, Gift, Gift Card, Gift Exchange, Gift Registry, Group Buying, Local Shopping, Made to Order, Marketplace, Online Auctions, Personalization, Point of Sale, Price Comparison, Rental, Retail, Retail Technology, Shopping, Shopping Mall, Social Shopping, Sporting Goods, Vending and Concessions, Virtual Goods, Wholesale').split(', ')\n",
    "community = str(\"Self Development, Sex, Forums, Match-Making, Babies, Identity, Women, Kids, Entrepreneur, Networking, Adult, Baby, Cannabis, Children, Communities, Dating, Elderly, Family, Funerals, Humanitarian, Leisure, LGBT, Lifestyle, Men's, Online Forums, Parenting, Pet, Private Social Networking, Professional Networking, Q&A, Religion, Retirement, Sex Industry, Sex Tech, Social, Social Entrepreneurship, Teenagers, Virtual World, Wedding, Women's, Young Adults\").split(', ')\n",
    "electronics  = str('Mac, iPod Touch, Tablets, iPad, iPhone, Computer, Consumer Electronics, Drones, Electronics, Google Glass, Mobile Devices, Nintendo, Playstation, Roku, Smart Home, Wearables, Windows Phone, Xbox').split(', ')\n",
    "consumer_goods= str('Commodities, Sunglasses, Groceries, Batteries, Cars, Beauty, Comics, Consumer Goods, Cosmetics, DIY, Drones, Eyewear, Fast-Moving Consumer Goods, Flowers, Furniture, Green Consumer Goods, Handmade, Jewelry, Lingerie, Shoes, Tobacco, Toys').split(', ')\n",
    "content = str('E-Books, MicroBlogging, Opinions, Blogging Platforms, Content Delivery Network, Content Discovery, Content Syndication, Creative Agency, DRM, EBooks, Journalism, News, Photo Editing, Photo Sharing, Photography, Printing, Publishing, Social Bookmarking, Video Editing, Video Streaming').split(', ')\n",
    "data = str('Optimization, A/B Testing, Analytics, Application Performance Management, Artificial Intelligence, Big Data, Bioinformatics, Biometrics, Business Intelligence, Consumer Research, Data Integration, Data Mining, Data Visualization, Database, Facial Recognition, Geospatial, Image Recognition, Intelligent Systems, Location Based Services, Machine Learning, Market Research, Natural Language Processing, Predictive Analytics, Product Research, Quantified Self, Speech Recognition, Test and Measurement, Text Analytics, Usability Testing').split(', ')\n",
    "design = str('Visualization, Graphics, Design, Designers, CAD, Consumer Research, Data Visualization, Fashion, Graphic Design, Human Computer Interaction, Industrial Design, Interior Design, Market Research, Mechanical Design, Product Design, Product Research, Usability Testing, UX Design, Web Design').split(', ')\n",
    "education = str('Universities, College Campuses, University Students, High Schools, All Students, Colleges, Alumni, Charter Schools, College Recruiting, Continuing Education, Corporate Training, E-Learning, EdTech, Education, Edutainment, Higher Education, Language Learning, MOOC, Music Education, Personal Development, Primary Education, Secondary Education, Skill Assessment, STEM Education, Textbook, Training, Tutoring, Vocational Education').split(', ')\n",
    "energy = str('Gas, Natural Gas Uses, Oil, Oil & Gas, Battery, Biofuel, Biomass Energy, Clean Energy, Electrical Distribution, Energy, Energy Efficiency, Energy Management, Energy Storage, Fossil Fuels, Fuel, Fuel Cell, Oil and Gas, Power Grid, Renewable Energy, Solar, Wind Energy').split(', ')\n",
    "events = str('Concerts, Event Management, Event Promotion, Events, Nightclubs, Nightlife, Reservations, Ticketing, Wedding').split(', ')\n",
    "financial = str('Debt Collecting, P2P Money Transfer, Investment Management, Trading, Accounting, Angel Investment, Asset Management, Auto Insurance, Banking, Bitcoin, Commercial Insurance, Commercial Lending, Consumer Lending, Credit, Credit Bureau, Credit Cards, Crowdfunding, Cryptocurrency, Debit Cards, Debt Collections, Finance, Financial Exchanges, Financial Services, FinTech, Fraud Detection, Funding Platform, Gift Card, Health Insurance, Hedge Funds, Impact Investing, Incubators, Insurance, InsurTech, Leasing, Lending, Life Insurance, Micro Lending, Mobile Payments, Payments, Personal Finance, Prediction Markets, Property Insurance, Real Estate Investment, Stock Exchanges, Trading Platform, Transaction Processing, Venture Capital, Virtual Currency, Wealth Management').split(', ')\n",
    "food = str('Specialty Foods, Bakery, Brewing, Cannabis, Catering, Coffee, Confectionery, Cooking, Craft Beer, Dietary Supplements, Distillery, Farmers Market, Food and Beverage, Food Delivery, Food Processing, Food Trucks, Fruit, Grocery, Nutrition, Organic Food, Recipes, Restaurants, Seafood, Snack Food, Tea, Tobacco, Wine And Spirits, Winery').split(', ')\n",
    "gaming = str('Game, Games, Casual Games, Console Games, Contests, Fantasy Sports, Gambling, Gamification, Gaming, MMO Games, Online Games, PC Games, Serious Games, Video Games').split(', ')\n",
    "government = str('Polling, Governance, CivicTech, Government, GovTech, Law Enforcement, Military, National Security, Politics, Public Safety, Social Assistance').split(', ')\n",
    "hardware= str('Cable, 3D, 3D Technology, Application Specific Integrated Circuit (ASIC), Augmented Reality, Cloud Infrastructure, Communication Hardware, Communications Infrastructure, Computer, Computer Vision, Consumer Electronics, Data Center, Data Center Automation, Data Storage, Drone Management, Drones, DSP, Electronic Design Automation (EDA), Electronics, Embedded Systems, Field-Programmable Gate Array (FPGA), Flash Storage, Google Glass, GPS, GPU, Hardware, Industrial Design, Laser, Lighting, Mechanical Design, Mobile Devices, Network Hardware, NFC, Nintendo, Optical Communication, Playstation, Private Cloud, Retail Technology, RFID, RISC, Robotics, Roku, Satellite Communication, Semiconductor, Sensor, Sex Tech, Telecommunications, Video Conferencing, Virtual Reality, Virtualization, Wearables, Windows Phone, Wireless, Xbox').split(', ')\n",
    "health_care = str('Senior Health, Physicians, Electronic Health Records, Doctors, Healthcare Services, Diagnostics, Alternative Medicine, Assisted Living, Assistive Technology, Biopharma, Cannabis, Child Care, Clinical Trials, Cosmetic Surgery, Dental, Diabetes, Dietary Supplements, Elder Care, Electronic Health Record (EHR), Emergency Medicine, Employee Benefits, Fertility, First Aid, Funerals, Genetics, Health Care, Health Diagnostics, Home Health Care, Hospital, Medical, Medical Device, mHealth, Nursing and Residential Care, Nutraceutical, Nutrition, Outpatient Care, Personal Health, Pharmaceutical, Psychology, Rehabilitation, Therapeutics, Veterinary, Wellness').split(', ')\n",
    "it = str('Distributors, Algorithms, ICT, M2M, Technology, Business Information Systems, CivicTech, Cloud Data Services, Cloud Management, Cloud Security, CMS, Contact Management, CRM, Cyber Security, Data Center, Data Center Automation, Data Integration, Data Mining, Data Visualization, Document Management, E-Signature, Email, GovTech, Identity Management, Information and Communications Technology (ICT), Information Services, Information Technology, Intrusion Detection, IT Infrastructure, IT Management, Management Information Systems, Messaging, Military, Network Security, Penetration Testing, Private Cloud, Reputation, Sales Automation, Scheduling, Social CRM, Spam Filtering, Technical Support, Unified Communications, Video Chat, Video Conferencing, Virtualization, VoIP').split(', ')\n",
    "internet = str('Online Identity, Cyber, Portals, Web Presence Management, Domains, Tracking, Web Tools, Curated Web, Search, Cloud Computing, Cloud Data Services, Cloud Infrastructure, Cloud Management, Cloud Storage, Darknet, Domain Registrar, E-Commerce Platforms, Ediscovery, Email, Internet, Internet of Things, ISP, Location Based Services, Messaging, Music Streaming, Online Forums, Online Portals, Private Cloud, Product Search, Search Engine, SEM, Semantic Search, Semantic Web, SEO, SMS, Social Media, Social Media Management, Social Network, Unified Communications, Vertical Search, Video Chat, Video Conferencing, Visual Search, VoIP, Web Browsers, Web Hosting').split(', ')\n",
    "invest = str('Angel Investment, Banking, Commercial Lending, Consumer Lending, Credit, Credit Cards, Financial Exchanges, Funding Platform, Hedge Funds, Impact Investing, Incubators, Micro Lending, Stock Exchanges, Trading Platform, Venture Capital').split(', ')\n",
    "manufacturing = str('Innovation Engineering, Civil Engineers, Heavy Industry, Engineering Firms, Systems, 3D Printing, Advanced Materials, Foundries, Industrial, Industrial Automation, Industrial Engineering, Industrial Manufacturing, Machinery Manufacturing, Manufacturing, Paper Manufacturing, Plastics and Rubber Manufacturing, Textiles, Wood Processing').split(', ')\n",
    "media = str('Writers, Creative, Television, Entertainment, Media, Advice, Animation, Art, Audio, Audiobooks, Blogging Platforms, Broadcasting, Celebrity, Concerts, Content, Content Creators, Content Discovery, Content Syndication, Creative Agency, Digital Entertainment, Digital Media, DRM, EBooks, Edutainment, Event Management, Event Promotion, Events, Film, Film Distribution, Film Production, Guides, In-Flight Entertainment, Independent Music, Internet Radio, Journalism, Media and Entertainment, Motion Capture, Music, Music Education, Music Label, Music Streaming, Music Venues, Musical Instruments, News, Nightclubs, Nightlife, Performing Arts, Photo Editing, Photo Sharing, Photography, Podcast, Printing, Publishing, Reservations, Social Media, Social News, Theatre, Ticketing, TV, TV Production, Video, Video Editing, Video on Demand, Video Streaming, Virtual World').split(', ')\n",
    "message = str('Unifed Communications, Chat, Email, Meeting Software, Messaging, SMS, Unified Communications, Video Chat, Video Conferencing, VoIP, Wired Telecommunications').split(', ')\n",
    "mobile = str('Android, Google Glass, iOS, mHealth, Mobile, Mobile Apps, Mobile Devices, Mobile Payments, Windows Phone, Wireless').split(', ')\n",
    "music = str('Audio, Audiobooks, Independent Music, Internet Radio, Music, Music Education, Music Label, Music Streaming, Musical Instruments, Podcast').split(', ')\n",
    "resource = str('Biofuel, Biomass Energy, Fossil Fuels, Mineral, Mining, Mining Technology, Natural Resources, Oil and Gas, Precious Metals, Solar, Timber, Water, Wind Energy').split(', ')\n",
    "navigation = str('Maps, Geospatial, GPS, Indoor Positioning, Location Based Services, Mapping Services, Navigation').split(', ')\n",
    "other = str('Mass Customization, Monetization, Testing, Subscription Businesses, Mobility, Incentives, Peer-to-Peer, Nonprofits, Alumni, Association, B2B, B2C, Blockchain, Charity, Collaboration, Collaborative Consumption, Commercial, Consumer, Crowdsourcing, Customer Service, Desktop Apps, Emerging Markets, Enterprise, Ethereum, Franchise, Freemium, Generation Y, Generation Z, Homeless Shelter, Infrastructure, Knowledge Management, LGBT Millennials, Non Profit, Peer to Peer, Professional Services, Project Management, Real Time, Retirement, Service Industry, Sharing Economy, Small and Medium Businesses, Social Bookmarking, Social Impact, Subscription Service, Technical Support, Underserved Children, Universities').split(', ')\n",
    "payment = str('Billing, Bitcoin, Credit Cards, Cryptocurrency, Debit Cards, Fraud Detection, Mobile Payments, Payments, Transaction Processing, Virtual Currency').split(', ')\n",
    "platforms = str('Development Platforms, Android, Facebook, Google, Google Glass, iOS, Linux, macOS, Nintendo, Operating Systems, Playstation, Roku, Tizen, Twitter, WebOS, Windows, Windows Phone, Xbox').split(', ')\n",
    "privacy = str('Digital Rights Management, Personal Data, Cloud Security, Corrections Facilities, Cyber Security, DRM, E-Signature, Fraud Detection, Homeland Security, Identity Management, Intrusion Detection, Law Enforcement, Network Security, Penetration Testing, Physical Security, Privacy, Security').split(', ')\n",
    "services = str('Funeral Industry, English-Speaking, Spas, Plumbers, Service Industries, Staffing Firms, Translation, Career Management, Business Services, Services, Accounting, Business Development, Career Planning, Compliance, Consulting, Customer Service, Employment, Environmental Consulting, Field Support, Freelance, Intellectual Property, Innovation Management, Legal, Legal Tech, Management Consulting, Outsourcing, Professional Networking, Quality Assurance, Recruiting, Risk Management, Social Recruiting, Translation Service').split(', ')\n",
    "realestate= str('Office Space, Self Storage, Brokers, Storage, Home Owners, Self Storage , Realtors, Home & Garden, Utilities, Home Automation, Architecture, Building Maintenance, Building Material, Commercial Real Estate, Construction, Coworking, Facility Management, Fast-Moving Consumer Goods, Green Building, Home and Garden, Home Decor, Home Improvement, Home Renovation, Home Services, Interior Design, Janitorial Service, Landscaping, Property Development, Property Management, Real Estate, Real Estate Investment, Rental Property, Residential, Self-Storage, Smart Building, Smart Cities, Smart Home, Timeshare, Vacation Rental').split(', ')\n",
    "sales = str('Advertising, Affiliate Marketing, App Discovery, App Marketing, Brand Marketing, Cause Marketing, Content Marketing, CRM, Digital Marketing, Digital Signage, Direct Marketing, Direct Sales, Email Marketing, Lead Generation, Lead Management, Local, Local Advertising, Local Business, Loyalty Programs, Marketing, Marketing Automation, Mobile Advertising, Multi-level Marketing, Outdoor Advertising, Personal Branding, Public Relations, Sales, Sales Automation, SEM, SEO, Social CRM, Social Media Advertising, Social Media Management, Social Media Marketing, Sponsorship, Video Advertising').split(', ')\n",
    "science = str('Face Recognition, New Technologies, Advanced Materials, Aerospace, Artificial Intelligence, Bioinformatics, Biometrics, Biopharma, Biotechnology, Chemical, Chemical Engineering, Civil Engineering, Embedded Systems, Environmental Engineering, Human Computer Interaction, Industrial Automation, Industrial Engineering, Intelligent Systems, Laser, Life Science, Marine Technology, Mechanical Engineering, Nanotechnology, Neuroscience, Nuclear, Quantum Computing, Robotics, Semiconductor, Software Engineering, STEM Education').split(', ')\n",
    "software = str('Business Productivity, 3D Technology, Android, App Discovery, Application Performance Management, Apps, Artificial Intelligence, Augmented Reality, Billing, Bitcoin, Browser Extensions, CAD, Cloud Computing, Cloud Management, CMS, Computer Vision, Consumer Applications, Consumer Software, Contact Management, CRM, Cryptocurrency, Data Center Automation, Data Integration, Data Storage, Data Visualization, Database, Developer APIs, Developer Platform, Developer Tools, Document Management, Drone Management, E-Learning, EdTech, Electronic Design Automation (EDA), Embedded Software, Embedded Systems, Enterprise Applications, Enterprise Resource Planning (ERP), Enterprise Software, Facial Recognition, File Sharing, IaaS, Image Recognition, iOS, Linux, Machine Learning, macOS, Marketing Automation, Meeting Software, Mobile Apps, Mobile Payments, MOOC, Natural Language Processing, Open Source, Operating Systems, PaaS, Predictive Analytics, Presentation Software, Presentations, Private Cloud, Productivity Tools, QR Codes, Reading Apps, Retail Technology, Robotics, SaaS, Sales Automation, Scheduling, Sex Tech, Simulation, SNS, Social CRM, Software, Software Engineering, Speech Recognition, Task Management, Text Analytics, Transaction Processing, Video Conferencing, Virtual Assistant, Virtual Currency, Virtual Desktop, Virtual Goods, Virtual Reality, Virtual World, Virtualization, Web Apps, Web Browsers, Web Development').split(', ')\n",
    "sports = str('American Football, Baseball, Basketball, Boating, Cricket, Cycling, Diving, eSports, Fantasy Sports, Fitness, Golf, Hockey, Hunting, Outdoors, Racing, Recreation, Rugby, Sailing, Skiing, Soccer, Sporting Goods, Sports, Surfing, Swimming, Table Tennis, Tennis, Ultimate Frisbee, Volley Ball').split(', ')\n",
    "sustainability = str('Green, Wind, Biomass Power Generation, Renewable Tech, Environmental Innovation, Renewable Energies, Clean Technology, Biofuel, Biomass Energy, Clean Energy, CleanTech, Energy Efficiency, Environmental Engineering, Green Building, Green Consumer Goods, GreenTech, Natural Resources, Organic, Pollution Control, Recycling, Renewable Energy, Solar, Sustainability, Waste Management, Water Purification, Wind Energy').split(', ')\n",
    "transportation = str('Taxis, Air Transportation, Automotive, Autonomous Vehicles, Car Sharing, Courier Service, Delivery Service, Electric Vehicle, Ferry Service, Fleet Management, Food Delivery, Freight Service, Last Mile Transportation, Limousine Service, Logistics, Marine Transportation, Parking, Ports and Harbors, Procurement, Public Transportation, Railroad, Recreational Vehicles, Ride Sharing, Same Day Delivery, Shipping, Shipping Broker, Space Travel, Supply Chain Management, Taxi Service, Transportation, Warehousing, Water Transportation').split(', ')\n",
    "travel = str('Adventure Travel, Amusement Park and Arcade, Business Travel, Casino, Hospitality, Hotel, Museums and Historical Sites, Parks, Resorts, Timeshare, Tour Operator, Tourism, Travel, Travel Accommodations, Travel Agency, Vacation Rental').split(', ')\n",
    "video = str('Animation, Broadcasting, Film, Film Distribution, Film Production, Motion Capture, TV, TV Production, Video, Video Editing, Video on Demand, Video Streaming').split(', ')"
   ]
  },
  {
   "cell_type": "markdown",
   "id": "26051338",
   "metadata": {
    "id": "UVaCKjfE-g7d"
   },
   "source": [
    "### Making new column called  `Industry group` to hold the segments"
   ]
  },
  {
   "cell_type": "code",
   "execution_count": null,
   "id": "88929901",
   "metadata": {
    "id": "7dZ0dKrm5cBy"
   },
   "outputs": [],
   "source": [
    "import re\n",
    "import numpy as np\n",
    "\n",
    "#Making new column called  Industry group\n",
    "data_df['Industry_Group'] = np.where(data_df.market.str.contains('|'.join(admin_services), flags=re.IGNORECASE), \"Administrative Services\",\n",
    "                               np.where(data_df.market.str.contains('|'.join(software), flags=re.IGNORECASE), \"Software\",\n",
    "                               np.where(data_df.market.str.contains('|'.join(advertising), flags=re.IGNORECASE), \"Advertising\",\n",
    "                               np.where(data_df.market.str.contains('|'.join(agriculture), flags=re.IGNORECASE), \"Agriculture and Farming\",\n",
    "                               np.where(data_df.market.str.contains('|'.join(app), flags=re.IGNORECASE), \"Apps\",\n",
    "                               np.where(data_df.market.str.contains('|'.join(artificial_intelli), flags=re.IGNORECASE), \"Artificial Intelligence\",\n",
    "                               np.where(data_df.market.str.contains('|'.join(biotechnology), flags=re.IGNORECASE), \"Biotechnology\",\n",
    "                               np.where(data_df.market.str.contains('|'.join(clothing), flags=re.IGNORECASE), \"Clothing and Apparel\",\n",
    "                               np.where(data_df.market.str.contains('|'.join(shopping), flags=re.IGNORECASE), \"Commerce and Shopping\",\n",
    "                               np.where(data_df.market.str.contains('|'.join(community), flags=re.IGNORECASE), \"Community and Lifestyle\",\n",
    "                               np.where(data_df.market.str.contains('|'.join(electronics), flags=re.IGNORECASE), \"Consumer Electronics\",\n",
    "                               np.where(data_df.market.str.contains('|'.join(consumer_goods), flags=re.IGNORECASE), \"Consumer Goods\",\n",
    "                               np.where(data_df.market.str.contains('|'.join(content), flags=re.IGNORECASE), \"Content and Publishing\",\n",
    "                               np.where(data_df.market.str.contains('|'.join(data), flags=re.IGNORECASE), \"Data and Analytics\",\n",
    "                               np.where(data_df.market.str.contains('|'.join(design), flags=re.IGNORECASE), \"Design\",\n",
    "                               np.where(data_df.market.str.contains('|'.join(education), flags=re.IGNORECASE), \"Education\",\n",
    "                               np.where(data_df.market.str.contains('|'.join(energy), flags=re.IGNORECASE), \"Energy\",\n",
    "                               np.where(data_df.market.str.contains('|'.join(events), flags=re.IGNORECASE), \"Events\",\n",
    "                               np.where(data_df.market.str.contains('|'.join(financial), flags=re.IGNORECASE), \"Financial Services\",\n",
    "                               np.where(data_df.market.str.contains('|'.join(food), flags=re.IGNORECASE), \"Food and Beverage\",\n",
    "                               np.where(data_df.market.str.contains('|'.join(gaming), flags=re.IGNORECASE), \"Gaming\",\n",
    "                               np.where(data_df.market.str.contains('|'.join(government), flags=re.IGNORECASE), \"Government and Military\",\n",
    "                               np.where(data_df.market.str.contains('|'.join(hardware), flags=re.IGNORECASE), \"Hardware\",\n",
    "                               np.where(data_df.market.str.contains('|'.join(health_care), flags=re.IGNORECASE), \"Health Care\",\n",
    "                               np.where(data_df.market.str.contains('|'.join(it), flags=re.IGNORECASE), \"Information Technology\",\n",
    "                               np.where(data_df.market.str.contains('|'.join(internet), flags=re.IGNORECASE), \"Internet Services\",\n",
    "                               np.where(data_df.market.str.contains('|'.join(invest), flags=re.IGNORECASE), \"Lending and Investments\",\n",
    "                               np.where(data_df.market.str.contains('|'.join(manufacturing), flags=re.IGNORECASE), \"Manufacturing\",\n",
    "                               np.where(data_df.market.str.contains('|'.join(media), flags=re.IGNORECASE), \"Media and Entertainment\",\n",
    "                               np.where(data_df.market.str.contains('|'.join(message), flags=re.IGNORECASE), \"Messaging and Telecommunication\",\n",
    "                               np.where(data_df.market.str.contains('|'.join(mobile), flags=re.IGNORECASE), \"Mobile\",\n",
    "                               np.where(data_df.market.str.contains('|'.join(music), flags=re.IGNORECASE), \"Music and Audio\",\n",
    "                               np.where(data_df.market.str.contains('|'.join(resource), flags=re.IGNORECASE), \"Natural Resources\",\n",
    "                               np.where(data_df.market.str.contains('|'.join(navigation), flags=re.IGNORECASE), \"Navigation and Mapping\",\n",
    "                               np.where(data_df.market.str.contains('|'.join(payment), flags=re.IGNORECASE), \"Payments\",\n",
    "                               np.where(data_df.market.str.contains('|'.join(platforms), flags=re.IGNORECASE), \"Platforms\",\n",
    "                               np.where(data_df.market.str.contains('|'.join(privacy), flags=re.IGNORECASE), \"Privacy and Security\",\n",
    "                               np.where(data_df.market.str.contains('|'.join(services), flags=re.IGNORECASE), \"Professional Services\",\n",
    "                               np.where(data_df.market.str.contains('|'.join(realestate), flags=re.IGNORECASE), \"Real Estate\",\n",
    "                               np.where(data_df.market.str.contains('|'.join(sales), flags=re.IGNORECASE), \"Sales and Marketing\",\n",
    "                               np.where(data_df.market.str.contains('|'.join(science), flags=re.IGNORECASE), \"Science and Engineering\",\n",
    "                               np.where(data_df.market.str.contains('|'.join(sports), flags=re.IGNORECASE), \"Sports\",\n",
    "                               np.where(data_df.market.str.contains('|'.join(sustainability), flags=re.IGNORECASE), \"Sustainability\",\n",
    "                               np.where(data_df.market.str.contains('|'.join(transportation), flags=re.IGNORECASE), \"Transportation\",\n",
    "                               np.where(data_df.market.str.contains('|'.join(travel), flags=re.IGNORECASE), \"Travel and Tourism\",\n",
    "                               np.where(data_df.market.str.contains('|'.join(video), flags=re.IGNORECASE), \"Video\",\n",
    "                               np.where(data_df.market.str.contains('|'.join(other), flags=re.IGNORECASE), \"Other\",  \"Other\")))))))))))))))))))))))))))))))))))))))))))))))"
   ]
  },
  {
   "cell_type": "markdown",
   "id": "434b9672",
   "metadata": {
    "id": "ZcwjZqq4-vUh"
   },
   "source": [
    "### Getting the new market groupings"
   ]
  },
  {
   "cell_type": "markdown",
   "id": "9b57287e",
   "metadata": {},
   "source": [
    "**Industry groups unique values**"
   ]
  },
  {
   "cell_type": "code",
   "execution_count": null,
   "id": "897b318f",
   "metadata": {
    "colab": {
     "base_uri": "https://localhost:8080/"
    },
    "id": "WvmEARqT5cB1",
    "outputId": "03463f2c-196f-434d-9afa-9fb01c302174"
   },
   "outputs": [],
   "source": [
    "#Industry groups unique values\n",
    "data_df['Industry_Group'].unique()"
   ]
  },
  {
   "cell_type": "markdown",
   "id": "afeeb95e",
   "metadata": {},
   "source": [
    "**number of industry groups**"
   ]
  },
  {
   "cell_type": "code",
   "execution_count": null,
   "id": "ddb6d5bb",
   "metadata": {
    "colab": {
     "base_uri": "https://localhost:8080/"
    },
    "id": "831a98dc",
    "outputId": "0cab613e-b036-41b5-b811-dbb35464b85c"
   },
   "outputs": [],
   "source": [
    "# number of industry groups\n",
    "data_df['Industry_Group'].nunique()"
   ]
  },
  {
   "cell_type": "markdown",
   "id": "3749593d",
   "metadata": {},
   "source": [
    "**number of companies in each industry group**"
   ]
  },
  {
   "cell_type": "code",
   "execution_count": null,
   "id": "bc338550",
   "metadata": {
    "colab": {
     "base_uri": "https://localhost:8080/"
    },
    "id": "cavOLyWm5cB3",
    "outputId": "475c22da-ec91-49ed-fdb1-0600ea08d201"
   },
   "outputs": [],
   "source": [
    "#number of companies in each industry group\n",
    "data_df.groupby(by = ['Industry_Group'])['permalink'].count().sort_values(ascending = False)\n"
   ]
  },
  {
   "cell_type": "markdown",
   "id": "a8e0db39",
   "metadata": {
    "id": "vXiGty9fKopm"
   },
   "source": [
    "The industry group data provides insights into the distribution of startups across different industry segments.The top industry groups include `Software`, `Biotechnology`, `Internet Services`, and `Health Care`, indicating their prominence in the startup ecosystem. \n",
    "\n",
    "The list also encompasses diverse sectors such as `Commerce` and `Shopping`, `Mobile`, `Community and Lifestyle`, and `Information Technology`. It's interesting to note that `Advertising`, `Media` and `Entertainment`, `Financial Services`, and `Gaming` also have a significant presence. Additionally, sectors like `Data and Analytics`, `Education`, `Manufacturing`, and `Real Estate` contribute to the startup landscape. \n",
    "\n",
    "The industry groups reflect a wide range of sectors, highlighting the diverse nature of startup ventures and their impact on various industries."
   ]
  },
  {
   "cell_type": "markdown",
   "id": "76b704e3",
   "metadata": {},
   "source": [
    "## summary statistics for various funding variables"
   ]
  },
  {
   "cell_type": "code",
   "execution_count": null,
   "id": "85ffb5c0",
   "metadata": {
    "id": "siBR-dhX5cB5"
   },
   "outputs": [],
   "source": [
    "df2 = data_df.copy() # copying the data_df"
   ]
  },
  {
   "cell_type": "code",
   "execution_count": null,
   "id": "e9db96de",
   "metadata": {
    "colab": {
     "base_uri": "https://localhost:8080/",
     "height": 802
    },
    "id": "wQlWtHbq5cB6",
    "outputId": "46770ef4-2035-4057-b8fb-9cb719a1ec6a"
   },
   "outputs": [],
   "source": [
    "df2[['funding_rounds', 'seed', 'venture', 'equity_crowdfunding',\n",
    "       'undisclosed', 'convertible_note', 'debt_financing', 'angel', 'grant',\n",
    "       'private_equity', 'post_ipo_equity', 'post_ipo_debt',\n",
    "       'secondary_market', 'product_crowdfunding', 'round_A', 'round_B',\n",
    "       'round_C', 'round_D', 'round_E', 'round_F', 'round_G', 'round_H',\n",
    "       'diff_funding_year', 'total_investment']].describe().T"
   ]
  },
  {
   "cell_type": "markdown",
   "id": "04520a55",
   "metadata": {},
   "source": [
    "The summary statistics for various funding variables provide valuable insights into the investment landscape of startups. Here are some important points:\n",
    "\n",
    "- `Funding Rounds`: On average, startups have approximately 1.79 funding rounds, with a minimum of 1 and a maximum of 18. This indicates that most startups go through at least one round of funding.\n",
    "- `Seed Funding`: The average seed funding amount is approximately 244,750, with a wide range of values from 0 to 100 million. Seed funding plays a crucial role in getting startups off the ground.\n",
    "- `Venture Funding`: The average venture funding received by startups is around 8.16 million, with a maximum value of 2.35 billion. Venture funding is a significant source of capital for startups to scale and expand their operations.\n",
    "- `Debt Financing`: Startups have an average debt financing of 1.97 million, with a maximum value of 30.08 billion. Debt financing is often used by startups to fund their operations and growth.\n",
    "- `Total Investment`: The average total investment received by startups is approximately 13.88 million, with a wide range of values from 0 to 30.08 billion. This metric captures the cumulative investment across various funding sources.\n",
    "\n",
    "Overall, the summary statistics highlight the varying scales of funding received by startups, ranging from small seed investments to large venture capital rounds. The total investment amount represents the overall financial backing that startups accumulate during their growth journey."
   ]
  },
  {
   "cell_type": "markdown",
   "id": "1ce9582a",
   "metadata": {},
   "source": [
    "## labeling total investment values as low, low medium, high medium and high based on their descriptive summary."
   ]
  },
  {
   "cell_type": "code",
   "execution_count": null,
   "id": "ddeee02b",
   "metadata": {
    "id": "T_vXCIfk5cB8"
   },
   "outputs": [],
   "source": [
    "#labeling total investment values as low, low medium, high medium and high based on their descriptive summary.\n",
    "cat_invest = pd.cut(df2.total_investment, bins = [-1, 112500, 1400300, 8205200, 40079503000], labels=['low','low_medium','high_medium','high'])\n",
    "\n",
    "# creating new column called cat_total_investment\n",
    "df2.insert(0,'cat_total_investment',cat_invest)"
   ]
  },
  {
   "cell_type": "markdown",
   "id": "6160cc85",
   "metadata": {},
   "source": [
    "## labeling diff_funding_year as low and high based on their descriptive summary."
   ]
  },
  {
   "cell_type": "code",
   "execution_count": null,
   "id": "548989c3",
   "metadata": {
    "id": "KnWgav1D5cB9"
   },
   "outputs": [],
   "source": [
    "#labeling diff_funding_year as low and high based on their descriptive summary.\n",
    "cat_diff_funding_year = pd.cut(df2.diff_funding_year, bins = [-1, 2, 49], labels=['low','high'])\n",
    "\n",
    "# creating new column called cat_diff_funding_year\n",
    "df2.insert(0,'cat_diff_funding_year',cat_diff_funding_year)"
   ]
  },
  {
   "cell_type": "markdown",
   "id": "b295505d",
   "metadata": {},
   "source": [
    "## labeling funding_rounds as low and high based on their descriptive summary."
   ]
  },
  {
   "cell_type": "code",
   "execution_count": null,
   "id": "650d9ddc",
   "metadata": {
    "id": "WCKXCDSs5cCB"
   },
   "outputs": [],
   "source": [
    "#labeling funding_rounds as low and high based on their descriptive summary.\n",
    "cat_funding_rounds = pd.cut(df2.funding_rounds, bins = [-1, 2, 20], labels=['low','high'])\n",
    "\n",
    "# creating new column called cat_funding_rounds\n",
    "df2.insert(0,'cat_funding_rounds',cat_funding_rounds)"
   ]
  },
  {
   "cell_type": "markdown",
   "id": "8db37f55",
   "metadata": {},
   "source": [
    "## labeling seed as low and high  based on their descriptive summary."
   ]
  },
  {
   "cell_type": "code",
   "execution_count": null,
   "id": "8f8f3b7e",
   "metadata": {
    "id": "1485dc09"
   },
   "outputs": [],
   "source": [
    "#labeling seed as low and high  based on their descriptive summary.\n",
    "cat_seed = pd.cut(df2.seed, bins = [-1, 28000, 140000000], labels=['low','high'])\n",
    "\n",
    "# creating new column called cat_seed\n",
    "df2.insert(0,'cat_seed',cat_seed)"
   ]
  },
  {
   "cell_type": "markdown",
   "id": "97b5bba5",
   "metadata": {},
   "source": [
    "## labeling venture as low, medium and high based on their descriptive summary."
   ]
  },
  {
   "cell_type": "code",
   "execution_count": null,
   "id": "d60ea6a3",
   "metadata": {
    "id": "FafbFxSE5cCF"
   },
   "outputs": [],
   "source": [
    "#labeling venture as low, medium and high based on their descriptive summary.\n",
    "cat_venture = pd.cut(df2.venture, bins = [-1, 85038.5, 6000000, 2451000000], labels=['low','medium','high'])\n",
    "\n",
    "# creating new column called cat_venture\n",
    "df2.insert(0,'cat_venture',cat_venture)"
   ]
  },
  {
   "cell_type": "markdown",
   "id": "ec1e77eb",
   "metadata": {},
   "source": [
    "## fixing the categorical columns  into numerical values so that we can use it on the model"
   ]
  },
  {
   "cell_type": "code",
   "execution_count": null,
   "id": "f411a72b",
   "metadata": {
    "id": "iwCt4U595cCG"
   },
   "outputs": [],
   "source": [
    "# fixing the categorical columns  into numerical values so that we can use it on the model\n",
    "\n",
    "df2['cat_status'] = df2['status'].replace(['closed', 'operating', 'acquired'], [0, 1, 2])\n",
    "df2['cat_total_investment'] = df2['cat_total_investment'].replace(['low','low_medium','high_medium','high'], [0, 1, 2, 3])\n",
    "df2['cat_diff_funding_year'] = df2['cat_diff_funding_year'].replace(['low', 'high'], [0, 1])\n",
    "df2['cat_funding_rounds'] = df2['cat_funding_rounds'].replace(['low', 'high'], [0, 1])\n",
    "df2['cat_seed'] = df2['cat_seed'].replace(['low', 'high'], [0, 1])\n",
    "df2['cat_venture'] = df2['cat_venture'].replace(['low','medium','high'], [0, 1, 2])"
   ]
  },
  {
   "cell_type": "markdown",
   "id": "4ce25313",
   "metadata": {},
   "source": [
    "## Creating New Categories for Zero and Non-Zero Values in Money Columns\n",
    "\n",
    "To handle the abundance of zero values in the money columns, we are creating new categorical variables to differentiate between zero (0) and non-zero values. This approach allows us to categorize the data into two distinct groups, simplifying the analysis process."
   ]
  },
  {
   "cell_type": "code",
   "execution_count": null,
   "id": "a4a379fc",
   "metadata": {},
   "outputs": [],
   "source": [
    "# Creating New Categories for Zero and Non-Zero Values in Money Columns\n",
    "# equity_crowdfunding\n",
    "df2.loc[df2['equity_crowdfunding'] < 1, 'cat_equity_crowdfunding'] = 0  # Assign 0 category for values less than 1\n",
    "df2.loc[df2['equity_crowdfunding'] > 1, 'cat_equity_crowdfunding'] = 1  # Assign 1 category for values greater than 1\n",
    "\n",
    "# undisclosed\n",
    "df2.loc[df2['undisclosed'] < 1, 'cat_undisclosed'] = 0  # Assign 0 category for values less than 1\n",
    "df2.loc[df2['undisclosed'] > 1, 'cat_undisclosed'] = 1  # Assign 1 category for values greater than 1\n",
    "\n",
    "# convertible_note\n",
    "df2.loc[df2['convertible_note'] < 1, 'cat_convertible_note'] = 0  # Assign 0 category for values less than 1\n",
    "df2.loc[df2['convertible_note'] > 1, 'cat_convertible_note'] = 1  # Assign 1 category for values greater than 1\n",
    "\n",
    "# debt_financing\n",
    "df2.loc[df2['debt_financing'] < 1, 'cat_debt_financing'] = 0  # Assign 0 category for values less than 1\n",
    "df2.loc[df2['debt_financing'] > 1, 'cat_debt_financing'] = 1  # Assign 1 category for values greater than 1\n",
    "\n",
    "# angel\n",
    "df2.loc[df2['angel'] < 1, 'cat_angel'] = 0  # Assign 0 category for values less than 1\n",
    "df2.loc[df2['angel'] > 1, 'cat_angel'] = 1  # Assign 1 category for values greater than 1\n",
    "\n",
    "# grant\n",
    "df2.loc[df2['grant'] < 1, 'cat_grant'] = 0  # Assign 0 category for values less than 1\n",
    "df2.loc[df2['grant'] > 1, 'cat_grant'] = 1  # Assign 1 category for values greater than 1\n",
    "\n",
    "# private_equity\n",
    "df2.loc[df2['private_equity'] < 1, 'cat_private_equity'] = 0  # Assign 0 category for values less than 1\n",
    "df2.loc[df2['private_equity'] > 1, 'cat_private_equity'] = 1  # Assign 1 category for values greater than 1\n",
    "\n",
    "# post_ipo_equity\n",
    "df2.loc[df2['post_ipo_equity'] < 1, 'cat_post_ipo_equity'] = 0  # Assign 0 category for values less than 1\n",
    "df2.loc[df2['post_ipo_equity'] > 1, 'cat_post_ipo_equity'] = 1  # Assign 1 category for values greater than 1\n",
    "\n",
    "# post_ipo_debt\n",
    "df2.loc[df2['post_ipo_debt'] < 1, 'cat_post_ipo_debt'] = 0  # Assign 0 category for values less than 1\n",
    "df2.loc[df2['post_ipo_debt'] > 1, 'cat_post_ipo_debt'] = 1  # Assign 1 category for values greater than 1\n",
    "\n",
    "# secondary_market\n",
    "df2.loc[df2['secondary_market'] < 1, 'cat_secondary_market'] = 0  # Assign 0 category for values less than 1\n",
    "df2.loc[df2['secondary_market'] > 1, 'cat_secondary_market'] = 1  # Assign 1 category for values greater than 1\n",
    "\n",
    "# product_crowdfunding\n",
    "df2.loc[df2['product_crowdfunding'] < 1, 'cat_product_crowdfunding'] = 0  # Assign 0 category for values less than 1\n",
    "df2.loc[df2['product_crowdfunding'] > 1, 'cat_product_crowdfunding'] = 1  # Assign 1 category for values greater than 1\n",
    "\n",
    "# round_A\n",
    "df2.loc[df2['round_A'] < 1, 'cat_round_A'] = 0  # Assign 0 category for values less than 1\n",
    "df2.loc[df2['round_A'] > 1, 'cat_round_A'] = 1  # Assign 1 category for values greater than 1\n",
    "\n",
    "# round_B\n",
    "df2.loc[df2['round_B'] < 1, 'cat_round_B'] = 0  # Assign 0 category for values less than 1\n",
    "df2.loc[df2['round_B'] > 1, 'cat_round_B'] = 1  # Assign 1 category for values greater than 1\n",
    "\n",
    "# round_C\n",
    "df2.loc[df2['round_C'] < 1, 'cat_round_C'] = 0  # Assign 0 category for values less than 1\n",
    "df2.loc[df2['round_C'] > 1, 'cat_round_C'] = 1  # Assign 1 category for values greater than 1\n",
    "\n",
    "# round_D\n",
    "df2.loc[df2['round_D'] < 1, 'cat_round_D'] = 0  # Assign 0 category for values less than 1\n",
    "df2.loc[df2['round_D'] > 1, 'cat_round_D'] = 1  # Assign 1 category for values greater than 1\n",
    "\n",
    "# round_E\n",
    "df2.loc[df2['round_E'] < 1, 'cat_round_E'] = 0  # Assign 0 category for values less than 1\n",
    "df2.loc[df2['round_E'] > 1, 'cat_round_E'] = 1  # Assign 1 category for values greater than 1\n",
    "\n",
    "# round_F\n",
    "df2.loc[df2['round_F'] < 1, 'cat_round_F'] = 0  # Assign 0 category for values less than 1\n",
    "df2.loc[df2['round_F'] > 1, 'cat_round_F'] = 1  # Assign 1 category for values greater than 1\n",
    "\n",
    "# round_G\n",
    "df2.loc[df2['round_G'] < 1, 'cat_round_G'] = 0  # Assign 0 category for values less than 1\n",
    "df2.loc[df2['round_G'] > 1, 'cat_round_G'] = 1  # Assign 1 category for values greater than 1\n",
    "\n",
    "# round_H\n",
    "df2.loc[df2['round_H'] < 1, 'cat_round_H'] = 0  # Assign 0 category for values less than 1\n",
    "df2.loc[df2['round_H'] > 1, 'cat_round_H'] = 1  # Assign 1 category for values greater than 1\n"
   ]
  },
  {
   "cell_type": "markdown",
   "id": "c1289818",
   "metadata": {},
   "source": [
    "## using label encoder on `industry group`\n",
    "\n",
    "using label encoder for this column as there is a lot of distinct values"
   ]
  },
  {
   "cell_type": "code",
   "execution_count": null,
   "id": "957d799f",
   "metadata": {
    "id": "016a1b38"
   },
   "outputs": [],
   "source": [
    "# creating instance of labelencoder\n",
    "labelencoder = LabelEncoder()\n",
    "\n",
    "#using label encoder for this column as there is a lot of distinct values\n",
    "# using label encoder on industry group\n",
    "df2['cat_Industry_Group'] = labelencoder.fit_transform(df2['Industry_Group'])"
   ]
  },
  {
   "cell_type": "markdown",
   "id": "ad03bbc1",
   "metadata": {},
   "source": [
    "## Dealing with multi-collinearity"
   ]
  },
  {
   "cell_type": "markdown",
   "id": "b03af4ec",
   "metadata": {},
   "source": [
    "### Heatmap showing pearson correlation of columns"
   ]
  },
  {
   "cell_type": "code",
   "execution_count": null,
   "id": "51046555",
   "metadata": {
    "colab": {
     "base_uri": "https://localhost:8080/",
     "height": 890
    },
    "id": "L74BQaME5cCT",
    "outputId": "f56330f3-7ebc-4c9a-a473-88a009a4a19b"
   },
   "outputs": [],
   "source": [
    "import seaborn as sns\n",
    "import matplotlib.pyplot as plt\n",
    "\n",
    "# Select numeric columns\n",
    "numeric_cols = df2.select_dtypes(include='number')\n",
    "\n",
    "# Calculate correlation matrix\n",
    "corr_matrix = numeric_cols.corr()\n",
    "\n",
    "# Set up the figure and axes\n",
    "fig, ax = plt.subplots(figsize=(10, 8))\n",
    "\n",
    "# Create a colormap\n",
    "colormap = \"coolwarm\"\n",
    "\n",
    "# Plot the heatmap\n",
    "sns.heatmap(corr_matrix, cmap=colormap, annot=True, fmt=\".2f\", linewidths=0.5, ax=ax)\n",
    "\n",
    "# Set the title and axis labels\n",
    "plt.title(\"Pearson Correlation of Features\", fontsize=15)\n",
    "plt.xlabel(\"Features\")\n",
    "plt.ylabel(\"Features\")\n",
    "\n",
    "# Show the plot\n",
    "plt.show()\n"
   ]
  },
  {
   "cell_type": "markdown",
   "id": "64dbcdf9",
   "metadata": {},
   "source": [
    "### creating a function that takes in our dataframe and returns corellations between column in pair in descending order"
   ]
  },
  {
   "cell_type": "code",
   "execution_count": null,
   "id": "0c9f1358",
   "metadata": {
    "colab": {
     "base_uri": "https://localhost:8080/",
     "height": 1000
    },
    "id": "b813ff0d",
    "outputId": "121befb0-a128-46fb-fe81-0072c265f2d7"
   },
   "outputs": [],
   "source": [
    "def get_correlation_df(df):\n",
    "    corr_df = df.corr().abs().stack().reset_index().sort_values(0, ascending=False)\n",
    "    corr_df['pairs'] = list(zip(corr_df.level_0, corr_df.level_1))\n",
    "    corr_df.set_index(['pairs'], inplace=True)\n",
    "    corr_df.drop(columns=['level_1', 'level_0'], inplace=True)\n",
    "    corr_df.columns = ['cc']\n",
    "    corr_df = corr_df.drop_duplicates()\n",
    "    return corr_df.head(50)\n",
    "\n",
    "get_correlation_df(df2)"
   ]
  },
  {
   "cell_type": "markdown",
   "id": "f608566c",
   "metadata": {},
   "source": [
    "### we will drop columns that have strong multicollinearity"
   ]
  },
  {
   "cell_type": "code",
   "execution_count": null,
   "id": "ff5814db",
   "metadata": {},
   "outputs": [],
   "source": [
    "#df2 = df2.drop(columns=['id', 'yr_renovated', 'sqft_lot', 'sqft_above', 'sqft_living15', 'yr_built', 'sqft_basement', 'sqft_lot15', 'date', 'long', 'lat', 'zipcode'], axis=1)\n",
    "#house_df"
   ]
  },
  {
   "cell_type": "markdown",
   "id": "665df57a",
   "metadata": {},
   "source": [
    "***others***"
   ]
  },
  {
   "cell_type": "markdown",
   "id": "3bff125a",
   "metadata": {
    "id": "gNgnKdyhC9ZZ"
   },
   "source": [
    "## *Inclusion of time series plots to check for seasonality*"
   ]
  },
  {
   "cell_type": "code",
   "execution_count": null,
   "id": "cc123e9c",
   "metadata": {
    "colab": {
     "base_uri": "https://localhost:8080/",
     "height": 300
    },
    "id": "kBg4SDvJ5cCQ",
    "outputId": "6f2543cb-185e-4a8f-870e-b4cc55fe5b95"
   },
   "outputs": [],
   "source": [
    "# Selecting the columns we need for the model\n",
    "#df3 = df2[['cat_status', 'cat_Industry_Group',\n",
    "#       'cat_funding_rounds',\n",
    "#       'cat_diff_funding_year', 'cat_total_investment' ,\n",
    "#       'cat_equity_crowdfunding', 'cat_venture', 'cat_seed', 'cat_undisclosed',\n",
    "#       'cat_convertible_note', 'cat_debt_financing', 'cat_angel', 'cat_grant',\n",
    "#       'cat_private_equity', 'cat_post_ipo_equity', 'cat_post_ipo_debt',\n",
    "#       'cat_round_B', 'cat_round_C', 'cat_round_D', 'cat_round_E',\n",
    "#\n",
    "#df3.head()"
   ]
  },
  {
   "cell_type": "markdown",
   "id": "68eabc67",
   "metadata": {
    "id": "TpHhSCEL5cBG"
   },
   "source": [
    "## Remove data before 1980"
   ]
  },
  {
   "cell_type": "code",
   "execution_count": null,
   "id": "af685997",
   "metadata": {
    "id": "ddd33f6c"
   },
   "outputs": [],
   "source": [
    "# Remove data before 1980\n",
    "#index_before_1980 = data_startups[df_startups['founded_year']< 1980].index\n",
    "#data_startups.drop(index_before_1980, inplace = True)\n",
    "#data_startups.isnull().sum()"
   ]
  },
  {
   "cell_type": "code",
   "execution_count": null,
   "id": "991c6d9a",
   "metadata": {},
   "outputs": [],
   "source": []
  },
  {
   "cell_type": "code",
   "execution_count": null,
   "id": "6a947679",
   "metadata": {
    "id": "zAbsmg-15cCX"
   },
   "outputs": [],
   "source": [
    "# #creating correlation matrix\n",
    "# colormap = plt.cm.viridis\n",
    "# plt.figure(figsize = (35, 35))\n",
    "# plt.title('Pearson Correlation of features', y = 1.05, size = 15)\n",
    "# matrix = np.triu(df3.corr())\n",
    "# sns.heatmap(df3.astype(float).corr(), linewidth = 0.1, vmax = 1.0, square =True, cmap=colormap, linecolor = 'white', annot=True, mask = matrix)\n",
    "\n",
    "# #we can remove cat_equity_crowdfunding, cat_undisclosed, cat_convertible_note, cat_grant , cat_post_ipo_equity, cat_post_ipo_debt, cat_secondary_market, cat_product_crowdfunding, cat_round_G, cat_round_H"
   ]
  },
  {
   "cell_type": "code",
   "execution_count": null,
   "id": "dbbae8ad",
   "metadata": {
    "id": "f62a4981"
   },
   "outputs": [],
   "source": [
    "# from sklearn.ensemble import RandomForestClassifier\n",
    "# import pandas as pd\n",
    "# import matplotlib.pyplot as plt\n",
    "\n",
    "# # Separate the features (X) and target variable (y)\n",
    "# X = df3.drop(\"target_variable\", axis=1)  # Replace \"target_variable\" with the actual name of your target variable\n",
    "# y = df3[\"target_variable\"]\n",
    "\n",
    "# # Create a Random Forest classifier\n",
    "# rf = RandomForestClassifier(random_state=42)\n",
    "\n",
    "# # Fit the classifier to the data\n",
    "# rf.fit(X, y)\n",
    "\n",
    "# # Get feature importances\n",
    "# importances = rf.feature_importances_\n",
    "\n",
    "# # Create a DataFrame with feature names and importances\n",
    "# feature_importances = pd.DataFrame({\"Feature\": X.columns, \"Importance\": importances})\n",
    "\n",
    "# # Sort the DataFrame by importance in descending order\n",
    "# feature_importances = feature_importances.sort_values(\"Importance\", ascending=False)\n",
    "\n",
    "# # Plot the feature importances\n",
    "# plt.figure(figsize=(10, 6))\n",
    "# plt.barh(feature_importances[\"Feature\"], feature_importances[\"Importance\"])\n",
    "# plt.xlabel(\"Importance\")\n",
    "# plt.ylabel(\"Feature\")\n",
    "# plt.title(\"Feature Importance\")\n",
    "# plt.show()"
   ]
  },
  {
   "cell_type": "code",
   "execution_count": null,
   "id": "13978fc5",
   "metadata": {
    "id": "b744136f"
   },
   "outputs": [],
   "source": [
    "# from sklearn.preprocessing import LabelEncoder\n",
    "\n",
    "# encoder_name=LabelEncoder()\n",
    "# encoder_market=LabelEncoder()\n",
    "# encoder_country_code=LabelEncoder()\n",
    "# homepage_url=LabelEncoder()\n",
    "# state_code=LabelEncoder()\n",
    "# city=LabelEncoder()\n",
    "# region=LabelEncoder()"
   ]
  },
  {
   "cell_type": "code",
   "execution_count": null,
   "id": "2328fba7",
   "metadata": {
    "id": "7a52d0f1"
   },
   "outputs": [],
   "source": [
    "# df['name']=encoder_name.fit_transform(df['name'])\n",
    "# df['market']=encoder_market.fit_transform(df['market'])\n",
    "# df['country_code']=encoder_country_code.fit_transform(df['country_code'])\n",
    "# df['homepage_url']=homepage_url.fit_transform(df['homepage_url'])\n",
    "# df['state_code']=state_code.fit_transform(df['state_code'])\n",
    "# df['city']=city.fit_transform(df['city'])\n",
    "# df['region']=region.fit_transform(df['region'])"
   ]
  },
  {
   "cell_type": "code",
   "execution_count": null,
   "id": "3209fc69",
   "metadata": {
    "id": "005ZmR8f5cCd"
   },
   "outputs": [],
   "source": []
  },
  {
   "cell_type": "code",
   "execution_count": null,
   "id": "581a1852",
   "metadata": {
    "id": "3KQTzteS5cCe"
   },
   "outputs": [],
   "source": []
  },
  {
   "cell_type": "markdown",
   "id": "9b078606",
   "metadata": {
    "id": "70868d31"
   },
   "source": [
    "# <span style=\"color: #008000;\">MODELLING</span>"
   ]
  },
  {
   "cell_type": "markdown",
   "id": "5842989e",
   "metadata": {},
   "source": [
    "## dropping null values from specific columns"
   ]
  },
  {
   "cell_type": "code",
   "execution_count": null,
   "id": "07a984c7",
   "metadata": {},
   "outputs": [],
   "source": [
    "# dropping null values from specific columns\n",
    "#data = data.dropna(subset=['permalink', 'status', 'name', 'market', 'country_code', 'diff_funding_months'])"
   ]
  },
  {
   "cell_type": "markdown",
   "id": "1eb7fc3d",
   "metadata": {},
   "source": [
    "## drop unnecessary columns"
   ]
  },
  {
   "cell_type": "code",
   "execution_count": null,
   "id": "1588d203",
   "metadata": {},
   "outputs": [],
   "source": [
    "df2 = df2.drop(columns=['Industry_Group', 'status', 'equity_crowdfunding', 'undisclosed', 'convertible_note', 'debt_financing', 'angel', 'grant', 'private_equity', 'post_ipo_equity', 'post_ipo_debt', 'secondary_market', 'product_crowdfunding', 'round_A', 'round_B', 'round_C', 'round_D', 'round_E', 'round_F', 'round_G', 'round_H'], axis=1)\n"
   ]
  },
  {
   "cell_type": "code",
   "execution_count": null,
   "id": "d572c71d",
   "metadata": {},
   "outputs": [],
   "source": [
    "df2.columns"
   ]
  },
  {
   "cell_type": "markdown",
   "id": "c0fb7877",
   "metadata": {},
   "source": [
    "## check columns"
   ]
  },
  {
   "cell_type": "code",
   "execution_count": null,
   "id": "a4689aba",
   "metadata": {
    "scrolled": false
   },
   "outputs": [],
   "source": [
    "df2.columns"
   ]
  },
  {
   "cell_type": "markdown",
   "id": "fc375cc8",
   "metadata": {},
   "source": [
    "## drop unnecessary columns"
   ]
  },
  {
   "cell_type": "code",
   "execution_count": null,
   "id": "627fcb1b",
   "metadata": {},
   "outputs": [],
   "source": [
    "df2 = df2.drop(columns=['funding_total_usd', 'funding_rounds', 'founded_at', 'founded_month', 'founded_year', 'first_funding_at', 'last_funding_at', 'seed', 'venture', 'permalink', 'name', 'homepage_url', 'category_list', 'market', 'country_code', 'state_code', 'region', 'city', 'founded_quarter', 'diff_funding_days', 'diff_funding_months', 'total_investment', 'diff_first_funding_months','diff_funding_year',], axis=1)\n"
   ]
  },
  {
   "cell_type": "markdown",
   "id": "a5fef8e5",
   "metadata": {},
   "source": [
    "## check columns"
   ]
  },
  {
   "cell_type": "code",
   "execution_count": null,
   "id": "97f88214",
   "metadata": {
    "scrolled": false
   },
   "outputs": [],
   "source": [
    "df2.columns"
   ]
  },
  {
   "cell_type": "markdown",
   "id": "ca0ede2d",
   "metadata": {},
   "source": [
    "## Scaling Numerical Features: Min-Max Normalization"
   ]
  },
  {
   "cell_type": "code",
   "execution_count": null,
   "id": "7326d182",
   "metadata": {},
   "outputs": [],
   "source": [
    "#transformer = MinMaxScaler()\n",
    "\n",
    "#def scaling(columns):\n",
    " #   return transformer.fit_transform(df2[columns].values.reshape(-1,1))\n",
    "\n",
    "#for i in df2.select_dtypes(include=[np.number]).columns:\n",
    "  #  df2[i] = scaling(i)\n",
    "    \n",
    "#df2.head()"
   ]
  },
  {
   "cell_type": "markdown",
   "id": "c540144d",
   "metadata": {},
   "source": [
    "## Train-Test Split: Evaluating Model Performance"
   ]
  },
  {
   "cell_type": "code",
   "execution_count": null,
   "id": "40d49261",
   "metadata": {},
   "outputs": [],
   "source": [
    "Y = df2.cat_status #setting Y variable\n",
    "X = df2.drop('cat_status', axis = 1) #dropping status and setting features\n",
    "X_train, X_test, Y_train, Y_test = train_test_split(X, Y, test_size = 0.25, random_state = 42)#test and train dataset"
   ]
  },
  {
   "cell_type": "code",
   "execution_count": null,
   "id": "d5fcde09",
   "metadata": {},
   "outputs": [],
   "source": [
    "#checking size of each dataset\n",
    "print('Shape of X_train=>',X_train.shape)\n",
    "print('Shape of X_test=>',X_test.shape)\n",
    "print('Shape of Y_train=>',Y_train.shape)\n",
    "print('Shape of Y_test=>',Y_test.shape)"
   ]
  },
  {
   "cell_type": "markdown",
   "id": "8ffcb429",
   "metadata": {},
   "source": [
    "## Applying SMOTE Technique to Address Class Imbalance in the 'status' Feature"
   ]
  },
  {
   "cell_type": "markdown",
   "id": "63d1b6c8",
   "metadata": {},
   "source": [
    "**check distribution before applying smote**"
   ]
  },
  {
   "cell_type": "code",
   "execution_count": null,
   "id": "82441c34",
   "metadata": {},
   "outputs": [],
   "source": [
    "df2.cat_status.value_counts()"
   ]
  },
  {
   "cell_type": "markdown",
   "id": "104c1c84",
   "metadata": {},
   "source": [
    "**drop rows with the \"unspecified\" category in the \"cat_status\" column **"
   ]
  },
  {
   "cell_type": "code",
   "execution_count": null,
   "id": "d7ddb286",
   "metadata": {},
   "outputs": [],
   "source": [
    "df2 = df2[df2['cat_status'] != 'unspecified']\n"
   ]
  },
  {
   "cell_type": "markdown",
   "id": "93063e4e",
   "metadata": {},
   "source": [
    "**check the updated value counts**"
   ]
  },
  {
   "cell_type": "code",
   "execution_count": null,
   "id": "ff460c31",
   "metadata": {},
   "outputs": [],
   "source": [
    "df2.cat_status.value_counts()"
   ]
  },
  {
   "cell_type": "code",
   "execution_count": null,
   "id": "177c5a36",
   "metadata": {},
   "outputs": [],
   "source": [
    "from imblearn.over_sampling import SMOTE\n",
    "smote = SMOTE(random_state=42)\n",
    "X_train_resampled, Y_train_resampled = smote.fit_resample(X_train, Y_train)\n",
    "Y_train_resampled.value_counts()\n"
   ]
  },
  {
   "cell_type": "markdown",
   "id": "afb977ab",
   "metadata": {},
   "source": [
    "**printing the shapes before and after oversampling using SMOTE**"
   ]
  },
  {
   "cell_type": "code",
   "execution_count": null,
   "id": "de73bfd6",
   "metadata": {},
   "outputs": [],
   "source": [
    "# Before oversampling\n",
    "print('Shape of X_train before oversampling:', X_train.shape)\n",
    "print('Shape of Y_train before oversampling:', Y_train.shape)\n",
    "\n",
    "# After oversampling\n",
    "print('Shape of X_train_resampled:', X_train_resampled.shape)\n",
    "print('Shape of Y_train_resampled:', Y_train_resampled.shape)\n"
   ]
  },
  {
   "cell_type": "code",
   "execution_count": null,
   "id": "6137d753",
   "metadata": {},
   "outputs": [],
   "source": []
  },
  {
   "cell_type": "code",
   "execution_count": null,
   "id": "3545d7e9",
   "metadata": {},
   "outputs": [],
   "source": []
  },
  {
   "cell_type": "markdown",
   "id": "7a90c85b",
   "metadata": {},
   "source": [
    "**checking for class imbalance again**"
   ]
  },
  {
   "cell_type": "code",
   "execution_count": null,
   "id": "f0f1e65a",
   "metadata": {},
   "outputs": [],
   "source": [
    "y_train_over.value_counts()"
   ]
  },
  {
   "cell_type": "markdown",
   "id": "8c3d3ba8",
   "metadata": {},
   "source": [
    "This indicates that SMOTE successfully balanced the classes by generating synthetic samples for the minority classes."
   ]
  },
  {
   "cell_type": "markdown",
   "id": "9f2b9855",
   "metadata": {},
   "source": [
    "# MODEL - Decision Tree Classifier"
   ]
  },
  {
   "cell_type": "markdown",
   "id": "e45674ac",
   "metadata": {},
   "source": [
    "The Decision Tree Classifier is a supervised learning technique used for both classification and regression problems. It is particularly well-suited for solving classification problems. The algorithm constructs a tree-like structure, where each internal node represents a feature of the dataset, branches represent decision rules, and each leaf node represents an outcome.\n",
    "\n",
    "The decision tree algorithm mimics human thinking by sequentially making decisions based on the features of the data. It starts with a root node and recursively expands on branches to create a tree-like structure.\n",
    "\n",
    "One of the key advantages of decision trees is their interpretability. The tree structure makes it easy to understand the logic behind the decisions made by the model.\n",
    "\n",
    "By using a decision tree classifier, we can gain insights into the important features and the decision-making process, making it a valuable tool in various domains."
   ]
  },
  {
   "cell_type": "code",
   "execution_count": null,
   "id": "4989cca6",
   "metadata": {},
   "outputs": [],
   "source": [
    "from sklearn.tree import DecisionTreeClassifier\n",
    "from sklearn.metrics import classification_report, confusion_matrix\n"
   ]
  },
  {
   "cell_type": "code",
   "execution_count": null,
   "id": "aa4217ff",
   "metadata": {},
   "outputs": [],
   "source": [
    "decision_tree = DecisionTreeClassifier()"
   ]
  },
  {
   "cell_type": "code",
   "execution_count": null,
   "id": "84d149af",
   "metadata": {},
   "outputs": [],
   "source": [
    "from sklearn.impute import SimpleImputer\n",
    "\n",
    "# Create an instance of the SimpleImputer to fill NaN values with a specific strategy\n",
    "imputer = SimpleImputer(strategy='mean')  # or 'median', 'most_frequent', etc.\n",
    "\n",
    "# Apply the imputer on the resampled training data\n",
    "X_train_resampled_imputed = imputer.fit_transform(X_train_resampled)\n",
    "\n",
    "# Fit the decision tree model on the imputed data\n",
    "decision_tree.fit(X_train_resampled_imputed, Y_train_resampled)\n"
   ]
  },
  {
   "cell_type": "code",
   "execution_count": null,
   "id": "0448f63d",
   "metadata": {},
   "outputs": [],
   "source": [
    "# Appyling teh imputter on test data. \n",
    "X_test_imputed = imputer.transform(X_test)\n",
    "\n",
    "#Making predictions on the imputed test data:\n",
    "Y_pred = decision_tree.predict(X_test_imputed)\n",
    "\n",
    "#evaluating model perfomance.\n",
    "from sklearn.metrics import accuracy_score\n",
    "accuracy = accuracy_score(Y_test, Y_pred)\n",
    "print(\"Accuracy:\", accuracy)\n"
   ]
  },
  {
   "cell_type": "code",
   "execution_count": null,
   "id": "5340181a",
   "metadata": {},
   "outputs": [],
   "source": [
    "import numpy as np\n",
    "import seaborn as sns\n",
    "import matplotlib.pyplot as plt\n",
    "from sklearn.metrics import confusion_matrix\n",
    "\n",
    "print('\\nClassification Report:')\n",
    "print(classification_report(Y_test, Y_pred))\n",
    "\n",
    "# Compute the confusion matrix\n",
    "cm = confusion_matrix(Y_test, Y_pred)\n",
    "\n",
    "# Create a figure and axes\n",
    "fig, ax = plt.subplots(figsize=(8, 6))\n",
    "\n",
    "# Create a heatmap of the confusion matrix\n",
    "sns.heatmap(cm, annot=True, fmt=\"d\", cmap=\"Blues\", cbar=False, ax=ax)\n",
    "\n",
    "# Customize the plot\n",
    "ax.set_xlabel(\"Predicted Label\")\n",
    "ax.set_ylabel(\"True Label\")\n",
    "ax.set_title(\"Confusion Matrix\")\n",
    "\n",
    "# Show the plot\n",
    "plt.show()\n"
   ]
  },
  {
   "cell_type": "markdown",
   "id": "5821b5cb",
   "metadata": {},
   "source": [
    "The accuracy of the model is 0.59, meaning that it correctly classified 59% of the samples in the dataset. The macro average F1-score is 0.38, and the weighted average F1-score is 0.65. These scores provide a summary measure of the model's performance across all classes."
   ]
  },
  {
   "cell_type": "code",
   "execution_count": null,
   "id": "53cf8351",
   "metadata": {},
   "outputs": [],
   "source": [
    "from sklearn.model_selection import GridSearchCV\n",
    "from sklearn.tree import DecisionTreeClassifier\n",
    "\n",
    "# Define the hyperparameters and their possible values\n",
    "param_grid = {\n",
    "    'criterion': ['gini', 'entropy'],\n",
    "    'max_depth': [None, 5, 10, 15],\n",
    "    'min_samples_split': [2, 5, 10],\n",
    "    'min_samples_leaf': [1, 2, 4],\n",
    "    'max_features': [None, 'sqrt', 'log2']\n",
    "}\n",
    "\n",
    "# Create an instance of the decision tree classifier\n",
    "decision_tree = DecisionTreeClassifier()\n",
    "\n",
    "# Create a GridSearchCV object and fit it on the data\n",
    "grid_search = GridSearchCV(decision_tree, param_grid, cv=5)\n",
    "grid_search.fit(X_train_resampled_imputed, Y_train_resampled)\n",
    "\n",
    "# Print the best parameters found\n",
    "print(\"Best Parameters: \", grid_search.best_params_)\n",
    "\n",
    "# Get the best estimator\n",
    "best_decision_tree = grid_search.best_estimator_\n",
    "\n",
    "# Evaluate the model on the test set\n",
    "Y_pred = best_decision_tree.predict(X_test_imputed)\n",
    "classification_report = classification_report(Y_test, Y_pred)\n",
    "print(\"Classification Report:\\n\", classification_report)\n",
    "\n",
    "# Get the confusion matrix\n",
    "confusion_matrix = confusion_matrix(Y_test, Y_pred)\n",
    "print(\"Confusion Matrix:\\n\", confusion_matrix)\n"
   ]
  },
  {
   "cell_type": "code",
   "execution_count": null,
   "id": "637b7eb6",
   "metadata": {},
   "outputs": [],
   "source": [
    "from sklearn.model_selection import cross_val_score\n",
    "from sklearn.tree import DecisionTreeClassifier\n",
    "\n",
    "# Create an instance of the decision tree classifier\n",
    "decision_tree = DecisionTreeClassifier()\n",
    "\n",
    "# Perform cross-validation\n",
    "scores = cross_val_score(decision_tree, X_train_resampled_imputed, Y_train_resampled, cv=5, scoring='accuracy')\n",
    "\n",
    "# Print the cross-validation scores\n",
    "print(\"Cross-Validation Scores:\", scores)\n",
    "print(\"Mean Accuracy:\", scores.mean())\n",
    "print(\"Standard Deviation:\", scores.std())\n"
   ]
  },
  {
   "cell_type": "code",
   "execution_count": null,
   "id": "f2c89179",
   "metadata": {},
   "outputs": [],
   "source": [
    "# Fit the decision tree model on the imputed training data\n",
    "decision_tree.fit(X_train_imputed, Y_train)\n",
    "\n",
    "# Predict the labels for the test set\n",
    "Y_pred = decision_tree.predict(X_test_imputed)\n",
    "\n",
    "# Calculate the accuracy score\n",
    "accuracy = accuracy_score(Y_test, Y_pred)\n",
    "\n",
    "# Print the accuracy score\n",
    "print(\"Accuracy:\", accuracy)\n"
   ]
  },
  {
   "cell_type": "code",
   "execution_count": null,
   "id": "17a89315",
   "metadata": {},
   "outputs": [],
   "source": []
  },
  {
   "cell_type": "markdown",
   "id": "0de59d02",
   "metadata": {},
   "source": [
    "## Object creation, fitting the data & getting predictions"
   ]
  },
  {
   "cell_type": "code",
   "execution_count": null,
   "id": "6792a75a",
   "metadata": {},
   "outputs": [],
   "source": []
  },
  {
   "cell_type": "code",
   "execution_count": null,
   "id": "cc78d736",
   "metadata": {},
   "outputs": [],
   "source": [
    "dt_model_vanilla = DecisionTreeClassifier()\n",
    "dt_model_vanilla.fit(X_train_over,y_train_over)\n",
    "y_pred_dt_vanilla = dt_model_vanilla.predict(X_test)"
   ]
  },
  {
   "cell_type": "markdown",
   "id": "19e6d3bb",
   "metadata": {},
   "source": [
    "## Classification Report"
   ]
  },
  {
   "cell_type": "code",
   "execution_count": null,
   "id": "7b6daa9f",
   "metadata": {},
   "outputs": [],
   "source": [
    "print(classification_report(y_test, y_pred_dt_vanilla, target_names=['0', '1']))"
   ]
  },
  {
   "cell_type": "markdown",
   "id": "2776efe9",
   "metadata": {},
   "source": [
    "## Decision Tree Vanilla Classifier Model Results and Confusion Matrix Visualization"
   ]
  },
  {
   "cell_type": "code",
   "execution_count": null,
   "id": "c2f77237",
   "metadata": {},
   "outputs": [],
   "source": [
    "print(\"DECISION TREE VANILLA CLASSIFIER MODEL RESULTS\")\n",
    "print('Accuracy: ',round(accuracy_score(y_test,y_pred_dt_vanilla),5))\n",
    "print('F1 score: ',round(f1_score(y_test,y_pred_dt_vanilla),5))\n",
    "print('Recall: ',round(recall_score(y_test,y_pred_dt_vanilla),5))\n",
    "print('Precision: ',round(precision_score(y_test,y_pred_dt_vanilla),5))\n",
    "cm_dt = confusion_matrix(y_test, y_pred_dt_vanilla)\n",
    "f, ax= plt.subplots(1,1,figsize=(5,3))\n",
    "sns.heatmap(cm_dt, annot=True, cmap='Greens', fmt='g', ax=ax)\n",
    "ax.set_xlabel('Predicted Labels'); ax.set_ylabel('True Labels') ; ax.set_title('Confusion Matrix')\n",
    "ax.xaxis.set_ticklabels(['0', '1']) ; ax.yaxis.set_ticklabels(['0', '1'])\n",
    "plt.show();"
   ]
  },
  {
   "cell_type": "markdown",
   "id": "5dd284e8",
   "metadata": {},
   "source": [
    "The Decision Tree Vanilla Classifier achieved an accuracy of 0.88392 on the test set, with a moderate F1 score of 0.51462. The model showed a recall of 0.64706, indicating room for improvement in capturing positive instances. The precision score was 0.42718, reflecting the proportion of correctly predicted positives. There is potential to enhance the model's performance by fine-tuning and exploring advanced techniques."
   ]
  },
  {
   "cell_type": "markdown",
   "id": "30a9dd36",
   "metadata": {},
   "source": [
    "## Hyperparameter Tuning of Decision Tree Classifier"
   ]
  },
  {
   "cell_type": "markdown",
   "id": "d2553d0a",
   "metadata": {},
   "source": [
    "**Parameter Grid for Decision Tree Model Optimization**"
   ]
  },
  {
   "cell_type": "code",
   "execution_count": null,
   "id": "b160f9b4",
   "metadata": {},
   "outputs": [],
   "source": [
    "dt_params = {\n",
    "    'max_depth': [2, 3, 5, 10, 20],\n",
    "    'min_samples_leaf': [5, 10, 20, 50, 100],\n",
    "    'criterion': [\"gini\", \"entropy\"],\n",
    "    'max_features': [\"sqrt\"], # just sqrt is used because values of log2 and sqrt are very similar for our number of features (10-19)\n",
    "    'min_samples_split': [6, 10, 14]\n",
    "}"
   ]
  },
  {
   "cell_type": "markdown",
   "id": "ba5e962f",
   "metadata": {},
   "source": [
    "**Grid Search for Decision Tree Model Optimization**"
   ]
  },
  {
   "cell_type": "code",
   "execution_count": null,
   "id": "f18691de",
   "metadata": {},
   "outputs": [],
   "source": [
    "dt_model2 = DecisionTreeClassifier()\n",
    "dt_cv_model = GridSearchCV(dt_model2, dt_params, cv=3, n_jobs=-1, verbose=False)\n",
    "dt_cv_model.fit(X_train_over,y_train_over)\n",
    "print(\"Best parameters:\"+str(dt_cv_model.best_params_))"
   ]
  },
  {
   "cell_type": "markdown",
   "id": "6bae6fb0",
   "metadata": {},
   "source": [
    "**Decision Tree Model with GridSearchCV Applied**"
   ]
  },
  {
   "cell_type": "code",
   "execution_count": null,
   "id": "73f4d571",
   "metadata": {},
   "outputs": [],
   "source": [
    "dt_model_GridSearchCV_Applied = DecisionTreeClassifier(criterion='entropy', max_depth=20, max_features='sqrt', min_samples_leaf=5, min_samples_split=14)\n",
    "dt_model_GridSearchCV_Applied.fit(X_train_over,y_train_over)\n",
    "y_pred_dt_GridSearchCV_Applied = dt_model_GridSearchCV_Applied.predict(X_test)"
   ]
  },
  {
   "cell_type": "markdown",
   "id": "12a0f071",
   "metadata": {},
   "source": [
    "## Classification Report(Hyperparameter Tuned Decision Tree Model)"
   ]
  },
  {
   "cell_type": "code",
   "execution_count": null,
   "id": "b61efa9b",
   "metadata": {},
   "outputs": [],
   "source": [
    "print(classification_report(y_test, y_pred_dt_GridSearchCV_Applied, target_names=['0', '1']))"
   ]
  },
  {
   "cell_type": "markdown",
   "id": "488e748f",
   "metadata": {},
   "source": [
    "## Hyperparameter Tuned Decision Tree Model Results and Confusion Matrix Visualization"
   ]
  },
  {
   "cell_type": "code",
   "execution_count": null,
   "id": "9073601e",
   "metadata": {},
   "outputs": [],
   "source": [
    "print(\"HYPERPARAMETER TUNED DECISION TREE MODEL RESULTS\")\n",
    "print('Accuracy: ',round(accuracy_score(y_test, y_pred_dt_GridSearchCV_Applied),5))\n",
    "print('F1 score: ',round(f1_score(y_test, y_pred_dt_GridSearchCV_Applied),5))\n",
    "print('Recall: ',round(recall_score(y_test, y_pred_dt_GridSearchCV_Applied),5))\n",
    "print('Precision: ',round(precision_score(y_test, y_pred_dt_GridSearchCV_Applied),5))\n",
    "cm_rf = confusion_matrix(y_test, y_pred_dt_GridSearchCV_Applied)\n",
    "f, ax= plt.subplots(1,1,figsize=(5,3))\n",
    "sns.heatmap(cm_rf, annot=True, cmap='Oranges', fmt='g', ax=ax);\n",
    "ax.set_xlabel('Predicted Labels'); ax.set_ylabel('True Labels') ; ax.set_title('Confusion Matrix')\n",
    "ax.xaxis.set_ticklabels(['0', '1']) ; ax.yaxis.set_ticklabels(['0', '1'])\n",
    "plt.show();"
   ]
  },
  {
   "cell_type": "markdown",
   "id": "2642efcf",
   "metadata": {},
   "source": [
    "The Hyperparameter Tuned Decision Tree model achieved an accuracy of 0.87413 on the test set. However, the F1 score was relatively lower at 0.47674, indicating a trade-off between precision and recall. The model had a recall of 0.60294, suggesting that it correctly identified a moderate number of positive instances. The precision score was 0.39423, reflecting the model's ability to correctly classify positive instances. Further optimization and exploration of advanced techniques may be necessary to improve the model's overall performance."
   ]
  },
  {
   "cell_type": "markdown",
   "id": "32ed6c10",
   "metadata": {},
   "source": [
    "## Model Performance Comparison: Decision Tree Classifiers"
   ]
  },
  {
   "cell_type": "code",
   "execution_count": null,
   "id": "e7d42181",
   "metadata": {},
   "outputs": [],
   "source": [
    "comparison_frame = pd.DataFrame({'Model':['Decision Tree Classifier (Default)',\n",
    "                                          'Decision Tree Classifier (GridSearchCV Applied)'],\n",
    "                                 'Accuracy (Test Set)':[accuracy_score(y_test,y_pred_dt_vanilla), accuracy_score(y_test,y_pred_dt_GridSearchCV_Applied)],\n",
    "                                 'F1 Score (Test Set)':[f1_score(y_test, y_pred_dt_vanilla), f1_score(y_test,y_pred_dt_GridSearchCV_Applied)],\n",
    "                                 'Recall (Test Set)':[recall_score(y_test, y_pred_dt_vanilla), recall_score(y_test,y_pred_dt_GridSearchCV_Applied)], \n",
    "                                 'Precision (Test Set)':[precision_score(y_test, y_pred_dt_vanilla), precision_score(y_test,y_pred_dt_GridSearchCV_Applied)]}) \n",
    "\n",
    "comparison_frame.style.highlight_max(color = 'lightgreen', axis = 0)"
   ]
  },
  {
   "cell_type": "code",
   "execution_count": null,
   "id": "65e9c5f2",
   "metadata": {},
   "outputs": [],
   "source": [
    "## Top 10 Feature Importance Levels for Decision Tree Model"
   ]
  },
  {
   "cell_type": "code",
   "execution_count": null,
   "id": "1559d343",
   "metadata": {},
   "outputs": [],
   "source": [
    "importance = pd.DataFrame({\"Importance\": dt_model_GridSearchCV_Applied.feature_importances_}, index=X_train_over.columns)\n",
    "importance = importance.sort_values(by=\"Importance\", ascending=True).tail(10)\n",
    "\n",
    "plt.figure(figsize=(9, 5))\n",
    "plt.barh(importance.index, importance[\"Importance\"], color=\"b\")\n",
    "plt.title(\"Top 15 Feature Importance Levels\")\n",
    "plt.xlabel(\"Importance\")\n",
    "plt.ylabel(\"Features\")\n",
    "plt.show()"
   ]
  },
  {
   "cell_type": "code",
   "execution_count": null,
   "id": "bc11d987",
   "metadata": {},
   "outputs": [],
   "source": []
  },
  {
   "cell_type": "markdown",
   "id": "191cb2a5",
   "metadata": {},
   "source": []
  },
  {
   "cell_type": "markdown",
   "id": "b9704db3",
   "metadata": {
    "id": "722bede6"
   },
   "source": [
    "# <span style=\"color: #008000;\">EVALUATION</span>"
   ]
  },
  {
   "cell_type": "markdown",
   "id": "510fc0c8",
   "metadata": {
    "id": "7dc44353"
   },
   "source": [
    "# <span style=\"color: #008000;\">RECOMMENDATIONS </span>"
   ]
  },
  {
   "cell_type": "markdown",
   "id": "05ff945e",
   "metadata": {
    "id": "4bf8107a"
   },
   "source": [
    "# <span style=\"color: #008000;\">CONCLUSION</span>"
   ]
  },
  {
   "cell_type": "code",
   "execution_count": null,
   "id": "4a5ee4b8",
   "metadata": {},
   "outputs": [],
   "source": []
  }
 ],
 "metadata": {
  "colab": {
   "provenance": []
  },
  "kernelspec": {
   "display_name": "Python 3",
   "language": "python",
   "name": "python3"
  },
  "language_info": {
   "codemirror_mode": {
    "name": "ipython",
    "version": 3
   },
   "file_extension": ".py",
   "mimetype": "text/x-python",
   "name": "python",
   "nbconvert_exporter": "python",
   "pygments_lexer": "ipython3",
   "version": "3.8.5"
  },
  "latex_envs": {
   "LaTeX_envs_menu_present": true,
   "autoclose": false,
   "autocomplete": true,
   "bibliofile": "biblio.bib",
   "cite_by": "apalike",
   "current_citInitial": 1,
   "eqLabelWithNumbers": true,
   "eqNumInitial": 1,
   "hotkeys": {
    "equation": "Ctrl-E",
    "itemize": "Ctrl-I"
   },
   "labels_anchors": false,
   "latex_user_defs": false,
   "report_style_numbering": false,
   "user_envs_cfg": false
  },
  "toc": {
   "base_numbering": 1,
   "nav_menu": {},
   "number_sections": true,
   "sideBar": true,
   "skip_h1_title": false,
   "title_cell": "Table of Contents",
   "title_sidebar": "Contents",
   "toc_cell": true,
   "toc_position": {},
   "toc_section_display": true,
   "toc_window_display": false
  }
 },
 "nbformat": 4,
 "nbformat_minor": 5
}
