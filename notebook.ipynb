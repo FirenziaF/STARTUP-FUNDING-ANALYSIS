{
 "cells": [
  {
   "cell_type": "markdown",
   "id": "26bd65e4",
   "metadata": {
    "toc": true
   },
   "source": [
    "<h1>Table of Contents<span class=\"tocSkip\"></span></h1>\n",
    "<div class=\"toc\"><ul class=\"toc-item\"><li><span><a href=\"#STARTUP-FUNDING-ANALYSIS:-Exploring-Venture-Capital-Investments-in-Various-Industries\" data-toc-modified-id=\"STARTUP-FUNDING-ANALYSIS:-Exploring-Venture-Capital-Investments-in-Various-Industries-1\"><span class=\"toc-item-num\">1&nbsp;&nbsp;</span><span style=\"undefined:undefined\">STARTUP FUNDING ANALYSIS:</span> <strong><span style=\"undefined:undefined\">Exploring Venture Capital Investments in Various Industries</span></strong></a></span></li><li><span><a href=\"#BUSINESS-UNDERSTANDING\" data-toc-modified-id=\"BUSINESS-UNDERSTANDING-2\"><span class=\"toc-item-num\">2&nbsp;&nbsp;</span><span style=\"undefined:undefined\">BUSINESS UNDERSTANDING</span></a></span><ul class=\"toc-item\"><li><span><a href=\"#Background-information\" data-toc-modified-id=\"Background-information-2.1\"><span class=\"toc-item-num\">2.1&nbsp;&nbsp;</span>Background information</a></span></li><li><span><a href=\"#Problem-Statement\" data-toc-modified-id=\"Problem-Statement-2.2\"><span class=\"toc-item-num\">2.2&nbsp;&nbsp;</span>Problem Statement</a></span></li><li><span><a href=\"#Objectives\" data-toc-modified-id=\"Objectives-2.3\"><span class=\"toc-item-num\">2.3&nbsp;&nbsp;</span>Objectives</a></span></li><li><span><a href=\"#Dataset-description.\" data-toc-modified-id=\"Dataset-description.-2.4\"><span class=\"toc-item-num\">2.4&nbsp;&nbsp;</span>Dataset description.</a></span><ul class=\"toc-item\"><li><span><a href=\"#Key-points:\" data-toc-modified-id=\"Key-points:-2.4.1\"><span class=\"toc-item-num\">2.4.1&nbsp;&nbsp;</span><code>Key points:</code></a></span></li></ul></li></ul></li><li><span><a href=\"#DATA-UNDERSTANDING\" data-toc-modified-id=\"DATA-UNDERSTANDING-3\"><span class=\"toc-item-num\">3&nbsp;&nbsp;</span><span style=\"undefined:undefined\">DATA UNDERSTANDING</span></a></span><ul class=\"toc-item\"><li><span><a href=\"#Import-libraries-and-modules\" data-toc-modified-id=\"Import-libraries-and-modules-3.1\"><span class=\"toc-item-num\">3.1&nbsp;&nbsp;</span>Import libraries and modules</a></span></li><li><span><a href=\"#Create-a-dataframe-by-reading-data-from-a-csv-file.-Examining-the-first-five-rows\" data-toc-modified-id=\"Create-a-dataframe-by-reading-data-from-a-csv-file.-Examining-the-first-five-rows-3.2\"><span class=\"toc-item-num\">3.2&nbsp;&nbsp;</span>Create a dataframe by reading data from a csv file. Examining the first five rows</a></span></li><li><span><a href=\"#Summary-of-Features-in-the-Dataset\" data-toc-modified-id=\"Summary-of-Features-in-the-Dataset-3.3\"><span class=\"toc-item-num\">3.3&nbsp;&nbsp;</span>Summary of Features in the Dataset</a></span></li><li><span><a href=\"#class-to-describe-dataset\" data-toc-modified-id=\"class-to-describe-dataset-3.4\"><span class=\"toc-item-num\">3.4&nbsp;&nbsp;</span>class to describe dataset</a></span></li><li><span><a href=\"#Information-about-our-dataset\" data-toc-modified-id=\"Information-about-our-dataset-3.5\"><span class=\"toc-item-num\">3.5&nbsp;&nbsp;</span>Information about our dataset</a></span></li><li><span><a href=\"#Check-shape-of-dataframe\" data-toc-modified-id=\"Check-shape-of-dataframe-3.6\"><span class=\"toc-item-num\">3.6&nbsp;&nbsp;</span>Check shape of dataframe</a></span></li><li><span><a href=\"#checking-for-the-categorical-columns\" data-toc-modified-id=\"checking-for-the-categorical-columns-3.7\"><span class=\"toc-item-num\">3.7&nbsp;&nbsp;</span>checking for the categorical columns</a></span></li><li><span><a href=\"#checking-for-the-ccontinuous--columns\" data-toc-modified-id=\"checking-for-the-ccontinuous--columns-3.8\"><span class=\"toc-item-num\">3.8&nbsp;&nbsp;</span>checking for the ccontinuous  columns</a></span></li><li><span><a href=\"#Concise-statistical-description-of-numeric-features\" data-toc-modified-id=\"Concise-statistical-description-of-numeric-features-3.9\"><span class=\"toc-item-num\">3.9&nbsp;&nbsp;</span>Concise statistical description of numeric features</a></span></li><li><span><a href=\"#Checking-for-duplicated-rows\" data-toc-modified-id=\"Checking-for-duplicated-rows-3.10\"><span class=\"toc-item-num\">3.10&nbsp;&nbsp;</span>Checking for duplicated rows</a></span></li><li><span><a href=\"#Checking-for-missing-values\" data-toc-modified-id=\"Checking-for-missing-values-3.11\"><span class=\"toc-item-num\">3.11&nbsp;&nbsp;</span>Checking for missing values</a></span></li><li><span><a href=\"#Checking-and-Visualizing-outliers\" data-toc-modified-id=\"Checking-and-Visualizing-outliers-3.12\"><span class=\"toc-item-num\">3.12&nbsp;&nbsp;</span>Checking and Visualizing outliers</a></span></li></ul></li><li><span><a href=\"#DATA-CLEANING\" data-toc-modified-id=\"DATA-CLEANING-4\"><span class=\"toc-item-num\">4&nbsp;&nbsp;</span><span style=\"undefined:undefined\">DATA CLEANING</span></a></span><ul class=\"toc-item\"><li><span><a href=\"#Renamimg-column(s)-to-remove-spaces.\" data-toc-modified-id=\"Renamimg-column(s)-to-remove-spaces.-4.1\"><span class=\"toc-item-num\">4.1&nbsp;&nbsp;</span>Renamimg column(s) to remove spaces.</a></span></li><li><span><a href=\"#dropping-duplicated-rows.\" data-toc-modified-id=\"dropping-duplicated-rows.-4.2\"><span class=\"toc-item-num\">4.2&nbsp;&nbsp;</span>dropping duplicated rows.</a></span></li><li><span><a href=\"#Type-Casting:-Converting-Funding-Total-to-Float\" data-toc-modified-id=\"Type-Casting:-Converting-Funding-Total-to-Float-4.3\"><span class=\"toc-item-num\">4.3&nbsp;&nbsp;</span>Type Casting: Converting Funding Total to Float</a></span></li><li><span><a href=\"#dropping-missing-values.\" data-toc-modified-id=\"dropping-missing-values.-4.4\"><span class=\"toc-item-num\">4.4&nbsp;&nbsp;</span>dropping missing values.</a></span></li><li><span><a href=\"#Addressing-Missing-Values-for-Specific-Columns\" data-toc-modified-id=\"Addressing-Missing-Values-for-Specific-Columns-4.5\"><span class=\"toc-item-num\">4.5&nbsp;&nbsp;</span>Addressing Missing Values for Specific Columns</a></span><ul class=\"toc-item\"><li><span><a href=\"#Confirming-there-are-no-missing-values\" data-toc-modified-id=\"Confirming-there-are-no-missing-values-4.5.1\"><span class=\"toc-item-num\">4.5.1&nbsp;&nbsp;</span>Confirming there are no missing values</a></span></li></ul></li><li><span><a href=\"#Dealing-with-outliers\" data-toc-modified-id=\"Dealing-with-outliers-4.6\"><span class=\"toc-item-num\">4.6&nbsp;&nbsp;</span>Dealing with outliers</a></span></li></ul></li><li><span><a href=\"#EXPLORATORY-DATA-ANALYSIS(EDA)\" data-toc-modified-id=\"EXPLORATORY-DATA-ANALYSIS(EDA)-5\"><span class=\"toc-item-num\">5&nbsp;&nbsp;</span><span style=\"undefined:undefined\">EXPLORATORY DATA ANALYSIS(EDA)</span></a></span><ul class=\"toc-item\"><li><span><a href=\"#-Univariate-Analysis.--\" data-toc-modified-id=\"-Univariate-Analysis.---5.1\"><span class=\"toc-item-num\">5.1&nbsp;&nbsp;</span><span style=\"undefined:undefined\"> Univariate Analysis.  </span></a></span><ul class=\"toc-item\"><li><span><a href=\"#Analysis-on-status-Feature\" data-toc-modified-id=\"Analysis-on-status-Feature-5.1.1\"><span class=\"toc-item-num\">5.1.1&nbsp;&nbsp;</span>Analysis on <code>status</code> Feature</a></span></li><li><span><a href=\"#top-10%-total_funding-startups.¶\" data-toc-modified-id=\"top-10%-total_funding-startups.¶-5.1.2\"><span class=\"toc-item-num\">5.1.2&nbsp;&nbsp;</span>top 10% <code>total_funding</code> startups.¶</a></span></li><li><span><a href=\"#What-is-the-distribution-of-founded-years?\" data-toc-modified-id=\"What-is-the-distribution-of-founded-years?-5.1.3\"><span class=\"toc-item-num\">5.1.3&nbsp;&nbsp;</span>What is the distribution of founded years?</a></span></li><li><span><a href=\"#What-are-the-Top-10-Country-Code-Counts?\" data-toc-modified-id=\"What-are-the-Top-10-Country-Code-Counts?-5.1.4\"><span class=\"toc-item-num\">5.1.4&nbsp;&nbsp;</span>What are the Top 10 Country Code Counts?</a></span></li><li><span><a href=\"#What-are-the-Top-10-City-Code-Counts?\" data-toc-modified-id=\"What-are-the-Top-10-City-Code-Counts?-5.1.5\"><span class=\"toc-item-num\">5.1.5&nbsp;&nbsp;</span>What are the Top 10 City Code Counts?</a></span></li><li><span><a href=\"#What-is-the-distribution-of-funding-rounds?\" data-toc-modified-id=\"What-is-the-distribution-of-funding-rounds?-5.1.6\"><span class=\"toc-item-num\">5.1.6&nbsp;&nbsp;</span>What is the distribution of funding rounds?</a></span></li><li><span><a href=\"#What-are-the-top-10-markets-based-on-count?\" data-toc-modified-id=\"What-are-the-top-10-markets-based-on-count?-5.1.7\"><span class=\"toc-item-num\">5.1.7&nbsp;&nbsp;</span>What are the top 10 markets based on count?</a></span></li><li><span><a href=\"#'Markets-that-most-start-ups-closed\" data-toc-modified-id=\"'Markets-that-most-start-ups-closed-5.1.8\"><span class=\"toc-item-num\">5.1.8&nbsp;&nbsp;</span>'Markets that most start-ups closed</a></span></li><li><span><a href=\"#Markets-that-least-start-ups-closed\" data-toc-modified-id=\"Markets-that-least-start-ups-closed-5.1.9\"><span class=\"toc-item-num\">5.1.9&nbsp;&nbsp;</span>Markets that least start-ups closed</a></span></li></ul></li><li><span><a href=\"#-Multivariate-Analysis.--\" data-toc-modified-id=\"-Multivariate-Analysis.---5.2\"><span class=\"toc-item-num\">5.2&nbsp;&nbsp;</span><span style=\"undefined:undefined\"> Multivariate Analysis.  </span></a></span><ul class=\"toc-item\"><li><span><a href=\"#What-are-the-funding-totals-by-country?\" data-toc-modified-id=\"What-are-the-funding-totals-by-country?-5.2.1\"><span class=\"toc-item-num\">5.2.1&nbsp;&nbsp;</span>What are the funding totals by country?</a></span></li><li><span><a href=\"#What-are-the-top-10-funding-totals-by-founded-year?\" data-toc-modified-id=\"What-are-the-top-10-funding-totals-by-founded-year?-5.2.2\"><span class=\"toc-item-num\">5.2.2&nbsp;&nbsp;</span>What are the top 10 funding totals by founded year?</a></span></li><li><span><a href=\"#What-is-the-average-funding-rounds-by-status?\" data-toc-modified-id=\"What-is-the-average-funding-rounds-by-status?-5.2.3\"><span class=\"toc-item-num\">5.2.3&nbsp;&nbsp;</span>What is the average funding rounds by status?</a></span></li><li><span><a href=\"#What-is-the-relationship-between-funding-total-and-funding-rounds-by-market?\" data-toc-modified-id=\"What-is-the-relationship-between-funding-total-and-funding-rounds-by-market?-5.2.4\"><span class=\"toc-item-num\">5.2.4&nbsp;&nbsp;</span>What is the relationship between funding total and funding rounds by market?</a></span></li><li><span><a href=\"#What-is-the-total-funding-received-by-companies?\" data-toc-modified-id=\"What-is-the-total-funding-received-by-companies?-5.2.5\"><span class=\"toc-item-num\">5.2.5&nbsp;&nbsp;</span>What is the total funding received by companies?</a></span></li></ul></li></ul></li><li><span><a href=\"#FEATURE-ENGINEERING/SELECTION\" data-toc-modified-id=\"FEATURE-ENGINEERING/SELECTION-6\"><span class=\"toc-item-num\">6&nbsp;&nbsp;</span><span style=\"undefined:undefined\">FEATURE ENGINEERING/SELECTION</span></a></span></li><li><span><a href=\"#MODELLING\" data-toc-modified-id=\"MODELLING-7\"><span class=\"toc-item-num\">7&nbsp;&nbsp;</span><span style=\"undefined:undefined\">MODELLING</span></a></span></li><li><span><a href=\"#EVALUATION\" data-toc-modified-id=\"EVALUATION-8\"><span class=\"toc-item-num\">8&nbsp;&nbsp;</span><span style=\"undefined:undefined\">EVALUATION</span></a></span></li><li><span><a href=\"#RECOMMENDATIONS-\" data-toc-modified-id=\"RECOMMENDATIONS--9\"><span class=\"toc-item-num\">9&nbsp;&nbsp;</span><span style=\"undefined:undefined\">RECOMMENDATIONS </span></a></span></li><li><span><a href=\"#CONCLUSION\" data-toc-modified-id=\"CONCLUSION-10\"><span class=\"toc-item-num\">10&nbsp;&nbsp;</span><span style=\"undefined:undefined\">CONCLUSION</span></a></span><ul class=\"toc-item\"><li><ul class=\"toc-item\"><li><span><a href=\"#The-Top-Countries-in-Terms-of-Startup-Number\" data-toc-modified-id=\"The-Top-Countries-in-Terms-of-Startup-Number-10.0.1\"><span class=\"toc-item-num\">10.0.1&nbsp;&nbsp;</span>The Top Countries in Terms of Startup Number</a></span></li><li><span><a href=\"#most-funded-categoriess\" data-toc-modified-id=\"most-funded-categoriess-10.0.2\"><span class=\"toc-item-num\">10.0.2&nbsp;&nbsp;</span>most funded categoriess</a></span></li><li><span><a href=\"#Top-10-Market-of-Start-ups\" data-toc-modified-id=\"Top-10-Market-of-Start-ups-10.0.3\"><span class=\"toc-item-num\">10.0.3&nbsp;&nbsp;</span>Top 10 Market of Start-ups</a></span></li><li><span><a href=\"#What-is-the-relationship-between-funding-and-founded-year?-(With-points-colored-by-status)\" data-toc-modified-id=\"What-is-the-relationship-between-funding-and-founded-year?-(With-points-colored-by-status)-10.0.4\"><span class=\"toc-item-num\">10.0.4&nbsp;&nbsp;</span>What is the relationship between funding and founded year? (With points colored by status)</a></span></li><li><span><a href=\"#The-Companies-get-more-than-10-Million-Dollars-by-angel-investors\" data-toc-modified-id=\"The-Companies-get-more-than-10-Million-Dollars-by-angel-investors-10.0.5\"><span class=\"toc-item-num\">10.0.5&nbsp;&nbsp;</span>The Companies get more than 10 Million Dollars by angel investors</a></span></li><li><span><a href=\"#Number-of-Startups-Country-wise-on-Map\" data-toc-modified-id=\"Number-of-Startups-Country-wise-on-Map-10.0.6\"><span class=\"toc-item-num\">10.0.6&nbsp;&nbsp;</span>Number of Startups Country wise on Map</a></span></li></ul></li></ul></li></ul></div>"
   ]
  },
  {
   "cell_type": "markdown",
   "id": "dad0c39e",
   "metadata": {},
   "source": [
    " <h1 style=\"text-align: center;\"><span style=\"color: #FF0000;\">STARTUP FUNDING ANALYSIS:</span> <strong><span style=\"color: #0000FF;\">Exploring Venture Capital Investments in Various Industries</span></strong></h1>\n"
   ]
  },
  {
   "cell_type": "markdown",
   "id": "fa028abb",
   "metadata": {},
   "source": [
    "![Startup Image](startupimage2.jpeg)"
   ]
  },
  {
   "cell_type": "markdown",
   "id": "07803419",
   "metadata": {},
   "source": [
    "**We would like to acknowledge the contributions of the team members:**\n",
    "\n",
    "- Florence Nguuni\n",
    "- Brian Chabari\n",
    "- Diana Mwaura\n",
    "- Isaac Muturi\n",
    "- Kennedy Juma\n",
    "- Joel Omondi\n"
   ]
  },
  {
   "cell_type": "markdown",
   "id": "17a04a1b",
   "metadata": {},
   "source": [
    "*******"
   ]
  },
  {
   "cell_type": "markdown",
   "id": "4560f892",
   "metadata": {},
   "source": [
    "# <span style=\"color: #008000;\">BUSINESS UNDERSTANDING</span>\n",
    "\n"
   ]
  },
  {
   "cell_type": "markdown",
   "id": "04870ec4",
   "metadata": {},
   "source": [
    "## Background information \n",
    "\n",
    "In today's rapidly evolving business landscape, the allure of founding a startup with a groundbreaking idea has captivated the imagination of many aspiring entrepreneurs. However, without a firm grasp of the past and insights from previous startup experiences, venturing into this exhilarating journey can be perilous. The dataset used in this kernel provides a unique opportunity to delve into the world of startups and gain a comprehensive understanding of their dynamics, challenges, and triumphs.\n",
    "\n",
    "By analyzing various aspects such as founding year, funding received, and current operating status, we can uncover patterns and trends that contribute to startup success or failure. This knowledge can guide aspiring entrepreneurs and investors in making informed decisions, formulating robust strategies, and identifying untapped opportunities for growth. By studying the past of the startup culture, we can shape the future of startups, positioning them for increased performance and success in today's markets."
   ]
  },
  {
   "cell_type": "code",
   "execution_count": null,
   "id": "20b5a1a2",
   "metadata": {},
   "outputs": [],
   "source": []
  },
  {
   "cell_type": "markdown",
   "id": "a4d34bc9",
   "metadata": {},
   "source": [
    "Investors face the challenge of identifying startups with high potential for success, often referred to as \"unicorns,\" among a large pool of potential investments.\n",
    "Various attempts have been made to predict the success of startups, including perspectives shared by investors and insights derived from machine learning and big data analysis.\n",
    "\n",
    "However, these methods have limitations. Investor perspectives are valuable but difficult to replicate, and their metrics for evaluating founders' potential may not be universally applicable.\n",
    "Data-driven approaches utilizing machine learning and artificial intelligence hold promise for predicting startup success. However, existing methods typically rely on publicly available data, which introduces its own set of assumptions and uncertainties.\n",
    "The focus of the post will be on the data-driven approach, providing an overview of the dataset, standard AI practices, and a solution specifically tailored for predicting startup success."
   ]
  },
  {
   "cell_type": "markdown",
   "id": "bacea027",
   "metadata": {},
   "source": [
    "## Problem Statement\n",
    "\n",
    "Despite the rapid growth of the startup scene and the increasing investments from venture capital firms, understanding the dynamics and characteristics of these newly established firms remains a challenge. The chosen dataset provides a valuable glimpse into this captivating realm, presenting an opportunity to delve deeper and unravel the underlying trends and patterns within the startup ecosystem.\n",
    "\n",
    "The problem at hand is to analyze the dataset and extract meaningful insights to gain a comprehensive understanding of the startup landscape, including factors such as funding trends, industry preferences, geographical distribution, and success metrics. By addressing this problem, we aim to unlock valuable knowledge that can guide aspiring entrepreneurs, investors, and policy-makers in making informed decisions and fostering the growth of the startup ecosystem."
   ]
  },
  {
   "cell_type": "markdown",
   "id": "37f938ec",
   "metadata": {},
   "source": [
    "## Objectives\n",
    "\n",
    "1. **Identify Key Success Factors**: Determine the primary factors contributing to startup success by analyzing prevalent characteristics, strategies, and patterns among successful ventures.\n",
    "\n",
    "2. **Optimize Funding Strategies**: Explore different funding patterns and sources to maximize funding success rate and amount received by startups.\n",
    "\n",
    "3. **Mitigate Risks and Challenges**: Develop strategies to mitigate common pitfalls and challenges faced by startups, enhancing resilience and increasing survival and growth rates.\n",
    "\n",
    "4. **Identify Market Opportunities**: Analyze industry sectors, market trends, and emerging niches to target untapped opportunities for market penetration and growth.\n",
    "\n",
    "5. **Enhance Decision-Making**: Provide data-driven insights to support informed decision-making, optimizing choices related to market entry, resource allocation, and strategic partnerships."
   ]
  },
  {
   "cell_type": "markdown",
   "id": "83e01e31",
   "metadata": {},
   "source": [
    "## Dataset description."
   ]
  },
  {
   "cell_type": "markdown",
   "id": "5f3ed962",
   "metadata": {},
   "source": [
    "* The dataset used for training the machine learning model contains investment data about startup companies, sourced from Crunchbase, a prominent website for company insights ranging from early-stage startups to Fortune 1000 companies.\n",
    "* The dataset comprises approximately 54,000 rows and 39 columns, providing information about the companies, including their names, URLs, markets, countries, states, regions, cities, founded dates, and funding details.\n",
    "* The funding details cover various types such as seed funding, venture equity crowdfunding, convertible notes, debt financing, angel investments, grants, private equity, post IPO equity, post IPO debt, secondary market, product crowdfunding, and round A-H series funding.\n",
    "* Additionally, the dataset includes the status of the companies, categorized as acquired, operating, or closed."
   ]
  },
  {
   "cell_type": "markdown",
   "id": "a8c06230",
   "metadata": {},
   "source": [
    "### `Key points:`\n",
    "\n",
    "* Dataset: Investment data comprising details of startup companies.\n",
    "\n",
    "* Funding Rounds: Different funding rounds and types, including seed funding, venture equity crowdfunding, and convertible notes.\n",
    "\n",
    "* Company Status: Classification of companies as acquired, operating, or closed.\n",
    "\n",
    "* Challenge: Predicting startup success is difficult but valuable for investors.\n",
    "\n",
    "* Limitations: Investor perspectives are subjective, and publicly available data has its own assumptions.\n",
    "\n",
    "* Data-Driven Approach: Utilizing machine learning and AI to predict startup success.\n",
    "* Solution Focus: Providing a solution developed specifically for this purpose."
   ]
  },
  {
   "cell_type": "markdown",
   "id": "1c3bca9f",
   "metadata": {},
   "source": [
    "# <span style=\"color: #008000;\">DATA UNDERSTANDING</span>"
   ]
  },
  {
   "cell_type": "markdown",
   "id": "72cbed37",
   "metadata": {},
   "source": [
    "## Import libraries and modules"
   ]
  },
  {
   "cell_type": "code",
   "execution_count": 1,
   "id": "c6e151ab",
   "metadata": {},
   "outputs": [],
   "source": [
    "# Import modules & packages\n",
    "\n",
    "# Data manipulation\n",
    "import pandas as pd\n",
    "import numpy as np\n",
    "\n",
    "# Data visualization\n",
    "import matplotlib.pyplot as plt\n",
    "import seaborn as sns\n",
    "\n",
    "# Modeling\n",
    "from sklearn.model_selection import train_test_split,cross_val_score,GridSearchCV #splitting the dataset into test-train\n",
    "from imblearn.over_sampling import SMOTE\n",
    "from sklearn.metrics import accuracy_score,f1_score,recall_score,precision_score,confusion_matrix,roc_curve,roc_auc_score,classification_report # performance metrics\n",
    "from sklearn.preprocessing import MinMaxScaler, LabelEncoder, StandardScaler\n",
    "from scipy import stats\n",
    "\n",
    "# Feature Selection, Feature Importance\n",
    "from sklearn.inspection import permutation_importance\n",
    "\n",
    "\n",
    "# Algorithms for supervised learning methods\n",
    "from sklearn.tree import DecisionTreeClassifier\n",
    "from sklearn.ensemble import RandomForestClassifier\n",
    "from sklearn.linear_model import LogisticRegression\n",
    "from sklearn.neighbors import KNeighborsClassifier\n",
    "\n",
    "# Filtering future warnings\n",
    "import warnings\n",
    "warnings.filterwarnings('ignore')"
   ]
  },
  {
   "cell_type": "markdown",
   "id": "db1ec97a",
   "metadata": {},
   "source": [
    "## Create a dataframe by reading data from a csv file. Examining the first five rows"
   ]
  },
  {
   "cell_type": "code",
   "execution_count": 2,
   "id": "a893cc9b",
   "metadata": {
    "scrolled": true
   },
   "outputs": [
    {
     "data": {
      "text/html": [
       "<div>\n",
       "<style scoped>\n",
       "    .dataframe tbody tr th:only-of-type {\n",
       "        vertical-align: middle;\n",
       "    }\n",
       "\n",
       "    .dataframe tbody tr th {\n",
       "        vertical-align: top;\n",
       "    }\n",
       "\n",
       "    .dataframe thead th {\n",
       "        text-align: right;\n",
       "    }\n",
       "</style>\n",
       "<table border=\"1\" class=\"dataframe\">\n",
       "  <thead>\n",
       "    <tr style=\"text-align: right;\">\n",
       "      <th></th>\n",
       "      <th>permalink</th>\n",
       "      <th>name</th>\n",
       "      <th>homepage_url</th>\n",
       "      <th>category_list</th>\n",
       "      <th>market</th>\n",
       "      <th>funding_total_usd</th>\n",
       "      <th>status</th>\n",
       "      <th>country_code</th>\n",
       "      <th>state_code</th>\n",
       "      <th>region</th>\n",
       "      <th>...</th>\n",
       "      <th>secondary_market</th>\n",
       "      <th>product_crowdfunding</th>\n",
       "      <th>round_A</th>\n",
       "      <th>round_B</th>\n",
       "      <th>round_C</th>\n",
       "      <th>round_D</th>\n",
       "      <th>round_E</th>\n",
       "      <th>round_F</th>\n",
       "      <th>round_G</th>\n",
       "      <th>round_H</th>\n",
       "    </tr>\n",
       "  </thead>\n",
       "  <tbody>\n",
       "    <tr>\n",
       "      <th>0</th>\n",
       "      <td>/organization/waywire</td>\n",
       "      <td>#waywire</td>\n",
       "      <td>http://www.waywire.com</td>\n",
       "      <td>|Entertainment|Politics|Social Media|News|</td>\n",
       "      <td>News</td>\n",
       "      <td>17,50,000</td>\n",
       "      <td>acquired</td>\n",
       "      <td>USA</td>\n",
       "      <td>NY</td>\n",
       "      <td>New York City</td>\n",
       "      <td>...</td>\n",
       "      <td>0.0</td>\n",
       "      <td>0.0</td>\n",
       "      <td>0.0</td>\n",
       "      <td>0.0</td>\n",
       "      <td>0.0</td>\n",
       "      <td>0.0</td>\n",
       "      <td>0.0</td>\n",
       "      <td>0.0</td>\n",
       "      <td>0.0</td>\n",
       "      <td>0.0</td>\n",
       "    </tr>\n",
       "    <tr>\n",
       "      <th>1</th>\n",
       "      <td>/organization/tv-communications</td>\n",
       "      <td>&amp;TV Communications</td>\n",
       "      <td>http://enjoyandtv.com</td>\n",
       "      <td>|Games|</td>\n",
       "      <td>Games</td>\n",
       "      <td>40,00,000</td>\n",
       "      <td>operating</td>\n",
       "      <td>USA</td>\n",
       "      <td>CA</td>\n",
       "      <td>Los Angeles</td>\n",
       "      <td>...</td>\n",
       "      <td>0.0</td>\n",
       "      <td>0.0</td>\n",
       "      <td>0.0</td>\n",
       "      <td>0.0</td>\n",
       "      <td>0.0</td>\n",
       "      <td>0.0</td>\n",
       "      <td>0.0</td>\n",
       "      <td>0.0</td>\n",
       "      <td>0.0</td>\n",
       "      <td>0.0</td>\n",
       "    </tr>\n",
       "    <tr>\n",
       "      <th>2</th>\n",
       "      <td>/organization/rock-your-paper</td>\n",
       "      <td>'Rock' Your Paper</td>\n",
       "      <td>http://www.rockyourpaper.org</td>\n",
       "      <td>|Publishing|Education|</td>\n",
       "      <td>Publishing</td>\n",
       "      <td>40,000</td>\n",
       "      <td>operating</td>\n",
       "      <td>EST</td>\n",
       "      <td>NaN</td>\n",
       "      <td>Tallinn</td>\n",
       "      <td>...</td>\n",
       "      <td>0.0</td>\n",
       "      <td>0.0</td>\n",
       "      <td>0.0</td>\n",
       "      <td>0.0</td>\n",
       "      <td>0.0</td>\n",
       "      <td>0.0</td>\n",
       "      <td>0.0</td>\n",
       "      <td>0.0</td>\n",
       "      <td>0.0</td>\n",
       "      <td>0.0</td>\n",
       "    </tr>\n",
       "    <tr>\n",
       "      <th>3</th>\n",
       "      <td>/organization/in-touch-network</td>\n",
       "      <td>(In)Touch Network</td>\n",
       "      <td>http://www.InTouchNetwork.com</td>\n",
       "      <td>|Electronics|Guides|Coffee|Restaurants|Music|i...</td>\n",
       "      <td>Electronics</td>\n",
       "      <td>15,00,000</td>\n",
       "      <td>operating</td>\n",
       "      <td>GBR</td>\n",
       "      <td>NaN</td>\n",
       "      <td>London</td>\n",
       "      <td>...</td>\n",
       "      <td>0.0</td>\n",
       "      <td>0.0</td>\n",
       "      <td>0.0</td>\n",
       "      <td>0.0</td>\n",
       "      <td>0.0</td>\n",
       "      <td>0.0</td>\n",
       "      <td>0.0</td>\n",
       "      <td>0.0</td>\n",
       "      <td>0.0</td>\n",
       "      <td>0.0</td>\n",
       "    </tr>\n",
       "    <tr>\n",
       "      <th>4</th>\n",
       "      <td>/organization/r-ranch-and-mine</td>\n",
       "      <td>-R- Ranch and Mine</td>\n",
       "      <td>NaN</td>\n",
       "      <td>|Tourism|Entertainment|Games|</td>\n",
       "      <td>Tourism</td>\n",
       "      <td>60,000</td>\n",
       "      <td>operating</td>\n",
       "      <td>USA</td>\n",
       "      <td>TX</td>\n",
       "      <td>Dallas</td>\n",
       "      <td>...</td>\n",
       "      <td>0.0</td>\n",
       "      <td>0.0</td>\n",
       "      <td>0.0</td>\n",
       "      <td>0.0</td>\n",
       "      <td>0.0</td>\n",
       "      <td>0.0</td>\n",
       "      <td>0.0</td>\n",
       "      <td>0.0</td>\n",
       "      <td>0.0</td>\n",
       "      <td>0.0</td>\n",
       "    </tr>\n",
       "  </tbody>\n",
       "</table>\n",
       "<p>5 rows × 39 columns</p>\n",
       "</div>"
      ],
      "text/plain": [
       "                         permalink                name  \\\n",
       "0            /organization/waywire            #waywire   \n",
       "1  /organization/tv-communications  &TV Communications   \n",
       "2    /organization/rock-your-paper   'Rock' Your Paper   \n",
       "3   /organization/in-touch-network   (In)Touch Network   \n",
       "4   /organization/r-ranch-and-mine  -R- Ranch and Mine   \n",
       "\n",
       "                    homepage_url  \\\n",
       "0         http://www.waywire.com   \n",
       "1          http://enjoyandtv.com   \n",
       "2   http://www.rockyourpaper.org   \n",
       "3  http://www.InTouchNetwork.com   \n",
       "4                            NaN   \n",
       "\n",
       "                                       category_list        market   \\\n",
       "0         |Entertainment|Politics|Social Media|News|          News    \n",
       "1                                            |Games|         Games    \n",
       "2                             |Publishing|Education|    Publishing    \n",
       "3  |Electronics|Guides|Coffee|Restaurants|Music|i...   Electronics    \n",
       "4                      |Tourism|Entertainment|Games|       Tourism    \n",
       "\n",
       "   funding_total_usd      status country_code state_code         region  ...  \\\n",
       "0          17,50,000    acquired          USA         NY  New York City  ...   \n",
       "1          40,00,000   operating          USA         CA    Los Angeles  ...   \n",
       "2             40,000   operating          EST        NaN        Tallinn  ...   \n",
       "3          15,00,000   operating          GBR        NaN         London  ...   \n",
       "4             60,000   operating          USA         TX         Dallas  ...   \n",
       "\n",
       "  secondary_market  product_crowdfunding round_A round_B round_C  round_D  \\\n",
       "0              0.0                   0.0     0.0     0.0     0.0      0.0   \n",
       "1              0.0                   0.0     0.0     0.0     0.0      0.0   \n",
       "2              0.0                   0.0     0.0     0.0     0.0      0.0   \n",
       "3              0.0                   0.0     0.0     0.0     0.0      0.0   \n",
       "4              0.0                   0.0     0.0     0.0     0.0      0.0   \n",
       "\n",
       "  round_E round_F  round_G  round_H  \n",
       "0     0.0     0.0      0.0      0.0  \n",
       "1     0.0     0.0      0.0      0.0  \n",
       "2     0.0     0.0      0.0      0.0  \n",
       "3     0.0     0.0      0.0      0.0  \n",
       "4     0.0     0.0      0.0      0.0  \n",
       "\n",
       "[5 rows x 39 columns]"
      ]
     },
     "execution_count": 2,
     "metadata": {},
     "output_type": "execute_result"
    }
   ],
   "source": [
    "# Loading and previewing data\n",
    "data = pd.read_csv('investments_VC.csv',encoding = 'latin')\n",
    "data.head()"
   ]
  },
  {
   "cell_type": "markdown",
   "id": "3f343aaf",
   "metadata": {},
   "source": [
    "## Summary of Features in the Dataset\n",
    "\n",
    "1. **permalink**: The unique identifier or URL of the company.\n",
    "2. **name**: The name of the startup company.\n",
    "3. **homepage_url**: The URL of the startup's website.\n",
    "4. **category_list**: The categories or industries associated with the startup.\n",
    "5. **market**: The market or industry segment in which the startup operates.\n",
    "6. **funding_total_usd**: The total amount of funding raised by the startup in US dollars.\n",
    "7. **status**: The status of the startup (e.g., active, acquired, closed).\n",
    "8. **country_code**: The country code of the startup's headquarters or primary operations.\n",
    "9. **state_code**: The state code of the startup's headquarters or primary operations.\n",
    "10. **region**: The region where the startup is located.\n",
    "11. **city**: The city where the startup is located.\n",
    "12. **funding_rounds**: The number of funding rounds the startup has gone through.\n",
    "13. **founded_at**: The specific date on which the startup was founded.\n",
    "14. **founded_month**: The month in which the startup was founded.\n",
    "15. **founded_quarter**: The quarter in which the startup was founded.\n",
    "16. **founded_year**: The year in which the startup was founded.\n",
    "17. **first_funding_at**: The date of the first funding round.\n",
    "18. **last_funding_at**: The date of the most recent funding round.\n",
    "19. **seed**: The amount of funding raised in the seed round.\n",
    "20. **venture**: The amount of funding raised in the venture round.\n",
    "21. **equity_crowdfunding**: The amount of funding raised through equity crowdfunding.\n",
    "22. **undisclosed**: The amount of undisclosed funding raised.\n",
    "23. **convertible_note**: The amount of funding raised through convertible notes.\n",
    "24. **debt_financing**: The amount of funding raised through debt financing.\n",
    "25. **angel**: The amount of funding raised from angel investors.\n",
    "26. **grant**: The amount of grant funding received.\n",
    "27. **private_equity**: The amount of funding raised from private equity investors.\n",
    "28. **post_ipo_equity**: The amount of funding raised post-IPO through equity.\n",
    "29. **post_ipo_debt**: The amount of funding raised post-IPO through debt.\n",
    "30. **secondary_market**: The amount of funding raised through secondary market transactions.\n",
    "31. **product_crowdfunding**: The amount of funding raised through product crowdfunding.\n",
    "32. **round_A**: The amount of funding raised in round A.\n",
    "33. **round_B**: The amount of funding raised in round B.\n",
    "34. **round_C**: The amount of funding raised in round C.\n",
    "35. **round_D**: The amount of funding raised in round D.\n",
    "36. **round_E**: The amount of funding raised in round E.\n",
    "37. **round_F**: The amount of funding raised in round F.\n",
    "38. **round_G**: The amount of funding raised in round G.\n",
    "39. **round_H**: The amount of funding raised in round H."
   ]
  },
  {
   "cell_type": "markdown",
   "id": "c7e558d5",
   "metadata": {},
   "source": [
    "## class to describe dataset"
   ]
  },
  {
   "cell_type": "code",
   "execution_count": 3,
   "id": "7a23f9be",
   "metadata": {},
   "outputs": [],
   "source": [
    "# class to describe dataset\n",
    "\n",
    "class Description:\n",
    "    \n",
    "    # initialize object\n",
    "    def __init__(self, data):\n",
    "        self.data = data\n",
    "        \n",
    "    # method to check shape of data\n",
    "    def data_shape(self):\n",
    "        out = print(f\"The DataFrame has:\\n\\t* {self.data.shape[0]} rows\\n\\t* {self.data.shape[1]} columns\", '\\n')\n",
    "        return out\n",
    "    \n",
    "    # method to check info on dataset\n",
    "    def data_info(self):\n",
    "        out = print(self.data.info(), '\\n')\n",
    "        return out\n",
    "    \n",
    "    # method to describe numerical columns\n",
    "    def data_describe(self):\n",
    "        out = self.data.describe()\n",
    "        return out\n",
    "    \n",
    "    def run(self):\n",
    "        self.data_shape()\n",
    "        self.data_info()\n",
    "        self.data_describe()"
   ]
  },
  {
   "cell_type": "markdown",
   "id": "e2ddebd6",
   "metadata": {},
   "source": [
    "## Information about our dataset"
   ]
  },
  {
   "cell_type": "code",
   "execution_count": 4,
   "id": "79d72671",
   "metadata": {},
   "outputs": [
    {
     "name": "stdout",
     "output_type": "stream",
     "text": [
      "<class 'pandas.core.frame.DataFrame'>\n",
      "RangeIndex: 54294 entries, 0 to 54293\n",
      "Data columns (total 39 columns):\n",
      " #   Column                Non-Null Count  Dtype  \n",
      "---  ------                --------------  -----  \n",
      " 0   permalink             49438 non-null  object \n",
      " 1   name                  49437 non-null  object \n",
      " 2   homepage_url          45989 non-null  object \n",
      " 3   category_list         45477 non-null  object \n",
      " 4    market               45470 non-null  object \n",
      " 5    funding_total_usd    49438 non-null  object \n",
      " 6   status                48124 non-null  object \n",
      " 7   country_code          44165 non-null  object \n",
      " 8   state_code            30161 non-null  object \n",
      " 9   region                44165 non-null  object \n",
      " 10  city                  43322 non-null  object \n",
      " 11  funding_rounds        49438 non-null  float64\n",
      " 12  founded_at            38554 non-null  object \n",
      " 13  founded_month         38482 non-null  object \n",
      " 14  founded_quarter       38482 non-null  object \n",
      " 15  founded_year          38482 non-null  float64\n",
      " 16  first_funding_at      49438 non-null  object \n",
      " 17  last_funding_at       49438 non-null  object \n",
      " 18  seed                  49438 non-null  float64\n",
      " 19  venture               49438 non-null  float64\n",
      " 20  equity_crowdfunding   49438 non-null  float64\n",
      " 21  undisclosed           49438 non-null  float64\n",
      " 22  convertible_note      49438 non-null  float64\n",
      " 23  debt_financing        49438 non-null  float64\n",
      " 24  angel                 49438 non-null  float64\n",
      " 25  grant                 49438 non-null  float64\n",
      " 26  private_equity        49438 non-null  float64\n",
      " 27  post_ipo_equity       49438 non-null  float64\n",
      " 28  post_ipo_debt         49438 non-null  float64\n",
      " 29  secondary_market      49438 non-null  float64\n",
      " 30  product_crowdfunding  49438 non-null  float64\n",
      " 31  round_A               49438 non-null  float64\n",
      " 32  round_B               49438 non-null  float64\n",
      " 33  round_C               49438 non-null  float64\n",
      " 34  round_D               49438 non-null  float64\n",
      " 35  round_E               49438 non-null  float64\n",
      " 36  round_F               49438 non-null  float64\n",
      " 37  round_G               49438 non-null  float64\n",
      " 38  round_H               49438 non-null  float64\n",
      "dtypes: float64(23), object(16)\n",
      "memory usage: 16.2+ MB\n",
      "None \n",
      "\n"
     ]
    }
   ],
   "source": [
    "# Instantiating the class\n",
    "desc = Description(data)\n",
    "\n",
    "# Checking the data types of the columns\n",
    "desc.data_info()"
   ]
  },
  {
   "cell_type": "markdown",
   "id": "5f74af8e",
   "metadata": {},
   "source": [
    "> The columns capture various aspects such as company details, funding information, geographic location, and founding timeline.\n",
    "\n",
    ">The dataset showcases a mix of data types, including object (16 columns) and float64 (23 columns). This variety allows for a comprehensive analysis of both categorical and numerical features.\n",
    "\n",
    ">Important columns with a significant number of missing values include:   `permalink`, `name`, `homepage_url`, `category_list`, `market`, `status`, `country_code`, `state_code`, `region`, `city`, `founded_at`, `founded_month`, `founded_quarter`, and `founded_year`. Proper handling of missing data is necessary to ensure accurate analysis.\n",
    "\n",
    ">Key numerical columns related to funding rounds and amounts include `funding_rounds`, `funding_total_usd`, and various funding round columns (`seed`, `venture`, `round_A`, etc.). These columns provide insights into the financial aspects of the startups.\n",
    "\n",
    ">The dataset also includes temporal information such as `first_funding_at` and `last_funding_at`, which can be converted to datetime data type for time-based analysis.\n",
    "\n",
    ">Overall, this dataset provides a rich foundation for advanced machine learning tasks, allowing for comprehensive exploration of startup characteristics and funding patterns.\n"
   ]
  },
  {
   "cell_type": "markdown",
   "id": "0f383343",
   "metadata": {},
   "source": [
    "## Check shape of dataframe"
   ]
  },
  {
   "cell_type": "code",
   "execution_count": 5,
   "id": "9d82aaf1",
   "metadata": {},
   "outputs": [
    {
     "name": "stdout",
     "output_type": "stream",
     "text": [
      "The DataFrame has:\n",
      "\t* 54294 rows\n",
      "\t* 39 columns \n",
      "\n"
     ]
    }
   ],
   "source": [
    "# Checking for the shape of the data.\n",
    "desc.data_shape()"
   ]
  },
  {
   "cell_type": "markdown",
   "id": "a845d0f7",
   "metadata": {},
   "source": [
    "## checking for the categorical columns"
   ]
  },
  {
   "cell_type": "code",
   "execution_count": 6,
   "id": "99689ec4",
   "metadata": {},
   "outputs": [
    {
     "data": {
      "text/plain": [
       "Index(['permalink', 'name', 'homepage_url', 'category_list', ' market ',\n",
       "       ' funding_total_usd ', 'status', 'country_code', 'state_code', 'region',\n",
       "       'city', 'founded_at', 'founded_month', 'founded_quarter',\n",
       "       'first_funding_at', 'last_funding_at'],\n",
       "      dtype='object')"
      ]
     },
     "execution_count": 6,
     "metadata": {},
     "output_type": "execute_result"
    }
   ],
   "source": [
    "#checking for categorical columns.\n",
    "categorical_columns = data.select_dtypes(include=['object', 'category'])\n",
    "categorical_columns.columns"
   ]
  },
  {
   "cell_type": "markdown",
   "id": "3c18c060",
   "metadata": {},
   "source": [
    "These categorical columns provide important information about the company details, funding information, geographic location, and founding timeline of the startup companies.\n",
    "\n",
    "Analyzing these columns can help gain insights into the industry focus, funding status, geographical distribution, and temporal aspects of the startup ecosystem represented in the dataset."
   ]
  },
  {
   "cell_type": "markdown",
   "id": "e84ab069",
   "metadata": {},
   "source": [
    "## checking for the ccontinuous  columns"
   ]
  },
  {
   "cell_type": "code",
   "execution_count": 7,
   "id": "ae03d5b4",
   "metadata": {},
   "outputs": [
    {
     "data": {
      "text/plain": [
       "Index(['funding_rounds', 'founded_year', 'seed', 'venture',\n",
       "       'equity_crowdfunding', 'undisclosed', 'convertible_note',\n",
       "       'debt_financing', 'angel', 'grant', 'private_equity', 'post_ipo_equity',\n",
       "       'post_ipo_debt', 'secondary_market', 'product_crowdfunding', 'round_A',\n",
       "       'round_B', 'round_C', 'round_D', 'round_E', 'round_F', 'round_G',\n",
       "       'round_H'],\n",
       "      dtype='object')"
      ]
     },
     "execution_count": 7,
     "metadata": {},
     "output_type": "execute_result"
    }
   ],
   "source": [
    "#checking for numeric columns.\n",
    "non_categorical_columns = data.select_dtypes(exclude=['object', 'category'])\n",
    "non_categorical_columns.columns"
   ]
  },
  {
   "cell_type": "markdown",
   "id": "f20d3c47",
   "metadata": {},
   "source": [
    "The non-categorical columns in the dataset consist of the following features:\n",
    "\n",
    "1. `funding_rounds`: This column represents the number of funding rounds a startup has gone through. It provides insights into the funding activity of the companies.\n",
    "\n",
    "2. `founded_year`: This column captures the year in which each startup was founded. It can be used to analyze trends and patterns related to the age of the companies.\n",
    "\n",
    "3.`seed`, `venture`, `equity_crowdfunding`, `undisclosed`, `convertible_note`, `debt_financing`, `angel`, `grant`, `private_equity`, `post_ipo_equity`, `post_ipo_debt`, `secondary_market`, `product_crowdfunding`, `round_A`, `round_B`, `round_C`, `round_D`, `round_E`, `round_F`, `round_G`, `round_H`: These columns represent the amounts of funding raised in different funding rounds. They provide valuable information on the financial aspects of the startups."
   ]
  },
  {
   "cell_type": "markdown",
   "id": "cb17b62f",
   "metadata": {},
   "source": [
    "## Concise statistical description of numeric features"
   ]
  },
  {
   "cell_type": "code",
   "execution_count": 8,
   "id": "d34b266b",
   "metadata": {
    "scrolled": true
   },
   "outputs": [
    {
     "data": {
      "text/html": [
       "<div>\n",
       "<style scoped>\n",
       "    .dataframe tbody tr th:only-of-type {\n",
       "        vertical-align: middle;\n",
       "    }\n",
       "\n",
       "    .dataframe tbody tr th {\n",
       "        vertical-align: top;\n",
       "    }\n",
       "\n",
       "    .dataframe thead th {\n",
       "        text-align: right;\n",
       "    }\n",
       "</style>\n",
       "<table border=\"1\" class=\"dataframe\">\n",
       "  <thead>\n",
       "    <tr style=\"text-align: right;\">\n",
       "      <th></th>\n",
       "      <th>funding_rounds</th>\n",
       "      <th>founded_year</th>\n",
       "      <th>seed</th>\n",
       "      <th>venture</th>\n",
       "      <th>equity_crowdfunding</th>\n",
       "      <th>undisclosed</th>\n",
       "      <th>convertible_note</th>\n",
       "      <th>debt_financing</th>\n",
       "      <th>angel</th>\n",
       "      <th>grant</th>\n",
       "      <th>...</th>\n",
       "      <th>secondary_market</th>\n",
       "      <th>product_crowdfunding</th>\n",
       "      <th>round_A</th>\n",
       "      <th>round_B</th>\n",
       "      <th>round_C</th>\n",
       "      <th>round_D</th>\n",
       "      <th>round_E</th>\n",
       "      <th>round_F</th>\n",
       "      <th>round_G</th>\n",
       "      <th>round_H</th>\n",
       "    </tr>\n",
       "  </thead>\n",
       "  <tbody>\n",
       "    <tr>\n",
       "      <th>count</th>\n",
       "      <td>49438.000000</td>\n",
       "      <td>38482.000000</td>\n",
       "      <td>4.943800e+04</td>\n",
       "      <td>4.943800e+04</td>\n",
       "      <td>4.943800e+04</td>\n",
       "      <td>4.943800e+04</td>\n",
       "      <td>4.943800e+04</td>\n",
       "      <td>4.943800e+04</td>\n",
       "      <td>4.943800e+04</td>\n",
       "      <td>4.943800e+04</td>\n",
       "      <td>...</td>\n",
       "      <td>4.943800e+04</td>\n",
       "      <td>4.943800e+04</td>\n",
       "      <td>4.943800e+04</td>\n",
       "      <td>4.943800e+04</td>\n",
       "      <td>4.943800e+04</td>\n",
       "      <td>4.943800e+04</td>\n",
       "      <td>4.943800e+04</td>\n",
       "      <td>4.943800e+04</td>\n",
       "      <td>4.943800e+04</td>\n",
       "      <td>4.943800e+04</td>\n",
       "    </tr>\n",
       "    <tr>\n",
       "      <th>mean</th>\n",
       "      <td>1.696205</td>\n",
       "      <td>2007.359129</td>\n",
       "      <td>2.173215e+05</td>\n",
       "      <td>7.501051e+06</td>\n",
       "      <td>6.163322e+03</td>\n",
       "      <td>1.302213e+05</td>\n",
       "      <td>2.336410e+04</td>\n",
       "      <td>1.888157e+06</td>\n",
       "      <td>6.541898e+04</td>\n",
       "      <td>1.628453e+05</td>\n",
       "      <td>...</td>\n",
       "      <td>3.845592e+04</td>\n",
       "      <td>7.074227e+03</td>\n",
       "      <td>1.243955e+06</td>\n",
       "      <td>1.492891e+06</td>\n",
       "      <td>1.205356e+06</td>\n",
       "      <td>7.375261e+05</td>\n",
       "      <td>3.424682e+05</td>\n",
       "      <td>1.697692e+05</td>\n",
       "      <td>5.767067e+04</td>\n",
       "      <td>1.423197e+04</td>\n",
       "    </tr>\n",
       "    <tr>\n",
       "      <th>std</th>\n",
       "      <td>1.294213</td>\n",
       "      <td>7.579203</td>\n",
       "      <td>1.056985e+06</td>\n",
       "      <td>2.847112e+07</td>\n",
       "      <td>1.999048e+05</td>\n",
       "      <td>2.981404e+06</td>\n",
       "      <td>1.432046e+06</td>\n",
       "      <td>1.382046e+08</td>\n",
       "      <td>6.582908e+05</td>\n",
       "      <td>5.612088e+06</td>\n",
       "      <td>...</td>\n",
       "      <td>3.864461e+06</td>\n",
       "      <td>4.282166e+05</td>\n",
       "      <td>5.531974e+06</td>\n",
       "      <td>7.472704e+06</td>\n",
       "      <td>7.993592e+06</td>\n",
       "      <td>9.815218e+06</td>\n",
       "      <td>5.406915e+06</td>\n",
       "      <td>6.277905e+06</td>\n",
       "      <td>5.252312e+06</td>\n",
       "      <td>2.716865e+06</td>\n",
       "    </tr>\n",
       "    <tr>\n",
       "      <th>min</th>\n",
       "      <td>1.000000</td>\n",
       "      <td>1902.000000</td>\n",
       "      <td>0.000000e+00</td>\n",
       "      <td>0.000000e+00</td>\n",
       "      <td>0.000000e+00</td>\n",
       "      <td>0.000000e+00</td>\n",
       "      <td>0.000000e+00</td>\n",
       "      <td>0.000000e+00</td>\n",
       "      <td>0.000000e+00</td>\n",
       "      <td>0.000000e+00</td>\n",
       "      <td>...</td>\n",
       "      <td>0.000000e+00</td>\n",
       "      <td>0.000000e+00</td>\n",
       "      <td>0.000000e+00</td>\n",
       "      <td>0.000000e+00</td>\n",
       "      <td>0.000000e+00</td>\n",
       "      <td>0.000000e+00</td>\n",
       "      <td>0.000000e+00</td>\n",
       "      <td>0.000000e+00</td>\n",
       "      <td>0.000000e+00</td>\n",
       "      <td>0.000000e+00</td>\n",
       "    </tr>\n",
       "    <tr>\n",
       "      <th>25%</th>\n",
       "      <td>1.000000</td>\n",
       "      <td>2006.000000</td>\n",
       "      <td>0.000000e+00</td>\n",
       "      <td>0.000000e+00</td>\n",
       "      <td>0.000000e+00</td>\n",
       "      <td>0.000000e+00</td>\n",
       "      <td>0.000000e+00</td>\n",
       "      <td>0.000000e+00</td>\n",
       "      <td>0.000000e+00</td>\n",
       "      <td>0.000000e+00</td>\n",
       "      <td>...</td>\n",
       "      <td>0.000000e+00</td>\n",
       "      <td>0.000000e+00</td>\n",
       "      <td>0.000000e+00</td>\n",
       "      <td>0.000000e+00</td>\n",
       "      <td>0.000000e+00</td>\n",
       "      <td>0.000000e+00</td>\n",
       "      <td>0.000000e+00</td>\n",
       "      <td>0.000000e+00</td>\n",
       "      <td>0.000000e+00</td>\n",
       "      <td>0.000000e+00</td>\n",
       "    </tr>\n",
       "    <tr>\n",
       "      <th>50%</th>\n",
       "      <td>1.000000</td>\n",
       "      <td>2010.000000</td>\n",
       "      <td>0.000000e+00</td>\n",
       "      <td>0.000000e+00</td>\n",
       "      <td>0.000000e+00</td>\n",
       "      <td>0.000000e+00</td>\n",
       "      <td>0.000000e+00</td>\n",
       "      <td>0.000000e+00</td>\n",
       "      <td>0.000000e+00</td>\n",
       "      <td>0.000000e+00</td>\n",
       "      <td>...</td>\n",
       "      <td>0.000000e+00</td>\n",
       "      <td>0.000000e+00</td>\n",
       "      <td>0.000000e+00</td>\n",
       "      <td>0.000000e+00</td>\n",
       "      <td>0.000000e+00</td>\n",
       "      <td>0.000000e+00</td>\n",
       "      <td>0.000000e+00</td>\n",
       "      <td>0.000000e+00</td>\n",
       "      <td>0.000000e+00</td>\n",
       "      <td>0.000000e+00</td>\n",
       "    </tr>\n",
       "    <tr>\n",
       "      <th>75%</th>\n",
       "      <td>2.000000</td>\n",
       "      <td>2012.000000</td>\n",
       "      <td>2.500000e+04</td>\n",
       "      <td>5.000000e+06</td>\n",
       "      <td>0.000000e+00</td>\n",
       "      <td>0.000000e+00</td>\n",
       "      <td>0.000000e+00</td>\n",
       "      <td>0.000000e+00</td>\n",
       "      <td>0.000000e+00</td>\n",
       "      <td>0.000000e+00</td>\n",
       "      <td>...</td>\n",
       "      <td>0.000000e+00</td>\n",
       "      <td>0.000000e+00</td>\n",
       "      <td>0.000000e+00</td>\n",
       "      <td>0.000000e+00</td>\n",
       "      <td>0.000000e+00</td>\n",
       "      <td>0.000000e+00</td>\n",
       "      <td>0.000000e+00</td>\n",
       "      <td>0.000000e+00</td>\n",
       "      <td>0.000000e+00</td>\n",
       "      <td>0.000000e+00</td>\n",
       "    </tr>\n",
       "    <tr>\n",
       "      <th>max</th>\n",
       "      <td>18.000000</td>\n",
       "      <td>2014.000000</td>\n",
       "      <td>1.300000e+08</td>\n",
       "      <td>2.351000e+09</td>\n",
       "      <td>2.500000e+07</td>\n",
       "      <td>2.924328e+08</td>\n",
       "      <td>3.000000e+08</td>\n",
       "      <td>3.007950e+10</td>\n",
       "      <td>6.359026e+07</td>\n",
       "      <td>7.505000e+08</td>\n",
       "      <td>...</td>\n",
       "      <td>6.806116e+08</td>\n",
       "      <td>7.200000e+07</td>\n",
       "      <td>3.190000e+08</td>\n",
       "      <td>5.420000e+08</td>\n",
       "      <td>4.900000e+08</td>\n",
       "      <td>1.200000e+09</td>\n",
       "      <td>4.000000e+08</td>\n",
       "      <td>1.060000e+09</td>\n",
       "      <td>1.000000e+09</td>\n",
       "      <td>6.000000e+08</td>\n",
       "    </tr>\n",
       "  </tbody>\n",
       "</table>\n",
       "<p>8 rows × 23 columns</p>\n",
       "</div>"
      ],
      "text/plain": [
       "       funding_rounds  founded_year          seed       venture  \\\n",
       "count    49438.000000  38482.000000  4.943800e+04  4.943800e+04   \n",
       "mean         1.696205   2007.359129  2.173215e+05  7.501051e+06   \n",
       "std          1.294213      7.579203  1.056985e+06  2.847112e+07   \n",
       "min          1.000000   1902.000000  0.000000e+00  0.000000e+00   \n",
       "25%          1.000000   2006.000000  0.000000e+00  0.000000e+00   \n",
       "50%          1.000000   2010.000000  0.000000e+00  0.000000e+00   \n",
       "75%          2.000000   2012.000000  2.500000e+04  5.000000e+06   \n",
       "max         18.000000   2014.000000  1.300000e+08  2.351000e+09   \n",
       "\n",
       "       equity_crowdfunding   undisclosed  convertible_note  debt_financing  \\\n",
       "count         4.943800e+04  4.943800e+04      4.943800e+04    4.943800e+04   \n",
       "mean          6.163322e+03  1.302213e+05      2.336410e+04    1.888157e+06   \n",
       "std           1.999048e+05  2.981404e+06      1.432046e+06    1.382046e+08   \n",
       "min           0.000000e+00  0.000000e+00      0.000000e+00    0.000000e+00   \n",
       "25%           0.000000e+00  0.000000e+00      0.000000e+00    0.000000e+00   \n",
       "50%           0.000000e+00  0.000000e+00      0.000000e+00    0.000000e+00   \n",
       "75%           0.000000e+00  0.000000e+00      0.000000e+00    0.000000e+00   \n",
       "max           2.500000e+07  2.924328e+08      3.000000e+08    3.007950e+10   \n",
       "\n",
       "              angel         grant  ...  secondary_market  \\\n",
       "count  4.943800e+04  4.943800e+04  ...      4.943800e+04   \n",
       "mean   6.541898e+04  1.628453e+05  ...      3.845592e+04   \n",
       "std    6.582908e+05  5.612088e+06  ...      3.864461e+06   \n",
       "min    0.000000e+00  0.000000e+00  ...      0.000000e+00   \n",
       "25%    0.000000e+00  0.000000e+00  ...      0.000000e+00   \n",
       "50%    0.000000e+00  0.000000e+00  ...      0.000000e+00   \n",
       "75%    0.000000e+00  0.000000e+00  ...      0.000000e+00   \n",
       "max    6.359026e+07  7.505000e+08  ...      6.806116e+08   \n",
       "\n",
       "       product_crowdfunding       round_A       round_B       round_C  \\\n",
       "count          4.943800e+04  4.943800e+04  4.943800e+04  4.943800e+04   \n",
       "mean           7.074227e+03  1.243955e+06  1.492891e+06  1.205356e+06   \n",
       "std            4.282166e+05  5.531974e+06  7.472704e+06  7.993592e+06   \n",
       "min            0.000000e+00  0.000000e+00  0.000000e+00  0.000000e+00   \n",
       "25%            0.000000e+00  0.000000e+00  0.000000e+00  0.000000e+00   \n",
       "50%            0.000000e+00  0.000000e+00  0.000000e+00  0.000000e+00   \n",
       "75%            0.000000e+00  0.000000e+00  0.000000e+00  0.000000e+00   \n",
       "max            7.200000e+07  3.190000e+08  5.420000e+08  4.900000e+08   \n",
       "\n",
       "            round_D       round_E       round_F       round_G       round_H  \n",
       "count  4.943800e+04  4.943800e+04  4.943800e+04  4.943800e+04  4.943800e+04  \n",
       "mean   7.375261e+05  3.424682e+05  1.697692e+05  5.767067e+04  1.423197e+04  \n",
       "std    9.815218e+06  5.406915e+06  6.277905e+06  5.252312e+06  2.716865e+06  \n",
       "min    0.000000e+00  0.000000e+00  0.000000e+00  0.000000e+00  0.000000e+00  \n",
       "25%    0.000000e+00  0.000000e+00  0.000000e+00  0.000000e+00  0.000000e+00  \n",
       "50%    0.000000e+00  0.000000e+00  0.000000e+00  0.000000e+00  0.000000e+00  \n",
       "75%    0.000000e+00  0.000000e+00  0.000000e+00  0.000000e+00  0.000000e+00  \n",
       "max    1.200000e+09  4.000000e+08  1.060000e+09  1.000000e+09  6.000000e+08  \n",
       "\n",
       "[8 rows x 23 columns]"
      ]
     },
     "execution_count": 8,
     "metadata": {},
     "output_type": "execute_result"
    }
   ],
   "source": [
    "# Obtaining statistical summary of the dataset\n",
    "desc.data_describe()"
   ]
  },
  {
   "cell_type": "markdown",
   "id": "5ee93ab0",
   "metadata": {},
   "source": [
    "Here are some important observations:\n",
    "\n",
    "- The `funding_rounds` column has a mean value of approximately 1.70, indicating that, on average, startups have participated in around 1-2 funding rounds.\n",
    "\n",
    "- The `founded_year` column has a mean value of approximately 2007, with a standard deviation of 7.58. This suggests that the startups in the dataset were founded between the early 1900s and 2014.\n",
    "\n",
    "- The `seed`, `venture`, and other funding round columns (`round_A` to `round_H`) show varying mean values and standard deviations, indicating significant variations in funding amounts across different rounds.\n",
    "\n",
    "- The `funding_total_usd` column is represented in scientific notation. The mean value is approximately 2.17e+05, with a standard deviation of 1.06e+06.\n",
    "\n",
    "- All the numerical columns have a minimum value of 0, indicating that some startups may not have received any funding in certain rounds or types.\n",
    "\n",
    "- The maximum values for the funding round columns vary significantly, indicating that some startups have secured substantial amounts of funding in specific rounds.\n",
    "\n",
    "- It is important to note that the values in the `founded_year` column range from 1902 to 2014, with a large standard deviation. This suggests the presence of outliers or inconsistencies in the dataset. \n",
    "\n",
    "- the funding amounts across the different rounds vary widely, with some startups receiving zero funding in certain rounds."
   ]
  },
  {
   "cell_type": "markdown",
   "id": "b15affa4",
   "metadata": {},
   "source": [
    " ## Checking for duplicated rows "
   ]
  },
  {
   "cell_type": "code",
   "execution_count": null,
   "id": "4c8f696a",
   "metadata": {},
   "outputs": [],
   "source": [
    "# Checking for duplicates. \n",
    "def count_duplicates(data):\n",
    "    duplicate_count = data.duplicated().sum()\n",
    "    return duplicate_count\n",
    "duplicate_count = count_duplicates(data)\n",
    "print(duplicate_count)"
   ]
  },
  {
   "cell_type": "markdown",
   "id": "e9d52321",
   "metadata": {},
   "source": [
    "Considering the high number of duplicate rows (4855), it is crucial to handle duplicates appropriately to avoid bias or inaccuracies in the analysis."
   ]
  },
  {
   "cell_type": "markdown",
   "id": "a253db9a",
   "metadata": {},
   "source": [
    " ## Checking for missing values"
   ]
  },
  {
   "cell_type": "code",
   "execution_count": null,
   "id": "359ced10",
   "metadata": {},
   "outputs": [],
   "source": [
    "def plot_missing_values(data):\n",
    "    missing_values = data.isnull().sum()\n",
    "    percentage_missing = (missing_values / len(data)) * 100\n",
    "\n",
    "    missing_data = pd.DataFrame({'Missing Values': missing_values, 'Percentage Missing': percentage_missing})\n",
    "    print(missing_data)\n",
    "\n",
    "    # Plot missing values\n",
    "    ax = data.isna().sum().sort_values(ascending=False)[:15][::-1].plot(kind='barh', figsize=(9, 10))\n",
    "    plt.title('Percentage of Missing Values Per Column', fontdict={'size': 15})\n",
    "    for p in ax.patches:\n",
    "        percentage = '{:,.0f}%'.format((p.get_width() / data.shape[0]) * 100)\n",
    "        width, height = p.get_width(), p.get_height()\n",
    "        x = p.get_x() + width + 0.02\n",
    "        y = p.get_y() + height / 2\n",
    "        ax.annotate(percentage, (x, y))\n",
    "    \n",
    "    plt.show()\n",
    "\n",
    "# print the missing values:\n",
    "plot_missing_values(data)"
   ]
  },
  {
   "cell_type": "markdown",
   "id": "66bea46f",
   "metadata": {},
   "source": [
    "The dataset contains missing values in multiple columns. The highest percentage of missing values is observed in the `state_code` column (44.45%), followed by columns related to the startup's founding information. Other columns, including funding rounds and various attributes, also exhibit missing values ranging from 8.94% to 29.12%. \n",
    "\n",
    "Considering the varying percentages of missing values across different columns, it is crucial to carefully assess the impact of these missing values on the analysis and select appropriate strategies for handling them."
   ]
  },
  {
   "cell_type": "markdown",
   "id": "20e19e2e",
   "metadata": {},
   "source": [
    "## Checking and Visualizing outliers "
   ]
  },
  {
   "cell_type": "code",
   "execution_count": null,
   "id": "7bf7a24d",
   "metadata": {
    "scrolled": false
   },
   "outputs": [],
   "source": [
    "# Visualizing outliers. \n",
    "\n",
    "# Create box plots for numerical columns\n",
    "plt.figure(figsize=(10, 8))\n",
    "sns.boxplot(data=data)\n",
    "plt.xticks(rotation=90)\n",
    "plt.show()"
   ]
  },
  {
   "cell_type": "markdown",
   "id": "628d803f",
   "metadata": {},
   "source": [
    "Some data points fall significantly outside the normal range of values and can indicate potential anomalies or errors in the dataset.\n",
    "\n",
    "Outliers may impact statistical analyses and machine learning models, leading to biased or inaccurate results."
   ]
  },
  {
   "cell_type": "markdown",
   "id": "a687e570",
   "metadata": {},
   "source": [
    "# <span style=\"color: #008000;\">DATA CLEANING</span>"
   ]
  },
  {
   "cell_type": "markdown",
   "id": "05fdd908",
   "metadata": {},
   "source": [
    "\n",
    "To ensure the development of a robust and accurate model, several data cleaning techniques will be applied to the dataset. The following techniques will be employed:\n",
    "\n",
    "1 `Completeness`: This technique involves addressing missing values within the dataset. Steps will be taken to identify and handle missing data appropriately, either through imputation or removal, to ensure that the dataset is complete.\n",
    "\n",
    "2 `Consistency`: The consistency of the data will be examined to identify any discrepancies or irregularities. Inconsistencies in variables, such as conflicting formats or conflicting information within the dataset, will be addressed and resolved to maintain data integrity.\n",
    "\n",
    "3 `Validity`: Validity refers to the accuracy and relevance of the data. Data validation techniques will be applied to verify that the values within each variable align with expected ranges or predefined criteria. Any invalid or erroneous data points will be rectified or removed from the dataset.\n",
    "\n",
    "4 `Collinearity`: Collinearity examines the presence of highly correlated variables. Multicollinearity can affect the model's stability and interpretability. Techniques such as correlation analysis will be utilized to identify highly correlated variables. If necessary, appropriate measures, such as feature selection or dimensionality reduction, will be implemented to address collinearity issues.\n",
    "\n",
    "5 `Outlier removal`: Outliers, which are extreme or unusual data points, can adversely impact the model's performance. Robust statistical techniques will be employed to detect and handle outliers effectively. Outliers may be removed or transformed to minimize their influence on the analysis and modeling process.\n",
    "\n",
    "By applying these data cleaning techniques, the dataset will be refined and prepared, ensuring the reliability and accuracy of the data before proceeding with the subsequent stages of analysis and modeling."
   ]
  },
  {
   "cell_type": "code",
   "execution_count": null,
   "id": "45f0dc12",
   "metadata": {},
   "outputs": [],
   "source": []
  },
  {
   "cell_type": "code",
   "execution_count": null,
   "id": "776c0264",
   "metadata": {},
   "outputs": [],
   "source": []
  },
  {
   "cell_type": "markdown",
   "id": "d5b5c7a4",
   "metadata": {},
   "source": [
    "## Renamimg column(s) to remove spaces.\n",
    "\n",
    "By removing spaces in column names, the code improves the usability and consistency of the dataset. Column names without spaces are easier to work with and less prone to errors when referencing them in code or performing data manipulations."
   ]
  },
  {
   "cell_type": "code",
   "execution_count": null,
   "id": "a9384919",
   "metadata": {},
   "outputs": [],
   "source": [
    "# Renamimg columns to remove spaces.\n",
    "data.rename(columns={' funding_total_usd ':'funding_total_usd',' market ':'market'}, inplace=True)"
   ]
  },
  {
   "cell_type": "markdown",
   "id": "1c61c20c",
   "metadata": {},
   "source": [
    "## dropping duplicated rows.\n",
    "\n",
    "This helps ensure data integrity and eliminates redundancy in the dataset. "
   ]
  },
  {
   "cell_type": "code",
   "execution_count": null,
   "id": "94d31aa3",
   "metadata": {},
   "outputs": [],
   "source": [
    "#dropping duplicate rows.\n",
    "data = data.drop_duplicates()\n",
    "print(data.shape)"
   ]
  },
  {
   "cell_type": "markdown",
   "id": "f64b69bc",
   "metadata": {},
   "source": [
    "## Type Casting: Converting Funding Total to Float"
   ]
  },
  {
   "cell_type": "code",
   "execution_count": null,
   "id": "2979212e",
   "metadata": {},
   "outputs": [],
   "source": [
    "# Type casting\n",
    "data['funding_total_usd'] = data['funding_total_usd'].apply(str).str.replace(',','')\n",
    "data['funding_total_usd'] = data['funding_total_usd'].replace(' -   ',0).astype(\"float\")\n"
   ]
  },
  {
   "cell_type": "markdown",
   "id": "44dfbde1",
   "metadata": {},
   "source": [
    "These type casting operations are useful for converting the 'funding_total_usd' column from a string representation to a numeric format, facilitating further analysis and computations involving funding amounts."
   ]
  },
  {
   "cell_type": "markdown",
   "id": "4232bcc1",
   "metadata": {},
   "source": [
    "## dropping missing values."
   ]
  },
  {
   "cell_type": "code",
   "execution_count": null,
   "id": "dd263c23",
   "metadata": {},
   "outputs": [],
   "source": [
    "#dropping null values.\n",
    "data = data.dropna(how=\"all\")"
   ]
  },
  {
   "cell_type": "code",
   "execution_count": null,
   "id": "13af220f",
   "metadata": {},
   "outputs": [],
   "source": [
    "#Confirming for missing values.\n",
    "missing_values = data.isnull().sum()\n",
    "print(missing_values)"
   ]
  },
  {
   "cell_type": "markdown",
   "id": "b122bdc0",
   "metadata": {},
   "source": [
    "## Addressing Missing Values for Specific Columns\n",
    "To handle missing values and further process specific columns, the following steps can be taken:\n",
    "\n",
    "1. Convert the '**founded_year**' column to a float data type initially to handle NaN values.\n",
    "2. After handling the NaN values, convert the '**founded_year**' column to an integer data type to ensure the values are represented correctly.\n",
    "3. Cast the values in the '**funding_rounds**' column to the integer data type for consistency and numerical operations.\n",
    "4. Convert the values in the '**first_funding_at**' and '**last_funding_at**' columns to datetime data type for better analysis and time-based operations.\n",
    "5. Remove data entries with zero funds, as they may introduce biases or affect calculations. This step helps to ensure the accuracy of funding-related analysis."
   ]
  },
  {
   "cell_type": "code",
   "execution_count": null,
   "id": "5164ab54",
   "metadata": {},
   "outputs": [],
   "source": [
    "#Further dealing with missing values for specific columns.\n",
    "\n",
    "def preprocess_data(data):\n",
    "    # Convert founded_year column to float first to handle NaN values.\n",
    "    data['founded_year'] = data['founded_year'].astype(float)\n",
    "\n",
    "    # Casting the values in the 'funding_rounds' column to the integer data type.\n",
    "    data['funding_rounds'] = data['funding_rounds'].astype(int)\n",
    "\n",
    "    # Converting the values in the 'first_funding_at' and 'last_funding_at'\n",
    "    # columns to datetime data type.\n",
    "    data['first_funding_at'] = pd.to_datetime(data['first_funding_at'], errors='coerce')\n",
    "    data['last_funding_at'] = pd.to_datetime(data['last_funding_at'], errors='coerce')\n",
    "\n",
    "    # Remove NaN values\n",
    "    data.dropna(inplace=True)\n",
    "\n",
    "    # Convert founded_year column to integer after removing NaN values\n",
    "    data['founded_year'] = data['founded_year'].astype(int)\n",
    "\n",
    "    # Remove data with zero funds\n",
    "    index_no_funding = data[data['funding_total_usd'] <= 0].index\n",
    "    data.drop(index_no_funding, inplace=True)\n",
    "\n",
    "    #Confirming for missing values.\n",
    "    has_missing_values = data.isnull().any().any()\n",
    "    \n",
    "\n",
    "    return data\n",
    "\n",
    "# print:\n",
    "data = preprocess_data(data)"
   ]
  },
  {
   "cell_type": "markdown",
   "id": "b8c4eaa4",
   "metadata": {},
   "source": [
    "### Confirming there are no missing values"
   ]
  },
  {
   "cell_type": "code",
   "execution_count": null,
   "id": "aa46ede5",
   "metadata": {},
   "outputs": [],
   "source": [
    "# Confirming for missing values.\n",
    "print(missing_values)"
   ]
  },
  {
   "cell_type": "markdown",
   "id": "6ae12963",
   "metadata": {},
   "source": [
    "## Dealing with outliers\n",
    "\n",
    "> Dealing with the extreme or unusual data points that can adversely impact the model's performance. \n",
    "\n",
    "Based on the empirical rule or the 68-95-99.7 rule. According to this rule, in a normal distribution, approximately 99.7% of the data falls within 3 standard deviations from the mean. By using a factor of 3, we are considering values that are relatively far from the mean as potential outliers."
   ]
  },
  {
   "cell_type": "code",
   "execution_count": null,
   "id": "45d458d0",
   "metadata": {},
   "outputs": [],
   "source": [
    "# Convert DataFrame to numeric type\n",
    "data_numeric = data.apply(pd.to_numeric, errors='coerce')\n",
    "\n",
    "# Calculate the upper and lower thresholds for outlier detection\n",
    "upper_threshold = 3 * data_numeric.std() + data_numeric.mean()\n",
    "lower_threshold = data_numeric.mean() - 3 * data_numeric.std()\n",
    "\n",
    "\n",
    "# Replace the outliers with the column's median\n",
    "data_numeric = data_numeric.apply(lambda x: x.where(~((x > upper_threshold[x.name]) | (x < lower_threshold[x.name]))), axis=0)\n",
    "\n",
    "# Check if any outliers are still present\n",
    "outliers_present = (data_numeric > upper_threshold) | (data_numeric < lower_threshold)\n",
    "\n",
    "# Return True if any outliers are found, False otherwise\n",
    "data_contains_outliers = outliers_present.any().any()\n",
    "print(data_contains_outliers)\n"
   ]
  },
  {
   "cell_type": "markdown",
   "id": "99b9296a",
   "metadata": {},
   "source": [
    "# <span style=\"color: #008000;\">EXPLORATORY DATA ANALYSIS(EDA)</span>"
   ]
  },
  {
   "cell_type": "markdown",
   "id": "9cf026d2",
   "metadata": {},
   "source": [
    "## <span style ='color:cyan'> Univariate Analysis.  </span>"
   ]
  },
  {
   "cell_type": "markdown",
   "id": "bc2a555f",
   "metadata": {},
   "source": [
    "### Analysis on `status` Feature\n",
    "`status` will be used as the dependent variable in this analysis."
   ]
  },
  {
   "cell_type": "markdown",
   "id": "39714322",
   "metadata": {},
   "source": [
    "Understanding the distribution of values in the `status` column is essential for analyzing the state of the startups in the dataset. It provides insights into the current status of the startups, such as whether they are actively operating, have been acquired, or have closed down."
   ]
  },
  {
   "cell_type": "code",
   "execution_count": null,
   "id": "c75a4468",
   "metadata": {},
   "outputs": [],
   "source": [
    "#Importing libraries for visualization.\n",
    "import plotly.express as px\n",
    "\n",
    "# Count the occurrences of each status\n",
    "status_counts = data['status'].value_counts()\n",
    "\n",
    "# Create a bar plot using Plotly with different colors\n",
    "fig = px.bar(x=status_counts.index, y=status_counts.values, color=status_counts.index)\n",
    "\n",
    "# Set the plot title and axis labels\n",
    "fig.update_layout(title=\"Status Counts\", xaxis_title=\"Status\", yaxis_title=\"Count\")\n",
    "\n",
    "# Display the plot\n",
    "fig.show()"
   ]
  },
  {
   "cell_type": "markdown",
   "id": "1ffa704c",
   "metadata": {},
   "source": [
    "The countplot suggests that the majority of the startups in the dataset are classified as 'operating', followed by a smaller number of 'acquired' startups and a relatively smaller number of 'closed' startups."
   ]
  },
  {
   "cell_type": "markdown",
   "id": "25f50414",
   "metadata": {},
   "source": [
    "### top 10% `total_funding` startups.¶"
   ]
  },
  {
   "cell_type": "code",
   "execution_count": null,
   "id": "d4478341",
   "metadata": {},
   "outputs": [],
   "source": [
    "top_fund=(data.funding_total_usd.sort_values(ascending=False)[1:5000].sum())/(data.funding_total_usd.sort_values(ascending=False).sum())\n",
    "\n",
    "plt.figure()\n",
    "cmap = plt.get_cmap(\"tab20c\")\n",
    "outer_colors = cmap(np.arange(2)*13)\n",
    "plt.pie([top_fund,1-top_fund], radius=2, colors=outer_colors,labels=['Top 10%','Others'],autopct='%1.1f%%',\n",
    "       wedgeprops=dict(width=0.5, edgecolor='w'))\n",
    "plt.title('Top 10% Companies\\' total funding',pad=100)\n",
    "plt.show()"
   ]
  },
  {
   "cell_type": "markdown",
   "id": "2feb7653",
   "metadata": {},
   "source": [
    "We got over 50k companies here, top 10% gets most of the funding.\n",
    "It's a winner takes all game"
   ]
  },
  {
   "cell_type": "markdown",
   "id": "e3076c8a",
   "metadata": {},
   "source": [
    "### What is the distribution of founded years?\n"
   ]
  },
  {
   "cell_type": "code",
   "execution_count": null,
   "id": "fc607b8d",
   "metadata": {},
   "outputs": [],
   "source": [
    "# Create a figure with specified size\n",
    "plt.figure(figsize=(10, 6))\n",
    "\n",
    "# Create a histogram plot using seaborn\n",
    "sns.histplot(data=data, x='founded_year', color='skyblue')\n",
    "\n",
    "# Set x-axis label\n",
    "plt.xlabel('Founded Year')\n",
    "\n",
    "# Set y-axis label\n",
    "plt.ylabel('Count')\n",
    "\n",
    "# Set plot title\n",
    "plt.title('Distribution of Founded Year')\n",
    "\n",
    "# Display the plot\n",
    "plt.show()"
   ]
  },
  {
   "cell_type": "markdown",
   "id": "1410e982",
   "metadata": {},
   "source": [
    ">The distribution of founded years exhibits a concentration of startups from the 2000s to the present period, as indicated by the prominent peaks or bars in the histogram. This suggests a significant surge in entrepreneurial activity and startup formations during this timeframe.\n",
    "\n",
    ">In contrast, there is a relatively lower number of startups founded between the 1980s and 2000. While the frequency of startups increases during this period, it is not as pronounced as the recent years.\n",
    "\n",
    ">Furthermore, the histogram shows a notable decrease in the number of startups founded before the 1980s. Very few startups were established during this early period, indicating a less developed or nascent startup ecosystem."
   ]
  },
  {
   "cell_type": "markdown",
   "id": "1cc86a31",
   "metadata": {},
   "source": [
    "### What are the Top 10 Country Code Counts?"
   ]
  },
  {
   "cell_type": "code",
   "execution_count": null,
   "id": "383c1ec3",
   "metadata": {},
   "outputs": [],
   "source": [
    "# Get the value counts for the \"country_code\" column\n",
    "country_counts = data[\"country_code\"].value_counts()[:10]\n",
    "\n",
    "# Create a bar plot using Plotly with different colors\n",
    "fig = px.bar(x=country_counts.index, y=country_counts.values, color=country_counts.index)\n",
    "\n",
    "# Set the plot title and axis labels\n",
    "fig.update_layout(title=\"Top 10 Country Code Counts\", xaxis_title=\"Country Code\", yaxis_title=\"Count\")\n",
    "\n",
    "# Rotate x-axis labels for better readability\n",
    "fig.update_xaxes(tickangle=50)\n",
    "\n",
    "# Display the plot\n",
    "fig.show()"
   ]
  },
  {
   "cell_type": "markdown",
   "id": "90ca587c",
   "metadata": {},
   "source": [
    "USA has the most number of startups"
   ]
  },
  {
   "cell_type": "markdown",
   "id": "32c21bea",
   "metadata": {},
   "source": [
    "### What are the Top 10 City Code Counts?"
   ]
  },
  {
   "cell_type": "code",
   "execution_count": null,
   "id": "a246666f",
   "metadata": {},
   "outputs": [],
   "source": [
    "# Get the value counts for the \"city\" column\n",
    "city_counts = data[\"city\"].value_counts()[:10]\n",
    "\n",
    "# Create a bar plot using Plotly with different colors\n",
    "fig = px.bar(x=city_counts.index, y=city_counts.values, color=city_counts.index)\n",
    "\n",
    "# Set the plot title and axis labels\n",
    "fig.update_layout(title=\"Top 10 City Counts\", xaxis_title=\"City\", yaxis_title=\"Count\")\n",
    "\n",
    "# Rotate x-axis labels for better readability\n",
    "fig.update_xaxes(tickangle=50)\n",
    "\n",
    "# Increase the figure size\n",
    "fig.update_layout(width=800, height=600)\n",
    "\n",
    "# Display the plot\n",
    "fig.show()"
   ]
  },
  {
   "cell_type": "markdown",
   "id": "6edee50f",
   "metadata": {},
   "source": [
    "San Francisco have the highest no. of startup companies than other cities."
   ]
  },
  {
   "cell_type": "markdown",
   "id": "e65478c6",
   "metadata": {},
   "source": [
    "### What is the distribution of funding rounds?\n"
   ]
  },
  {
   "cell_type": "code",
   "execution_count": null,
   "id": "d22430ca",
   "metadata": {},
   "outputs": [],
   "source": [
    "# Create a figure with specified size\n",
    "plt.figure(figsize=(10, 6))\n",
    "\n",
    "# Create a countplot using seaborn\n",
    "sns.countplot(data=data, x='funding_rounds')\n",
    "\n",
    "# Set x-axis label\n",
    "plt.xlabel('Funding Rounds')\n",
    "\n",
    "# Set y-axis label\n",
    "plt.ylabel('Count')\n",
    "\n",
    "# Set plot title\n",
    "plt.title('Distribution of Funding Rounds')\n",
    "\n",
    "# Display the plot\n",
    "plt.show()"
   ]
  },
  {
   "cell_type": "markdown",
   "id": "0e5ba983",
   "metadata": {},
   "source": [
    "Most company only get one round of funding."
   ]
  },
  {
   "cell_type": "markdown",
   "id": "53c84ab9",
   "metadata": {},
   "source": [
    "\n",
    "### What are the top 10 markets based on count?\n"
   ]
  },
  {
   "cell_type": "code",
   "execution_count": null,
   "id": "abb48801",
   "metadata": {},
   "outputs": [],
   "source": [
    "# Get the top 10 markets by count\n",
    "top_markets = data['market'].value_counts().nlargest(10)\n",
    "\n",
    "# Create a figure with specified size\n",
    "plt.figure(figsize=(10, 6))\n",
    "\n",
    "# Create a pie chart\n",
    "plt.pie(top_markets, labels=top_markets.index, autopct='%1.1f%%')\n",
    "\n",
    "# Set plot title\n",
    "plt.title('Top 10 Markets')\n",
    "\n",
    "# Display the plot\n",
    "plt.show()"
   ]
  },
  {
   "cell_type": "markdown",
   "id": "2f9e31ea",
   "metadata": {},
   "source": [
    "### 'Markets that most start-ups closed"
   ]
  },
  {
   "cell_type": "code",
   "execution_count": null,
   "id": "661f46ba",
   "metadata": {},
   "outputs": [],
   "source": [
    "top_markets=(data.market.value_counts()[data.market.value_counts()>24]).index\n",
    "# We chose top markets to analyze,which are greater than 24 startups in that market.\n",
    "sub_data=data[data.market.isin(top_markets)]\n",
    "\n",
    "status_market_1=sub_data.groupby('market')['status'].value_counts(normalize=True).to_frame()\n",
    "status_market_1.columns=['prop']\n",
    "status_market_2=sub_data.groupby('market')['status'].value_counts().to_frame()\n",
    "status_market_2.columns=['quantity']\n",
    "status_market=pd.concat([status_market_1,status_market_2],axis=1)\n",
    "status_market.reset_index()\n",
    "status_market_closed=status_market.query('status==\"closed\"').reset_index(level=1)\n",
    "status_market_closed.sort_values(by='prop',ascending=False)[0:10].style.background_gradient(cmap='Reds',subset=['prop']).set_caption('Markets that most start-ups closed')"
   ]
  },
  {
   "cell_type": "markdown",
   "id": "5e131509",
   "metadata": {},
   "source": [
    "### Markets that least start-ups closed"
   ]
  },
  {
   "cell_type": "code",
   "execution_count": null,
   "id": "194fb9a6",
   "metadata": {},
   "outputs": [],
   "source": [
    "status_market_closed.sort_values(by='prop',ascending=True)[0:10].style.background_gradient(cmap='Greens_r',subset=['prop']).set_caption('Markets that least start-ups closed')"
   ]
  },
  {
   "cell_type": "markdown",
   "id": "6f7ac719",
   "metadata": {},
   "source": [
    "## <span style ='color:cyan'> Multivariate Analysis.  </span>"
   ]
  },
  {
   "cell_type": "markdown",
   "id": "0a6cff1f",
   "metadata": {},
   "source": [
    "### What are the funding totals by country?\n"
   ]
  },
  {
   "cell_type": "code",
   "execution_count": null,
   "id": "6f81c896",
   "metadata": {},
   "outputs": [],
   "source": [
    "# Calculate funding total by country\n",
    "funding_by_country = data.groupby('country_code')['funding_total_usd'].sum().sort_values(ascending=False)\n",
    "\n",
    "# Create a bar plot using Plotly\n",
    "fig = px.bar(x=funding_by_country.index, y=funding_by_country.values)\n",
    "\n",
    "# Set the plot title and axis labels\n",
    "fig.update_layout(title='Funding Total by Country', xaxis_title='Country', yaxis_title='Funding Total (USD)')\n",
    "\n",
    "# Rotate x-axis labels for better readability\n",
    "fig.update_xaxes(tickangle=90)\n",
    "\n",
    "# Adjust the width of the figure\n",
    "fig.update_layout(width=700)\n",
    "\n",
    "# Display the plot\n",
    "fig.show()"
   ]
  },
  {
   "cell_type": "markdown",
   "id": "9a788f34",
   "metadata": {},
   "source": [
    "### What are the top 10 funding totals by founded year? "
   ]
  },
  {
   "cell_type": "code",
   "execution_count": null,
   "id": "fa200f52",
   "metadata": {},
   "outputs": [],
   "source": [
    "# Calculate the top 10 funding totals by founded year\n",
    "top_10_funding = data.groupby('founded_year')['funding_total_usd'].sum().sort_values(ascending=False)[:10]\n",
    "\n",
    "# Define a color palette\n",
    "color_palette = ['red', 'orange', 'yellow', 'green', 'blue', 'purple', 'pink', 'brown', 'gray', 'cyan']\n",
    "\n",
    "# Create the bar plot with the specified color palette\n",
    "plt.figure(figsize=(10, 6))\n",
    "top_10_funding.plot(kind='bar', color=color_palette)\n",
    "\n",
    "# Set y-axis label\n",
    "plt.ylabel('Total Funding in USD')\n",
    "\n",
    "# Set plot title\n",
    "plt.title('Top 10 Funding over the Years')\n",
    "\n",
    "# Display the plot\n",
    "plt.show()"
   ]
  },
  {
   "cell_type": "markdown",
   "id": "dc4369aa",
   "metadata": {},
   "source": [
    "### What is the average funding rounds by status?\n"
   ]
  },
  {
   "cell_type": "code",
   "execution_count": null,
   "id": "3757059a",
   "metadata": {},
   "outputs": [],
   "source": [
    "# Calculate the average funding rounds by status\n",
    "funding_rounds_by_status = data.groupby('status')['funding_rounds'].mean().sort_values(ascending=False)\n",
    "\n",
    "# Create a bar plot using seaborn\n",
    "plt.figure(figsize=(8, 6))\n",
    "sns.barplot(x=funding_rounds_by_status.index, y=funding_rounds_by_status.values)\n",
    "\n",
    "# Set x-axis label\n",
    "plt.xlabel('Status')\n",
    "\n",
    "# Set y-axis label\n",
    "plt.ylabel('Average Funding Rounds')\n",
    "\n",
    "# Set plot title\n",
    "plt.title('Funding Rounds by Status')\n",
    "\n",
    "# Display the plot\n",
    "plt.show()"
   ]
  },
  {
   "cell_type": "markdown",
   "id": "02584aa8",
   "metadata": {},
   "source": [
    "### What is the relationship between funding total and funding rounds by market?\n"
   ]
  },
  {
   "cell_type": "code",
   "execution_count": null,
   "id": "d5ca1133",
   "metadata": {},
   "outputs": [],
   "source": [
    "# Calculate the mean funding rounds by market\n",
    "market_funding_rounds = data.groupby('market')['funding_rounds'].mean()\n",
    "\n",
    "# Calculate the total funding by market\n",
    "market_funding_total = data.groupby('market')['funding_total_usd'].sum()\n",
    "\n",
    "# Create a bubble plot using Plotly Express\n",
    "fig = px.scatter(x=market_funding_rounds, y=market_funding_total, color=market_funding_total)\n",
    "\n",
    "# Set the plot title and axis labels\n",
    "fig.update_layout(\n",
    "    title=\"Bubble Plot of Funding Total vs. Funding Rounds by Market\",\n",
    "    xaxis_title=\"Funding Rounds (mean)\",\n",
    "    yaxis_title=\"Funding Total (sum)\"\n",
    ")\n",
    "\n",
    "# Adjust the width of the figure\n",
    "fig.update_layout(width=900)\n",
    "\n",
    "# Display the plot\n",
    "fig.show()"
   ]
  },
  {
   "cell_type": "markdown",
   "id": "3ea283dd",
   "metadata": {},
   "source": [
    "### What is the total funding received by companies?"
   ]
  },
  {
   "cell_type": "code",
   "execution_count": null,
   "id": "1b41acbd",
   "metadata": {},
   "outputs": [],
   "source": [
    "# Calculate the total funding received by companies\n",
    "total_funding = data.groupby('name')['funding_total_usd'].sum().sort_values(ascending=False)\n",
    "\n",
    "# Create a figure with a specified size\n",
    "plt.figure(figsize=(12, 6))\n",
    "\n",
    "# Create a bar plot using seaborn\n",
    "sns.barplot(x=total_funding.index[:10], y=total_funding.values[:10])\n",
    "\n",
    "# Set x-axis label\n",
    "plt.xlabel('Company')\n",
    "\n",
    "# Set y-axis label\n",
    "plt.ylabel('Total Funding (USD)')\n",
    "\n",
    "# Set plot title\n",
    "plt.title('Total Funding Received by Companies - Top 10')\n",
    "\n",
    "# Rotate x-axis labels for better readability\n",
    "plt.xticks(rotation=90)\n",
    "\n",
    "# Display the plot\n",
    "plt.show()"
   ]
  },
  {
   "cell_type": "code",
   "execution_count": null,
   "id": "bf1950b9",
   "metadata": {},
   "outputs": [],
   "source": []
  },
  {
   "cell_type": "code",
   "execution_count": null,
   "id": "1455264a",
   "metadata": {},
   "outputs": [],
   "source": []
  },
  {
   "cell_type": "markdown",
   "id": "fb1ffcb4",
   "metadata": {},
   "source": [
    "# <span style=\"color: #008000;\">FEATURE ENGINEERING/SELECTION</span>"
   ]
  },
  {
   "cell_type": "markdown",
   "id": "4a2e33b3",
   "metadata": {},
   "source": [
    "# <span style=\"color: #008000;\">MODELLING</span>"
   ]
  },
  {
   "cell_type": "markdown",
   "id": "f1538f56",
   "metadata": {},
   "source": [
    "- transformation \n",
    "- imbalance\n",
    "- correlation \n",
    "- different handles missing values"
   ]
  },
  {
   "cell_type": "markdown",
   "id": "74c338dc",
   "metadata": {},
   "source": [
    "# <span style=\"color: #008000;\">EVALUATION</span>"
   ]
  },
  {
   "cell_type": "markdown",
   "id": "4c2644f2",
   "metadata": {},
   "source": [
    "# <span style=\"color: #008000;\">RECOMMENDATIONS </span>"
   ]
  },
  {
   "cell_type": "markdown",
   "id": "081014f5",
   "metadata": {},
   "source": [
    "# <span style=\"color: #008000;\">CONCLUSION</span>"
   ]
  },
  {
   "cell_type": "markdown",
   "id": "130836ef",
   "metadata": {},
   "source": [
    "### The Top Countries in Terms of Startup Number"
   ]
  },
  {
   "cell_type": "code",
   "execution_count": null,
   "id": "b9c7c070",
   "metadata": {},
   "outputs": [],
   "source": [
    "#There are some startups their countr info is unknown i made them 'others'\n",
    "def make_other(value):\n",
    "    if str(value) == str(np.nan):\n",
    "        return 'others'\n",
    "    else:\n",
    "        return str(value)\n",
    "    \n",
    "df['country_code'] = df['country_code'].apply(make_other)\n",
    "df['country_code'].value_counts(dropna=False)    "
   ]
  },
  {
   "cell_type": "code",
   "execution_count": null,
   "id": "d3c745ac",
   "metadata": {},
   "outputs": [],
   "source": [
    "fig = px.pie(df,names=df.country_code,\n",
    "             title = \"The Top Countries in Terms of Startup Number\",\n",
    "             color_discrete_sequence=px.colors.sequential.RdBu,\n",
    "             hole = 0.15,\n",
    "             width =800,\n",
    "             height =600)\n",
    "\n",
    "fig.update_layout(uniformtext_minsize=10, uniformtext_mode='hide', title_x=0.1)\n",
    "fig.update_traces(textposition='inside', textinfo='percent+label')\n",
    "\n",
    "fig.show()"
   ]
  },
  {
   "cell_type": "markdown",
   "id": "15b69fd7",
   "metadata": {},
   "source": [
    "### most funded categoriess"
   ]
  },
  {
   "cell_type": "code",
   "execution_count": null,
   "id": "bd8052ce",
   "metadata": {},
   "outputs": [],
   "source": [
    "import wordcloud\n",
    "\n",
    "%%time\n",
    "category_list=data.category_list.str.split('|').to_list()\n",
    "categ=[]\n",
    "\n",
    "for i in category_list:\n",
    "    if isinstance(i,list):\n",
    "        categ=categ+i\n",
    "categ=list(filter(None,categ))\n",
    "categ=' '.join(categ)\n",
    "\n",
    "w=wordcloud.WordCloud(background_color='White',scale=32)\n",
    "\n",
    "fig = plt.figure(figsize=(12, 8))\n",
    "w.generate(categ)\n",
    "plt.axis('off')\n",
    "plt.imshow(w)"
   ]
  },
  {
   "cell_type": "markdown",
   "id": "4acd7584",
   "metadata": {},
   "source": [
    "### Top 10 Market of Start-ups"
   ]
  },
  {
   "cell_type": "code",
   "execution_count": null,
   "id": "2cb31929",
   "metadata": {},
   "outputs": [],
   "source": [
    "market_con=data.groupby('country_code')['market'].value_counts().to_frame()"
   ]
  },
  {
   "cell_type": "code",
   "execution_count": null,
   "id": "e2f72748",
   "metadata": {},
   "outputs": [],
   "source": [
    "fig,axes=plt.subplots(2,2,figsize=(20,10))\n",
    "cont=['USA','GBR','CAN','CHN']\n",
    "for con,ax in zip(cont,range(1,5)):\n",
    "    ax=plt.subplot(2,2,ax)\n",
    "    ax=sns.barplot(y=market_con.loc[con].index[0:10],x=market_con.loc[con].market[0:10],orient='h',palette='Blues_r')\n",
    "    ax.set_xlabel('Market Counts In {}'.format(con))\n",
    "plt.suptitle('Top 10 Market of Start-ups',size=40)\n",
    "plt.show()"
   ]
  },
  {
   "cell_type": "markdown",
   "id": "2d1e16c5",
   "metadata": {},
   "source": [
    "### What is the relationship between funding and founded year? (With points colored by status) \n"
   ]
  },
  {
   "cell_type": "code",
   "execution_count": null,
   "id": "a0ba95ef",
   "metadata": {},
   "outputs": [],
   "source": [
    "# Create a figure with specified size\n",
    "plt.figure(figsize=(10, 6))\n",
    "\n",
    "# Create a scatter plot using seaborn\n",
    "sns.scatterplot(data=data, x='founded_year', y='funding_total_usd', hue='status', palette='Set1')\n",
    "\n",
    "# Set x-axis label\n",
    "plt.xlabel('Founded Year')\n",
    "\n",
    "# Set y-axis label\n",
    "plt.ylabel('Funding in USD')\n",
    "\n",
    "# Set plot title\n",
    "plt.title('Funding vs Founded Year (by Status)')\n",
    "\n",
    "# Add legend\n",
    "plt.legend()\n",
    "\n",
    "# Display the plot\n",
    "plt.show()"
   ]
  },
  {
   "cell_type": "markdown",
   "id": "d1c6074f",
   "metadata": {},
   "source": [
    "### The Companies get more than 10 Million Dollars by angel investors"
   ]
  },
  {
   "cell_type": "code",
   "execution_count": null,
   "id": "99c2e005",
   "metadata": {},
   "outputs": [],
   "source": [
    "angels = df[df['angel']>=10000000]\n",
    "\n",
    "fig = px.bar(angels, \n",
    "             x=angels['name'], \n",
    "             y=angels['angel'],\n",
    "             height=800,\n",
    "             color=angels['angel'],\n",
    "             title = 'The Companies get more than 10M($) by angel',\n",
    "             text=angels['name'],\n",
    "             color_continuous_scale='greens',\n",
    "             )\n",
    "fig.update_traces(dict(marker_line_width=0))\n",
    "fig.update_layout(title_x = 0.5)\n",
    "fig.update_xaxes(tickangle=90, title='Companies')\n",
    "fig.update_yaxes(title='invest amount by angel($)')\n",
    "fig.update_layout(barmode='stack', xaxis={'categoryorder':'total descending'})\n",
    "fig.show()"
   ]
  },
  {
   "cell_type": "markdown",
   "id": "87b50056",
   "metadata": {},
   "source": [
    "### Number of Startups Country wise on Map"
   ]
  },
  {
   "cell_type": "code",
   "execution_count": null,
   "id": "a34aa299",
   "metadata": {},
   "outputs": [],
   "source": []
  },
  {
   "cell_type": "code",
   "execution_count": null,
   "id": "a59160c4",
   "metadata": {},
   "outputs": [],
   "source": [
    "countries = pd.read_csv('https://raw.githubusercontent.com/plotly/datasets/master/2014_world_gdp_with_codes.csv')\n",
    "countries = countries.drop('GDP (BILLIONS)', 1)\n",
    "countries = countries.rename(columns={'CODE': 'country_code'})"
   ]
  },
  {
   "cell_type": "code",
   "execution_count": null,
   "id": "2b2a7826",
   "metadata": {},
   "outputs": [],
   "source": [
    "countries"
   ]
  },
  {
   "cell_type": "code",
   "execution_count": null,
   "id": "5e04cb0a",
   "metadata": {},
   "outputs": [],
   "source": []
  },
  {
   "cell_type": "code",
   "execution_count": null,
   "id": "83eed6d9",
   "metadata": {},
   "outputs": [],
   "source": [
    "fig_country_map = go.Figure()\n",
    "fig_country_map.add_trace(go.Choropleth(locations=df['country_code'].value_counts().index,\n",
    "                                       z=df['country_code'].value_counts(),\n",
    "                                       colorscale='Peach', \n",
    "                                       colorbar_title=\"Nos. of Startups founded\"))\n",
    "fig_country_map.update_layout(title_text=\"Number of Startups Country wise.\", title_x=0.5, title_font_size=20)\n",
    "\n",
    "fig_country_map.show()"
   ]
  }
 ],
 "metadata": {
  "kernelspec": {
   "display_name": "learn-env",
   "language": "python",
   "name": "learn-env"
  },
  "language_info": {
   "codemirror_mode": {
    "name": "ipython",
    "version": 3
   },
   "file_extension": ".py",
   "mimetype": "text/x-python",
   "name": "python",
   "nbconvert_exporter": "python",
   "pygments_lexer": "ipython3",
   "version": "3.8.5"
  },
  "latex_envs": {
   "LaTeX_envs_menu_present": true,
   "autoclose": false,
   "autocomplete": true,
   "bibliofile": "biblio.bib",
   "cite_by": "apalike",
   "current_citInitial": 1,
   "eqLabelWithNumbers": true,
   "eqNumInitial": 1,
   "hotkeys": {
    "equation": "Ctrl-E",
    "itemize": "Ctrl-I"
   },
   "labels_anchors": false,
   "latex_user_defs": false,
   "report_style_numbering": false,
   "user_envs_cfg": false
  },
  "toc": {
   "base_numbering": 1,
   "nav_menu": {},
   "number_sections": true,
   "sideBar": true,
   "skip_h1_title": false,
   "title_cell": "Table of Contents",
   "title_sidebar": "Contents",
   "toc_cell": true,
   "toc_position": {},
   "toc_section_display": true,
   "toc_window_display": false
  }
 },
 "nbformat": 4,
 "nbformat_minor": 5
}
